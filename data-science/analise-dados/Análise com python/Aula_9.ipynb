{
  "nbformat": 4,
  "nbformat_minor": 0,
  "metadata": {
    "colab": {
      "name": "Aula 9.ipynb",
      "provenance": [],
      "authorship_tag": "ABX9TyN1BTXHrtkvKfMIxYZvjmNB",
      "include_colab_link": true
    },
    "kernelspec": {
      "name": "python3",
      "display_name": "Python 3"
    }
  },
  "cells": [
    {
      "cell_type": "markdown",
      "metadata": {
        "id": "view-in-github",
        "colab_type": "text"
      },
      "source": [
        "<a href=\"https://colab.research.google.com/github/luiscarlosjunior/aulas-graduacao/blob/lsantos/Aula_9.ipynb\" target=\"_parent\"><img src=\"https://colab.research.google.com/assets/colab-badge.svg\" alt=\"Open In Colab\"/></a>"
      ]
    },
    {
      "cell_type": "code",
      "metadata": {
        "id": "ocZsNx6AqVyJ",
        "colab_type": "code",
        "colab": {}
      },
      "source": [
        "import pandas as pd"
      ],
      "execution_count": 0,
      "outputs": []
    },
    {
      "cell_type": "code",
      "metadata": {
        "id": "zYIXUSYdp-Y3",
        "colab_type": "code",
        "colab": {}
      },
      "source": [
        "# Passamos o link e qual é o separador utilizado, por padrão o separador é a virgula, mas aqui estamos usando o ';', por isso passamos\n",
        "alunos = pd.read_csv('https://raw.githubusercontent.com/luiscarlosjunior/aulas-graduacao/master/Analise%20de%20dados/datasets/csv/resumoAlunos.csv', sep=';')"
      ],
      "execution_count": 0,
      "outputs": []
    },
    {
      "cell_type": "markdown",
      "metadata": {
        "id": "gmoyM3i6Wkl_",
        "colab_type": "text"
      },
      "source": [
        "#Olhar para as tendências centrais"
      ]
    },
    {
      "cell_type": "code",
      "metadata": {
        "id": "NVKTPYAAWge7",
        "colab_type": "code",
        "outputId": "6eb3e40d-dadc-443d-c7cd-d29fff3d4930",
        "colab": {
          "base_uri": "https://localhost:8080/",
          "height": 204
        }
      },
      "source": [
        "alunos.head()"
      ],
      "execution_count": 0,
      "outputs": [
        {
          "output_type": "execute_result",
          "data": {
            "text/html": [
              "<div>\n",
              "<style scoped>\n",
              "    .dataframe tbody tr th:only-of-type {\n",
              "        vertical-align: middle;\n",
              "    }\n",
              "\n",
              "    .dataframe tbody tr th {\n",
              "        vertical-align: top;\n",
              "    }\n",
              "\n",
              "    .dataframe thead th {\n",
              "        text-align: right;\n",
              "    }\n",
              "</style>\n",
              "<table border=\"1\" class=\"dataframe\">\n",
              "  <thead>\n",
              "    <tr style=\"text-align: right;\">\n",
              "      <th></th>\n",
              "      <th>RA</th>\n",
              "      <th>Primeiro Nome</th>\n",
              "      <th>Sobrenome</th>\n",
              "      <th>Idade</th>\n",
              "      <th>AV1</th>\n",
              "      <th>AV2</th>\n",
              "      <th>média</th>\n",
              "      <th>Total Faltas</th>\n",
              "      <th>Curso</th>\n",
              "      <th>Genero</th>\n",
              "      <th>Periodo</th>\n",
              "    </tr>\n",
              "  </thead>\n",
              "  <tbody>\n",
              "    <tr>\n",
              "      <th>0</th>\n",
              "      <td>63227467787</td>\n",
              "      <td>Aaron</td>\n",
              "      <td>PHILLIPS</td>\n",
              "      <td>31</td>\n",
              "      <td>9</td>\n",
              "      <td>9</td>\n",
              "      <td>9.0</td>\n",
              "      <td>22</td>\n",
              "      <td>Engeharia de Software</td>\n",
              "      <td>Masculino</td>\n",
              "      <td>Matutino</td>\n",
              "    </tr>\n",
              "    <tr>\n",
              "      <th>1</th>\n",
              "      <td>55774275097</td>\n",
              "      <td>Abigail</td>\n",
              "      <td>SOTO</td>\n",
              "      <td>20</td>\n",
              "      <td>7</td>\n",
              "      <td>6</td>\n",
              "      <td>6.5</td>\n",
              "      <td>18</td>\n",
              "      <td>Ciência da Computação</td>\n",
              "      <td>Feminino</td>\n",
              "      <td>Matutino</td>\n",
              "    </tr>\n",
              "    <tr>\n",
              "      <th>2</th>\n",
              "      <td>76059134116</td>\n",
              "      <td>Adam</td>\n",
              "      <td>PARKER</td>\n",
              "      <td>19</td>\n",
              "      <td>10</td>\n",
              "      <td>10</td>\n",
              "      <td>10.0</td>\n",
              "      <td>14</td>\n",
              "      <td>Engeharia de Software</td>\n",
              "      <td>Masculino</td>\n",
              "      <td>Matutino</td>\n",
              "    </tr>\n",
              "    <tr>\n",
              "      <th>3</th>\n",
              "      <td>64295541703</td>\n",
              "      <td>Agatha</td>\n",
              "      <td>Oliveira</td>\n",
              "      <td>45</td>\n",
              "      <td>7</td>\n",
              "      <td>10</td>\n",
              "      <td>8.5</td>\n",
              "      <td>16</td>\n",
              "      <td>Sistema da Informação</td>\n",
              "      <td>Intersexo</td>\n",
              "      <td>Matutino</td>\n",
              "    </tr>\n",
              "    <tr>\n",
              "      <th>4</th>\n",
              "      <td>71033266097</td>\n",
              "      <td>Alan</td>\n",
              "      <td>JAMES</td>\n",
              "      <td>39</td>\n",
              "      <td>9</td>\n",
              "      <td>9</td>\n",
              "      <td>9.0</td>\n",
              "      <td>15</td>\n",
              "      <td>Banco de dados</td>\n",
              "      <td>Masculino</td>\n",
              "      <td>Matutino</td>\n",
              "    </tr>\n",
              "  </tbody>\n",
              "</table>\n",
              "</div>"
            ],
            "text/plain": [
              "            RA Primeiro Nome  ...     Genero   Periodo\n",
              "0  63227467787         Aaron  ...  Masculino  Matutino\n",
              "1  55774275097       Abigail  ...   Feminino  Matutino\n",
              "2  76059134116          Adam  ...  Masculino  Matutino\n",
              "3  64295541703        Agatha  ...  Intersexo  Matutino\n",
              "4  71033266097          Alan  ...  Masculino  Matutino\n",
              "\n",
              "[5 rows x 11 columns]"
            ]
          },
          "metadata": {
            "tags": []
          },
          "execution_count": 83
        }
      ]
    },
    {
      "cell_type": "code",
      "metadata": {
        "id": "eUjlkc3JraMX",
        "colab_type": "code",
        "colab": {}
      },
      "source": [
        "# Conta a quantidade em cada curso\n",
        "print(alunos[['média', 'Curso']].groupby('Curso').count())"
      ],
      "execution_count": 0,
      "outputs": []
    },
    {
      "cell_type": "code",
      "metadata": {
        "id": "1mbqf4WWXLRz",
        "colab_type": "code",
        "colab": {}
      },
      "source": [
        "# A média em cada turma\n",
        "print(alunos[['média', 'Curso']].groupby('Curso').mean())"
      ],
      "execution_count": 0,
      "outputs": []
    },
    {
      "cell_type": "code",
      "metadata": {
        "id": "mc6wdV4AXbrf",
        "colab_type": "code",
        "colab": {}
      },
      "source": [
        "# A média em cada turma\n",
        "print(alunos[['média', 'Curso']].groupby('Curso').median())"
      ],
      "execution_count": 0,
      "outputs": []
    },
    {
      "cell_type": "code",
      "metadata": {
        "id": "4xLcQfaoXhex",
        "colab_type": "code",
        "colab": {}
      },
      "source": [
        "# A média em cada turma\n",
        "print(alunos[['média', 'Curso']].query('média > 8').groupby('Curso').mean())"
      ],
      "execution_count": 0,
      "outputs": []
    },
    {
      "cell_type": "code",
      "metadata": {
        "id": "FENYaWsSrdFH",
        "colab_type": "code",
        "outputId": "299af192-4b35-4779-e8cd-052cd23bbdb1",
        "colab": {
          "base_uri": "https://localhost:8080/",
          "height": 170
        }
      },
      "source": [
        "print(alunos[['média', 'Curso']].groupby('Curso').quantile(0.25))"
      ],
      "execution_count": 0,
      "outputs": [
        {
          "output_type": "stream",
          "text": [
            "                          média\n",
            "Curso                          \n",
            "Banco de dados            7.000\n",
            "Ciência da Computação     7.000\n",
            "Engeharia de Software     7.000\n",
            "Engenharia da Computação  7.125\n",
            "Jogos digitais            7.375\n",
            "Sistema da Informação     7.000\n",
            "TADS                      7.125\n"
          ],
          "name": "stdout"
        }
      ]
    },
    {
      "cell_type": "code",
      "metadata": {
        "id": "np4TYwxSZVIR",
        "colab_type": "code",
        "outputId": "f36b0630-ca13-4fee-87aa-ba1df0313d48",
        "colab": {
          "base_uri": "https://localhost:8080/",
          "height": 328
        }
      },
      "source": [
        "alunos[['média', 'Curso']].groupby('Curso').describe()"
      ],
      "execution_count": 0,
      "outputs": [
        {
          "output_type": "execute_result",
          "data": {
            "text/html": [
              "<div>\n",
              "<style scoped>\n",
              "    .dataframe tbody tr th:only-of-type {\n",
              "        vertical-align: middle;\n",
              "    }\n",
              "\n",
              "    .dataframe tbody tr th {\n",
              "        vertical-align: top;\n",
              "    }\n",
              "\n",
              "    .dataframe thead tr th {\n",
              "        text-align: left;\n",
              "    }\n",
              "\n",
              "    .dataframe thead tr:last-of-type th {\n",
              "        text-align: right;\n",
              "    }\n",
              "</style>\n",
              "<table border=\"1\" class=\"dataframe\">\n",
              "  <thead>\n",
              "    <tr>\n",
              "      <th></th>\n",
              "      <th colspan=\"8\" halign=\"left\">média</th>\n",
              "    </tr>\n",
              "    <tr>\n",
              "      <th></th>\n",
              "      <th>count</th>\n",
              "      <th>mean</th>\n",
              "      <th>std</th>\n",
              "      <th>min</th>\n",
              "      <th>25%</th>\n",
              "      <th>50%</th>\n",
              "      <th>75%</th>\n",
              "      <th>max</th>\n",
              "    </tr>\n",
              "    <tr>\n",
              "      <th>Curso</th>\n",
              "      <th></th>\n",
              "      <th></th>\n",
              "      <th></th>\n",
              "      <th></th>\n",
              "      <th></th>\n",
              "      <th></th>\n",
              "      <th></th>\n",
              "      <th></th>\n",
              "    </tr>\n",
              "  </thead>\n",
              "  <tbody>\n",
              "    <tr>\n",
              "      <th>Banco de dados</th>\n",
              "      <td>48.0</td>\n",
              "      <td>7.781250</td>\n",
              "      <td>1.129424</td>\n",
              "      <td>6.0</td>\n",
              "      <td>7.000</td>\n",
              "      <td>8.0</td>\n",
              "      <td>8.5</td>\n",
              "      <td>10.0</td>\n",
              "    </tr>\n",
              "    <tr>\n",
              "      <th>Ciência da Computação</th>\n",
              "      <td>86.0</td>\n",
              "      <td>7.784884</td>\n",
              "      <td>1.021938</td>\n",
              "      <td>6.0</td>\n",
              "      <td>7.000</td>\n",
              "      <td>7.5</td>\n",
              "      <td>8.5</td>\n",
              "      <td>10.0</td>\n",
              "    </tr>\n",
              "    <tr>\n",
              "      <th>Engeharia de Software</th>\n",
              "      <td>54.0</td>\n",
              "      <td>7.879630</td>\n",
              "      <td>1.041294</td>\n",
              "      <td>6.0</td>\n",
              "      <td>7.000</td>\n",
              "      <td>8.0</td>\n",
              "      <td>8.5</td>\n",
              "      <td>10.0</td>\n",
              "    </tr>\n",
              "    <tr>\n",
              "      <th>Engenharia da Computação</th>\n",
              "      <td>30.0</td>\n",
              "      <td>7.883333</td>\n",
              "      <td>1.127121</td>\n",
              "      <td>6.0</td>\n",
              "      <td>7.125</td>\n",
              "      <td>8.0</td>\n",
              "      <td>8.5</td>\n",
              "      <td>10.0</td>\n",
              "    </tr>\n",
              "    <tr>\n",
              "      <th>Jogos digitais</th>\n",
              "      <td>20.0</td>\n",
              "      <td>7.950000</td>\n",
              "      <td>0.841365</td>\n",
              "      <td>6.5</td>\n",
              "      <td>7.375</td>\n",
              "      <td>8.0</td>\n",
              "      <td>8.5</td>\n",
              "      <td>10.0</td>\n",
              "    </tr>\n",
              "    <tr>\n",
              "      <th>Sistema da Informação</th>\n",
              "      <td>32.0</td>\n",
              "      <td>7.781250</td>\n",
              "      <td>1.007532</td>\n",
              "      <td>6.0</td>\n",
              "      <td>7.000</td>\n",
              "      <td>8.0</td>\n",
              "      <td>8.5</td>\n",
              "      <td>10.0</td>\n",
              "    </tr>\n",
              "    <tr>\n",
              "      <th>TADS</th>\n",
              "      <td>30.0</td>\n",
              "      <td>7.900000</td>\n",
              "      <td>0.968468</td>\n",
              "      <td>6.0</td>\n",
              "      <td>7.125</td>\n",
              "      <td>8.0</td>\n",
              "      <td>8.5</td>\n",
              "      <td>10.0</td>\n",
              "    </tr>\n",
              "  </tbody>\n",
              "</table>\n",
              "</div>"
            ],
            "text/plain": [
              "                         média                                                \n",
              "                         count      mean       std  min    25%  50%  75%   max\n",
              "Curso                                                                         \n",
              "Banco de dados            48.0  7.781250  1.129424  6.0  7.000  8.0  8.5  10.0\n",
              "Ciência da Computação     86.0  7.784884  1.021938  6.0  7.000  7.5  8.5  10.0\n",
              "Engeharia de Software     54.0  7.879630  1.041294  6.0  7.000  8.0  8.5  10.0\n",
              "Engenharia da Computação  30.0  7.883333  1.127121  6.0  7.125  8.0  8.5  10.0\n",
              "Jogos digitais            20.0  7.950000  0.841365  6.5  7.375  8.0  8.5  10.0\n",
              "Sistema da Informação     32.0  7.781250  1.007532  6.0  7.000  8.0  8.5  10.0\n",
              "TADS                      30.0  7.900000  0.968468  6.0  7.125  8.0  8.5  10.0"
            ]
          },
          "metadata": {
            "tags": []
          },
          "execution_count": 60
        }
      ]
    },
    {
      "cell_type": "code",
      "metadata": {
        "id": "N8_iVELqQ35D",
        "colab_type": "code",
        "colab": {}
      },
      "source": [
        "média = alunos[['AV1', 'AV2', 'Total Faltas', 'média']]"
      ],
      "execution_count": 0,
      "outputs": []
    },
    {
      "cell_type": "code",
      "metadata": {
        "id": "kTdGiXHvrnAY",
        "colab_type": "code",
        "colab": {}
      },
      "source": [
        "cursos_alunos.head(30)"
      ],
      "execution_count": 0,
      "outputs": []
    },
    {
      "cell_type": "code",
      "metadata": {
        "id": "0Gx4q4sIrqAH",
        "colab_type": "code",
        "outputId": "cb5d3a13-6b79-439d-f642-6e7f4d4e1d15",
        "colab": {
          "base_uri": "https://localhost:8080/",
          "height": 282
        }
      },
      "source": [
        "cursos_alunos.hist()"
      ],
      "execution_count": 0,
      "outputs": [
        {
          "output_type": "execute_result",
          "data": {
            "text/plain": [
              "<matplotlib.axes._subplots.AxesSubplot at 0x7fe426023240>"
            ]
          },
          "metadata": {
            "tags": []
          },
          "execution_count": 24
        },
        {
          "output_type": "display_data",
          "data": {
            "image/png": "[encoded data removed]",
            "text/plain": [
              "<Figure size 432x288 with 1 Axes>"
            ]
          },
          "metadata": {
            "tags": [],
            "needs_background": "light"
          }
        }
      ]
    },
    {
      "cell_type": "code",
      "metadata": {
        "id": "h3CyTH2yTe7t",
        "colab_type": "code",
        "outputId": "db290bd7-6398-431e-ffda-889c14f07659",
        "colab": {
          "base_uri": "https://localhost:8080/",
          "height": 34
        }
      },
      "source": [
        "alunos.query('média > 9')['RA'].count()"
      ],
      "execution_count": 0,
      "outputs": [
        {
          "output_type": "execute_result",
          "data": {
            "text/plain": [
              "29"
            ]
          },
          "metadata": {
            "tags": []
          },
          "execution_count": 63
        }
      ]
    },
    {
      "cell_type": "code",
      "metadata": {
        "id": "ZCAGM8zLbtAa",
        "colab_type": "code",
        "outputId": "a31a2fe2-86ec-4aaa-f900-a22ea01953f7",
        "colab": {
          "base_uri": "https://localhost:8080/",
          "height": 129
        }
      },
      "source": [
        "alunos.query('Total Faltas > 10').count()"
      ],
      "execution_count": 0,
      "outputs": [
        {
          "output_type": "error",
          "ename": "SyntaxError",
          "evalue": "ignored",
          "traceback": [
            "\u001b[0;36m  File \u001b[0;32m\"<unknown>\"\u001b[0;36m, line \u001b[0;32m1\u001b[0m\n\u001b[0;31m    Total Faltas >10\u001b[0m\n\u001b[0m               ^\u001b[0m\n\u001b[0;31mSyntaxError\u001b[0m\u001b[0;31m:\u001b[0m invalid syntax\n"
          ]
        }
      ]
    },
    {
      "cell_type": "code",
      "metadata": {
        "id": "Y31EdUJyb98-",
        "colab_type": "code",
        "outputId": "3c2882d9-eb0d-4e2e-b06c-79d9ae366799",
        "colab": {
          "base_uri": "https://localhost:8080/",
          "height": 282
        }
      },
      "source": [
        "alunos['Idade'].hist()"
      ],
      "execution_count": 0,
      "outputs": [
        {
          "output_type": "execute_result",
          "data": {
            "text/plain": [
              "<matplotlib.axes._subplots.AxesSubplot at 0x7fe41d7599e8>"
            ]
          },
          "metadata": {
            "tags": []
          },
          "execution_count": 69
        },
        {
          "output_type": "display_data",
          "data": {
            "image/png": "[encoded data removed]",
            "text/plain": [
              "<Figure size 432x288 with 1 Axes>"
            ]
          },
          "metadata": {
            "tags": [],
            "needs_background": "light"
          }
        }
      ]
    },
    {
      "cell_type": "code",
      "metadata": {
        "id": "-scRqggVcwUQ",
        "colab_type": "code",
        "outputId": "8b92010c-e028-4935-86fe-903702003a79",
        "colab": {
          "base_uri": "https://localhost:8080/",
          "height": 34
        }
      },
      "source": [
        "alunos['Idade'].std()"
      ],
      "execution_count": 0,
      "outputs": [
        {
          "output_type": "execute_result",
          "data": {
            "text/plain": [
              "14.069397596128583"
            ]
          },
          "metadata": {
            "tags": []
          },
          "execution_count": 70
        }
      ]
    },
    {
      "cell_type": "code",
      "metadata": {
        "id": "q-SbDe07c0xO",
        "colab_type": "code",
        "outputId": "32d04ce6-c03e-41a3-b5f6-86d193723e0c",
        "colab": {
          "base_uri": "https://localhost:8080/",
          "height": 170
        }
      },
      "source": [
        "alunos['Idade'].describe()"
      ],
      "execution_count": 0,
      "outputs": [
        {
          "output_type": "execute_result",
          "data": {
            "text/plain": [
              "count    300.000000\n",
              "mean      40.456667\n",
              "std       14.069398\n",
              "min       17.000000\n",
              "25%       29.750000\n",
              "50%       39.000000\n",
              "75%       52.000000\n",
              "max       65.000000\n",
              "Name: Idade, dtype: float64"
            ]
          },
          "metadata": {
            "tags": []
          },
          "execution_count": 71
        }
      ]
    },
    {
      "cell_type": "code",
      "metadata": {
        "id": "4VY6ck8cc4h-",
        "colab_type": "code",
        "outputId": "55428a45-e001-4827-aa24-897bc1c29623",
        "colab": {
          "base_uri": "https://localhost:8080/",
          "height": 102
        }
      },
      "source": [
        "alunos.groupby('Genero')['RA'].count()"
      ],
      "execution_count": 0,
      "outputs": [
        {
          "output_type": "execute_result",
          "data": {
            "text/plain": [
              "Genero\n",
              "Feminino     140\n",
              "Intersexo     17\n",
              "Masculino    143\n",
              "Name: RA, dtype: int64"
            ]
          },
          "metadata": {
            "tags": []
          },
          "execution_count": 76
        }
      ]
    },
    {
      "cell_type": "code",
      "metadata": {
        "id": "T42YF8NkdCzf",
        "colab_type": "code",
        "outputId": "df06e9bf-b223-4016-fffd-896d574976d3",
        "colab": {
          "base_uri": "https://localhost:8080/",
          "height": 34
        }
      },
      "source": [
        "alunos.query('média > 5')['RA'].count()"
      ],
      "execution_count": 0,
      "outputs": [
        {
          "output_type": "execute_result",
          "data": {
            "text/plain": [
              "300"
            ]
          },
          "metadata": {
            "tags": []
          },
          "execution_count": 85
        }
      ]
    },
    {
      "cell_type": "code",
      "metadata": {
        "id": "my6sIT4fdtsu",
        "colab_type": "code",
        "colab": {}
      },
      "source": [
        "amplitude_total = max(alunos['Idade']) - min(alunos['Idade']) "
      ],
      "execution_count": 0,
      "outputs": []
    },
    {
      "cell_type": "code",
      "metadata": {
        "id": "0x-QLEsJh57P",
        "colab_type": "code",
        "outputId": "566eb0fc-8bf2-43de-fab2-83cc46413ded",
        "colab": {
          "base_uri": "https://localhost:8080/",
          "height": 34
        }
      },
      "source": [
        "print(amplitude_total)"
      ],
      "execution_count": 0,
      "outputs": [
        {
          "output_type": "stream",
          "text": [
            "48\n"
          ],
          "name": "stdout"
        }
      ]
    },
    {
      "cell_type": "code",
      "metadata": {
        "id": "wTnheqVVh75k",
        "colab_type": "code",
        "colab": {}
      },
      "source": [
        ""
      ],
      "execution_count": 0,
      "outputs": []
    }
  ]
}