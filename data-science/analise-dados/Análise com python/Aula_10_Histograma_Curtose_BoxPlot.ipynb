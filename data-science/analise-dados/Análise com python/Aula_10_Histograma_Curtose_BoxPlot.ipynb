{
  "nbformat": 4,
  "nbformat_minor": 0,
  "metadata": {
    "colab": {
      "name": "Aula 10 - Histograma Curtose - BoxPlot.ipynb",
      "provenance": [],
      "collapsed_sections": []
    },
    "kernelspec": {
      "name": "python3",
      "display_name": "Python 3"
    }
  },
  "cells": [
    {
      "cell_type": "markdown",
      "metadata": {
        "id": "A7SVHYzPqse7",
        "colab_type": "text"
      },
      "source": [
        ""
      ]
    },
    {
      "cell_type": "code",
      "metadata": {
        "id": "QBIQuUC_pELW",
        "colab_type": "code",
        "colab": {}
      },
      "source": [
        "import pandas as pd"
      ],
      "execution_count": 0,
      "outputs": []
    },
    {
      "cell_type": "code",
      "metadata": {
        "id": "xJDD4WVEqq6O",
        "colab_type": "code",
        "colab": {}
      },
      "source": [
        "# Passamos o link e qual é o separador utilizado, por padrão o separador é a virgula, mas aqui estamos usando o ';', por isso passamos\n",
        "alunos = pd.read_csv('https://raw.githubusercontent.com/luiscarlosjunior/aulas-graduacao/master/Analise%20de%20dados/datasets/csv/resumoAlunos.csv', sep=';')"
      ],
      "execution_count": 0,
      "outputs": []
    },
    {
      "cell_type": "code",
      "metadata": {
        "id": "Yiz_RTd0q-aH",
        "colab_type": "code",
        "outputId": "a55eeb5d-b948-48bd-bf45-0ecc36db21a7",
        "colab": {
          "base_uri": "https://localhost:8080/",
          "height": 111
        }
      },
      "source": [
        "alunos.head(2)"
      ],
      "execution_count": 0,
      "outputs": [
        {
          "output_type": "execute_result",
          "data": {
            "text/html": [
              "<div>\n",
              "<style scoped>\n",
              "    .dataframe tbody tr th:only-of-type {\n",
              "        vertical-align: middle;\n",
              "    }\n",
              "\n",
              "    .dataframe tbody tr th {\n",
              "        vertical-align: top;\n",
              "    }\n",
              "\n",
              "    .dataframe thead th {\n",
              "        text-align: right;\n",
              "    }\n",
              "</style>\n",
              "<table border=\"1\" class=\"dataframe\">\n",
              "  <thead>\n",
              "    <tr style=\"text-align: right;\">\n",
              "      <th></th>\n",
              "      <th>RA</th>\n",
              "      <th>Primeiro Nome</th>\n",
              "      <th>Sobrenome</th>\n",
              "      <th>Idade</th>\n",
              "      <th>AV1</th>\n",
              "      <th>AV2</th>\n",
              "      <th>média</th>\n",
              "      <th>Total Faltas</th>\n",
              "      <th>Curso</th>\n",
              "      <th>Genero</th>\n",
              "      <th>Periodo</th>\n",
              "    </tr>\n",
              "  </thead>\n",
              "  <tbody>\n",
              "    <tr>\n",
              "      <th>0</th>\n",
              "      <td>63227467787</td>\n",
              "      <td>Aaron</td>\n",
              "      <td>PHILLIPS</td>\n",
              "      <td>31</td>\n",
              "      <td>9</td>\n",
              "      <td>9</td>\n",
              "      <td>9.0</td>\n",
              "      <td>22</td>\n",
              "      <td>Engeharia de Software</td>\n",
              "      <td>Masculino</td>\n",
              "      <td>Matutino</td>\n",
              "    </tr>\n",
              "    <tr>\n",
              "      <th>1</th>\n",
              "      <td>55774275097</td>\n",
              "      <td>Abigail</td>\n",
              "      <td>SOTO</td>\n",
              "      <td>20</td>\n",
              "      <td>7</td>\n",
              "      <td>6</td>\n",
              "      <td>6.5</td>\n",
              "      <td>18</td>\n",
              "      <td>Ciência da Computação</td>\n",
              "      <td>Feminino</td>\n",
              "      <td>Matutino</td>\n",
              "    </tr>\n",
              "  </tbody>\n",
              "</table>\n",
              "</div>"
            ],
            "text/plain": [
              "            RA Primeiro Nome  ...     Genero   Periodo\n",
              "0  63227467787         Aaron  ...  Masculino  Matutino\n",
              "1  55774275097       Abigail  ...   Feminino  Matutino\n",
              "\n",
              "[2 rows x 11 columns]"
            ]
          },
          "metadata": {
            "tags": []
          },
          "execution_count": 4
        }
      ]
    },
    {
      "cell_type": "code",
      "metadata": {
        "id": "ORPcFes0rQXv",
        "colab_type": "code",
        "outputId": "1060bab2-0c50-4856-ab80-77aff0addfd0",
        "colab": {
          "base_uri": "https://localhost:8080/",
          "height": 340
        }
      },
      "source": [
        "print(alunos.info())"
      ],
      "execution_count": 0,
      "outputs": [
        {
          "output_type": "stream",
          "text": [
            "<class 'pandas.core.frame.DataFrame'>\n",
            "RangeIndex: 300 entries, 0 to 299\n",
            "Data columns (total 11 columns):\n",
            " #   Column         Non-Null Count  Dtype  \n",
            "---  ------         --------------  -----  \n",
            " 0   RA             300 non-null    int64  \n",
            " 1   Primeiro Nome  300 non-null    object \n",
            " 2   Sobrenome      300 non-null    object \n",
            " 3   Idade          300 non-null    int64  \n",
            " 4   AV1            300 non-null    int64  \n",
            " 5   AV2            300 non-null    int64  \n",
            " 6   média          300 non-null    float64\n",
            " 7   Total Faltas   300 non-null    int64  \n",
            " 8   Curso          300 non-null    object \n",
            " 9   Genero         300 non-null    object \n",
            " 10  Periodo        300 non-null    object \n",
            "dtypes: float64(1), int64(5), object(5)\n",
            "memory usage: 25.9+ KB\n",
            "None\n"
          ],
          "name": "stdout"
        }
      ]
    },
    {
      "cell_type": "code",
      "metadata": {
        "id": "D4NxALWvrapY",
        "colab_type": "code",
        "outputId": "4e185b94-9e06-44f3-f9aa-11af2e5faa71",
        "colab": {
          "base_uri": "https://localhost:8080/",
          "height": 221
        }
      },
      "source": [
        "print(alunos.nunique())"
      ],
      "execution_count": 0,
      "outputs": [
        {
          "output_type": "stream",
          "text": [
            "RA               300\n",
            "Primeiro Nome    287\n",
            "Sobrenome        260\n",
            "Idade             49\n",
            "AV1                5\n",
            "AV2                5\n",
            "média              9\n",
            "Total Faltas      19\n",
            "Curso              7\n",
            "Genero             3\n",
            "Periodo            4\n",
            "dtype: int64\n"
          ],
          "name": "stdout"
        }
      ]
    },
    {
      "cell_type": "markdown",
      "metadata": {
        "id": "N18SZ12rsa5T",
        "colab_type": "text"
      },
      "source": [
        "##Curva curtose"
      ]
    },
    {
      "cell_type": "code",
      "metadata": {
        "id": "TaplrXdkruhx",
        "colab_type": "code",
        "colab": {}
      },
      "source": [
        "import plotly.figure_factory as ff\n",
        "import numpy as np\n",
        "import seaborn as sns\n",
        "import matplotlib.pyplot as plt"
      ],
      "execution_count": 0,
      "outputs": []
    },
    {
      "cell_type": "code",
      "metadata": {
        "id": "qNe5nnOLtzHi",
        "colab_type": "code",
        "outputId": "e7328369-dfed-41e0-97c4-56f0012cc892",
        "colab": {
          "base_uri": "https://localhost:8080/",
          "height": 687
        }
      },
      "source": [
        "## Gerar o gráfico com a curva\n",
        "plt.figure(figsize = (8,5))\n",
        "\n",
        "c = sns.distplot(alunos['média'], color='r')\n",
        "c.set_title('Média', fontsize=18)\n",
        "\n",
        "plt.show()\n",
        "\n",
        "## Gerar o histograma e a curtose do número de faltas\n",
        "plt.figure(figsize=(10,5))\n",
        "\n",
        "numero_faltas = sns.distplot(alunos['Total Faltas'])\n",
        "numero_faltas.set_title('Número de faltas')\n",
        "\n",
        "plt.show()\n"
      ],
      "execution_count": 0,
      "outputs": [
        {
          "output_type": "display_data",
          "data": {
            "image/png": "[encoded data removed]",
            "text/plain": [
              "<Figure size 576x360 with 1 Axes>"
            ]
          },
          "metadata": {
            "tags": [],
            "needs_background": "light"
          }
        },
        {
          "output_type": "display_data",
          "data": {
            "image/png": "[encoded data removed]",
            "text/plain": [
              "<Figure size 720x360 with 1 Axes>"
            ]
          },
          "metadata": {
            "tags": [],
            "needs_background": "light"
          }
        }
      ]
    },
    {
      "cell_type": "markdown",
      "metadata": {
        "id": "9zeIO2WVwzfg",
        "colab_type": "text"
      },
      "source": [
        ""
      ]
    },
    {
      "cell_type": "code",
      "metadata": {
        "id": "Ow6XhnYlu97_",
        "colab_type": "code",
        "outputId": "3e0831ca-5993-427e-d682-da9675f752d2",
        "colab": {
          "base_uri": "https://localhost:8080/",
          "height": 34
        }
      },
      "source": [
        "print(alunos['média'].kurtosis())"
      ],
      "execution_count": 0,
      "outputs": [
        {
          "output_type": "stream",
          "text": [
            "-0.6524446818614842\n"
          ],
          "name": "stdout"
        }
      ]
    },
    {
      "cell_type": "code",
      "metadata": {
        "id": "BwmK7YMaxnS4",
        "colab_type": "code",
        "outputId": "4ed2a316-76d2-4ffb-b8a6-44a496350c5f",
        "colab": {
          "base_uri": "https://localhost:8080/",
          "height": 34
        }
      },
      "source": [
        "print(alunos['Total Faltas'].kurtosis())"
      ],
      "execution_count": 0,
      "outputs": [
        {
          "output_type": "stream",
          "text": [
            "-0.44854502196999624\n"
          ],
          "name": "stdout"
        }
      ]
    },
    {
      "cell_type": "markdown",
      "metadata": {
        "id": "CngbDWnjyAuF",
        "colab_type": "text"
      },
      "source": [
        "# Boxplot"
      ]
    },
    {
      "cell_type": "code",
      "metadata": {
        "id": "L60uuOmDxzTK",
        "colab_type": "code",
        "colab": {}
      },
      "source": [
        "import pandas as pd\n",
        "import numpy as np"
      ],
      "execution_count": 0,
      "outputs": []
    },
    {
      "cell_type": "code",
      "metadata": {
        "id": "YYloH_J9yNOU",
        "colab_type": "code",
        "outputId": "28e91b62-5745-4f6e-df52-e630993db575",
        "colab": {
          "base_uri": "https://localhost:8080/",
          "height": 282
        }
      },
      "source": [
        "ds = pd.DataFrame(np.random.rand(10, 3), columns=['A', 'B', 'C'])\n",
        "ds.plot.box(grid='true')"
      ],
      "execution_count": 0,
      "outputs": [
        {
          "output_type": "execute_result",
          "data": {
            "text/plain": [
              "<matplotlib.axes._subplots.AxesSubplot at 0x7efc0dde7240>"
            ]
          },
          "metadata": {
            "tags": []
          },
          "execution_count": 19
        },
        {
          "output_type": "display_data",
          "data": {
            "image/png": "[encoded data removed]",
            "text/plain": [
              "<Figure size 432x288 with 1 Axes>"
            ]
          },
          "metadata": {
            "tags": [],
            "needs_background": "light"
          }
        }
      ]
    },
    {
      "cell_type": "code",
      "metadata": {
        "id": "GMtd8KPdyh9Z",
        "colab_type": "code",
        "colab": {}
      },
      "source": [
        "média = alunos['média']"
      ],
      "execution_count": 0,
      "outputs": []
    },
    {
      "cell_type": "code",
      "metadata": {
        "id": "6vtGcE2qzCE5",
        "colab_type": "code",
        "outputId": "3a1a3030-d772-493a-fdb2-db06947ea397",
        "colab": {
          "base_uri": "https://localhost:8080/",
          "height": 119
        }
      },
      "source": [
        "média.head()"
      ],
      "execution_count": 0,
      "outputs": [
        {
          "output_type": "execute_result",
          "data": {
            "text/plain": [
              "0     9.0\n",
              "1     6.5\n",
              "2    10.0\n",
              "3     8.5\n",
              "4     9.0\n",
              "Name: média, dtype: float64"
            ]
          },
          "metadata": {
            "tags": []
          },
          "execution_count": 22
        }
      ]
    },
    {
      "cell_type": "code",
      "metadata": {
        "id": "QVAZ4VBFzPlF",
        "colab_type": "code",
        "outputId": "267c911d-445a-4847-b123-5636e9514a00",
        "colab": {
          "base_uri": "https://localhost:8080/",
          "height": 282
        }
      },
      "source": [
        "média.plot.box(vert='true')"
      ],
      "execution_count": 0,
      "outputs": [
        {
          "output_type": "execute_result",
          "data": {
            "text/plain": [
              "<matplotlib.axes._subplots.AxesSubplot at 0x7efc0dc04c50>"
            ]
          },
          "metadata": {
            "tags": []
          },
          "execution_count": 25
        },
        {
          "output_type": "display_data",
          "data": {
            "image/png": "[encoded data removed]",
            "text/plain": [
              "<Figure size 432x288 with 1 Axes>"
            ]
          },
          "metadata": {
            "tags": [],
            "needs_background": "light"
          }
        }
      ]
    },
    {
      "cell_type": "markdown",
      "metadata": {
        "id": "scnglRoizydK",
        "colab_type": "text"
      },
      "source": [
        "### Exemplo com idades, tirando outliers"
      ]
    },
    {
      "cell_type": "code",
      "metadata": {
        "id": "1YS1eazNzTeK",
        "colab_type": "code",
        "colab": {}
      },
      "source": [
        "idade = alunos['Idade']"
      ],
      "execution_count": 0,
      "outputs": []
    },
    {
      "cell_type": "code",
      "metadata": {
        "id": "BYe54OJZz87O",
        "colab_type": "code",
        "outputId": "61d9ad73-dc53-4464-ad79-4e12c8af6506",
        "colab": {
          "base_uri": "https://localhost:8080/",
          "height": 282
        }
      },
      "source": [
        "I = idade.quantile(0.75) - idade.quantile(0.25)\n",
        "\n",
        "LS = idade.quantile(0.75) + (I * 1.5)\n",
        "LI = idade.quantile(0.25) - (I * 1.5)\n",
        "\n",
        "idade_sem_outliers = alunos[alunos.Idade <= LS]\n",
        "\n",
        "idade_sem_outliers['Idade'].plot.box()\n",
        "\n",
        "#print(I, LS, LI)\n"
      ],
      "execution_count": 0,
      "outputs": [
        {
          "output_type": "execute_result",
          "data": {
            "text/plain": [
              "<matplotlib.axes._subplots.AxesSubplot at 0x7efc0dac6358>"
            ]
          },
          "metadata": {
            "tags": []
          },
          "execution_count": 32
        },
        {
          "output_type": "display_data",
          "data": {
            "image/png": "[encoded data removed]",
            "text/plain": [
              "<Figure size 432x288 with 1 Axes>"
            ]
          },
          "metadata": {
            "tags": [],
            "needs_background": "light"
          }
        }
      ]
    },
    {
      "cell_type": "code",
      "metadata": {
        "id": "le9mGQJn0ajX",
        "colab_type": "code",
        "outputId": "16a5bd6a-b8c1-4a32-c8f9-ee6810224976",
        "colab": {
          "base_uri": "https://localhost:8080/",
          "height": 34
        }
      },
      "source": [
        "print(max(idade))"
      ],
      "execution_count": 0,
      "outputs": [
        {
          "output_type": "stream",
          "text": [
            "65\n"
          ],
          "name": "stdout"
        }
      ]
    },
    {
      "cell_type": "code",
      "metadata": {
        "id": "g7fCrwvx0mjj",
        "colab_type": "code",
        "colab": {}
      },
      "source": [
        ""
      ],
      "execution_count": 0,
      "outputs": []
    }
  ]
}