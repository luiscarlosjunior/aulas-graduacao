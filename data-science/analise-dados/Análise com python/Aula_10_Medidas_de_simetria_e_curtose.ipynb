{
  "nbformat": 4,
  "nbformat_minor": 0,
  "metadata": {
    "colab": {
      "name": "Aula 10 - Medidas de simetria e curtose.ipynb",
      "provenance": [],
      "collapsed_sections": []
    },
    "kernelspec": {
      "name": "python3",
      "display_name": "Python 3"
    }
  },
  "cells": [
    {
      "cell_type": "markdown",
      "metadata": {
        "id": "vcwvI6mu8TP4",
        "colab_type": "text"
      },
      "source": [
        "#Medidas de assimetria\n",
        "\n",
        "> Numa distribuição estatística, a assimetria é o quanto a sua curva de frequência se desvia ou se afasta da posição simétrica.\n",
        "\n",
        "> De uma forma geral é o grau de desvio ou afastamento de simetria de uma distribuição. Uma curva tem alguns estados: Simétrica e assimétrica.\n",
        "\n",
        "> Uma curva é dita simétrica quando a **média, mediana e a moda coincidem num mesmo ponto de uma distribuição**, havendo um perfeito equílibrio na distribuição\n",
        "\n",
        "> Uma curva assimetrica é dita quanto a **média, mediana e a moda estão em pontos diferentes da curva de distribuição**. Em uma curva assimétrica, pode haver uma curva enviesada a direita ou esquerda "
      ]
    },
    {
      "cell_type": "markdown",
      "metadata": {
        "id": "eqiMc5lUwGj9",
        "colab_type": "text"
      },
      "source": [
        "### Simetria\n",
        "Quando uma moda, mediana e a média são iguais, então temos uma medida simétrica\n",
        "\n",
        ">$M_{o} = M_{d} = X$\n",
        "\n",
        "---\n",
        "\n",
        "### Assimetria \n",
        "\n",
        "Assimetria é quando a cauda da curva da distribuição decai/viés para a direita ou esquerda, tem-se uma distribuição com curva assimétrica possitiva.\n",
        "\n",
        ">Quando a curva tende para a direita a média é maior que a mediana que logo é maior que a moda\n",
        "\n",
        ">$M_{o} > M_{d} > X$\n",
        "\n",
        ">Assimetria a esquerda é quando a cauda da curva da distribuição declina para esquerda, assim temos uma distribuiçao com curva assimetria negativa.\n",
        "\n",
        ">$M_{o} < M_{d} < X$"
      ]
    },
    {
      "cell_type": "markdown",
      "metadata": {
        "id": "G8rEw-Dx2MyF",
        "colab_type": "text"
      },
      "source": [
        "##Características\n",
        "Algumas caracteristicas de assimétria são:\n",
        "\n",
        "\n",
        "*   Os pontos mais altos sempre são a moda\n",
        "*   Baseando-se na moda e na média, podemos concluir qual medida o conjunto pertence (direita ou esquerda) para isso basta realizar um cálculo de diferença entre a média e a moda:\n",
        "1.  Se o resultado for positivo, a curva é simétrica direita ou positiva\n",
        "2.  Se o resultado for negativo, a curva é assimétrica esquerda ou negativa\n",
        "3.  Se o resultado for zero, a curva é simétrica\n",
        "\n",
        "\n"
      ]
    },
    {
      "cell_type": "markdown",
      "metadata": {
        "id": "MQMXX6jtuj0n",
        "colab_type": "text"
      },
      "source": [
        "##Exemplos\n",
        "\n",
        ">Dado três conjuntos no qual o resultado da média, moda e mediana foram:\n",
        "\n",
        "* Conjunto $A: [X = 20;  M_{d} = 20;  M_{o} = 20]$\n",
        "* Conjunto $B: [X = 22;  M_{d} = 19;  M_{o} = 20]$\n",
        "* Conjunto $C: [X = 25;  M_{d} = 20;  M_{o} = 30]$\n",
        "\n",
        ">Com essas informações podemos verificar qual é o tipo e a classificação desses conjuntos. Para isso basta fazer a diferença entre a média e a moda:\n",
        "\n",
        "* Conjunto $A => 20 - 20 = 0$, logo é uma distribuição simétrica;\n",
        "* Conjunto $B => 22 - 20 = 2$, logo é uma distribuição assimétrica positiva;\n",
        "* Conjunto $C => 25 - 30 = -5$, logo é uma distribuição assimétrica negativa."
      ]
    },
    {
      "cell_type": "markdown",
      "metadata": {
        "id": "a4hwd-_ZhRZh",
        "colab_type": "text"
      },
      "source": [
        "#Exemplo Medidas Simetria\n",
        "Vamos utilizar o nosso exemplo de dataset feito para essa aula.\n",
        "\n",
        "* Antes de tudo vamos importar o dataset "
      ]
    },
    {
      "cell_type": "code",
      "metadata": {
        "id": "INu_mc4F8P-Z",
        "colab_type": "code",
        "colab": {}
      },
      "source": [
        "import pandas as pd"
      ],
      "execution_count": 0,
      "outputs": []
    },
    {
      "cell_type": "code",
      "metadata": {
        "id": "AGQ3r8PD_7oD",
        "colab_type": "code",
        "colab": {}
      },
      "source": [
        "alunos = pd.read_csv('https://raw.githubusercontent.com/luiscarlosjunior/aulas-graduacao/master/Analise%20de%20dados/datasets/csv/resumoAlunos.csv', sep=';')"
      ],
      "execution_count": 0,
      "outputs": []
    },
    {
      "cell_type": "code",
      "metadata": {
        "id": "aP2mnLmCEM8C",
        "colab_type": "code",
        "outputId": "247e312c-b317-493e-b77d-7e30172c2f0e",
        "colab": {
          "base_uri": "https://localhost:8080/",
          "height": 182
        }
      },
      "source": [
        "alunos.head(2)"
      ],
      "execution_count": 0,
      "outputs": [
        {
          "output_type": "execute_result",
          "data": {
            "text/html": [
              "<div>\n",
              "<style scoped>\n",
              "    .dataframe tbody tr th:only-of-type {\n",
              "        vertical-align: middle;\n",
              "    }\n",
              "\n",
              "    .dataframe tbody tr th {\n",
              "        vertical-align: top;\n",
              "    }\n",
              "\n",
              "    .dataframe thead th {\n",
              "        text-align: right;\n",
              "    }\n",
              "</style>\n",
              "<table border=\"1\" class=\"dataframe\">\n",
              "  <thead>\n",
              "    <tr style=\"text-align: right;\">\n",
              "      <th></th>\n",
              "      <th>RA</th>\n",
              "      <th>Primeiro Nome</th>\n",
              "      <th>Sobrenome</th>\n",
              "      <th>Idade</th>\n",
              "      <th>AV1</th>\n",
              "      <th>AV2</th>\n",
              "      <th>média</th>\n",
              "      <th>Total Faltas</th>\n",
              "      <th>Curso</th>\n",
              "      <th>Genero</th>\n",
              "      <th>Periodo</th>\n",
              "    </tr>\n",
              "  </thead>\n",
              "  <tbody>\n",
              "    <tr>\n",
              "      <th>0</th>\n",
              "      <td>63227467787</td>\n",
              "      <td>Aaron</td>\n",
              "      <td>PHILLIPS</td>\n",
              "      <td>31</td>\n",
              "      <td>9</td>\n",
              "      <td>9</td>\n",
              "      <td>9.0</td>\n",
              "      <td>22</td>\n",
              "      <td>Engeharia de Software</td>\n",
              "      <td>Masculino</td>\n",
              "      <td>Matutino</td>\n",
              "    </tr>\n",
              "    <tr>\n",
              "      <th>1</th>\n",
              "      <td>55774275097</td>\n",
              "      <td>Abigail</td>\n",
              "      <td>SOTO</td>\n",
              "      <td>20</td>\n",
              "      <td>7</td>\n",
              "      <td>6</td>\n",
              "      <td>6.5</td>\n",
              "      <td>18</td>\n",
              "      <td>Ciência da Computação</td>\n",
              "      <td>Feminino</td>\n",
              "      <td>Matutino</td>\n",
              "    </tr>\n",
              "  </tbody>\n",
              "</table>\n",
              "</div>"
            ],
            "text/plain": [
              "            RA Primeiro Nome  ...     Genero   Periodo\n",
              "0  63227467787         Aaron  ...  Masculino  Matutino\n",
              "1  55774275097       Abigail  ...   Feminino  Matutino\n",
              "\n",
              "[2 rows x 11 columns]"
            ]
          },
          "metadata": {
            "tags": []
          },
          "execution_count": 3
        }
      ]
    },
    {
      "cell_type": "code",
      "metadata": {
        "id": "AIPnV5xzg4Eu",
        "colab_type": "code",
        "colab": {}
      },
      "source": [
        "idade = 60\n",
        "idades = alunos[alunos.Idade > idade]\n",
        "print(idades['Idade'])"
      ],
      "execution_count": 0,
      "outputs": []
    },
    {
      "cell_type": "markdown",
      "metadata": {
        "id": "CEUnEbaIQ4Pl",
        "colab_type": "text"
      },
      "source": [
        "### Recuperar algumas informações"
      ]
    },
    {
      "cell_type": "code",
      "metadata": {
        "id": "Xl6FBzCJOZPs",
        "colab_type": "code",
        "outputId": "b0481aee-0ac5-40c1-bc09-269d3cf7b490",
        "colab": {
          "base_uri": "https://localhost:8080/",
          "height": 340
        }
      },
      "source": [
        "# Nos informa algumas informações sobre o nosso dataset\n",
        "print(alunos.info())"
      ],
      "execution_count": 0,
      "outputs": [
        {
          "output_type": "stream",
          "text": [
            "<class 'pandas.core.frame.DataFrame'>\n",
            "RangeIndex: 300 entries, 0 to 299\n",
            "Data columns (total 11 columns):\n",
            " #   Column         Non-Null Count  Dtype  \n",
            "---  ------         --------------  -----  \n",
            " 0   RA             300 non-null    int64  \n",
            " 1   Primeiro Nome  300 non-null    object \n",
            " 2   Sobrenome      300 non-null    object \n",
            " 3   Idade          300 non-null    int64  \n",
            " 4   AV1            300 non-null    int64  \n",
            " 5   AV2            300 non-null    int64  \n",
            " 6   média          300 non-null    float64\n",
            " 7   Total Faltas   300 non-null    int64  \n",
            " 8   Curso          300 non-null    object \n",
            " 9   Genero         300 non-null    object \n",
            " 10  Periodo        300 non-null    object \n",
            "dtypes: float64(1), int64(5), object(5)\n",
            "memory usage: 25.9+ KB\n",
            "None\n"
          ],
          "name": "stdout"
        }
      ]
    },
    {
      "cell_type": "code",
      "metadata": {
        "id": "PScd8MdWOeUE",
        "colab_type": "code",
        "outputId": "79bde391-6391-46cd-de1c-f44b0e3a9831",
        "colab": {
          "base_uri": "https://localhost:8080/",
          "height": 221
        }
      },
      "source": [
        "# Mostra quantos valores unicos existe em cada coluna do nosso data frame\n",
        "print(alunos.nunique())"
      ],
      "execution_count": 0,
      "outputs": [
        {
          "output_type": "stream",
          "text": [
            "RA               300\n",
            "Primeiro Nome    287\n",
            "Sobrenome        260\n",
            "Idade             49\n",
            "AV1                5\n",
            "AV2                5\n",
            "média              9\n",
            "Total Faltas      19\n",
            "Curso              7\n",
            "Genero             3\n",
            "Periodo            4\n",
            "dtype: int64\n"
          ],
          "name": "stdout"
        }
      ]
    },
    {
      "cell_type": "markdown",
      "metadata": {
        "id": "ZFSuQiqrRfaa",
        "colab_type": "text"
      },
      "source": [
        "##Histograma\n",
        "\n",
        "> É a representação gráfica da distribuição da frequência.\n",
        "\n",
        ">Podemos realizar de duas maneiras.\n",
        "1. Fazer o gráfico diretamente\n",
        "2. Montar uma 'figura' para desenharmos o gráfico\n",
        "\n",
        "---\n",
        "\n",
        "### Criando os dados\n",
        "> Primeiro vamos criar nossa coluna de frequência\n"
      ]
    },
    {
      "cell_type": "code",
      "metadata": {
        "id": "Tbku9qO9EQrQ",
        "colab_type": "code",
        "colab": {}
      },
      "source": [
        "#Vamos fazer de idade e média\n",
        "média_alunos = alunos['média']\n",
        "idades_alunos = alunos['Idade']\n",
        "\n",
        "#Estamos agrupando os alunos por curso e contando a quantidade presente em cada um\n",
        "cursos_alunos = alunos.groupby(['Curso'])['RA'].count()\n"
      ],
      "execution_count": 0,
      "outputs": []
    },
    {
      "cell_type": "markdown",
      "metadata": {
        "id": "_nbbG1J7ULM3",
        "colab_type": "text"
      },
      "source": [
        "\n",
        "### Gráfico simples\n",
        "\n",
        "Aqui vamos fazer um gráfico de histograma simples"
      ]
    },
    {
      "cell_type": "code",
      "metadata": {
        "id": "AsImW7-tEdM4",
        "colab_type": "code",
        "outputId": "95dab512-4cbb-4042-bdf7-fc72dd022b2d",
        "colab": {
          "base_uri": "https://localhost:8080/",
          "height": 282
        }
      },
      "source": [
        "média_alunos.plot(kind='hist')"
      ],
      "execution_count": 0,
      "outputs": [
        {
          "output_type": "execute_result",
          "data": {
            "text/plain": [
              "<matplotlib.axes._subplots.AxesSubplot at 0x7f7017f31518>"
            ]
          },
          "metadata": {
            "tags": []
          },
          "execution_count": 16
        },
        {
          "output_type": "display_data",
          "data": {
            "image/png": "[encoded data removed]",
            "text/plain": [
              "<Figure size 432x288 with 1 Axes>"
            ]
          },
          "metadata": {
            "tags": [],
            "needs_background": "light"
          }
        }
      ]
    },
    {
      "cell_type": "code",
      "metadata": {
        "id": "N7fZn2avUTuq",
        "colab_type": "code",
        "outputId": "14a57458-9ccd-475c-f41b-dfe50cc4a6ce",
        "colab": {
          "base_uri": "https://localhost:8080/",
          "height": 282
        }
      },
      "source": [
        "idades_alunos.plot(kind='hist')"
      ],
      "execution_count": 0,
      "outputs": [
        {
          "output_type": "execute_result",
          "data": {
            "text/plain": [
              "<matplotlib.axes._subplots.AxesSubplot at 0x7f7017ebe7f0>"
            ]
          },
          "metadata": {
            "tags": []
          },
          "execution_count": 17
        },
        {
          "output_type": "display_data",
          "data": {
            "image/png": "[encoded data removed]",
            "text/plain": [
              "<Figure size 432x288 with 1 Axes>"
            ]
          },
          "metadata": {
            "tags": [],
            "needs_background": "light"
          }
        }
      ]
    },
    {
      "cell_type": "markdown",
      "metadata": {
        "id": "zPGSlc-kUhVz",
        "colab_type": "text"
      },
      "source": [
        "###Gráfico com figura\n",
        "[Exemplos de histogramas usado o matplot](https://matplotlib.org/3.2.1/gallery/statistics/hist.html#sphx-glr-gallery-statistics-hist-py)"
      ]
    },
    {
      "cell_type": "markdown",
      "metadata": {
        "id": "XOZMQ72DZjGI",
        "colab_type": "text"
      },
      "source": [
        "###Exemplo média"
      ]
    },
    {
      "cell_type": "code",
      "metadata": {
        "id": "gc9O1hBUUu23",
        "colab_type": "code",
        "colab": {}
      },
      "source": [
        "import matplotlib.pyplot as plt"
      ],
      "execution_count": 0,
      "outputs": []
    },
    {
      "cell_type": "code",
      "metadata": {
        "id": "S5ZOlIyZU5jL",
        "colab_type": "code",
        "outputId": "a2f85d3b-e2bf-4c08-aedd-1ec0fb542abc",
        "colab": {
          "base_uri": "https://localhost:8080/",
          "height": 336
        }
      },
      "source": [
        "#Define a dimensão do gráfico\n",
        "plt.figure(figsize=(10,5))\n",
        "#Define um título\n",
        "plt.title('Distribuição da média')\n",
        "#Define o intervalo entre os valores e define a cor das barras\n",
        "plt.hist(média_alunos, bins=[6, 7, 8, 9, 10], color='gray')\n",
        "#Exibe o resultado\n",
        "plt.show()"
      ],
      "execution_count": 0,
      "outputs": [
        {
          "output_type": "display_data",
          "data": {
            "image/png": "[encoded data removed]",
            "text/plain": [
              "<Figure size 720x360 with 1 Axes>"
            ]
          },
          "metadata": {
            "tags": [],
            "needs_background": "light"
          }
        }
      ]
    },
    {
      "cell_type": "markdown",
      "metadata": {
        "id": "9zhmvq7wZlR6",
        "colab_type": "text"
      },
      "source": [
        "###Exemplo idades"
      ]
    },
    {
      "cell_type": "code",
      "metadata": {
        "id": "Nz_tdFspZoAj",
        "colab_type": "code",
        "outputId": "dd70ec42-1d5d-4b61-f4d6-329f2fd552be",
        "colab": {
          "base_uri": "https://localhost:8080/",
          "height": 336
        }
      },
      "source": [
        "plt.figure(figsize=(10,5))\n",
        "plt.title('Histograma de idades')\n",
        "plt.hist(idades_alunos, bins=[0, 20, 40, 60, 80])\n",
        "plt.show()"
      ],
      "execution_count": 0,
      "outputs": [
        {
          "output_type": "display_data",
          "data": {
            "image/png": "[encoded data removed]",
            "text/plain": [
              "<Figure size 720x360 with 1 Axes>"
            ]
          },
          "metadata": {
            "tags": [],
            "needs_background": "light"
          }
        }
      ]
    },
    {
      "cell_type": "markdown",
      "metadata": {
        "id": "uzh17_14ayZ3",
        "colab_type": "text"
      },
      "source": [
        "#Coeficiente de Pearson"
      ]
    },
    {
      "cell_type": "markdown",
      "metadata": {
        "id": "IY4nLpCqa9Qi",
        "colab_type": "text"
      },
      "source": [
        ">Coeficiente de pearson nos permite ter uma informação mais precisa sobre o grau de desvio ou afastamento da curva.\n",
        "\n",
        ">O Coeficiente de Pearson nos fornece um número que nos indica o grau da correlação (direção positiva ou negativa).\n",
        "\n",
        ">Essa correlação é representada por $p$ e assume apenas valores entre -1 e 1.\n",
        "* $p$ = 1 Significa uma correlação negativa positiva entre as duas variáveis;\n",
        "* $p$ = -1 Significa uma correlaçao negativa perfeita entre as duas variáveis;\n",
        "* $p$ = 0 Significa que as duas variáveis não dependem linearmente uma da outra."
      ]
    },
    {
      "cell_type": "markdown",
      "metadata": {
        "id": "SnXfmW30cuZs",
        "colab_type": "text"
      },
      "source": [
        "##Fórmula do coeficiente de pearson\n",
        "\n",
        ">Existe algumas formas para calcular o coeficiente de Pearson, aqui iremos ver uma forma simples, mas muito utilizada.\n",
        "\n",
        "\n",
        ">**Fórmula**: $As = 3.\\frac{\\mu-M_{d}} S$\n",
        "\n",
        "> Resumindo: \n",
        "  1. $As = $ Assimetria;\n",
        "  2. $\\overline{X}  =$ média;\n",
        "  3. $M_{d} =$ mediana\n",
        "  4. $S = $ desvio padrão\n",
        "  \n",
        " ---"
      ]
    },
    {
      "cell_type": "markdown",
      "metadata": {
        "id": "fETHZ-aJoA4O",
        "colab_type": "text"
      },
      "source": [
        "##Exemplos \n",
        "\n"
      ]
    },
    {
      "cell_type": "markdown",
      "metadata": {
        "id": "BsjF9LGmpL1z",
        "colab_type": "text"
      },
      "source": [
        "###Exemplo 01\n",
        "  \n",
        "  > Média = 25, mediana = 25, moda = 25 e desvio padrao = 5\n",
        "  \n",
        "  > Então, \n",
        "\n",
        "  >**Fórmula**: $As = 3.\\frac{\\mu-M_{d}} S$, agora só vamos substituir os valores.\n",
        "\n",
        ">  $ As = 3.\\frac{25 - 25} {25} $\n",
        "\n",
        "Logo,\n",
        "\n",
        "> $As = 0$\n",
        "\n",
        "Portanto, esse conjunto é simétrico\n"
      ]
    },
    {
      "cell_type": "markdown",
      "metadata": {
        "id": "ecaTjirSpPER",
        "colab_type": "text"
      },
      "source": [
        "###Exemplo 02\n",
        "\n",
        ">Média = 21, mediana = 20, moda = 24 e Desvio Padrão = 4,38\n",
        ">\n",
        ">Então,\n",
        ">\n",
        "> $As = 3.\\frac{21-20}{4,38}$\n",
        ">\n",
        ">Logo,\n",
        "> $As \\cong 0.685$\n",
        ">\n",
        ">Portanto, esse conjunto é assimétrico. Para sabermos se é positivo ou negativo vamos usar a regra da média menos a moda.\n",
        ">\n",
        "> $=> 21 - 24 = -3$\n",
        "> \n",
        "> $\\therefore $ - simbolo de portanto -\n",
        ">\n",
        "> o conjunto é assimétrico negativo\n",
        "\n"
      ]
    },
    {
      "cell_type": "markdown",
      "metadata": {
        "id": "Jv8NjjOLw3Ru",
        "colab_type": "text"
      },
      "source": [
        "###Exemplo 03\n",
        "\n",
        ">Média = 19, mediana = 18, moda = 16 e Desvio Padrão = 4,38\n",
        ">\n",
        ">Entao, \n",
        "> $As = 3.\\frac{19 - 18}{4,38}$\n",
        ">\n",
        ">Logo, \n",
        "> $As = 0.685$\n",
        ">\n",
        ">\n",
        ">$\\therefore$  esse conjunto é assimétrica.\n",
        ">\n",
        "> Vamos verificar se é positivo ou negativo\n",
        ">\n",
        "> $=> 19 - 16 = 3$, esse conjunto é assimétrico positivo.\n"
      ]
    },
    {
      "cell_type": "markdown",
      "metadata": {
        "id": "14YipOzSxviB",
        "colab_type": "text"
      },
      "source": [
        "### Resumindo\n",
        "Podemos dizer que quanto mais o valor do coeficiente fica próximo do 1 ou -1 existe uma correlação forte e quanto mais perto do zero a correlação é dita fraca "
      ]
    },
    {
      "cell_type": "markdown",
      "metadata": {
        "id": "-AUbZwg-OBox",
        "colab_type": "text"
      },
      "source": [
        "#Coeficiente de Curtose"
      ]
    },
    {
      "cell_type": "markdown",
      "metadata": {
        "id": "AI_HPu7WyNxb",
        "colab_type": "text"
      },
      "source": [
        "> Em estatística, curtose é a medida de dispersão que caracteriza o \"achatamento\" da curva da função de distribuição\n",
        ">\n",
        ">Assim como a assimetria, a curtose descreve a forma de umma distribuição e existem diferentes maneiras de quantificá-la para uma distribuição teórica. Aqui vamos trabalhar com o coeficiente percentil de Curtose;\n",
        ">\n",
        ">Diferentes medidas de curtose podem ter diferentes interpretações."
      ]
    },
    {
      "cell_type": "markdown",
      "metadata": {
        "id": "fUj6dthnywUB",
        "colab_type": "text"
      },
      "source": [
        "##Curvas de curtose\n",
        "O uso da curtose nos ajudo a identificr as características gerais de uma amostra ou população. \n",
        "\n",
        "O achatamento de uma distribuição é dada em três classes:\n",
        "\n",
        "1. Leptocúrtica = Caldas longas\n",
        "2. Mesocúrtica = Normal\n",
        "3. Platicúrtica = Caldas curtas"
      ]
    },
    {
      "cell_type": "markdown",
      "metadata": {
        "id": "WVczatOIzPIP",
        "colab_type": "text"
      },
      "source": [
        "##Fórmula de Curtose\n",
        ">\n",
        ">As medidas de Curtose podem ser cálculadas através dos usos dos quartis e decis\n",
        ">\n",
        ">A expressão é dado como\n",
        ">\n",
        "> $C = \\frac{Q_{3} - Q_{1}}{2(P_{90} - P_{10})}$\n",
        ">\n",
        ">Dados isso, as curvas de distribuição poderão ter três possíveis valores:\n",
        "\n",
        "1. $C < 0,263$, a curva ou distribuição é leptocúrtica (mais afinada)\n",
        "2. $C = 0,263$, a curva ou distribuição é mesocúrtica;\n",
        "3. $C > 0,263$, a curva ou distribuiçao é platicúrtica (mais achatada)"
      ]
    },
    {
      "cell_type": "code",
      "metadata": {
        "id": "-TABmEmeOGIs",
        "colab_type": "code",
        "outputId": "7dd9376a-5b6b-4918-da95-cbf3082c08dc",
        "colab": {
          "base_uri": "https://localhost:8080/",
          "height": 352
        }
      },
      "source": [
        "\n",
        "import plotly.figure_factory as ff\n",
        "import numpy as np\n",
        "import seaborn as sns #Graph library that use matplot in background\n",
        "\n",
        "plt.figure(figsize = (8,5))\n",
        "g = sns.distplot(alunos['média'], color='r')\n",
        "g.set_title(\"Média\", fontsize=15)\n",
        "plt.show()"
      ],
      "execution_count": 0,
      "outputs": [
        {
          "output_type": "display_data",
          "data": {
            "image/png": "[encoded data removed]",
            "text/plain": [
              "<Figure size 576x360 with 1 Axes>"
            ]
          },
          "metadata": {
            "tags": [],
            "needs_background": "light"
          }
        }
      ]
    },
    {
      "cell_type": "markdown",
      "metadata": {
        "id": "OHOhF8s5QqQ9",
        "colab_type": "text"
      },
      "source": [
        "## Idade"
      ]
    },
    {
      "cell_type": "code",
      "metadata": {
        "id": "cNNBHc-pQs1V",
        "colab_type": "code",
        "outputId": "e5f1353d-1ea8-4b34-c1c0-b935cd93a340",
        "colab": {
          "base_uri": "https://localhost:8080/",
          "height": 352
        }
      },
      "source": [
        "plt.figure(figsize = (8,5))\n",
        "g = sns.distplot(alunos['Idade'], color='r')\n",
        "g.set_title(\"Idade\", fontsize=15)\n",
        "plt.show()"
      ],
      "execution_count": 0,
      "outputs": [
        {
          "output_type": "display_data",
          "data": {
            "image/png": "[encoded data removed]",
            "text/plain": [
              "<Figure size 576x360 with 1 Axes>"
            ]
          },
          "metadata": {
            "tags": [],
            "needs_background": "light"
          }
        }
      ]
    },
    {
      "cell_type": "code",
      "metadata": {
        "id": "524lLQniO_L9",
        "colab_type": "code",
        "outputId": "94e7f00a-755c-418d-c478-35639d1e5228",
        "colab": {
          "base_uri": "https://localhost:8080/",
          "height": 34
        }
      },
      "source": [
        "alunos['média'].kurtosis()"
      ],
      "execution_count": 0,
      "outputs": [
        {
          "output_type": "execute_result",
          "data": {
            "text/plain": [
              "-0.6524446818614842"
            ]
          },
          "metadata": {
            "tags": []
          },
          "execution_count": 27
        }
      ]
    },
    {
      "cell_type": "code",
      "metadata": {
        "id": "MjxKRnwsPrOw",
        "colab_type": "code",
        "outputId": "5e83e5d4-cfa1-41bc-e844-b0c54698ce20",
        "colab": {
          "base_uri": "https://localhost:8080/",
          "height": 235
        }
      },
      "source": [
        "alunos.corr()"
      ],
      "execution_count": 0,
      "outputs": [
        {
          "output_type": "execute_result",
          "data": {
            "text/html": [
              "<div>\n",
              "<style scoped>\n",
              "    .dataframe tbody tr th:only-of-type {\n",
              "        vertical-align: middle;\n",
              "    }\n",
              "\n",
              "    .dataframe tbody tr th {\n",
              "        vertical-align: top;\n",
              "    }\n",
              "\n",
              "    .dataframe thead th {\n",
              "        text-align: right;\n",
              "    }\n",
              "</style>\n",
              "<table border=\"1\" class=\"dataframe\">\n",
              "  <thead>\n",
              "    <tr style=\"text-align: right;\">\n",
              "      <th></th>\n",
              "      <th>RA</th>\n",
              "      <th>Idade</th>\n",
              "      <th>AV1</th>\n",
              "      <th>AV2</th>\n",
              "      <th>média</th>\n",
              "      <th>Total Faltas</th>\n",
              "    </tr>\n",
              "  </thead>\n",
              "  <tbody>\n",
              "    <tr>\n",
              "      <th>RA</th>\n",
              "      <td>1.000000</td>\n",
              "      <td>0.043168</td>\n",
              "      <td>0.013321</td>\n",
              "      <td>-0.013753</td>\n",
              "      <td>-0.000492</td>\n",
              "      <td>0.033842</td>\n",
              "    </tr>\n",
              "    <tr>\n",
              "      <th>Idade</th>\n",
              "      <td>0.043168</td>\n",
              "      <td>1.000000</td>\n",
              "      <td>0.059576</td>\n",
              "      <td>-0.091038</td>\n",
              "      <td>-0.022231</td>\n",
              "      <td>0.034921</td>\n",
              "    </tr>\n",
              "    <tr>\n",
              "      <th>AV1</th>\n",
              "      <td>0.013321</td>\n",
              "      <td>0.059576</td>\n",
              "      <td>1.000000</td>\n",
              "      <td>0.110917</td>\n",
              "      <td>0.738617</td>\n",
              "      <td>-0.001868</td>\n",
              "    </tr>\n",
              "    <tr>\n",
              "      <th>AV2</th>\n",
              "      <td>-0.013753</td>\n",
              "      <td>-0.091038</td>\n",
              "      <td>0.110917</td>\n",
              "      <td>1.000000</td>\n",
              "      <td>0.751891</td>\n",
              "      <td>-0.121265</td>\n",
              "    </tr>\n",
              "    <tr>\n",
              "      <th>média</th>\n",
              "      <td>-0.000492</td>\n",
              "      <td>-0.022231</td>\n",
              "      <td>0.738617</td>\n",
              "      <td>0.751891</td>\n",
              "      <td>1.000000</td>\n",
              "      <td>-0.083494</td>\n",
              "    </tr>\n",
              "    <tr>\n",
              "      <th>Total Faltas</th>\n",
              "      <td>0.033842</td>\n",
              "      <td>0.034921</td>\n",
              "      <td>-0.001868</td>\n",
              "      <td>-0.121265</td>\n",
              "      <td>-0.083494</td>\n",
              "      <td>1.000000</td>\n",
              "    </tr>\n",
              "  </tbody>\n",
              "</table>\n",
              "</div>"
            ],
            "text/plain": [
              "                    RA     Idade       AV1       AV2     média  Total Faltas\n",
              "RA            1.000000  0.043168  0.013321 -0.013753 -0.000492      0.033842\n",
              "Idade         0.043168  1.000000  0.059576 -0.091038 -0.022231      0.034921\n",
              "AV1           0.013321  0.059576  1.000000  0.110917  0.738617     -0.001868\n",
              "AV2          -0.013753 -0.091038  0.110917  1.000000  0.751891     -0.121265\n",
              "média        -0.000492 -0.022231  0.738617  0.751891  1.000000     -0.083494\n",
              "Total Faltas  0.033842  0.034921 -0.001868 -0.121265 -0.083494      1.000000"
            ]
          },
          "metadata": {
            "tags": []
          },
          "execution_count": 30
        }
      ]
    },
    {
      "cell_type": "code",
      "metadata": {
        "id": "2pwonsriEo03",
        "colab_type": "code",
        "outputId": "4743c3a2-8287-4571-a73d-42fefa765328",
        "colab": {
          "base_uri": "https://localhost:8080/",
          "height": 34
        }
      },
      "source": [
        "idades_alunos.kurtosis()"
      ],
      "execution_count": 0,
      "outputs": [
        {
          "output_type": "execute_result",
          "data": {
            "text/plain": [
              "-1.198360106689882"
            ]
          },
          "metadata": {
            "tags": []
          },
          "execution_count": 11
        }
      ]
    },
    {
      "cell_type": "markdown",
      "metadata": {
        "id": "N8iz6bDW0VM5",
        "colab_type": "text"
      },
      "source": [
        "#Boxplot\n",
        "\n",
        ">Boxplot \n",
        ">\n",
        ">"
      ]
    },
    {
      "cell_type": "code",
      "metadata": {
        "id": "WtK7i8PeFjRY",
        "colab_type": "code",
        "outputId": "a1f9f319-bfda-43f8-bea5-263710f770c1",
        "colab": {
          "base_uri": "https://localhost:8080/",
          "height": 282
        }
      },
      "source": [
        "import pandas as pd\n",
        "import numpy as np\n",
        "df = pd.DataFrame(np.random.rand(10, 5), columns=['A', 'B', 'C', 'D', 'E'])\n",
        "df.plot.box(grid='True')"
      ],
      "execution_count": 0,
      "outputs": [
        {
          "output_type": "execute_result",
          "data": {
            "text/plain": [
              "<matplotlib.axes._subplots.AxesSubplot at 0x7f29ddcfa4e0>"
            ]
          },
          "metadata": {
            "tags": []
          },
          "execution_count": 57
        },
        {
          "output_type": "display_data",
          "data": {
            "image/png": "[encoded data removed]",
            "text/plain": [
              "<Figure size 432x288 with 1 Axes>"
            ]
          },
          "metadata": {
            "tags": [],
            "needs_background": "light"
          }
        }
      ]
    },
    {
      "cell_type": "code",
      "metadata": {
        "id": "AbislbqxAHWl",
        "colab_type": "code",
        "outputId": "5e953375-a9fc-48de-d114-684363c035e6",
        "colab": {
          "base_uri": "https://localhost:8080/",
          "height": 554
        }
      },
      "source": [
        "# Retirando os outliers\n",
        "I = alunos['Idade'].quantile(0.75) - alunos['Idade'].quantile(0.50)\n",
        "print(I) \n",
        "\n",
        "LS = alunos['Idade'].quantile(0.75) + (I*1.5)\n",
        "print(LS)\n",
        "\n",
        "alunos_sem_outliers = alunos[alunos.Idade < LS]\n",
        "print(alunos_sem_outliers) \n",
        "\n",
        "media = alunos['Idade']\n",
        "media.plot.box(vert='false', whis=1.5)"
      ],
      "execution_count": 0,
      "outputs": [
        {
          "output_type": "stream",
          "text": [
            "13.0\n",
            "71.5\n",
            "              RA Primeiro Nome  ...     Genero   Periodo\n",
            "0    63227467787         Aaron  ...  Masculino  Matutino\n",
            "1    55774275097       Abigail  ...   Feminino  Matutino\n",
            "2    76059134116          Adam  ...  Masculino  Matutino\n",
            "3    64295541703        Agatha  ...  Intersexo  Matutino\n",
            "4    71033266097          Alan  ...  Masculino  Matutino\n",
            "..           ...           ...  ...        ...       ...\n",
            "295  80355209504         Wayne  ...  Masculino   Noturno\n",
            "296  64876344668       William  ...  Masculino   Noturno\n",
            "297  77611509140        Willie  ...  Masculino   Noturno\n",
            "298  61821096538        Yasmin  ...   Feminino   Noturno\n",
            "299  92179223683       Zachary  ...  Masculino   Noturno\n",
            "\n",
            "[300 rows x 11 columns]\n"
          ],
          "name": "stdout"
        },
        {
          "output_type": "execute_result",
          "data": {
            "text/plain": [
              "<matplotlib.axes._subplots.AxesSubplot at 0x7f29ddba6b38>"
            ]
          },
          "metadata": {
            "tags": []
          },
          "execution_count": 63
        },
        {
          "output_type": "display_data",
          "data": {
            "image/png": "[encoded data removed]",
            "text/plain": [
              "<Figure size 432x288 with 1 Axes>"
            ]
          },
          "metadata": {
            "tags": [],
            "needs_background": "light"
          }
        }
      ]
    },
    {
      "cell_type": "code",
      "metadata": {
        "id": "6XCEMsGzAQyP",
        "colab_type": "code",
        "colab": {}
      },
      "source": [
        ""
      ],
      "execution_count": 0,
      "outputs": []
    },
    {
      "cell_type": "code",
      "metadata": {
        "id": "Olig5AybJYki",
        "colab_type": "code",
        "colab": {}
      },
      "source": [
        ""
      ],
      "execution_count": 0,
      "outputs": []
    }
  ]
}