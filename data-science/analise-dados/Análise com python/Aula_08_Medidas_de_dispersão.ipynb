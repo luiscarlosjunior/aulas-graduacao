{
  "nbformat": 4,
  "nbformat_minor": 0,
  "metadata": {
    "colab": {
      "name": "Aula 08 - Medidas de dispersão.ipynb",
      "provenance": [],
      "collapsed_sections": [],
      "authorship_tag": "ABX9TyMLCeNuvTVsbVbu6FkBZ1Yb",
      "include_colab_link": true
    },
    "kernelspec": {
      "name": "python3",
      "display_name": "Python 3"
    }
  },
  "cells": [
    {
      "cell_type": "markdown",
      "metadata": {
        "id": "view-in-github",
        "colab_type": "text"
      },
      "source": [
        "<a href=\"https://colab.research.google.com/github/luiscarlosjunior/aulas-graduacao/blob/master/Aula_08_Medidas_de_dispers%C3%A3o.ipynb\" target=\"_parent\"><img src=\"https://colab.research.google.com/assets/colab-badge.svg\" alt=\"Open In Colab\"/></a>"
      ]
    },
    {
      "cell_type": "markdown",
      "metadata": {
        "id": "mvX2KZr22tFx",
        "colab_type": "text"
      },
      "source": [
        "[Aula 07](https://colab.research.google.com/drive/1nYJzywgrhzcCS8GEY1ZywvlXLOb4yOpb?usp=sharing)"
      ]
    },
    {
      "cell_type": "markdown",
      "metadata": {
        "id": "GJrV1P2I1aPO",
        "colab_type": "text"
      },
      "source": [
        "# Medidas de dispersão\n",
        "Medidas de dispersão são formas de verificar a variação dos seus dados.\n",
        "\n",
        "> \"Se há três pessoas e três laranjas e duas das pessoas comem uma laranja e meia, na média cada pessoa comeu uma laranja.\"\n",
        "\n",
        "Esta frase, relacionado a estatística, não iria agradar quem não comeu a laranja. **Ao fazer a média, há sempre informação que se perde**. As medidas de **tendência central**, apesar de serem vastamente utilizadas em estatística, são muitas vezes insuficiente para caracterizar aceitavelmente uma distribuição.\n",
        "\n",
        "Em alguns casos, temos que recorrer a outros meios, chamados de **[medidas de dispersão](https://pt.wikipedia.org/wiki/Dispers%C3%A3o_estat%C3%ADstica)**.\n",
        "\n",
        "###Definição\n",
        "Medidas de dispersão são medidas usadas para avaliar o grau de variabilidade, ou dispersão dos valores em um conjunto. Existem algumas maneiras de fazer isso, segue abaixo uma lista.\n",
        "\n",
        "\n",
        "###Medidas de dispersão\n",
        "1.   Amplitude total (A)\n",
        "2.   Desvio médio (Dm)\n",
        "3.   Variância (Var)\n",
        "4.   Desvio Padrão (Dp)\n",
        "5.   Coeficiente de Variação (CV)\n",
        "\n"
      ]
    },
    {
      "cell_type": "markdown",
      "metadata": {
        "id": "67QVGDtgocbi",
        "colab_type": "text"
      },
      "source": [
        "\n",
        "\n",
        "---\n",
        "\n",
        "## Exemplo 01\n",
        "\n",
        "Dado dois conjunto, sejam eles: A e B\n",
        "\n",
        "A = {20, 20, 20, 20, 20}\n",
        "\n",
        "B = {15, 10, 20, 25, 30}\n",
        "\n",
        "Se verificarmos as médias desses dois, será o mesmo valor: 20. Contudo, as sequencias são totalmente diferentes dos ponto de vista da variabilidade de dados. Na série 'A' não se tem dispersão."
      ]
    },
    {
      "cell_type": "code",
      "metadata": {
        "id": "4uJmqyZNpNh7",
        "colab_type": "code",
        "colab": {}
      },
      "source": [
        "# importa a biblioteca pandas\n",
        "import pandas as pd"
      ],
      "execution_count": 0,
      "outputs": []
    },
    {
      "cell_type": "code",
      "metadata": {
        "id": "l3lAcWcL-IxA",
        "colab_type": "code",
        "colab": {}
      },
      "source": [
        "# Criando os conjuntos\n",
        "A = pd.Series([20,20,20,20,20])\n",
        "B = pd.Series([15,10,20,25,30])"
      ],
      "execution_count": 0,
      "outputs": []
    },
    {
      "cell_type": "code",
      "metadata": {
        "id": "NnsaoVhU97eq",
        "colab_type": "code",
        "outputId": "1bbde7d3-8bcc-468b-d4dc-d9cbfb167948",
        "colab": {
          "base_uri": "https://localhost:8080/",
          "height": 51
        }
      },
      "source": [
        "# Faz o cálculo da média\n",
        "print('A média do conjunto A é: ', A.mean())\n",
        "print('A média do conjunto B é: ', B.mean())"
      ],
      "execution_count": 0,
      "outputs": [
        {
          "output_type": "stream",
          "text": [
            "A média do conjunto A é:  20.0\n",
            "A média do conjunto B é:  20.0\n"
          ],
          "name": "stdout"
        }
      ]
    },
    {
      "cell_type": "markdown",
      "metadata": {
        "id": "ahGvuUdNCekI",
        "colab_type": "text"
      },
      "source": [
        "\n",
        "\n",
        "---\n",
        "\n",
        "##Análise gráfica"
      ]
    },
    {
      "cell_type": "markdown",
      "metadata": {
        "id": "NIh03Vv3J8Up",
        "colab_type": "text"
      },
      "source": [
        "Com o intuito de visualizar os dados, vamos fazer um gráfico. Mais adiante faremos uma aula somente sobre grafos."
      ]
    },
    {
      "cell_type": "code",
      "metadata": {
        "id": "bcoyu_brKFNA",
        "colab_type": "code",
        "colab": {}
      },
      "source": [
        "# Umas das bibliotecas para realizar um plot\n",
        "import matplotlib.pyplot as plt"
      ],
      "execution_count": 0,
      "outputs": []
    },
    {
      "cell_type": "code",
      "metadata": {
        "id": "pfgt8NM7-8wD",
        "colab_type": "code",
        "outputId": "b892972a-3639-43a4-de0f-d8f4fe237a4e",
        "colab": {
          "base_uri": "https://localhost:8080/",
          "height": 281
        }
      },
      "source": [
        "# Define o eixo x\n",
        "x = ([1, 2, 3, 4, 5])\n",
        "\n",
        "plt.scatter(x, A)\n",
        "plt.title('Scatter Plot Example')\n",
        "plt.scatter(x, A, marker='^', color='m')\n",
        "plt.show()"
      ],
      "execution_count": 0,
      "outputs": [
        {
          "output_type": "display_data",
          "data": {
            "image/png": "[encoded data removed]",
            "text/plain": [
              "<Figure size 432x288 with 1 Axes>"
            ]
          },
          "metadata": {
            "tags": [],
            "needs_background": "light"
          }
        }
      ]
    },
    {
      "cell_type": "code",
      "metadata": {
        "id": "wScrZr6FCEHs",
        "colab_type": "code",
        "outputId": "8ba76b58-668a-4e33-eb42-f76856c424b3",
        "colab": {
          "base_uri": "https://localhost:8080/",
          "height": 281
        }
      },
      "source": [
        "# Define o eixo x\n",
        "x = ([1, 2, 3, 4, 5])\n",
        "\n",
        "plt.scatter(x, B)\n",
        "plt.title('Scatter Plot Example')\n",
        "plt.scatter(x, B, marker='^', color='m')\n",
        "plt.show()"
      ],
      "execution_count": 0,
      "outputs": [
        {
          "output_type": "display_data",
          "data": {
            "image/png": "[encoded data removed]",
            "text/plain": [
              "<Figure size 432x288 with 1 Axes>"
            ]
          },
          "metadata": {
            "tags": [],
            "needs_background": "light"
          }
        }
      ]
    },
    {
      "cell_type": "markdown",
      "metadata": {
        "id": "5nrYVBrxHbcR",
        "colab_type": "text"
      },
      "source": [
        "Dessa maneira, podemos observar a distribuição dos valores no gráfico e de uma visão geral a dispersão entre eles.\n",
        "\n",
        "Porém, mesmo assim, não conseguimos tirar uma conclusão desses dados de uma maneira confiavel.\n",
        "É aqui que entra o uso das medidas de dispersão, vamos ve-la em seguida.\n",
        "\n"
      ]
    },
    {
      "cell_type": "markdown",
      "metadata": {
        "id": "QEMlAJuw5Syb",
        "colab_type": "text"
      },
      "source": [
        "\n",
        "\n",
        "---\n",
        "\n",
        "# Amplitude total"
      ]
    },
    {
      "cell_type": "markdown",
      "metadata": {
        "id": "ipByKyGx7qpS",
        "colab_type": "text"
      },
      "source": [
        "A amplitude total é uma medida de dispersão que pode ser definida como a diferença entre o maior e o valor menor de um grupo de observações. É a medida de dispersão mais simples.\n",
        "Pode ser simbolizada por \"A\" e é calculada da seguinte maneira:\n",
        "\n",
        "> A = Xmax - Xmin\n",
        " \n",
        "No qual **A** é o resultado da diferença entre o maior e o menor valor;\n",
        "\n",
        "**Xmax** é o maior valor;\n",
        "\n",
        "**Xmin** é o menor valor;\n",
        "\n",
        "\n",
        " ----\n",
        "\n",
        " Pegando os exemplos anteriores:\n",
        "\n",
        "  1. 20, 20, 20, 20, 20 \n",
        "  2. 15, 10, 20, 25, 30\n",
        "\n",
        "A amplitude total desses conjuntos será:\n",
        "\n",
        "**Conjunto A**: 20 - 20 = 0;\n",
        "\n",
        "**Conjunto B**: 30 - 15 = 15;\n",
        "\n",
        "###Vamos ao código fonte\n"
      ]
    },
    {
      "cell_type": "code",
      "metadata": {
        "id": "g2wN54yQzrGG",
        "colab_type": "code",
        "colab": {}
      },
      "source": [
        "# Criando uma série utilizando a biblioteca pandas (inicializada na parte de cima)\n",
        "A = pd.Series([20,20,20,20,20])\n",
        "B = pd.Series([15,10,20,25,30])"
      ],
      "execution_count": 0,
      "outputs": []
    },
    {
      "cell_type": "code",
      "metadata": {
        "id": "tPPwLoLpQAOs",
        "colab_type": "code",
        "colab": {}
      },
      "source": [
        "# Faz o cálculo da amplitude total\n",
        "amplitude_total_A = max(A) - min(A)\n",
        "amplitude_total_B = max(B) - min(B)"
      ],
      "execution_count": 0,
      "outputs": []
    },
    {
      "cell_type": "code",
      "metadata": {
        "id": "EbVleCg3QqhE",
        "colab_type": "code",
        "outputId": "d7103edd-53d9-41c4-bdaa-01336c819d7b",
        "colab": {
          "base_uri": "https://localhost:8080/",
          "height": 51
        }
      },
      "source": [
        "# Exibe os resultados\n",
        "print('A amplitude total de A é ', amplitude_total_A)\n",
        "print('A amplitude total de B é ', amplitude_total_B)"
      ],
      "execution_count": 0,
      "outputs": [
        {
          "output_type": "stream",
          "text": [
            "A amplitude total de A é  0\n",
            "A amplitude total de B é  20\n"
          ],
          "name": "stdout"
        }
      ]
    },
    {
      "cell_type": "markdown",
      "metadata": {
        "id": "XKyFMrcVRdhL",
        "colab_type": "text"
      },
      "source": [
        "### Desvantagem\n",
        "O cálculo da amplitude não é uma medida complete de variação, devido ao seu cálculo que utiliza somente dois valores de variações extremas."
      ]
    },
    {
      "cell_type": "markdown",
      "metadata": {
        "id": "vt6w49cJ5yRu",
        "colab_type": "text"
      },
      "source": [
        "\n",
        "\n",
        "---\n",
        "\n"
      ]
    },
    {
      "cell_type": "markdown",
      "metadata": {
        "id": "LAiBDPKyS6AT",
        "colab_type": "text"
      },
      "source": [
        "#Desvio médio\n",
        "O desvio absoluto médio de um conjunto de dados é a média das distâncias entre cada dado e a média. Ele nos dá uma noção da variabilidade em um conjunto de dados.\n",
        "\n",
        "[Referência Desvio Padrão](https://pt.khanacademy.org/math/statistics-probability/summarizing-quantitative-data/other-measures-of-spread/a/mean-absolute-deviation-mad-review)\n",
        "\n",
        "* Passo a passo\n",
        " \n",
        "\n",
        "1.   Primeiro faça o cálculo da média\n",
        "2.   Faça o cálculo da distância entre cada dado e a média usando distâncias positivas\n",
        "3. Faça a soma de todos esses resultados feitos anteriormente\n",
        "4. Divida a soma pelo número de dados\n",
        "\n",
        "\n",
        "---"
      ]
    },
    {
      "cell_type": "markdown",
      "metadata": {
        "id": "WOJtXCchh2G8",
        "colab_type": "text"
      },
      "source": [
        "## Exemplo 01\n",
        "Pegando o exemplo do conjunto B: 15, 10, 20, 25, 30\n",
        "\n",
        "Digamos que esse conjunto seja o número de curtidas dadas em cinco fotos publicadas em uma rede social.\n",
        "\n",
        "Primeiro fazemos a média desse conjunto.\n",
        "\n",
        "(15+10+20+25+30)/5 = 20\n",
        "\n",
        "Agora o cálculo da distância entre cada dados:\n",
        "\n",
        "Dado | Distância da média\n",
        "\n",
        " 15 | 15 - 20 | = 5\n",
        "\n",
        " 10 | 10 - 20 | = 10\n",
        "\n",
        " 20 | 20 - 20 | = 0\n",
        "\n",
        " 25 | 25 - 20 | = 5\n",
        "\n",
        " 30 | 30 - 20 | = 10\n",
        "\n",
        "* Agora some todas as distância\n",
        "\n",
        "(5 + 10 + 0 + 5 + 10) = 30\n",
        "\n",
        "* Agora pegue a soma e divida pela quantidade\n",
        "\n",
        "30 / 5 = 6\n",
        "\n",
        "Logo, o desvio médio é de 6 curtidas. Então na média, cada fotos publicada ficou 6 curtidas fora da média."
      ]
    },
    {
      "cell_type": "markdown",
      "metadata": {
        "id": "tbPx8wtW1gxI",
        "colab_type": "text"
      },
      "source": [
        "## Exemplo em código"
      ]
    },
    {
      "cell_type": "code",
      "metadata": {
        "id": "6c0g2LhNyvy_",
        "colab_type": "code",
        "colab": {}
      },
      "source": [
        "import pandas as pd\n",
        "import statistics as sta"
      ],
      "execution_count": 0,
      "outputs": []
    },
    {
      "cell_type": "code",
      "metadata": {
        "id": "khMj6e4M04mT",
        "colab_type": "code",
        "outputId": "972576fb-79a6-4401-e9d7-e35d8c233f83",
        "colab": {
          "base_uri": "https://localhost:8080/",
          "height": 34
        }
      },
      "source": [
        "numero_curtidas = pd.Series([15,10,20,25,30])\n",
        "print(numero_curtidas.mad())"
      ],
      "execution_count": 0,
      "outputs": [
        {
          "output_type": "stream",
          "text": [
            "6.0\n"
          ],
          "name": "stdout"
        }
      ]
    },
    {
      "cell_type": "markdown",
      "metadata": {
        "id": "8UR5ruJIS-3B",
        "colab_type": "text"
      },
      "source": [
        "\n",
        "\n",
        "---\n",
        "#Variância\n",
        "A variância é uma medida de dispersão que mostra quão distantes os valores estão da média. \n",
        "\n",
        "Vamos fazer uma tabela simples, apenas para ilustrar os dados\n"
      ]
    },
    {
      "cell_type": "code",
      "metadata": {
        "id": "jRH3ADfwM8xi",
        "colab_type": "code",
        "colab": {}
      },
      "source": [
        "# Importando o pandas\n",
        "import pandas as pd"
      ],
      "execution_count": 0,
      "outputs": []
    },
    {
      "cell_type": "code",
      "metadata": {
        "id": "Tp9gTbRbNL9Y",
        "colab_type": "code",
        "outputId": "b007b86a-2a78-4408-bdba-28dbdc4f21dc",
        "colab": {
          "base_uri": "https://localhost:8080/",
          "height": 102
        }
      },
      "source": [
        "# Define os indices (valores) para cada coluna\n",
        "funcionarios = {\n",
        "    'Segunda' : [10, 12, 10, 15],\n",
        "    'Terça' : [12, 15, 10, 12],\n",
        "    'Quarta' : [9, 8, 15, 2],\n",
        "    'Quinta' : [10, 9, 6, 10],\n",
        "    'Sexta' : [10, 10, 14, 15]\n",
        "}\n",
        "\n",
        "# Declara uma variável para realizar a passagem de parametros\n",
        "tabela = pd.DataFrame(funcionarios, columns=['Segunda', 'Terça', 'Quarta', 'Quinta', \n",
        "                                             'Sexta'], index=['A', 'B', 'C', 'D'])\n",
        "\n",
        "#Exibe a tabela\n",
        "print(tabela);\n"
      ],
      "execution_count": 0,
      "outputs": [
        {
          "output_type": "stream",
          "text": [
            "   Segunda  Terça  Quarta  Quinta  Sexta\n",
            "A       10     12       9      10     10\n",
            "B       12     15       8       9     10\n",
            "C       10     10      15       6     14\n",
            "D       15     12       2      10     15\n"
          ],
          "name": "stdout"
        }
      ]
    },
    {
      "cell_type": "markdown",
      "metadata": {
        "id": "iqPPiTnpNLtW",
        "colab_type": "text"
      },
      "source": [
        "Agora que temos uma tabela simples, vamos analisa-la.\n",
        "Nesta tabela de funcionarios foi posto o número de produção de cada um ao longo da semana. O gerente quer verificar qual a média das produções.\n",
        "\n",
        "Um primeira abordagem seria realizar a média de cada funcionário\n"
      ]
    },
    {
      "cell_type": "code",
      "metadata": {
        "id": "Wd7qgP60PFbC",
        "colab_type": "code",
        "colab": {}
      },
      "source": [
        "# Aqui estamos acrescentando uma nova coluna média ao DataFrame\n",
        "tabela['média'] = tabela.mean(axis=1)"
      ],
      "execution_count": 0,
      "outputs": []
    },
    {
      "cell_type": "code",
      "metadata": {
        "id": "HpH4T_tbPmQ4",
        "colab_type": "code",
        "outputId": "769a8575-fc06-4260-efc2-c835236c2d2d",
        "colab": {
          "base_uri": "https://localhost:8080/",
          "height": 102
        }
      },
      "source": [
        "print(tabela)"
      ],
      "execution_count": 0,
      "outputs": [
        {
          "output_type": "stream",
          "text": [
            "   Segunda  Terça  Quarta  Quinta  Sexta  média\n",
            "A       10     12       9      10     10   10.2\n",
            "B       12     15       8       9     10   10.8\n",
            "C       10     10      15       6     14   11.0\n",
            "D       15     12       2      10     15   10.8\n"
          ],
          "name": "stdout"
        }
      ]
    },
    {
      "cell_type": "markdown",
      "metadata": {
        "id": "BciWZZftP86H",
        "colab_type": "text"
      },
      "source": [
        "Ok, depois de termos feito isso, podemos tirar algumas conclusões com a média dada.\n",
        "Por exemplo, o funcionário C tem uma média de 14, porém se analisarmos a distribuição verificamos que na terça-feira ele fez 26 peças, muito acima do que foi feito na quinta-feira.\n",
        "\n",
        "Será que usar somente o média é o suficiente para analisarmos melhor esses dados?\n",
        "\n",
        "Aqui, iremos utilizar a medida de dispersão Variância, que basicamente nos informa o quão distante estamos da média informada.\n",
        "\n",
        "Para calcular a variância temos que obter a média de cada funcionário (já fizemos acima) e depois para cada item na linha, temos que o seguinte cálculo:\n",
        "\n",
        "* Primeiro, pegue o valor e subtraia pela média;\n",
        "* Com esse valor dado pela subtração, iremos elevar ao quadrado;\n",
        "* Após esse resultado, iremos somar esse valor com o próximo item, realizando o mesmo cálculo;\n",
        "* Ao final, temos que dividir pela quantidade total.\n",
        "\n",
        "###Exemplo de variância\n",
        "\n",
        "[Como fazer variância](http://www.datasciencemadesimple.com/variance-function-python-pandas-dataframe-row-column-wise-variance/)"
      ]
    },
    {
      "cell_type": "code",
      "metadata": {
        "id": "txWohpxZWHMz",
        "colab_type": "code",
        "outputId": "cdec6ebc-bf4d-4911-8e2d-8197014404e2",
        "colab": {
          "base_uri": "https://localhost:8080/",
          "height": 85
        }
      },
      "source": [
        "# Vamos fazer para a primeira linha\n",
        "var_func_A = ( ((10 - 10.2)**2 + (12 - 10.2)**2 + (9 - 10.2)**2 + (10 - 10.2)**2 + (10 - 10.2)**2) / 5)\n",
        "var_func_B = ( ((12 - 10.8)**2 + (15 - 10.8)**2 + (8 - 10.8)**2 + (9 - 10.8)**2 + (10 - 10.8)**2) / 5)\n",
        "var_func_C = ( ((10 - 11)**2 + (10 - 11)**2 + (15 - 11)**2 + (6 - 11)**2 + (14 - 11)**2) / 5)\n",
        "var_func_D = ( ((15 - 10.8)**2 + (12 - 10.8)**2 + (2 - 10.8)**2 + (10 - 10.8)**2 + (15 - 10.8)**2) / 5)\n",
        "\n",
        "print(round(var_func_A, 2))\n",
        "print(round(var_func_B, 2))\n",
        "print(round(var_func_C, 2))\n",
        "print(round(var_func_D, 2))"
      ],
      "execution_count": 0,
      "outputs": [
        {
          "output_type": "stream",
          "text": [
            "0.96\n",
            "6.16\n",
            "10.4\n",
            "22.96\n"
          ],
          "name": "stdout"
        }
      ]
    },
    {
      "cell_type": "markdown",
      "metadata": {
        "id": "Tb6cNMUCYRWH",
        "colab_type": "text"
      },
      "source": [
        "###Usando função var do numpy"
      ]
    },
    {
      "cell_type": "code",
      "metadata": {
        "id": "vnm1D4a8YVdz",
        "colab_type": "code",
        "colab": {}
      },
      "source": [
        "#Importando a biblioteca numpy\n",
        "import numpy as np"
      ],
      "execution_count": 0,
      "outputs": []
    },
    {
      "cell_type": "code",
      "metadata": {
        "id": "_35yELTdYojK",
        "colab_type": "code",
        "outputId": "698b4c07-7004-4cc7-d515-2bdb81fa31ac",
        "colab": {
          "base_uri": "https://localhost:8080/",
          "height": 119
        }
      },
      "source": [
        "# Faço o cálculo da usando a função var, o parametro axis=1 é para fazermos o cálculo por linha\n",
        "# por padrão ele faz o cálculo por coluna\n",
        "var_func_com_funcao = tabela.var(axis=1)\n",
        "print('Resultados')\n",
        "print(var_func_com_funcao)"
      ],
      "execution_count": 0,
      "outputs": [
        {
          "output_type": "stream",
          "text": [
            "Resultados\n",
            "A     0.96\n",
            "B     6.16\n",
            "C    10.40\n",
            "D    22.96\n",
            "dtype: float64\n"
          ],
          "name": "stdout"
        }
      ]
    },
    {
      "cell_type": "markdown",
      "metadata": {
        "id": "8PR6iIgacY2L",
        "colab_type": "text"
      },
      "source": [
        "### Resultados\n",
        "Com esses resultados podemos interpretar que para o funcionário C e D, é desigual, dado o resultado da alta variação de suas produções ao longo da semana.\n",
        "Outra conclusão de tiramos é que o funcionário A é que tem a distribuição mais uniforme entre os funcionários.\n",
        "\n",
        "Em algumas situação, apenas o cálculo da viarância não é o suficiente, pois é uma medida que é influencia muito pelos valores que estão muito distantes. Além disso, pela variância utilizar o método de elevar os valores ao quadrado pode causar uma camuflagem nos valores.\n",
        "\n",
        "Para uma interpretação mais aprimorada pode-se usar uma medida de dispersão conhecida como desvio padrão que basicamente é pegar o resultado da variância e pegar a raiz quadrada desse valor.  \n",
        "\n",
        "\n",
        "---"
      ]
    },
    {
      "cell_type": "markdown",
      "metadata": {
        "id": "I_PZLk-CTDNe",
        "colab_type": "text"
      },
      "source": [
        "\n",
        "#Desvio padrão\n",
        "O desvio padrão é uma medida de dispersão em torno da média populacional.  \n",
        "> * Um baixo desvio padrão indica que os pontos dos dados tendem a estar próximos da média ou do valor esperado.\n",
        "* Um alto desvio padrão indica que os pontos dos dados estão espalhados por uma ampla gama de valores. \n",
        "\n",
        "O desvio padrão populacional ou amostral é a raiz quadrada da variância populacional ou amostral correspondente, de modo a ser uma medida de dispersão que seja um número não negativo e que use a mesma unidade de medida dos dados fornecidos.\n",
        "O desvio padrão é calculado com a raiz quadrada da variância e também mostra como os dados se dispersão em relação a média.\n",
        "\n"
      ]
    },
    {
      "cell_type": "markdown",
      "metadata": {
        "id": "5EhI7MXilILX",
        "colab_type": "text"
      },
      "source": [
        "\n",
        "## Cálculo do desvio padrão\n",
        "Antes de fazer o desvio padrão temos que ter o resultado da variância, como já fizemos no capitulo anterior, vamos reutiliza-los aqui.\n",
        "\n",
        "Antes de utilizarmos as funçoes espcificas no python, vamos faze-las 'manualmente'"
      ]
    },
    {
      "cell_type": "code",
      "metadata": {
        "id": "s5bss4lfkzVU",
        "colab_type": "code",
        "outputId": "bbdb78d4-9455-410d-d81a-90085dad3b36",
        "colab": {
          "base_uri": "https://localhost:8080/",
          "height": 85
        }
      },
      "source": [
        "#As variavéis abaixo já tem os resultados da variância\n",
        "print(round(var_func_A, 2))\n",
        "print(round(var_func_B, 2))\n",
        "print(round(var_func_C, 2))\n",
        "print(round(var_func_D, 2))"
      ],
      "execution_count": 0,
      "outputs": [
        {
          "output_type": "stream",
          "text": [
            "0.96\n",
            "6.16\n",
            "10.4\n",
            "22.96\n"
          ],
          "name": "stdout"
        }
      ]
    },
    {
      "cell_type": "code",
      "metadata": {
        "id": "G77Ck5Nimqve",
        "colab_type": "code",
        "outputId": "785c724d-021f-446e-aebf-6c88484c075b",
        "colab": {
          "base_uri": "https://localhost:8080/",
          "height": 102
        }
      },
      "source": [
        "#Agora vamos simplesmente tirar a raiz quadrada\n",
        "dp_func_A = var_func_A**0.5\n",
        "dp_func_B = var_func_B**0.5\n",
        "dp_func_C = var_func_C**0.5\n",
        "dp_func_D = var_func_D**0.5\n",
        "\n",
        "print('Resultados desvio padrão');\n",
        "print(round(dp_func_A, 2))\n",
        "print(round(dp_func_B, 2))\n",
        "print(round(dp_func_C, 2))\n",
        "print(round(dp_func_D, 2))"
      ],
      "execution_count": 0,
      "outputs": [
        {
          "output_type": "stream",
          "text": [
            "Resultados desvio padrão\n",
            "0.98\n",
            "2.48\n",
            "3.22\n",
            "4.79\n"
          ],
          "name": "stdout"
        }
      ]
    },
    {
      "cell_type": "markdown",
      "metadata": {
        "id": "GmuVEvkNow_O",
        "colab_type": "text"
      },
      "source": [
        "## Interpretação\n",
        "Para concluir esse relatório ficticio, poderiamos concluir como:\n",
        "\n",
        "* Funcionário A: Média +- desvio padrão\n",
        "\n",
        "* Funcionário B: Média +- desvio padrão\n",
        "\n",
        "* Funcionário C: Média +- desvio padrão\n",
        "\n",
        "* Funcionário D: Média +- desvio padrão\n",
        "\n",
        "Logo, podemos definir como:\n",
        "\n",
        "\n",
        "* Funcionário A: 10.2 +- 0.96\n",
        "\n",
        "* Funcionário A: 10.8 +- 2.48\n",
        "\n",
        "* Funcionário A: 11.0 +- 3.22\n",
        "\n",
        "* Funcionário A: 10.8 +- 4.79"
      ]
    },
    {
      "cell_type": "markdown",
      "metadata": {
        "id": "EgjWAH2wKcMT",
        "colab_type": "text"
      },
      "source": [
        "#Referências\n",
        "[Documentação biblioteca estatistica](https://docs.python.org/pt-br/3/library/statistics.html#)\n",
        "\n",
        "[Python statistics](https://code.tutsplus.com/pt/tutorials/mathematical-modules-in-python-statistics--cms-27750)"
      ]
    },
    {
      "cell_type": "code",
      "metadata": {
        "id": "Ojyi45aAKi1M",
        "colab_type": "code",
        "colab": {}
      },
      "source": [
        ""
      ],
      "execution_count": 0,
      "outputs": []
    }
  ]
}