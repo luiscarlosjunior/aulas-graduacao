{
  "nbformat": 4,
  "nbformat_minor": 0,
  "metadata": {
    "colab": {
      "name": "00-Inicio_Python.ipynb",
      "provenance": []
    },
    "kernelspec": {
      "display_name": "Python 3",
      "language": "python",
      "name": "python3"
    },
    "language_info": {
      "codemirror_mode": {
        "name": "ipython",
        "version": 3
      },
      "file_extension": ".py",
      "mimetype": "text/x-python",
      "name": "python",
      "nbconvert_exporter": "python",
      "pygments_lexer": "ipython3",
      "version": "3.7.9"
    }
  },
  "cells": [
    {
      "cell_type": "markdown",
      "metadata": {
        "id": "ML2Rz6MPo1rX"
      },
      "source": [
        "# Introdução a Linguagem Python \n"
      ]
    },
    {
      "cell_type": "markdown",
      "metadata": {
        "id": "53rB5UP4o1pb"
      },
      "source": [
        "## O que é Python?\n",
        "\n",
        "Python é uma linguagem de programação dinâmica de alto nível, interpreta, e de proprósito de uso geral [linguagens de alto nivel](https://www.infoescola.com/engenharia-de-software/linguagem-de-programacao-de-alto-nivel/)\n",
        "\n",
        "Para mais detalhes acesse o link [história do Python](https://pt.wikipedia.org/wiki/Python#Hist%C3%B3ria). \n",
        "\n",
        "Como diz o excelente livro iterativo \"[Como Pensar Como um Cientista da Computação](https://panda.ime.usp.br/pensepy/static/pensepy/index.html)\", onde recomento fortemente a leitura: \"Programas escritos em linguagens de alto nível precisam ser processados antes que possam rodar\" ou seja, precisamos de uma compilador, no caso do python de um interpretador, no qual consistem em um programa que interpreta a linguagem para que o computador consiga entender, em outras palavras, o compilador/interpretador transforma uma linguagem de alto nível para uma [linguagem de baixo nível](https://www.sos.com.br/noticias/tecnologia/o-que-e-linguagem-de-programacao-de-alto-nivel-e-de-baixo-nivel). \n",
        "\n",
        "Veja uma discussão no [stackoverflow](https://stackoverflow.com/questions/2377273/how-does-an-interpreter-compiler-work#:~:text=An%20interpreter%20is%20also%20a%20program%20that%20translates,then%20instruct%20the%20interpreter%20to%20run%20the%20program.) de como um compilador/interpretador funciona.\n",
        "\n",
        "Existem duas formas para de escrita de um código python, atráves de linha de comando o chamado shell mode, ou modeo script.\n",
        "O modeo linha de comando o programa necessita de um compiador onde voce pode executar na mesma hora o seu código atrávés de um terminal. \n",
        "\n",
        "Nesse curso iremos usar o [Colab](https://colab.research.google.com/) para executarmos os nossos códigos. Basta criar uma conta gmail para ter acesso"
      ]
    },
    {
      "cell_type": "markdown",
      "metadata": {
        "id": "rvCQY8XxpcrE"
      },
      "source": [
        "## Ferramenta utilizada (Colab)\n",
        "\n",
        "O Colab é dividido em células, onde usaremos cada uma delas para compilar os nossos códigos. Vamos criar um exemplo simples de código na célula a seguir: "
      ]
    },
    {
      "cell_type": "code",
      "metadata": {
        "colab": {
          "base_uri": "https://localhost:8080/"
        },
        "id": "s3l1FMwLpcKn",
        "outputId": "dc28751d-d408-4308-99af-52b435648d4c"
      },
      "source": [
        "print(\"Olá, Mundo\")"
      ],
      "execution_count": 1,
      "outputs": [
        {
          "output_type": "stream",
          "text": [
            "Olá, Mundo\n"
          ],
          "name": "stdout"
        }
      ]
    },
    {
      "cell_type": "code",
      "metadata": {
        "colab": {
          "base_uri": "https://localhost:8080/"
        },
        "id": "eHIrYwTIpWOR",
        "outputId": "f52e79f4-0e94-4721-fc38-5e8802e4bb15"
      },
      "source": [
        "print(\"Meu primeiro programa soma os numeros 2 e 3:\")\n",
        "print(2 + 3)"
      ],
      "execution_count": 2,
      "outputs": [
        {
          "output_type": "stream",
          "text": [
            "Meu primeiro programa soma os numeros 2 e 3:\n",
            "5\n"
          ],
          "name": "stdout"
        }
      ]
    },
    {
      "cell_type": "markdown",
      "metadata": {
        "id": "Q4pijBvCppgc"
      },
      "source": [
        "Note que usamos a função \"print()\" para escrever na saída o resultado que queremos, no caso a soma de 2 + 3.\n"
      ]
    },
    {
      "cell_type": "markdown",
      "metadata": {
        "id": "xRoPmQLMptCe"
      },
      "source": [
        "## Sintaxe da linguagem Python\n",
        "\n",
        "Antes de começarmos a programar em python, vale a pena dar uma olhada de como funciona a sintaxe do python. Segue um link abaixo para referência.\n",
        "\n",
        "[Introdução sintaxe do python](https://pt.wikipedia.org/wiki/Sintaxe_e_sem%C3%A2ntica_de_Python#:~:text=A%20sintaxe%20da%20linguagem%20de%20programa%C3%A7%C3%A3o%20Python%20%C3%A9,foi%20concebido%20para%20ser%20uma%20linguagem%20altamente%20leg%C3%ADvel.)\n",
        "\n",
        "Agora vamos falar um pouco sobre tipos de dados e variáveis no Python, Let's code!"
      ]
    },
    {
      "cell_type": "markdown",
      "metadata": {
        "id": "86tO366OL-Jh"
      },
      "source": [
        "#Python Comentários\n",
        "\n",
        "Comentários podem ser usados para explicar o código Python.\n",
        "\n"
      ]
    },
    {
      "cell_type": "code",
      "metadata": {
        "colab": {
          "base_uri": "https://localhost:8080/",
          "height": 34
        },
        "id": "rJMqjaWJMTir",
        "outputId": "f927c41b-caed-4b45-a917-38cf74b83c1e"
      },
      "source": [
        "#This is a comment\n",
        "print(\"Hello, World!\")"
      ],
      "execution_count": null,
      "outputs": [
        {
          "output_type": "stream",
          "text": [
            "Hello, World!\n"
          ],
          "name": "stdout"
        }
      ]
    },
    {
      "cell_type": "markdown",
      "metadata": {
        "id": "QMfnUNxwMeBD"
      },
      "source": [
        "\n",
        "Comentários podem ser colocados no final da linha, e o Pytfon irá ignorar o restnate da linha:\n"
      ]
    },
    {
      "cell_type": "code",
      "metadata": {
        "colab": {
          "base_uri": "https://localhost:8080/",
          "height": 34
        },
        "id": "YfzLyd6nMvfr",
        "outputId": "7ceed64a-7e6a-4705-f393-6979e658a973"
      },
      "source": [
        "print(\"Hello, World!\") #This is a comment"
      ],
      "execution_count": null,
      "outputs": [
        {
          "output_type": "stream",
          "text": [
            "Hello, World!\n"
          ],
          "name": "stdout"
        }
      ]
    },
    {
      "cell_type": "markdown",
      "metadata": {
        "id": "fplVuKLHM5xU"
      },
      "source": [
        "Multi Comentários\n",
        "\n",
        "Python não tem sintaxe para várias linhas de comentário. Para adicionar várias linhas com comentário vocÊ pode inserir # para cada linha:\n",
        "\n"
      ]
    },
    {
      "cell_type": "code",
      "metadata": {
        "colab": {
          "base_uri": "https://localhost:8080/",
          "height": 34
        },
        "id": "WPnjzLIrNYKc",
        "outputId": "a6678a3d-dc52-433e-bb3d-70828e57e770"
      },
      "source": [
        "#This is a comment\n",
        "#written in\n",
        "#more than just one line\n",
        "print(\"Hello, World!\")"
      ],
      "execution_count": null,
      "outputs": [
        {
          "output_type": "stream",
          "text": [
            "Hello, World!\n"
          ],
          "name": "stdout"
        }
      ]
    },
    {
      "cell_type": "markdown",
      "metadata": {
        "id": "gSJgN4A-NiZy"
      },
      "source": [
        "#Variáveis Python \n",
        "\n",
        "### Criando variáveis\n",
        "\n",
        "Variáveis ​​são contêineres usados para armazenar valores de dados. Diferente de outras linguagens de programação, o Python não tem comando para declarar uma variável. Uma variável é criada no momento em que você atribui um valor a ela."
      ]
    },
    {
      "cell_type": "code",
      "metadata": {
        "colab": {
          "base_uri": "https://localhost:8080/"
        },
        "id": "yCpIMYgbN5o6",
        "outputId": "696a890e-ccb7-4fb5-be2b-75759adf0c19"
      },
      "source": [
        "# Example\n",
        "x = 5\n",
        "y = \"Rubens\"\n",
        "print(x)\n",
        "print(y)"
      ],
      "execution_count": 3,
      "outputs": [
        {
          "output_type": "stream",
          "text": [
            "5\n",
            "Rubens\n"
          ],
          "name": "stdout"
        }
      ]
    },
    {
      "cell_type": "markdown",
      "metadata": {
        "id": "dEIhsF6lOGCC"
      },
      "source": [
        "As variáveis ​​não precisam ser declaradas com nenhum tipo específico e podem até mudar de tipo após serem definidas."
      ]
    },
    {
      "cell_type": "code",
      "metadata": {
        "colab": {
          "base_uri": "https://localhost:8080/"
        },
        "id": "hKk17aMhOHOy",
        "outputId": "5f8f8c29-30bf-4d0b-dfba-096a3f3466b0"
      },
      "source": [
        "x = 4 # x é do tipo int\n",
        "x = \"Sally\" # x agora é do tipo str (string - sequência de caracteres)\n",
        "print(x)"
      ],
      "execution_count": 4,
      "outputs": [
        {
          "output_type": "stream",
          "text": [
            "Sally\n"
          ],
          "name": "stdout"
        }
      ]
    },
    {
      "cell_type": "markdown",
      "metadata": {
        "id": "93TnHqFuOT-Z"
      },
      "source": [
        "As variáveis ​​de sequência podem ser declaradas usando aspas simples ou duplas:\n"
      ]
    },
    {
      "cell_type": "code",
      "metadata": {
        "id": "1j7aiAGbOU6D"
      },
      "source": [
        "x = \"John\"\n",
        "# É o mesmo\n",
        "x = 'John'"
      ],
      "execution_count": 5,
      "outputs": []
    },
    {
      "cell_type": "markdown",
      "metadata": {
        "id": "sl67FoAtOgth"
      },
      "source": [
        "#Tipos de dados Python \n",
        "\n",
        "Na programação, o tipo de dados é um conceito importante. Variáveis ​​podem armazenar dados de tipos diferentes e tipos diferentes podem fazer coisas diferentes. O Python possui os seguintes tipos de dados embutidos por padrão, nestas categorias:\n",
        "\n",
        "Text Type:\tstr\n",
        "Numeric Types:\tint, float, complex\n",
        "Sequence Types:\tlist, tuple, range\n",
        "Mapping Type:\tdict\n",
        "Set Types:\tset, frozenset\n",
        "Boolean Type:\tbool\n",
        "Binary Types:\tbytes, bytearray, memoryview\n",
        "\n"
      ]
    },
    {
      "cell_type": "markdown",
      "metadata": {
        "id": "xfbYNXFdO91J"
      },
      "source": [
        "\n",
        "Obtendo o tipo de dados\n",
        "Você pode obter o tipo de dados de qualquer objeto usando a função type ():"
      ]
    },
    {
      "cell_type": "code",
      "metadata": {
        "colab": {
          "base_uri": "https://localhost:8080/",
          "height": 34
        },
        "id": "UTg5Ihn5PAQ6",
        "outputId": "ebd68a24-5e0e-44d2-8277-a20e29995505"
      },
      "source": [
        "x = 5\n",
        "print(type(x))\n",
        "\n",
        "# Com str\n",
        "print(type('Esse e um string.') )\n",
        "print(type(\"E esse tambem eh um string.\") )\n",
        "print(type(\"\"\"e esse.\"\"\") )\n",
        "print(type('''e mesmo esse...''') )"
      ],
      "execution_count": null,
      "outputs": [
        {
          "output_type": "stream",
          "text": [
            "<class 'int'>\n"
          ],
          "name": "stdout"
        }
      ]
    },
    {
      "cell_type": "markdown",
      "metadata": {
        "id": "EF7dVOAPqasC"
      },
      "source": [
        "### Conversão de tipo de dados\n",
        "\n",
        "Podemos converter os tipos usando algumas funções que transformam valores para diferentes tipos, elas são chamadas de funções para conversão de valores. \n",
        "\n",
        "Essas funções são: int(),float() e str(). Elas convertem para números inteiros, decimeis e para strings, respectivamente. Abaixo seguem alguns exemplos:"
      ]
    },
    {
      "cell_type": "code",
      "metadata": {
        "colab": {
          "base_uri": "https://localhost:8080/"
        },
        "id": "1sJCVMVgqko4",
        "outputId": "f3e45b12-66f4-4517-8021-a0ccc1245c95"
      },
      "source": [
        "print(3.14, int(3.14))\n",
        "print(3.9999, int(3.9999))       # Isto não arredonda para o inteiro mais próximo\n",
        "print(3.0,int(3.0))\n",
        "print(-3.999,int(-3.999))        # Observe que o resultado está mais próximo de zero"
      ],
      "execution_count": 6,
      "outputs": [
        {
          "output_type": "stream",
          "text": [
            "3.14 3\n",
            "3.9999 3\n",
            "3.0 3\n",
            "-3.999 -3\n"
          ],
          "name": "stdout"
        }
      ]
    },
    {
      "cell_type": "markdown",
      "metadata": {
        "id": "vO3K8Un6PKVZ"
      },
      "source": [
        "Definindo o tipo de dados\n",
        "No Python, o tipo de dados é definido quando você atribui um valor a uma variável:"
      ]
    },
    {
      "cell_type": "code",
      "metadata": {
        "id": "nvxNHV6DPLkJ"
      },
      "source": [
        "x = \"Hello World\"\tstr\t\n",
        "x = 20\tint\t\n",
        "x = 20.5\tfloat\t\n",
        "x = 1j\tcomplex\t\n",
        "x = [\"apple\", \"banana\", \"cherry\"]\tlist\t\n",
        "x = (\"apple\", \"banana\", \"cherry\")\ttuple\t\n",
        "x = range(6)\trange\t\n",
        "x = {\"name\" : \"John\", \"age\" : 36}\tdict\t\n",
        "x = {\"apple\", \"banana\", \"cherry\"}\tset\t\n",
        "x = frozenset({\"apple\", \"banana\", \"cherry\"})\tfrozenset\t\n",
        "x = True\tbool\t\n",
        "x = b\"Hello\"\tbytes\t\n",
        "x = bytearray(5)\tbytearray\t\n",
        "x = memoryview(bytes(5)) memoryview"
      ],
      "execution_count": null,
      "outputs": []
    },
    {
      "cell_type": "markdown",
      "metadata": {
        "id": "uk9qe082rAVK"
      },
      "source": [
        "# Operadores\n",
        "\n",
        "Os operadores são símbolos usados na construção de expressões, as quais contém um número variado de operandos. Por exemplo, na expressão a + b, temos o operador de aritmético + e operandos são as variáveis a e b. \n",
        "\n",
        "Há diversos tipos de operadores em programação. Alguns exemplos são:\n",
        "\n",
        "* Operadores aritméticos\n",
        "* Operadores de atribuição\n",
        "* Operadores de comparação\n",
        "* Operadores lógicos\n",
        "* Operadores de identidade\n",
        "* Operadores de associação"
      ]
    },
    {
      "cell_type": "markdown",
      "metadata": {
        "id": "d6vXLCNCrHNG"
      },
      "source": [
        "## Operadores Aritméticos\n",
        "\n",
        "Esses tipos de operadores simbolizam operações matemáticas dentro da linguagem Python, por exemplo, adição, multiplicação e divisão. Segue alguns exemplos:  \n",
        "\n",
        "### Tabela de exemplos operadores aritméticos\n",
        "\n",
        "\n",
        "|Nome  | Simbolo| Exemplo|\n",
        "|----  |----    |----    |\n",
        "|Adição|    +   | a + b  |\n",
        "|Subtração|    -   | a - b  |\n",
        "|Multiplicação|    \\*   | a * b  |\n",
        "|Exponenciação|    **   | a ** b  |\n",
        "|Divisão|    /   | a / b  |"
      ]
    },
    {
      "cell_type": "code",
      "metadata": {
        "colab": {
          "base_uri": "https://localhost:8080/"
        },
        "id": "hjs-Drl5rJX3",
        "outputId": "12f0055f-c5e5-4c21-87b5-89d3c4db826c"
      },
      "source": [
        "hora = 2\n",
        "minutos = 12\n",
        "\n",
        "#Adição \n",
        "print(20 + 32)\n",
        "#Multiplicação com Subtração\n",
        "print(hora * 60 - minutos)\n",
        "#Divisão\n",
        "print(minutos / 60)\n",
        "#Exponenciação\n",
        "print(5 ** 2)\n",
        "#Equações em geral\n",
        "print((5 + 9) * (15 - 7))\n",
        "\n",
        "# Mais exemplos\n",
        "print(2 + 3)\n",
        "print(2 - 3)\n",
        "print(2 * 3)\n",
        "print(2 ** 3)\n",
        "print(3 ** 2)"
      ],
      "execution_count": 7,
      "outputs": [
        {
          "output_type": "stream",
          "text": [
            "52\n",
            "108\n",
            "0.2\n",
            "25\n",
            "112\n",
            "5\n",
            "-1\n",
            "6\n",
            "8\n",
            "9\n"
          ],
          "name": "stdout"
        }
      ]
    },
    {
      "cell_type": "markdown",
      "metadata": {
        "id": "272PEso9rdD6"
      },
      "source": [
        "\n",
        "\n",
        "---\n",
        "\n"
      ]
    },
    {
      "cell_type": "markdown",
      "metadata": {
        "id": "Wvf3hUanre8r"
      },
      "source": [
        "# Controle de fluxo\n",
        "\n",
        "São maneiras de controlar o fluxo da tomada de decisão e é necessária quando queremos executar um código somente se uma determinada condição estiver satisfeita.\n",
        "\n",
        "Exemplo da sintaxe genérica do if em Python:\n",
        "```python\n",
        "if test expression:\n",
        "    statement(s)\n",
        "```\n",
        "\n",
        "Abaixo iremos realizar alguns exemplos e testes."
      ]
    },
    {
      "cell_type": "markdown",
      "metadata": {
        "id": "lQkj8Uw9PrDt"
      },
      "source": [
        "#Python If ... Else\n",
        "\n",
        "O Python suporta as condições lógicas usuais da matemática:\n",
        "\n",
        "É igual a: a == b\n",
        "\n",
        "Diferente: a! = B\n",
        "\n",
        "Menor que: a <b\n",
        "\n",
        "Menor ou igual a: a <= b\n",
        "\n",
        "Maior que: a> b\n",
        "\n",
        "Maior ou igual a: a> = b\n",
        "\n",
        "Essas condições podem ser usadas de várias maneiras, mais comumente em \"instruções if\" e loops.\n",
        "\n",
        "Uma \"declaração if\" é escrita usando a palavra-chave if."
      ]
    },
    {
      "cell_type": "code",
      "metadata": {
        "colab": {
          "base_uri": "https://localhost:8080/"
        },
        "id": "oCzY8MiNP6sx",
        "outputId": "6e604477-66e8-409f-acce-9771e821e061"
      },
      "source": [
        "a = 33\n",
        "b = 200\n",
        "if b > a:\n",
        "  print(\"b é maior do que a\")"
      ],
      "execution_count": 11,
      "outputs": [
        {
          "output_type": "stream",
          "text": [
            "b é maior do que a\n"
          ],
          "name": "stdout"
        }
      ]
    },
    {
      "cell_type": "markdown",
      "metadata": {
        "id": "l5mtYw08P8V6"
      },
      "source": [
        "Neste exemplo, usamos duas variáveis, a e b, que são usadas como parte da instrução if para testar se b é maior que a. Como a é 33 e b é 200, sabemos que 200 é maior que 33 e, portanto, imprimimos na tela que \"b é maior que a\"."
      ]
    },
    {
      "cell_type": "code",
      "metadata": {
        "colab": {
          "base_uri": "https://localhost:8080/"
        },
        "id": "No5waAJbryW3",
        "outputId": "54349c59-0cd2-4fbd-b092-779b6dd1bc67"
      },
      "source": [
        "# Se um número é positivo, iremos exibi-lo.\n",
        "\n",
        "num = 3\n",
        "if num > 0:\n",
        "    print(num, \"É positivo.\")\n",
        "print(\"Isso sempre irá ser impresso.\")\n",
        "\n",
        "num = -1\n",
        "if num > 0:\n",
        "    print(num, \"É positivo.\")\n",
        "print(\"Isso sempre irá ser impresso.\")"
      ],
      "execution_count": 12,
      "outputs": [
        {
          "output_type": "stream",
          "text": [
            "3 É positivo.\n",
            "Isso sempre irá ser impresso.\n",
            "Isso sempre irá ser impresso.\n"
          ],
          "name": "stdout"
        }
      ]
    },
    {
      "cell_type": "markdown",
      "metadata": {
        "id": "cCw-cjy4r6Nz"
      },
      "source": [
        "Veja, no exemplo acima, somente a primeira declaração foi exibdo, mas por quê?\n",
        "\n",
        "O que acontece é estamos validando uma pergunta feita através da declaração **if**, a condição testada foi num > 0, nesse caso, como a variável num estava definida como 3, então a condição é verdadeira.\n",
        "\n",
        "A declaração **if** necessita saber se a resposta de condição/pergunta é verdadeira ou falsa. Caso seja verdadeira é permitido a entrada, como podemos ver no primeiro exemplo. Copiado abaixo.\n",
        "\n",
        "```python\n",
        "num = 3\n",
        "if num > 0:\n",
        "    print(num, \"É positivo.\")\n",
        "```"
      ]
    },
    {
      "cell_type": "markdown",
      "metadata": {
        "id": "3rsIOltcr-3J"
      },
      "source": [
        "\n",
        "\n",
        "---\n"
      ]
    },
    {
      "cell_type": "markdown",
      "metadata": {
        "id": "PlWQmzkwQH6C"
      },
      "source": [
        "\n",
        "Indentação\n",
        "\n",
        "O Python conta com recuo (espaço em branco no início de uma linha) para definir o escopo no código. Outras linguagens de programação costumam usar colchetes para esse fim."
      ]
    },
    {
      "cell_type": "code",
      "metadata": {
        "colab": {
          "base_uri": "https://localhost:8080/"
        },
        "id": "NBRd8GGrQUlL",
        "outputId": "5195231a-5a3e-479b-8bc1-c58b906ed6a0"
      },
      "source": [
        "a = 33\n",
        "b = 200\n",
        "if b > a:\n",
        "  print(\"b é maior do que a\") # you will get an error"
      ],
      "execution_count": 10,
      "outputs": [
        {
          "output_type": "stream",
          "text": [
            "b é maior do que a\n"
          ],
          "name": "stdout"
        }
      ]
    },
    {
      "cell_type": "markdown",
      "metadata": {
        "id": "W5HkYIUqsQ7B"
      },
      "source": [
        "## Declaração elif\n",
        "\n",
        "Basicamente é mais uma abreviação para mais if. \n",
        "Ele nos permite verificar se há múltiplas expressões.\n",
        "\n",
        "Se a condição for falsa, verifica a condição do próximo bloco e assim por diante. if False elif\n",
        "Se todas as condições forem falsas, o else será executado.\n",
        "Apenas um bloco entre os vários blocos é executado de acordo com a condição. if...elif...else\n",
        "O bloco pode ter apenas um bloco. Mas pode ter vários blocos.ifelseelif"
      ]
    },
    {
      "cell_type": "markdown",
      "metadata": {
        "id": "L-Yb0HiaQeuZ"
      },
      "source": [
        "Elif\n",
        "\n",
        "A palavra-chave elif é uma forma de pythons de dizer \"se as condições anteriores não fossem verdadeiras, tente esta condição\"."
      ]
    },
    {
      "cell_type": "code",
      "metadata": {
        "colab": {
          "base_uri": "https://localhost:8080/"
        },
        "id": "iRRJvBhxQgdy",
        "outputId": "68b3bf9a-e7fd-4a66-e1fd-0472697bc68b"
      },
      "source": [
        "a = 33\n",
        "b = 33\n",
        "if b > a:\n",
        "  print(\"b é maior do que a\")\n",
        "elif a == b:\n",
        "  print(\"a e b são iguais\")"
      ],
      "execution_count": 14,
      "outputs": [
        {
          "output_type": "stream",
          "text": [
            "a e b são iguais\n"
          ],
          "name": "stdout"
        }
      ]
    },
    {
      "cell_type": "code",
      "metadata": {
        "colab": {
          "base_uri": "https://localhost:8080/"
        },
        "id": "2Ggt2nLKsVp1",
        "outputId": "4b27bb45-3700-4017-a9dd-b8d8ee80af86"
      },
      "source": [
        "# Negativo e zero exibir uma mensagem apropriada\n",
        "\n",
        "num = 3.4\n",
        "\n",
        "# Tente essas variações:\n",
        "# num = 0\n",
        "# num = -4.5\n",
        "\n",
        "if num > 0:\n",
        "    print(\"Número positivo\")\n",
        "elif num == 0:\n",
        "    print(\"Zero\")\n",
        "else:\n",
        "    print(\"Número negativo\")"
      ],
      "execution_count": 15,
      "outputs": [
        {
          "output_type": "stream",
          "text": [
            "Número positivo\n"
          ],
          "name": "stdout"
        }
      ]
    },
    {
      "cell_type": "markdown",
      "metadata": {
        "id": "VHYfmKP-scJa"
      },
      "source": [
        "## Declaração else\n",
        "\n",
        "A declaração else faz parte da declaração if, e é uma opção padrão quando a condição do if não é aceita. Veja o exemplo abaixo."
      ]
    },
    {
      "cell_type": "markdown",
      "metadata": {
        "id": "YrwCGZpsQn0E"
      },
      "source": [
        "Else\n",
        "\n",
        "A palavra-chave else captura qualquer coisa que não seja capturada pelas condições anteriores."
      ]
    },
    {
      "cell_type": "code",
      "metadata": {
        "colab": {
          "base_uri": "https://localhost:8080/"
        },
        "id": "WLBntXYFQq7D",
        "outputId": "d271ce02-0a3c-4415-f63c-a4170ab61722"
      },
      "source": [
        "a = 200\n",
        "b = 33\n",
        "if b > a:\n",
        "  print(\"b é maior do que a\")\n",
        "elif a == b:\n",
        "  print(\"a e b são iguais\")\n",
        "else:\n",
        "  print(\"a é maior do que b\")"
      ],
      "execution_count": 17,
      "outputs": [
        {
          "output_type": "stream",
          "text": [
            "a é maior do que b\n"
          ],
          "name": "stdout"
        }
      ]
    },
    {
      "cell_type": "code",
      "metadata": {
        "colab": {
          "base_uri": "https://localhost:8080/"
        },
        "id": "8DByNcwVslWr",
        "outputId": "e798ce9c-78e9-4c84-c26b-3c98e5871981"
      },
      "source": [
        "# Programa verifica se o número é positivo ou negativo \n",
        "# e exibe a mensagem apropriada\n",
        "\n",
        "num = 3\n",
        "\n",
        "# Tente com essas variações. \n",
        "# num = -5\n",
        "# num = 0\n",
        "\n",
        "if num >= 0:\n",
        "    print(\"Positivo ou zero\")\n",
        "else:\n",
        "    print(\"Número negativo\")"
      ],
      "execution_count": 18,
      "outputs": [
        {
          "output_type": "stream",
          "text": [
            "Positivo ou zero\n"
          ],
          "name": "stdout"
        }
      ]
    },
    {
      "cell_type": "markdown",
      "metadata": {
        "id": "-Goz0NrHQ3tT"
      },
      "source": [
        "#Python While Loops\n",
        "\n",
        "O Python possui dois comandos primitivos de loop:\n",
        "\n",
        "while loops\n",
        "\n",
        "for loops\n",
        "\n"
      ]
    },
    {
      "cell_type": "markdown",
      "metadata": {
        "id": "OTMC3PdsRErR"
      },
      "source": [
        "The while Loop\n",
        "\n",
        "Com o loop while, podemos executar um conjunto de instruções, desde que uma condição seja verdadeira."
      ]
    },
    {
      "cell_type": "code",
      "metadata": {
        "colab": {
          "base_uri": "https://localhost:8080/",
          "height": 102
        },
        "id": "hnevRup4RKfr",
        "outputId": "c32ae39e-5d33-4890-931a-6116062be905"
      },
      "source": [
        "i = 1\n",
        "while i < 6:\n",
        "  print(i)\n",
        "  i += 1"
      ],
      "execution_count": null,
      "outputs": [
        {
          "output_type": "stream",
          "text": [
            "1\n",
            "2\n",
            "3\n",
            "4\n",
            "5\n"
          ],
          "name": "stdout"
        }
      ]
    },
    {
      "cell_type": "markdown",
      "metadata": {
        "id": "IljpiEv6RNx4"
      },
      "source": [
        "#Python For Loops\n",
        "\n",
        "Um for loop é usado para iterar sobre uma sequência (ou seja, uma lista, uma tupla, um dicionário, um conjunto ou uma string).\n",
        "\n",
        "Isso é menos parecido com a palavra-chave for em outras linguagens de programação e funciona mais como um método iterador, como encontrado em outras linguagens de programação orientadas a objetos.\n",
        "\n",
        "Com o for loop, podemos executar um conjunto de instruções, uma vez para cada item de uma lista, tupla, conjunto etc."
      ]
    },
    {
      "cell_type": "code",
      "metadata": {
        "colab": {
          "base_uri": "https://localhost:8080/"
        },
        "id": "dv-o5ul2Rngy",
        "outputId": "18994767-cd1f-4ab1-8ae0-4e88a7f9e4f7"
      },
      "source": [
        "fruits = [\"maça\", \"banana\", \"cereja\"]\n",
        "for x in fruits:\n",
        "  print(x)"
      ],
      "execution_count": 19,
      "outputs": [
        {
          "output_type": "stream",
          "text": [
            "maça\n",
            "banana\n",
            "cereja\n"
          ],
          "name": "stdout"
        }
      ]
    },
    {
      "cell_type": "markdown",
      "metadata": {
        "id": "HMm6_2IoRz1h"
      },
      "source": [
        "#Funções Python \n",
        "\n",
        "Uma função é um bloco de código que só é executado quando é chamado.\n",
        "\n",
        "Você pode passar dados, conhecidos como parâmetros, para uma função.\n",
        "\n",
        "Uma função pode retornar dados como resultado."
      ]
    },
    {
      "cell_type": "markdown",
      "metadata": {
        "id": "xKwc4EYCSLuJ"
      },
      "source": [
        "##*Criando* uma Função\n",
        "\n",
        "No Python, uma função é definida usando a palavra-chave def:"
      ]
    },
    {
      "cell_type": "code",
      "metadata": {
        "id": "GlJ8Wyy7SNfp"
      },
      "source": [
        "def my_function():\n",
        "  print(\"Olá, sou uma função\")"
      ],
      "execution_count": null,
      "outputs": []
    },
    {
      "cell_type": "markdown",
      "metadata": {
        "id": "nUhMdqHgSTtg"
      },
      "source": [
        "Chamando uma função\n",
        "\n",
        "Para chamar uma função, use o nome da função seguido por parênteses:"
      ]
    },
    {
      "cell_type": "code",
      "metadata": {
        "colab": {
          "base_uri": "https://localhost:8080/"
        },
        "id": "QIqDru8DSU_I",
        "outputId": "e5d068f1-c8b1-46db-9389-ffde6cbd6c8f"
      },
      "source": [
        "def my_function():\n",
        "  print(\"Olá, sou uma função\")\n",
        "\n",
        "my_function()"
      ],
      "execution_count": 20,
      "outputs": [
        {
          "output_type": "stream",
          "text": [
            "Olá, sou uma função\n"
          ],
          "name": "stdout"
        }
      ]
    },
    {
      "cell_type": "markdown",
      "metadata": {
        "id": "3wD5TXL5SdZi"
      },
      "source": [
        "Argumentos\n",
        "\n",
        "As informações podem ser passadas para funções como argumentos.\n",
        "\n",
        "Os argumentos são especificados após o nome da função, entre parênteses. Você pode adicionar quantos argumentos quiser, basta separá-los com uma vírgula.\n",
        "\n",
        "O exemplo a seguir possui uma função com um argumento (fname). Quando a função é chamada, passamos um primeiro nome, que é usado dentro da função para imprimir o nome completo:"
      ]
    },
    {
      "cell_type": "code",
      "metadata": {
        "colab": {
          "base_uri": "https://localhost:8080/"
        },
        "id": "ZgB_Bx-VSiXR",
        "outputId": "90a42857-308c-4e87-d441-7e5d6dcbb8c2"
      },
      "source": [
        "def my_function(fname):\n",
        "  print(fname + \" Testand\")\n",
        "\n",
        "my_function(\"Juno\")\n",
        "my_function(\"Tobias\")\n",
        "my_function(\"Linus\")"
      ],
      "execution_count": 21,
      "outputs": [
        {
          "output_type": "stream",
          "text": [
            "Juno Testand\n",
            "Tobias Testand\n",
            "Linus Testand\n"
          ],
          "name": "stdout"
        }
      ]
    },
    {
      "cell_type": "markdown",
      "metadata": {
        "id": "RAm0WQY6Su08"
      },
      "source": [
        "#Python Try Except\n",
        "\n",
        "O bloco try permite testar um bloco de código quanto a erros.\n",
        "\n",
        "O bloco except permite que você lide com o erro.\n",
        "\n",
        "O bloco finally permite executar o código, independentemente do resultado dos blocos try- e exceto."
      ]
    },
    {
      "cell_type": "markdown",
      "metadata": {
        "id": "xaEceLLHTBwx"
      },
      "source": [
        "Manipulação de exceção\n",
        "\n",
        "Quando ocorre um erro, ou exceção, como chamamos, o Python normalmente para e gera uma mensagem de erro.\n",
        "\n",
        "Essas exceções podem ser tratadas usando a instrução try:"
      ]
    },
    {
      "cell_type": "code",
      "metadata": {
        "colab": {
          "base_uri": "https://localhost:8080/"
        },
        "id": "035el12KTMlK",
        "outputId": "94825073-416e-40a5-8f45-4b350202ce7e"
      },
      "source": [
        "# Use uma variável inexistente\n",
        "try:\n",
        "  print(variavel_qualquer)\n",
        "except:\n",
        "  print(\"Ocorreu uma exceção\")"
      ],
      "execution_count": 23,
      "outputs": [
        {
          "output_type": "stream",
          "text": [
            "Ocorreu uma exceção\n"
          ],
          "name": "stdout"
        }
      ]
    },
    {
      "cell_type": "markdown",
      "metadata": {
        "id": "PryQ1khITVqQ"
      },
      "source": [
        "\n",
        "Como o bloco try gera um erro, o bloco except será executado.\n",
        "\n",
        "Sem o bloco try, o programa falha e gera um erro:"
      ]
    },
    {
      "cell_type": "code",
      "metadata": {
        "id": "QrOxqrxzTbP6"
      },
      "source": [
        "print(variavel_qualquer)"
      ],
      "execution_count": null,
      "outputs": []
    }
  ]
}