{
  "nbformat": 4,
  "nbformat_minor": 0,
  "metadata": {
    "colab": {
      "provenance": []
    },
    "kernelspec": {
      "name": "python3",
      "display_name": "Python 3"
    },
    "language_info": {
      "name": "python"
    }
  },
  "cells": [
    {
      "cell_type": "markdown",
      "source": [
        "# Pandas básico"
      ],
      "metadata": {
        "id": "wPf_YyqL7MGR"
      }
    },
    {
      "cell_type": "markdown",
      "source": [
        "O Pandas é uma biblioteca de software livre para a linguagem de programação Python, utilizada principalmente para manipulação e análise de dados. Ele fornece uma estrutura de dados flexível e de alto desempenho, chamada DataFrame, que é capaz de lidar com grandes conjuntos de dados e realizar operações comuns de análise de dados, como limpeza, filtragem, agrupamento, agregação, transformação e visualização.\n",
        "\n",
        "Além disso, o Pandas oferece outras estruturas de dados, como Series (usadas para representar arrays unidimensionais) e Panel (usadas para representar arrays multidimensionais). Essas estruturas são altamente eficientes e fornecem várias funções para lidar com dados faltantes, indexação e seleção de dados, manipulação de datas e tempo, e muito mais.\n",
        "\n",
        "O Pandas é amplamente utilizado em áreas como finanças, ciência de dados, economia, estatística e muitas outras. Sua facilidade de uso e flexibilidade o tornam uma ferramenta poderosa para a análise de dados em Python."
      ],
      "metadata": {
        "id": "4xnz2-S17mmH"
      }
    },
    {
      "cell_type": "markdown",
      "source": [
        "## Estruturas de Dados\n",
        "\n",
        "Em Pandas, a principal estrutura de dados é o DataFrame. O **DataFrame** é uma estrutura de dados bidimensional semelhante a uma tabela, onde os dados são organizados em linhas e colunas. Cada coluna do DataFrame representa uma variável, enquanto cada linha representa uma observação.\n",
        "\n",
        "Outra estrutura de dados importante em Pandas é a Series, que é uma estrutura de dados unidimensional que representa um array rotulado capaz de armazenar qualquer tipo de dados (números, strings, objetos Python, etc.). As Series são usadas para representar uma única coluna do DataFrame.\n",
        "\n",
        "Além disso, o Pandas também oferece a estrutura de dados Panel, que é uma estrutura de dados tridimensional capaz de armazenar dados em painéis (ou cubos) que podem ser facilmente fatiados, indexados e transpostos.\n",
        "\n",
        "Existem também outras estruturas de dados menos comuns em Pandas, como a Categorical, que é usada para armazenar dados categóricos (por exemplo, cores, categorias, etc.) e o Index, que é usado para armazenar rótulos de linhas e colunas em um DataFrame.\n",
        "\n",
        "Essas estruturas de dados em Pandas são altamente eficientes e fornecem muitas funcionalidades para lidar com dados faltantes, indexação e seleção de dados, manipulação de datas e tempo, agregação e visualização de dados, entre outras."
      ],
      "metadata": {
        "id": "Ql9e1yve7uPo"
      }
    },
    {
      "cell_type": "markdown",
      "source": [
        "## Series em pandas\n",
        "\n",
        "Uma Series em Pandas é uma estrutura de dados unidimensional que representa um array rotulado capaz de armazenar qualquer tipo de dados (números, strings, objetos Python, etc.).\n",
        "\n",
        "Uma Series é composta por dois arrays: o primeiro é o array de dados e o segundo é o array de rótulos, que é chamado de índice. O índice é responsável por rotular os dados na Series, permitindo um acesso fácil e rápido aos dados.\n",
        "\n",
        "As Series são frequentemente usadas para representar uma única coluna do DataFrame, mas também podem ser usadas de forma independente. Elas podem ser criadas a partir de uma lista, array NumPy, dicionário ou outra Series.\n",
        "\n",
        "Por exemplo, para criar uma Series a partir de uma lista, podemos usar o seguinte código:\n",
        "\n",
        "\n",
        "```python\n",
        "    s = pd.Series(dados, index = index)\n",
        "```\n",
        "\n",
        "O argumento *dados* pode ser um dicionário, uma lista, um array Numpy ou uma constante.\n",
        "\n"
      ],
      "metadata": {
        "id": "UZIyegc78XEa"
      }
    },
    {
      "cell_type": "markdown",
      "source": [
        "### A estrutura de dados Series em pandas é aplicada em diversas tarefas de análise de dados, como por exemplo:\n",
        "\n",
        "- **Limpeza e transformação de dados**: É possível utilizar a estrutura Series para filtrar dados, substituir valores nulos ou aplicar funções de transformação nos dados.   \n",
        "- **Cálculos estatísticos**: A estrutura Series permite realizar cálculos estatísticos, como média, mediana, desvio padrão, correlação e regressão linear.   \n",
        "- **Análise exploratória de dados**: Através da Series é possível visualizar e analisar dados de forma exploratória, utilizando gráficos e estatísticas descritivas.   \n",
        "- **Machine Learning**: A Series pode ser utilizada como uma variável independente ou dependente em algoritmos de Machine Learning, como regressão linear, regressão logística e redes neurais.   \n",
        "- **Processamento de dados em tempo real**: A Series é útil para processar dados em tempo real em aplicações que requerem atualização constante dos dados.   \n",
        "- **Visualização de dados**: Através da Series é possível gerar gráficos de diferentes tipos para visualizar os dados de forma mais clara e interpretativa.    \n",
        "Em resumo, a estrutura de dados Series em pandas é bastante versátil e pode ser utilizada em diversas tarefas de análise de dados, desde a limpeza e transformação até a visualização e análise exploratória."
      ],
      "metadata": {
        "id": "jnx9OzToI8vX"
      }
    },
    {
      "cell_type": "markdown",
      "source": [
        "### Criando uma série através de uma tupla"
      ],
      "metadata": {
        "id": "Add0lhl8MKb-"
      }
    },
    {
      "cell_type": "code",
      "source": [
        "import pandas as pd\n",
        "\n",
        "tupla_idades = (25, 32, 15, 26, 36, 33, 56)\n",
        "# Convertendo a lista em uma série\n",
        "serie_idades = pd.Series(tupla_idades)\n",
        "print(serie_idades)"
      ],
      "metadata": {
        "colab": {
          "base_uri": "https://localhost:8080/"
        },
        "id": "LnxZRXZZMBXW",
        "outputId": "77ba6c0d-31d5-4f98-ad50-d37c2b0f4404"
      },
      "execution_count": null,
      "outputs": [
        {
          "output_type": "stream",
          "name": "stdout",
          "text": [
            "0    25\n",
            "1    32\n",
            "2    15\n",
            "3    26\n",
            "4    36\n",
            "5    33\n",
            "6    56\n",
            "dtype: int64\n"
          ]
        }
      ]
    },
    {
      "cell_type": "markdown",
      "source": [
        "### Criando uma série com lista"
      ],
      "metadata": {
        "id": "XdITwiLjMOOm"
      }
    },
    {
      "cell_type": "code",
      "execution_count": null,
      "metadata": {
        "colab": {
          "base_uri": "https://localhost:8080/"
        },
        "id": "Bpf4W9Ae7Ik1",
        "outputId": "200bb946-c2ff-4de1-fb9c-59aad894ebd8"
      },
      "outputs": [
        {
          "output_type": "stream",
          "name": "stdout",
          "text": [
            "0    25\n",
            "1    32\n",
            "2    15\n",
            "3    26\n",
            "4    36\n",
            "5    33\n",
            "6    56\n",
            "dtype: int64\n"
          ]
        }
      ],
      "source": [
        "import pandas as pd\n",
        "\n",
        "lista_idades = [25, 32, 15, 26, 36, 33, 56]\n",
        "# Convertendo a lista em uma série\n",
        "serie_idades = pd.Series(lista_idades)\n",
        "print(serie_idades)\n"
      ]
    },
    {
      "cell_type": "markdown",
      "source": [
        "### Criando uma séria com condição"
      ],
      "metadata": {
        "id": "tgctbnQSMR1e"
      }
    },
    {
      "cell_type": "code",
      "source": [
        "import pandas as pd\n",
        "\n",
        "lista_idades = [25, 32, 15, 26, 36, 33, 56]\n",
        "# Convertendo a lista em uma série\n",
        "serie_idades = pd.Series(lista_idades)\n",
        "# Crie uma série com os dados filtrados a partir de outra série\n",
        "serie_filtrado = serie_idades[serie_idades > 30]\n",
        "print(serie_filtrado)"
      ],
      "metadata": {
        "colab": {
          "base_uri": "https://localhost:8080/"
        },
        "id": "Rm4-ys7TMReY",
        "outputId": "70c18e50-f90a-4e0f-9460-40a050ad319e"
      },
      "execution_count": null,
      "outputs": [
        {
          "output_type": "stream",
          "name": "stdout",
          "text": [
            "1    32\n",
            "4    36\n",
            "5    33\n",
            "6    56\n",
            "dtype: int64\n"
          ]
        }
      ]
    },
    {
      "cell_type": "markdown",
      "source": [
        "### Usando funções de série em pandas"
      ],
      "metadata": {
        "id": "aDUkFRWwMyny"
      }
    },
    {
      "cell_type": "code",
      "source": [
        "import pandas as pd\n",
        "\n",
        "# Cria uma séria para ser usadas em funções\n",
        "lista_idades = [25, 32, 15, 26, 36, 33, 56]\n",
        "# Convertendo a lista em uma série\n",
        "serie_idades = pd.Series(lista_idades)\n",
        "print(serie_idades)"
      ],
      "metadata": {
        "colab": {
          "base_uri": "https://localhost:8080/"
        },
        "id": "K9h2zr2EM2a4",
        "outputId": "967cc0ed-07e3-4929-93e6-cbc451d5cba5"
      },
      "execution_count": null,
      "outputs": [
        {
          "output_type": "stream",
          "name": "stdout",
          "text": [
            "0    25\n",
            "1    32\n",
            "2    15\n",
            "3    26\n",
            "4    36\n",
            "5    33\n",
            "6    56\n",
            "dtype: int64\n"
          ]
        }
      ]
    },
    {
      "cell_type": "markdown",
      "source": [
        "Aqui, criamos uma Series chamada lista_idades a partir da lista [25, 32, 15, 26, 36, 33, 56]. O Pandas automaticamente atribuiu um índice numérico padrão de 0 a 6 para cada elemento da lista.\n",
        "\n",
        "Podemos acessar os elementos da Series usando seus índices, assim como em listas ou arrays NumPy:"
      ],
      "metadata": {
        "id": "_z_8ij3G87uu"
      }
    },
    {
      "cell_type": "code",
      "source": [
        "print(serie_idades[2])"
      ],
      "metadata": {
        "colab": {
          "base_uri": "https://localhost:8080/"
        },
        "id": "pwFEi0Ii85Al",
        "outputId": "fe1ecc2e-9921-491c-d18a-aeda3c08bb3b"
      },
      "execution_count": null,
      "outputs": [
        {
          "output_type": "stream",
          "name": "stdout",
          "text": [
            "15\n"
          ]
        }
      ]
    },
    {
      "cell_type": "markdown",
      "source": [
        "É possível adicionarmos/alterar etiquetas personalizadas, o que deixa mais fácil e intuitivo, para isso usamos o parâmetro index, vejo o exemplo"
      ],
      "metadata": {
        "id": "BtsHnqwM9N0m"
      }
    },
    {
      "cell_type": "code",
      "source": [
        "serie = pd.Series(lista_idades, index=['a', 'b', 'c', 'd', 'e', 'f', 'g'])\n",
        "print(serie)\n",
        "print(f\"Idade do indice a {serie['a']}\")\n",
        "print('\\n')\n",
        "# Alterar as etiquetas para nomes de pessoas\n",
        "serie = pd.Series(lista_idades, index=['Maria', 'João', 'José', 'Tais', 'Ana', 'Lais', 'Roberta'])\n",
        "print(serie)\n",
        "print(f\"Idade da Maria {serie['Maria']}\")"
      ],
      "metadata": {
        "colab": {
          "base_uri": "https://localhost:8080/"
        },
        "id": "cWOlMYi49dbh",
        "outputId": "3faff45c-4c40-4218-8b72-75633a5e1fa4"
      },
      "execution_count": null,
      "outputs": [
        {
          "output_type": "stream",
          "name": "stdout",
          "text": [
            "a    25\n",
            "b    32\n",
            "c    15\n",
            "d    26\n",
            "e    36\n",
            "f    33\n",
            "g    56\n",
            "dtype: int64\n",
            "Idade do indice a 25\n",
            "\n",
            "\n",
            "Maria      25\n",
            "João       32\n",
            "José       15\n",
            "Tais       26\n",
            "Ana        36\n",
            "Lais       33\n",
            "Roberta    56\n",
            "dtype: int64\n",
            "Idade da Maria 25\n"
          ]
        }
      ]
    },
    {
      "cell_type": "markdown",
      "source": [
        "### Exemplos de funções da estrutura Series"
      ],
      "metadata": {
        "id": "LxsGuB1T-nqR"
      }
    },
    {
      "cell_type": "code",
      "source": [
        "import pandas as pd\n",
        "\n",
        "# Criando uma série de novas idades\n",
        "serie_idades = pd.Series([25, 23, 30, 42, 20, 20, 20, 27], \n",
        "                         index=['Maria', 'João', 'José', 'Thiago', 'Tais', 'Pamela', 'Ana', 'Lais'])"
      ],
      "metadata": {
        "id": "CWdPzobq-yVZ"
      },
      "execution_count": null,
      "outputs": []
    },
    {
      "cell_type": "code",
      "source": [
        "# Exibindo as primeiras 3 linhas da série\n",
        "print(f\"Os três primeiros itens\\n{serie_idades.head(3)}\\n\")\n",
        "\n",
        "# Exibindo as últimas 4 linhas da série\n",
        "print(f\"Os três últimos valores da lista\\n{serie_idades.tail(3)}\\n\")\n",
        "\n",
        "# Exibindo as estatísticas descritivas da série\n",
        "print(f\"Exibe informações de estatística descritiva da lista\\n{serie_idades.describe()}\\n\")\n",
        "\n",
        "# Exibindo o número de elementos não nulos na série\n",
        "print(f\"Exibe a quantidade de itens (não nulos) {serie_idades.count()}\")\n",
        "\n",
        "# Exibindo os valores únicos na série\n",
        "print(f\"Exibe os valores únicos da lista {serie_idades.unique()}\")\n"
      ],
      "metadata": {
        "colab": {
          "base_uri": "https://localhost:8080/"
        },
        "id": "6kWZeU0gAPhD",
        "outputId": "8eb0413c-ea26-4885-b24a-273ee1c67141"
      },
      "execution_count": null,
      "outputs": [
        {
          "output_type": "stream",
          "name": "stdout",
          "text": [
            "Os três primeiros itens\n",
            "Maria    25\n",
            "João     23\n",
            "José     30\n",
            "dtype: int64\n",
            "\n",
            "Os três últimos valores da lista\n",
            "Pamela    20\n",
            "Ana       20\n",
            "Lais      27\n",
            "dtype: int64\n",
            "\n",
            "Exibe informações de estatística descritiva da lista\n",
            "count     8.000000\n",
            "mean     25.875000\n",
            "std       7.472569\n",
            "min      20.000000\n",
            "25%      20.000000\n",
            "50%      24.000000\n",
            "75%      27.750000\n",
            "max      42.000000\n",
            "dtype: float64\n",
            "\n",
            "Exibe a quantidade de itens (não nulos) 8\n",
            "Exibe os valores únicos da lista [25 23 30 42 20 27]\n"
          ]
        }
      ]
    },
    {
      "cell_type": "code",
      "source": [
        "# Exibindo a contagem de cada valor presente na série\n",
        "print(f\"Exibe a contagem de cada valor presente na série\\n{serie_idades.value_counts()}\\n\")\n",
        "\n",
        "# Ordenando a série por seus valores\n",
        "print(f\"Ordena a série em ordem crescente\\n{serie_idades.sort_values()}\\n\")\n",
        "\n",
        "# Ordenando a série por seus valores\n",
        "print(f\"Ordena a série em ordem decrescente\\n{serie_idades.sort_values(ascending = False)}\\n\")\n",
        "\n",
        "# Exibindo o índice do valor mínimo na série\n",
        "print(f\"Exibe o menor índice série\\n{serie_idades.idxmin()}\\b\")\n",
        "\n",
        "# Exibindo o índice do valor máximo na série\n",
        "print(f\"Exibe o maior índice da série\\n{serie_idades.idxmax()}\\n\")"
      ],
      "metadata": {
        "colab": {
          "base_uri": "https://localhost:8080/"
        },
        "id": "WfZ-BHoGARaP",
        "outputId": "251c55b1-f7c5-4c43-f2d0-82fae626fac0"
      },
      "execution_count": null,
      "outputs": [
        {
          "output_type": "stream",
          "name": "stdout",
          "text": [
            "Exibe a contagem de cada valor presente na série\n",
            "20    3\n",
            "25    1\n",
            "23    1\n",
            "30    1\n",
            "42    1\n",
            "27    1\n",
            "dtype: int64\n",
            "\n",
            "Ordena a série em ordem crescente\n",
            "Tais      20\n",
            "Pamela    20\n",
            "Ana       20\n",
            "João      23\n",
            "Maria     25\n",
            "Lais      27\n",
            "José      30\n",
            "Thiago    42\n",
            "dtype: int64\n",
            "\n",
            "Ordena a série em ordem decrescente\n",
            "Thiago    42\n",
            "José      30\n",
            "Lais      27\n",
            "Maria     25\n",
            "João      23\n",
            "Tais      20\n",
            "Pamela    20\n",
            "Ana       20\n",
            "dtype: int64\n",
            "\n",
            "Exibe o menor índice série\n",
            "Tais\b\n",
            "Exibe o maior índice da série\n",
            "Thiago\n",
            "\n"
          ]
        }
      ]
    },
    {
      "cell_type": "code",
      "source": [
        "# Acessando elementos da série por rótulos de índice\n",
        "print(f\"Acessa o elemento da série por rótulos de índice\\n{serie_idades.loc[['Maria', 'José', 'Lais']]}\\n\")\n",
        "\n",
        "# Acessando elementos da série por índices numéricos\n",
        "print(f\"Acessa os elementos da série por índice numéricos\\n{serie_idades.iloc[[0, 2, 4]]}\\n\")"
      ],
      "metadata": {
        "colab": {
          "base_uri": "https://localhost:8080/"
        },
        "id": "LUBs39zvA7zD",
        "outputId": "47edd7ce-c2b0-44a5-c1ab-00d7c456f105"
      },
      "execution_count": null,
      "outputs": [
        {
          "output_type": "stream",
          "name": "stdout",
          "text": [
            "Acessa o elemento da série por rótulos de índice\n",
            "Maria    25\n",
            "José     30\n",
            "Lais     27\n",
            "dtype: int64\n",
            "\n",
            "Acessa os elementos da série por índice numéricos\n",
            "Maria    25\n",
            "José     30\n",
            "Tais     20\n",
            "dtype: int64\n",
            "\n"
          ]
        }
      ]
    },
    {
      "cell_type": "code",
      "source": [
        "# verificando se cada elemento da Series está contido em uma lista de valores\n",
        "print(f\"Retorna uma lista de boleanos de cada item está na lista de idade\\n{serie_idades.isin([20, 35, 45])}\")"
      ],
      "metadata": {
        "colab": {
          "base_uri": "https://localhost:8080/"
        },
        "id": "LWekyyWrE5wb",
        "outputId": "a0177109-5a6e-4f41-e090-c48c77c71019"
      },
      "execution_count": null,
      "outputs": [
        {
          "output_type": "stream",
          "name": "stdout",
          "text": [
            "Retorna uma lista de boleanos de cada item está na lista de idade\n",
            "Maria     False\n",
            "João      False\n",
            "José      False\n",
            "Thiago    False\n",
            "Tais       True\n",
            "Pamela     True\n",
            "Ana        True\n",
            "Lais      False\n",
            "dtype: bool\n"
          ]
        }
      ]
    },
    {
      "cell_type": "code",
      "source": [
        "# Converte todos os tipos da série no que foi informado\n",
        "serie_idades.astype('float')"
      ],
      "metadata": {
        "colab": {
          "base_uri": "https://localhost:8080/"
        },
        "id": "maTGT5U8GyvA",
        "outputId": "8aad1dae-6f9b-478e-e747-21fbd48d9335"
      },
      "execution_count": null,
      "outputs": [
        {
          "output_type": "execute_result",
          "data": {
            "text/plain": [
              "Maria     25.0\n",
              "João      23.0\n",
              "José      30.0\n",
              "Thiago    42.0\n",
              "Tais      20.0\n",
              "Pamela    20.0\n",
              "Ana       20.0\n",
              "Lais      27.0\n",
              "dtype: float64"
            ]
          },
          "metadata": {},
          "execution_count": 62
        }
      ]
    },
    {
      "cell_type": "markdown",
      "source": [
        "### Métodos **map e apply**\n",
        "\n",
        "Em Pandas, tanto o método map quanto o apply são usados para aplicar uma função a uma série. No entanto, há uma diferença crucial entre eles:\n",
        "\n",
        "- map é usado para substituir cada valor na série por outro valor. Ele pode ser usado com funções simples, como uma função lambda ou uma função definida pelo usuário que realiza uma operação simples em cada elemento da série.   \n",
        "- apply é usado para aplicar uma função a cada elemento da série, mas ele pode ser usado com funções mais complexas que realizam operações mais avançadas em cada elemento. Além disso, o método apply também pode ser usado em dataframes, permitindo que você aplique funções em linhas ou colunas inteiras.   \n",
        "\n",
        "Vale ressaltar que a função passada como argumento para ambos os métodos deve ser \"vetorizada\", ou seja, deve ser capaz de lidar com um array como entrada. Se a função não for vetorizada, o Pandas pode gerar um erro.\n",
        "\n",
        "Em resumo, **o método map é adequado para operações mais simples em cada elemento da série, enquanto o método apply é mais flexível e pode ser usado para operações mais avançadas e em dataframes**.\n"
      ],
      "metadata": {
        "id": "qklud12YGDYb"
      }
    },
    {
      "cell_type": "code",
      "source": [
        "# Cria uma nova série\n",
        "serie_quantidade_bens = pd.Series([5, 3, 3, 4, 0, 7, 6, 7])\n",
        "\n",
        "# Aplicando uma função a cada elemento da série\n",
        "# A função lambda x: x ** 2 pega cada elemento da série e eleva ao quadrado\n",
        "print(f\"Aplica uma função anônima em cada elemento e retorna uma nova série\\n{serie_quantidade_bens.apply(lambda x: x ** 2)}\\n\")\n",
        "print(f\"Perceba que a lista não foi alterada\\n{serie_quantidade_bens}\\n\")"
      ],
      "metadata": {
        "colab": {
          "base_uri": "https://localhost:8080/"
        },
        "id": "obGV8MWfC3S_",
        "outputId": "f3767b54-be7e-405d-8646-0597ca1dedc5"
      },
      "execution_count": null,
      "outputs": [
        {
          "output_type": "stream",
          "name": "stdout",
          "text": [
            "Aplica uma função anônima em cada elemento e retorna uma nova série\n",
            "0    25\n",
            "1     9\n",
            "2     9\n",
            "3    16\n",
            "4     0\n",
            "5    49\n",
            "6    36\n",
            "7    49\n",
            "dtype: int64\n",
            "\n",
            "Perceba que a lista não foi alterada\n",
            "0    5\n",
            "1    3\n",
            "2    3\n",
            "3    4\n",
            "4    0\n",
            "5    7\n",
            "6    6\n",
            "7    7\n",
            "dtype: int64\n",
            "\n"
          ]
        }
      ]
    },
    {
      "cell_type": "code",
      "source": [
        "# Cria uma nova série\n",
        "serie_quantidade_bens = pd.Series([5, 3, 3, 4, 0, 7, 6, 7])\n",
        "# aplicando uma função lambda a cada valor da Series\n",
        "print(f\"Aplica uma função anônima em cada elemento e retorna uma nova série\\n{serie_quantidade_bens.map(lambda x: x ** 2)}\")\n",
        "print(f\"Perceba que a lista não foi alterada\\n{serie_quantidade_bens}\")"
      ],
      "metadata": {
        "colab": {
          "base_uri": "https://localhost:8080/"
        },
        "id": "CBmJqg5ZG3sJ",
        "outputId": "7e111aab-acd1-4fd6-aa05-bdf45fb3c6b6"
      },
      "execution_count": null,
      "outputs": [
        {
          "output_type": "stream",
          "name": "stdout",
          "text": [
            "Aplica uma função anônima em cada elemento e retorna uma nova série\n",
            "0    25\n",
            "1     9\n",
            "2     9\n",
            "3    16\n",
            "4     0\n",
            "5    49\n",
            "6    36\n",
            "7    49\n",
            "dtype: int64\n",
            "Perceba que a lista não foi alterada\n",
            "0    5\n",
            "1    3\n",
            "2    3\n",
            "3    4\n",
            "4    0\n",
            "5    7\n",
            "6    6\n",
            "7    7\n",
            "dtype: int64\n"
          ]
        }
      ]
    },
    {
      "cell_type": "markdown",
      "source": [
        "### Resumo\n",
        "\n",
        "Uma série em pandas é uma estrutura de dados unidimensional que pode armazenar diferentes tipos de dados, incluindo inteiros, floats e strings. Ela é semelhante a uma matriz unidimensional ou uma coluna em uma planilha. Cada item na série é indexado por um rótulo e pode ser acessado usando esses rótulos. As séries também suportam operações vetorizadas e podem ser facilmente manipuladas usando as funções integradas do pandas. Elas são frequentemente usadas para armazenar dados que são organizados em uma única dimensão, como séries temporais, preços de ações ou resultados de pesquisas."
      ],
      "metadata": {
        "id": "3MDl4-4EIWDk"
      }
    },
    {
      "cell_type": "markdown",
      "source": [
        "## DataFrames"
      ],
      "metadata": {
        "id": "kHAKwe0k8Zii"
      }
    },
    {
      "cell_type": "markdown",
      "source": [
        "### Introdução\n",
        "\n",
        "Um DataFrame é uma estrutura de dados bidimensional em pandas, semelhante a uma planilha ou tabela de banco de dados. Ele é composto por linhas e colunas, onde cada coluna pode ter um tipo de dados diferente, como inteiros, floats, strings, datas, booleanos e outras estruturas de dados, como listas e dicionários.\n",
        "\n",
        "Um exemplo de uso de DataFrame é armazenar os dados de um experimento científico, onde cada coluna pode representar uma variável medida, como temperatura, pressão, concentração, tempo, entre outras. As linhas podem representar diferentes pontos de tempo ou condições experimentais, onde cada célula do DataFrame contém um valor correspondente a uma combinação específica de variáveis.\n",
        "\n",
        "Com o DataFrame, é possível manipular e analisar esses dados de maneira eficiente e flexível, usando funções embutidas e ferramentas estatísticas avançadas em pandas. Além disso, o pandas permite ler e escrever dados em vários formatos, como arquivos CSV, Excel, SQL, JSON, entre outros, facilitando a integração com outras ferramentas de análise de dados.\n",
        "\n",
        "```python\n",
        "    df = pd.DataFrame(dados, index = index, columns = columns)\n",
        "```\n",
        "\n",
        "O argumento *dados* pode ser um dicionário, uma lista, um array Numpy, uma Series e outro DataFrame.\n",
        "\n",
        "**Documentação:** https://pandas.pydata.org"
      ],
      "metadata": {
        "id": "-Tzfx0YVJ0Je"
      }
    },
    {
      "cell_type": "markdown",
      "source": [
        "### Aplicação do data frame \n",
        "\n",
        "O Pandas é uma das bibliotecas mais populares em Python para análise de dados e ciência de dados. O Dataframe é uma estrutura de dados tabular que é usada para armazenar e manipular dados em linhas e colunas. Algumas das aplicações mais comuns do Dataframe em Pandas são:\n",
        "\n",
        "- **Manipulação e limpeza de dados**: Os dataframes em Pandas são muito úteis para limpar e manipular dados. É possível eliminar colunas e linhas desnecessárias, preencher valores ausentes e renomear colunas.   \n",
        "- **Análise e visualização de dados**: O Pandas permite realizar análises estatísticas em dados, como calcular médias, medianas e desvios padrão. Além disso, é possível criar gráficos e visualizações de dados usando outras bibliotecas como Matplotlib e Seaborn.   \n",
        "- **Integração com outras bibliotecas**: O Pandas é frequentemente usado em conjunto com outras bibliotecas em Python, como Numpy, Scikit-learn, TensorFlow, entre outras. Isso permite que os dados sejam facilmente processados e analisados, o que é especialmente útil em tarefas de aprendizado de máquina.   \n",
        "- **Preparação de dados para modelos de machine learning**: O Pandas é amplamente utilizado na preparação de dados para modelos de machine learning. Isso inclui a limpeza de dados, normalização de dados e codificação de variáveis categóricas.   \n",
        "- **Trabalho com grandes conjuntos de dados**: O Pandas é capaz de lidar com grandes conjuntos de dados, permitindo que os usuários analisem e manipulem dados mesmo quando estes excedem a capacidade da memória RAM.   \n",
        "\n",
        "Em resumo, o Pandas e seu recurso de Dataframe fornecem uma ampla gama de funcionalidades para a análise de dados e é amplamente utilizado em diferentes aplicações, como finanças, ciência de dados, análise de dados empresariais, análise de dados de marketing e muito mais."
      ],
      "metadata": {
        "id": "yiD0RNYAN-Ee"
      }
    },
    {
      "cell_type": "markdown",
      "source": [
        "### Criando um data frame com lista"
      ],
      "metadata": {
        "id": "1J395tsPKd08"
      }
    },
    {
      "cell_type": "code",
      "source": [
        "import pandas as pd\n",
        "\n",
        "# Cria uma lista com lista de nome e idade\n",
        "dados = [['Ana', 25], ['Maria', 30], ['Carla', 35], ['Robert', 35], ['João', 35]]\n",
        "# Converte os dados acima em um dataframe e atribui nomes as colunas\n",
        "df_idades = pd.DataFrame(dados, columns=['Nome', 'Idade'])\n",
        "print(df_idades)"
      ],
      "metadata": {
        "colab": {
          "base_uri": "https://localhost:8080/"
        },
        "id": "8fCbgJ3R8aOM",
        "outputId": "285470fd-1808-47e6-ee43-d2a157729022"
      },
      "execution_count": null,
      "outputs": [
        {
          "output_type": "stream",
          "name": "stdout",
          "text": [
            "     Nome  Idade\n",
            "0     Ana     25\n",
            "1   Maria     30\n",
            "2   Carla     35\n",
            "3  Robert     35\n",
            "4    João     35\n"
          ]
        }
      ]
    },
    {
      "cell_type": "markdown",
      "source": [
        "### Criando um data frame com dicionários"
      ],
      "metadata": {
        "id": "B9ng2TiEK_Y1"
      }
    },
    {
      "cell_type": "code",
      "source": [
        "import pandas as pd\n",
        "\n",
        "idades = {'Nome': ['Ana', 'Bob', 'Carla'], 'Idade': [25, 30, 35]}\n",
        "df_idades = pd.DataFrame(idades)\n",
        "\n",
        "print(df_idades)"
      ],
      "metadata": {
        "colab": {
          "base_uri": "https://localhost:8080/"
        },
        "id": "nMDyuUtBK6hW",
        "outputId": "8d03f68c-30ff-4674-e927-38bcc44af7d0"
      },
      "execution_count": null,
      "outputs": [
        {
          "output_type": "stream",
          "name": "stdout",
          "text": [
            "    Nome  Idade\n",
            "0    Ana     25\n",
            "1    Bob     30\n",
            "2  Carla     35\n"
          ]
        }
      ]
    },
    {
      "cell_type": "markdown",
      "source": [
        "### Criando um data frame com uma condição"
      ],
      "metadata": {
        "id": "_4dG8nP7LUH5"
      }
    },
    {
      "cell_type": "code",
      "source": [
        "import pandas as pd\n",
        "\n",
        "idades = {'Nome': ['Ana', 'Bob', 'Carla'], 'Idade': [25, 30, 35]}\n",
        "df_idades = pd.DataFrame(idades)\n",
        "\n",
        "# Cria um df com filtro \n",
        "df_filtrado = df_idades[df_idades['Idade'] > 28]\n",
        "\n",
        "print(df_filtrado)"
      ],
      "metadata": {
        "colab": {
          "base_uri": "https://localhost:8080/"
        },
        "id": "8w5RJCpjLF3_",
        "outputId": "f61f2e7a-d8ea-41aa-cbc5-baabd2cc87f4"
      },
      "execution_count": null,
      "outputs": [
        {
          "output_type": "stream",
          "name": "stdout",
          "text": [
            "    Nome  Idade\n",
            "1    Bob     30\n",
            "2  Carla     35\n"
          ]
        }
      ]
    },
    {
      "cell_type": "markdown",
      "source": [
        "### Operações em colunas\n",
        "\n",
        "É possível realizar diversas operações com colunas"
      ],
      "metadata": {
        "id": "RXva8L9MNqvk"
      }
    },
    {
      "cell_type": "code",
      "source": [
        "import pandas as pd\n",
        "\n",
        "idades = {'Nome': ['Ana', 'Maria', 'João'], 'Idade': [25, 30, 35]}\n",
        "df_idades = pd.DataFrame(idades)\n",
        "\n",
        "# Gera uma nova coluna com base na informação de outra\n",
        "df_idades['Ano Nascimento'] = 2023 - df_idades['Idade']\n",
        "print(df_idades)\n"
      ],
      "metadata": {
        "colab": {
          "base_uri": "https://localhost:8080/"
        },
        "id": "sdWuUXq2NDht",
        "outputId": "f2f314fd-c3fc-4925-ff6a-def8f50a6337"
      },
      "execution_count": null,
      "outputs": [
        {
          "output_type": "stream",
          "name": "stdout",
          "text": [
            "    Nome  Idade  Ano Nascimento\n",
            "0    Ana     25            1998\n",
            "1  Maria     30            1993\n",
            "2   João     35            1988\n"
          ]
        }
      ]
    },
    {
      "cell_type": "code",
      "source": [
        "import pandas as pd\n",
        "\n",
        "idades = {'Nome': ['Ana', 'Maria', 'João'], 'Idade': [25, 30, 35]}\n",
        "df_idades = pd.DataFrame(idades)\n",
        "\n",
        "# Gera uma nova coluna aplicando a função apply, no qual eleva ao quadrado cada idade\n",
        "df_idades['Idade ao Quadrado'] = df_idades['Idade'].apply(lambda x: x ** 2)\n",
        "\n",
        "print(df_idades)"
      ],
      "metadata": {
        "colab": {
          "base_uri": "https://localhost:8080/"
        },
        "id": "1kLkgifeOkRT",
        "outputId": "fe1a2af1-1915-4355-e187-a390aad75261"
      },
      "execution_count": null,
      "outputs": [
        {
          "output_type": "stream",
          "name": "stdout",
          "text": [
            "    Nome  Idade  Idade ao Quadrado\n",
            "0    Ana     25                625\n",
            "1  Maria     30                900\n",
            "2   João     35               1225\n"
          ]
        }
      ]
    },
    {
      "cell_type": "markdown",
      "source": [
        "#### Renomear nome da coluna: função .rename()"
      ],
      "metadata": {
        "id": "SBoLAfncQd5a"
      }
    },
    {
      "cell_type": "code",
      "source": [
        "import pandas as pd\n",
        "\n",
        "df_idades = pd.DataFrame({'Nome': ['Ana', 'Maria', 'João'], 'Idade': [25, 30, 35]})\n",
        "print(df_idades)\n",
        "print('\\n')\n",
        "df_idades.rename(columns={'Nome':'Nome do aluno'}, inplace=True) # inplace = True é para permitir a modificação interna\n",
        "print(df_idades)"
      ],
      "metadata": {
        "colab": {
          "base_uri": "https://localhost:8080/"
        },
        "id": "mpP99V33QdXi",
        "outputId": "12979e84-6836-4f9b-e66f-cbc3ee20d69c"
      },
      "execution_count": null,
      "outputs": [
        {
          "output_type": "stream",
          "name": "stdout",
          "text": [
            "    Nome  Idade\n",
            "0    Ana     25\n",
            "1  Maria     30\n",
            "2   João     35\n",
            "\n",
            "\n",
            "  Nome do aluno  Idade\n",
            "0           Ana     25\n",
            "1         Maria     30\n",
            "2          João     35\n"
          ]
        }
      ]
    },
    {
      "cell_type": "markdown",
      "source": [
        "#### Excluindo colunas: função drop\n",
        "\n",
        "Você pode excluir uma coluna usando o método drop() do DataFrame. Por exemplo, para excluir a coluna 'Idade', você pode fazer:"
      ],
      "metadata": {
        "id": "J7-FX3siRVyS"
      }
    },
    {
      "cell_type": "code",
      "source": [
        "import pandas as pd\n",
        "\n",
        "df_idades = pd.DataFrame({'Nome': ['Ana', 'Maria', 'João'], 'Idade': [25, 30, 35]})\n",
        "print(df_idades)\n",
        "print('\\n')\n",
        "# Deleta uma coluna (axis=1 diz ao algoritmo que Idade é uma coluna)\n",
        "df_idades.drop('Idade', axis=1, inplace=True)\n",
        "print(df_idades)\n"
      ],
      "metadata": {
        "colab": {
          "base_uri": "https://localhost:8080/"
        },
        "id": "AyW_MTzHPC01",
        "outputId": "12e637df-0cf3-476c-ab45-96ecc22208eb"
      },
      "execution_count": null,
      "outputs": [
        {
          "output_type": "stream",
          "name": "stdout",
          "text": [
            "    Nome  Idade\n",
            "0    Ana     25\n",
            "1  Maria     30\n",
            "2   João     35\n",
            "\n",
            "\n",
            "    Nome\n",
            "0    Ana\n",
            "1  Maria\n",
            "2   João\n"
          ]
        }
      ]
    },
    {
      "cell_type": "code",
      "source": [
        "import pandas as pd\n",
        "\n",
        "df_idades = pd.DataFrame({'Nome': ['Ana', 'Maria', 'João'], 'Idade': [25, 30, 35]})\n",
        "print(df_idades)\n",
        "print('\\n')\n",
        "# Deleta uma linha (axis=0 diz ao algoritmo que a linha de indice 1 será deletado e é uma linha)\n",
        "df_idades.drop(1, axis=0, inplace=True)\n",
        "print(df_idades)"
      ],
      "metadata": {
        "colab": {
          "base_uri": "https://localhost:8080/"
        },
        "id": "ULFJ2g6NRjhg",
        "outputId": "910608a3-d18a-4c6d-9816-9894ee2f58f0"
      },
      "execution_count": null,
      "outputs": [
        {
          "output_type": "stream",
          "name": "stdout",
          "text": [
            "    Nome  Idade\n",
            "0    Ana     25\n",
            "1  Maria     30\n",
            "2   João     35\n",
            "\n",
            "\n",
            "   Nome  Idade\n",
            "0   Ana     25\n",
            "2  João     35\n"
          ]
        }
      ]
    },
    {
      "cell_type": "markdown",
      "source": [
        "#### Adicionando uma coluna\n",
        "\n",
        "Você pode adicionar uma nova coluna em um DataFrame simplesmente atribuindo uma lista ou array à coluna desejada. Por exemplo, para adicionar uma nova coluna chamada 'Categoria' com base na idade do cliente, você pode fazer"
      ],
      "metadata": {
        "id": "7MwQYwKPSWWl"
      }
    },
    {
      "cell_type": "code",
      "source": [
        "import pandas as pd\n",
        "\n",
        "df_alunos = pd.DataFrame({'Nome': ['Ana', 'Bruno', 'Carla', 'Maria'],\n",
        "                   'Idade': [20, 25, 30, 35],\n",
        "                   'Sexo': ['F', 'M', 'F', 'M']})\n",
        "print(df_alunos)\n",
        "print('\\n')\n",
        "df_alunos['Hobby'] = ['Futebol', 'Leitura', 'Volei', 'Professor']\n",
        "print(df_alunos)"
      ],
      "metadata": {
        "colab": {
          "base_uri": "https://localhost:8080/"
        },
        "id": "_tVP_cTOS8nJ",
        "outputId": "22b75c11-a786-4541-c634-849d364f84e7"
      },
      "execution_count": null,
      "outputs": [
        {
          "output_type": "stream",
          "name": "stdout",
          "text": [
            "    Nome  Idade Sexo\n",
            "0    Ana     20    F\n",
            "1  Bruno     25    M\n",
            "2  Carla     30    F\n",
            "3  Maria     35    M\n",
            "\n",
            "\n",
            "    Nome  Idade Sexo      Hobby\n",
            "0    Ana     20    F    Futebol\n",
            "1  Bruno     25    M    Leitura\n",
            "2  Carla     30    F      Volei\n",
            "3  Maria     35    M  Professor\n"
          ]
        }
      ]
    },
    {
      "cell_type": "code",
      "source": [
        "import pandas as pd\n",
        "import numpy as np\n",
        "\n",
        "df_idades = pd.DataFrame({'Nome': ['Ana', 'Maria', 'João', 'Rita'], 'Idade': [25, 30, 35, 17]})\n",
        "print(df_idades)\n",
        "print('\\n')\n",
        "\n",
        "# A função where da biblioteca numpy fornece uma forma de criar uma classificação com condições\n",
        "df_idades['Categoria'] = np.where(df_idades['Idade'] >= 18, 'Adulto', 'Menor')\n",
        "print(df_idades)"
      ],
      "metadata": {
        "colab": {
          "base_uri": "https://localhost:8080/"
        },
        "id": "sii592eqRyf7",
        "outputId": "b43d5154-a979-40ea-eea7-d036534970a0"
      },
      "execution_count": null,
      "outputs": [
        {
          "output_type": "stream",
          "name": "stdout",
          "text": [
            "    Nome  Idade\n",
            "0    Ana     25\n",
            "1  Maria     30\n",
            "2   João     35\n",
            "3   Rita     17\n",
            "\n",
            "\n",
            "    Nome  Idade Categoria\n",
            "0    Ana     25    Adulto\n",
            "1  Maria     30    Adulto\n",
            "2   João     35    Adulto\n",
            "3   Rita     17     Menor\n"
          ]
        }
      ]
    },
    {
      "cell_type": "code",
      "source": [],
      "metadata": {
        "id": "JzMCTv7ZTj25"
      },
      "execution_count": null,
      "outputs": []
    },
    {
      "cell_type": "markdown",
      "source": [
        "### Funções de estatística"
      ],
      "metadata": {
        "id": "ZuVD0K_UT-Sv"
      }
    },
    {
      "cell_type": "markdown",
      "source": [
        "Pandas é uma biblioteca popular do Python usada para análise de dados e possui várias funções para cálculos estatísticos em conjuntos de dados. Algumas das funções mais comuns do Pandas para cálculo estatístico são:   \n",
        "\n",
        "- **mean()**: calcula a média dos valores em uma coluna ou em todo o DataFrame.   \n",
        "- **median**(): calcula a mediana dos valores em uma coluna ou em todo o DataFrame.   \n",
        "- **min()**: encontra o valor mínimo em uma coluna ou em todo o DataFrame.   \n",
        "- **max()**: encontra o valor máximo em uma coluna ou em todo o DataFrame.   \n",
        "- **std()**: calcula o desvio padrão dos valores em uma coluna ou em todo o DataFrame.   \n",
        "- **var()**: calcula a variância dos valores em uma coluna ou em todo o DataFrame.   \n",
        "- **count()**: conta o número de valores não nulos em uma coluna ou em todo o DataFrame.   \n",
        "- **describe()**: gera um resumo estatístico de um DataFrame que inclui contagem, média, desvio padrão, mínimo, máximo e quartis.   \n",
        "- **corr()**: calcula a correlação entre colunas do DataFrame.   \n",
        "- **cov()**: calcula a covariância entre colunas do DataFrame.   \n",
        "- **skew()**: calcula a assimetria dos valores em uma coluna ou em todo o DataFrame.   \n",
        "- **kurtosis()**: calcula a curtose dos valores em uma coluna ou em todo o DataFrame. \n",
        "- **quantile()**: calcula o valor de um determinado percentil em uma coluna, por exemplo df['coluna'].quantile(0.25) para calcular o valor do primeiro quartil.\n",
        "\n",
        "\n",
        "Essas funções podem ser aplicadas em colunas específicas ou em todo o DataFrame para obter informações úteis sobre os dados, como a distribuição, centralidade, dispersão, relação entre colunas, assimetria e curtose. Essas informações podem ser usadas para tomar decisões informadas sobre análise de dados, modelagem estatística e outras tarefas relacionadas."
      ],
      "metadata": {
        "id": "0VaT_N2YUdet"
      }
    },
    {
      "cell_type": "markdown",
      "source": [
        "#### Aplicando as operações em pandas"
      ],
      "metadata": {
        "id": "jsG-rbPMVNia"
      }
    },
    {
      "cell_type": "code",
      "source": [
        "import pandas as pd\n",
        "\n",
        "# Cria data frame de exemplo de salários\n",
        "df_salario = pd.DataFrame({'salario': [2000, 2500, 1500, 4000, 5000, 3500, 2500]})"
      ],
      "metadata": {
        "id": "qeaiBwEWVb5L"
      },
      "execution_count": null,
      "outputs": []
    },
    {
      "cell_type": "code",
      "source": [
        "# calcular média\n",
        "média = df_salario['salario'].mean()\n",
        "print('Média aritmética:', média)\n",
        "\n",
        "# calcular mediana\n",
        "mediana = df_salario['salario'].median()\n",
        "print('Mediana:', mediana)\n",
        "\n",
        "# calcular valor mínimo\n",
        "minimo = df_salario['salario'].min()\n",
        "print('Valor mínimo:', minimo)\n",
        "\n",
        "# calcular valor máximo\n",
        "maximo = df_salario['salario'].max()\n",
        "print('Valor máximo:', maximo)\n"
      ],
      "metadata": {
        "colab": {
          "base_uri": "https://localhost:8080/"
        },
        "id": "ZuKlDNVEVZgE",
        "outputId": "da76b356-d5a7-482d-8487-390414d744d9"
      },
      "execution_count": null,
      "outputs": [
        {
          "output_type": "stream",
          "name": "stdout",
          "text": [
            "Média aritmética: 3000.0\n",
            "Mediana: 2500.0\n",
            "Valor mínimo: 1500\n",
            "Valor máximo: 5000\n"
          ]
        }
      ]
    },
    {
      "cell_type": "code",
      "source": [
        "# Captar a quantidade de itens\n",
        "quantidade_itens_não_nulos = df_salario['salario'].count()\n",
        "print('Retorna a quantidade de itens não nulos:', quantidade_itens_não_nulos)\n",
        "\n",
        "# Função describe() gera um resumi estatístico de um dataframe\n",
        "# Contagem, desvio padrão, mínimo, máximo e quartis\n",
        "descricao = df_salario['salario'].describe()\n",
        "print('Descrição estatística:\\n',descricao)\n"
      ],
      "metadata": {
        "colab": {
          "base_uri": "https://localhost:8080/"
        },
        "id": "ujQ4UTiOWIVA",
        "outputId": "532b879e-0901-43e5-8d3c-ba13e3eb5de0"
      },
      "execution_count": null,
      "outputs": [
        {
          "output_type": "stream",
          "name": "stdout",
          "text": [
            "Retorna a quantidade de itens não nulos: 7\n",
            "Descrição estatística:\n",
            " count       7.000000\n",
            "mean     3000.000000\n",
            "std      1224.744871\n",
            "min      1500.000000\n",
            "25%      2250.000000\n",
            "50%      2500.000000\n",
            "75%      3750.000000\n",
            "max      5000.000000\n",
            "Name: salario, dtype: float64\n"
          ]
        }
      ]
    },
    {
      "cell_type": "code",
      "source": [
        "# calcular variancia\n",
        "var = df_salario['salario'].var()\n",
        "print('Variância:', var)\n",
        "\n",
        "# calcular desvio padrão\n",
        "std = df_salario['salario'].std()\n",
        "print('Desvio padrão:', std)\n",
        "\n"
      ],
      "metadata": {
        "colab": {
          "base_uri": "https://localhost:8080/"
        },
        "id": "wr2rUbtvUBGj",
        "outputId": "19ee8679-6fd9-4d9a-817b-a18113b1a0d7"
      },
      "execution_count": null,
      "outputs": [
        {
          "output_type": "stream",
          "name": "stdout",
          "text": [
            "Variância: 1500000.0\n",
            "Desvio padrão: 1224.744871391589\n"
          ]
        }
      ]
    },
    {
      "cell_type": "code",
      "source": [
        "# calcular primeiro quartil\n",
        "quartil1 = df_salario['salario'].quantile(0.25)\n",
        "print('Primeiro quartil:', quartil1)\n",
        "\n",
        "quartil1 = df_salario['salario'].quantile(0.75)\n",
        "print('terceiro quartil:', quartil1)"
      ],
      "metadata": {
        "colab": {
          "base_uri": "https://localhost:8080/"
        },
        "id": "6SVFNXzxVlNV",
        "outputId": "56518108-cce5-4471-9930-3faf6e858e90"
      },
      "execution_count": null,
      "outputs": [
        {
          "output_type": "stream",
          "name": "stdout",
          "text": [
            "Primeiro quartil: 2250.0\n",
            "terceiro quartil: 3750.0\n"
          ]
        }
      ]
    },
    {
      "cell_type": "markdown",
      "source": [
        "#### Correlação: função corr()"
      ],
      "metadata": {
        "id": "epdnC29HYLib"
      }
    },
    {
      "cell_type": "markdown",
      "source": [
        "O método corr() é usado para calcular a correlação entre as colunas de um DataFrame. A correlação é uma medida estatística que indica como duas variáveis estão relacionadas entre si. O resultado da função corr() é um novo DataFrame que contém os valores de correlação para todas as combinações de colunas no DataFrame original.\n",
        "\n",
        "Os valores de correlação variam de -1 a 1, onde -1 indica uma correlação negativa perfeita (quando uma variável aumenta, a outra diminui) e 1 indica uma correlação positiva perfeita (quando uma variável aumenta, a outra também aumenta). Um valor de 0 indica que não há correlação entre as variáveis."
      ],
      "metadata": {
        "id": "t-YpjrtXXiog"
      }
    },
    {
      "cell_type": "code",
      "source": [
        "import pandas as pd\n",
        "\n",
        "# Criando um DataFrame\n",
        "df = pd.DataFrame({'A': [1, 2, 3, 4], 'B': [5, 6, 7, 8], 'C': [9, 10, 11, 12]})\n",
        "\n",
        "# Usando o método corr()\n",
        "correlação = df.corr()\n",
        "print(correlação)\n"
      ],
      "metadata": {
        "colab": {
          "base_uri": "https://localhost:8080/"
        },
        "id": "VFKAJF5qV0lo",
        "outputId": "35955e0b-2b53-40b2-baf7-77c71248a190"
      },
      "execution_count": null,
      "outputs": [
        {
          "output_type": "stream",
          "name": "stdout",
          "text": [
            "     A    B    C\n",
            "A  1.0  1.0  1.0\n",
            "B  1.0  1.0  1.0\n",
            "C  1.0  1.0  1.0\n"
          ]
        }
      ]
    },
    {
      "cell_type": "markdown",
      "source": [
        "Neste exemplo, o DataFrame tem 3 colunas: A, B e C. Como todas as colunas são perfeitamente correlacionadas com elas mesmas, o resultado da função corr() é uma matriz de correlação com valores 1 na diagonal principal e 0 nas outras posições. É importante notar que a matriz de correlação é sempre simétrica, ou seja, a correlação entre a coluna A e a coluna B é a mesma que a correlação entre a coluna B e a coluna A."
      ],
      "metadata": {
        "id": "647sD1J7Xtqf"
      }
    },
    {
      "cell_type": "markdown",
      "source": [
        "#### Função de covariância: cov()"
      ],
      "metadata": {
        "id": "AE0lw6WoYQu6"
      }
    },
    {
      "cell_type": "markdown",
      "source": [
        "A função cov() em Pandas é usada para calcular a covariância entre duas séries de dados. A covariância mede a relação entre duas variáveis e como elas variam em conjunto. Uma covariância positiva indica que as duas variáveis tendem a se mover na mesma direção, enquanto uma covariância negativa indica que elas tendem a se mover em direções opostas.\n",
        "\n",
        "A sintaxe básica da função cov() é:"
      ],
      "metadata": {
        "id": "cz8TZB7zYi-X"
      }
    },
    {
      "cell_type": "code",
      "source": [
        "import pandas as pd\n",
        "\n",
        "data = {'altura': [1.65, 1.70, 1.75, 1.80, 1.85],\n",
        "        'peso': [60, 70, 80, 90, 100]}\n",
        "\n",
        "df = pd.DataFrame(data)\n",
        "print(df)\n"
      ],
      "metadata": {
        "colab": {
          "base_uri": "https://localhost:8080/"
        },
        "id": "ywrw7JKvYjtC",
        "outputId": "c93758c5-96ae-4b84-bdf6-339893da5b3d"
      },
      "execution_count": null,
      "outputs": [
        {
          "output_type": "stream",
          "name": "stdout",
          "text": [
            "   altura  peso\n",
            "0    1.65    60\n",
            "1    1.70    70\n",
            "2    1.75    80\n",
            "3    1.80    90\n",
            "4    1.85   100\n"
          ]
        }
      ]
    },
    {
      "cell_type": "code",
      "source": [
        "cov_matrix = df.cov()\n",
        "print(cov_matrix)\n"
      ],
      "metadata": {
        "colab": {
          "base_uri": "https://localhost:8080/"
        },
        "id": "3CRyCcLlZH1j",
        "outputId": "bbd6922a-1a86-45c0-8fa7-81dd85b6f38c"
      },
      "execution_count": null,
      "outputs": [
        {
          "output_type": "stream",
          "name": "stdout",
          "text": [
            "         altura    peso\n",
            "altura  0.00625    1.25\n",
            "peso    1.25000  250.00\n"
          ]
        }
      ]
    },
    {
      "cell_type": "markdown",
      "source": [
        "A diagonal principal representa a variância de cada variável e as outras entradas representam a covariância entre as variáveis. No nosso exemplo, a covariância entre altura e peso é 1.75. Podemos interpretar isso como: à medida que a altura aumenta, o peso também aumenta. Note que a covariância não é padronizada e, portanto, não é uma medida comparável. Para isso, podemos usar a correlação."
      ],
      "metadata": {
        "id": "Pd0lEjV3ZM8e"
      }
    },
    {
      "cell_type": "markdown",
      "source": [
        "\n",
        "\n",
        "---\n",
        "\n",
        "\n",
        "\n",
        "---\n",
        "\n"
      ],
      "metadata": {
        "id": "JfI7B8KpZacB"
      }
    },
    {
      "cell_type": "markdown",
      "source": [
        "# Leitura de arquivos com pandas"
      ],
      "metadata": {
        "id": "Lo06dBgmZhd1"
      }
    },
    {
      "cell_type": "markdown",
      "source": [
        "A biblioteca Pandas fornece diversas ferramentas para ler e manipular dados em diferentes formatos. A leitura de arquivos com o Pandas é uma das funcionalidades mais utilizadas dessa biblioteca, permitindo que arquivos como CSV, Excel, JSON, entre outros, sejam lidos e armazenados em um DataFrame.\n",
        "\n",
        "A função principal para leitura de arquivos é a read_csv(), que permite ler arquivos CSV e separados por tabulação. Além disso, existem outras funções como read_excel(), para arquivos do Excel, e read_json(), para arquivos JSON.\n",
        "\n",
        "Essas funções permitem que o arquivo seja lido e armazenado em um DataFrame, que é uma estrutura de dados bidimensional, semelhante a uma tabela de banco de dados, com linhas e colunas que podem ser manipuladas e processadas com diversas funções do Pandas.\n",
        "\n",
        "Segue um exemplo de leitura de um arquivo CSV com o Pandas:"
      ],
      "metadata": {
        "id": "46_LFffJZn1d"
      }
    },
    {
      "cell_type": "code",
      "source": [
        "# Lista de URLs\n",
        "\n",
        "url_alunos = 'https://raw.githubusercontent.com/luiscarlosjunior/aulas-graduacao/master/data-science/analise-dados/datasets/csv/resumoAlunos.csv'\n",
        "separador = ';'"
      ],
      "metadata": {
        "id": "Nc1rgcaqaEpI"
      },
      "execution_count": null,
      "outputs": []
    },
    {
      "cell_type": "code",
      "source": [
        "import pandas as pd\n",
        "\n",
        "# Lendo arquivo CSV\n",
        "df = pd.read_csv(url_alunos, separador)\n",
        "# Exibindo as primeiras linhas do DataFrame\n",
        "print(df.head())"
      ],
      "metadata": {
        "colab": {
          "base_uri": "https://localhost:8080/"
        },
        "id": "_PekciLnZI3f",
        "outputId": "cb41afa1-2485-4f1b-d36b-9114cdee0c84"
      },
      "execution_count": null,
      "outputs": [
        {
          "output_type": "stream",
          "name": "stderr",
          "text": [
            "<ipython-input-2-68d96678966b>:4: FutureWarning: In a future version of pandas all arguments of read_csv except for the argument 'filepath_or_buffer' will be keyword-only.\n",
            "  df = pd.read_csv(url_alunos, separador)\n"
          ]
        },
        {
          "output_type": "stream",
          "name": "stdout",
          "text": [
            "            RA Primeiro Nome Sobrenome  Idade  AV1  AV2  média  Total Faltas  \\\n",
            "0  63227467787         Aaron  PHILLIPS     31    9    9    9.0            22   \n",
            "1  55774275097       Abigail      SOTO     20    7    6    6.5            18   \n",
            "2  76059134116          Adam    PARKER     19   10   10   10.0            14   \n",
            "3  64295541703        Agatha  Oliveira     45    7   10    8.5            16   \n",
            "4  71033266097          Alan     JAMES     39    9    9    9.0            15   \n",
            "\n",
            "                   Curso     Genero   Periodo  \n",
            "0  Engeharia de Software  Masculino  Matutino  \n",
            "1  Ciência da Computação   Feminino  Matutino  \n",
            "2  Engeharia de Software  Masculino  Matutino  \n",
            "3  Sistema da Informação  Intersexo  Matutino  \n",
            "4         Banco de dados  Masculino  Matutino  \n"
          ]
        }
      ]
    },
    {
      "cell_type": "markdown",
      "source": [],
      "metadata": {
        "id": "PlFOapMypJ1G"
      }
    },
    {
      "cell_type": "code",
      "source": [
        "print(df.loc[:, 'Idade'].describe())"
      ],
      "metadata": {
        "colab": {
          "base_uri": "https://localhost:8080/"
        },
        "id": "JJSu5GfhZ7O2",
        "outputId": "f8818f87-7deb-4c62-ce65-5a6479732abd"
      },
      "execution_count": null,
      "outputs": [
        {
          "output_type": "stream",
          "name": "stdout",
          "text": [
            "count    300.000000\n",
            "mean      40.456667\n",
            "std       14.069398\n",
            "min       17.000000\n",
            "25%       29.750000\n",
            "50%       39.000000\n",
            "75%       52.000000\n",
            "max       65.000000\n",
            "Name: Idade, dtype: float64\n"
          ]
        }
      ]
    },
    {
      "cell_type": "markdown",
      "source": [
        "### Análise de dados com pandas\n"
      ],
      "metadata": {
        "id": "ciLAzg8mpW0p"
      }
    },
    {
      "cell_type": "markdown",
      "source": [
        "Claro! A análise de dados com Pandas é uma das principais aplicações da biblioteca. Vou te mostrar um exemplo básico para você entender como funciona.\n",
        "\n",
        "Suponha que temos um arquivo CSV com informações de vendas de uma loja. Podemos carregar esse arquivo em um DataFrame do Pandas usando a função read_csv(). Por exemplo:"
      ],
      "metadata": {
        "id": "w6q1r1Uqpaf6"
      }
    },
    {
      "cell_type": "markdown",
      "source": [
        "#### Capturar os dados de algum lugar"
      ],
      "metadata": {
        "id": "TEk2VftjpmD4"
      }
    },
    {
      "cell_type": "code",
      "source": [
        "import pandas as pd\n",
        "\n",
        "url_alunos = 'https://raw.githubusercontent.com/luiscarlosjunior/aulas-graduacao/master/data-science/analise-dados/datasets/csv/resumoAlunos.csv'\n",
        "separador = ';'\n",
        "# Lendo arquivo CSV\n",
        "alunos = pd.read_csv(url_alunos, separador)"
      ],
      "metadata": {
        "id": "U4zvl_dZatiU"
      },
      "execution_count": null,
      "outputs": []
    },
    {
      "cell_type": "code",
      "source": [
        "# Exibindo as cinco primeiras linhas do DataFrame\n",
        "print(alunos.head())\n",
        "# Exibindo as 3 primerias linhas\n",
        "print(alunos.head(3))\n",
        "# Exibindo a primeira linha\n",
        "print(alunos.head(1))"
      ],
      "metadata": {
        "colab": {
          "base_uri": "https://localhost:8080/"
        },
        "id": "6yRvqRQ0puCS",
        "outputId": "1ef3dfe2-00b5-4545-8917-b19ec73cf94e"
      },
      "execution_count": null,
      "outputs": [
        {
          "output_type": "stream",
          "name": "stdout",
          "text": [
            "            RA Primeiro Nome Sobrenome  Idade  AV1  AV2  média  Total Faltas  \\\n",
            "0  63227467787         Aaron  PHILLIPS     31    9    9    9.0            22   \n",
            "1  55774275097       Abigail      SOTO     20    7    6    6.5            18   \n",
            "2  76059134116          Adam    PARKER     19   10   10   10.0            14   \n",
            "3  64295541703        Agatha  Oliveira     45    7   10    8.5            16   \n",
            "4  71033266097          Alan     JAMES     39    9    9    9.0            15   \n",
            "\n",
            "                   Curso     Genero   Periodo  \n",
            "0  Engeharia de Software  Masculino  Matutino  \n",
            "1  Ciência da Computação   Feminino  Matutino  \n",
            "2  Engeharia de Software  Masculino  Matutino  \n",
            "3  Sistema da Informação  Intersexo  Matutino  \n",
            "4         Banco de dados  Masculino  Matutino  \n",
            "            RA Primeiro Nome Sobrenome  Idade  AV1  AV2  média  Total Faltas  \\\n",
            "0  63227467787         Aaron  PHILLIPS     31    9    9    9.0            22   \n",
            "1  55774275097       Abigail      SOTO     20    7    6    6.5            18   \n",
            "2  76059134116          Adam    PARKER     19   10   10   10.0            14   \n",
            "\n",
            "                   Curso     Genero   Periodo  \n",
            "0  Engeharia de Software  Masculino  Matutino  \n",
            "1  Ciência da Computação   Feminino  Matutino  \n",
            "2  Engeharia de Software  Masculino  Matutino  \n",
            "            RA Primeiro Nome Sobrenome  Idade  AV1  AV2  média  Total Faltas  \\\n",
            "0  63227467787         Aaron  PHILLIPS     31    9    9    9.0            22   \n",
            "\n",
            "                   Curso     Genero   Periodo  \n",
            "0  Engeharia de Software  Masculino  Matutino  \n"
          ]
        }
      ]
    },
    {
      "cell_type": "markdown",
      "source": [
        "#### Podemos pegar algumas informações genéricas"
      ],
      "metadata": {
        "id": "A8M0b96trtHx"
      }
    },
    {
      "cell_type": "code",
      "source": [
        "print(alunos.describe()) # mostra estatísticas descritivas do dataframe\n",
        "print(alunos.info()) # mostra informações sobre as colunas do dataframe\n"
      ],
      "metadata": {
        "colab": {
          "base_uri": "https://localhost:8080/"
        },
        "id": "g3bLj31zrwA8",
        "outputId": "7c6fcbb1-0aea-4765-9505-135b52b264bc"
      },
      "execution_count": null,
      "outputs": [
        {
          "output_type": "stream",
          "name": "stdout",
          "text": [
            "                 RA       Idade         AV1         AV2       média  \\\n",
            "count  3.000000e+02  300.000000  300.000000  300.000000  300.000000   \n",
            "mean   7.745431e+10   40.456667    7.686667    7.980000    7.833333   \n",
            "std    1.290698e+10   14.069398    1.364317    1.395022    1.028306   \n",
            "min    5.561686e+10   17.000000    6.000000    6.000000    6.000000   \n",
            "25%    6.625901e+10   29.750000    6.000000    7.000000    7.000000   \n",
            "50%    7.746094e+10   39.000000    8.000000    8.000000    8.000000   \n",
            "75%    8.866367e+10   52.000000    9.000000    9.000000    8.500000   \n",
            "max    9.984376e+10   65.000000   10.000000   10.000000   10.000000   \n",
            "\n",
            "       Total Faltas  \n",
            "count    300.000000  \n",
            "mean      12.096667  \n",
            "std        3.823968  \n",
            "min        4.000000  \n",
            "25%        9.000000  \n",
            "50%       12.000000  \n",
            "75%       15.000000  \n",
            "max       22.000000  \n",
            "<class 'pandas.core.frame.DataFrame'>\n",
            "RangeIndex: 300 entries, 0 to 299\n",
            "Data columns (total 11 columns):\n",
            " #   Column         Non-Null Count  Dtype  \n",
            "---  ------         --------------  -----  \n",
            " 0   RA             300 non-null    int64  \n",
            " 1   Primeiro Nome  300 non-null    object \n",
            " 2   Sobrenome      300 non-null    object \n",
            " 3   Idade          300 non-null    int64  \n",
            " 4   AV1            300 non-null    int64  \n",
            " 5   AV2            300 non-null    int64  \n",
            " 6   média          300 non-null    float64\n",
            " 7   Total Faltas   300 non-null    int64  \n",
            " 8   Curso          300 non-null    object \n",
            " 9   Genero         300 non-null    object \n",
            " 10  Periodo        300 non-null    object \n",
            "dtypes: float64(1), int64(5), object(5)\n",
            "memory usage: 25.9+ KB\n",
            "None\n"
          ]
        }
      ]
    },
    {
      "cell_type": "markdown",
      "source": [
        "#### Pegando colunas de interesse, dessa forma podemos direcionar os nossos estudos"
      ],
      "metadata": {
        "id": "oSKJC6pJr4jm"
      }
    },
    {
      "cell_type": "code",
      "source": [
        "colunas_interesse = ['média', 'Idade', 'Total Faltas']\n",
        "df_interesse = alunos[colunas_interesse]\n",
        "print(f'Média das colunas\\n{df_interesse.mean()}\\n') # média das colunas\n",
        "print(f'Mediana das colunas\\n{df_interesse.median()}\\n') # mediana das colunas\n",
        "print(f'Moda das colunas\\n{df_interesse.mode()}\\n') # moda das colunas\n",
        "print(f'Descrição estatística das colunas\\n{df_interesse.describe()}\\n')\n",
        "print(f'Informações gerais das colunas\\n{df_interesse.info()}\\n')"
      ],
      "metadata": {
        "colab": {
          "base_uri": "https://localhost:8080/"
        },
        "id": "0vmf44Car7sG",
        "outputId": "aa73fb66-fd55-4b16-87e2-0c96a043326d"
      },
      "execution_count": null,
      "outputs": [
        {
          "output_type": "stream",
          "name": "stdout",
          "text": [
            "Média das colunas\n",
            "média            7.833333\n",
            "Idade           40.456667\n",
            "Total Faltas    12.096667\n",
            "dtype: float64\n",
            "\n",
            "Mediana das colunas\n",
            "média            8.0\n",
            "Idade           39.0\n",
            "Total Faltas    12.0\n",
            "dtype: float64\n",
            "\n",
            "Moda das colunas\n",
            "   média  Idade  Total Faltas\n",
            "0    8.0     33            12\n",
            "\n",
            "Descrição estatística das colunas\n",
            "            média       Idade  Total Faltas\n",
            "count  300.000000  300.000000    300.000000\n",
            "mean     7.833333   40.456667     12.096667\n",
            "std      1.028306   14.069398      3.823968\n",
            "min      6.000000   17.000000      4.000000\n",
            "25%      7.000000   29.750000      9.000000\n",
            "50%      8.000000   39.000000     12.000000\n",
            "75%      8.500000   52.000000     15.000000\n",
            "max     10.000000   65.000000     22.000000\n",
            "\n",
            "<class 'pandas.core.frame.DataFrame'>\n",
            "RangeIndex: 300 entries, 0 to 299\n",
            "Data columns (total 3 columns):\n",
            " #   Column        Non-Null Count  Dtype  \n",
            "---  ------        --------------  -----  \n",
            " 0   média         300 non-null    float64\n",
            " 1   Idade         300 non-null    int64  \n",
            " 2   Total Faltas  300 non-null    int64  \n",
            "dtypes: float64(1), int64(2)\n",
            "memory usage: 7.2 KB\n",
            "Informações gerais das colunas\n",
            "None\n",
            "\n"
          ]
        }
      ]
    },
    {
      "cell_type": "markdown",
      "source": [
        "#### Podemos agrupas os dados em categorias, segue abaixo por exemplo, queremos saber qual é a média de notas dos alunos do matutino e comparar com os alunos do noturno."
      ],
      "metadata": {
        "id": "dinkdvaFtJdd"
      }
    },
    {
      "cell_type": "code",
      "source": [
        "# A sintaxe é: dataframe.groupby('Nome Coluna')['Nome Coluna']\n",
        "# A coluna dentro dos parenteses será utilizado para criar as categorias com dados unicos\n",
        "# A coluna entre conchetes será de onde os dados serão coletados, segue abaixo um exemplo \n",
        "grupo_alunos_matutinos = alunos.groupby('Periodo')['média']\n",
        "print(grupo_alunos_matutinos.describe()) # Esse função pega as informações básicas para análise"
      ],
      "metadata": {
        "colab": {
          "base_uri": "https://localhost:8080/"
        },
        "id": "IFvobGx2qeFV",
        "outputId": "5af0b156-1ef0-42e8-82ad-8b4a68769b49"
      },
      "execution_count": null,
      "outputs": [
        {
          "output_type": "stream",
          "name": "stdout",
          "text": [
            "            count      mean       std  min  25%  50%  75%   max\n",
            "Periodo                                                        \n",
            "Integral     48.0  7.760417  0.905007  6.0  7.0  8.0  8.5  10.0\n",
            "Matutino     99.0  7.808081  1.046635  6.0  7.0  8.0  8.5  10.0\n",
            "Noturno     103.0  7.820388  1.035768  6.0  7.0  8.0  8.5  10.0\n",
            "Vespertino   50.0  7.980000  1.101761  6.0  7.0  8.0  9.0  10.0\n"
          ]
        }
      ]
    },
    {
      "cell_type": "code",
      "source": [
        "# Aqui estamos querendo saber se o total de faltas é diferente entre os períodos\n",
        "grupo_alunos_matutinos = alunos.groupby('Periodo')['Total Faltas']\n",
        "print(grupo_alunos_matutinos.describe())"
      ],
      "metadata": {
        "colab": {
          "base_uri": "https://localhost:8080/"
        },
        "id": "CMg2ppHktt1A",
        "outputId": "8ea7b004-2d3e-4a13-fae0-8f478483f0ad"
      },
      "execution_count": null,
      "outputs": [
        {
          "output_type": "stream",
          "name": "stdout",
          "text": [
            "            count       mean       std  min   25%   50%    75%   max\n",
            "Periodo                                                             \n",
            "Integral     48.0  12.937500  4.358441  5.0  10.0  12.0  15.25  22.0\n",
            "Matutino     99.0  12.515152  3.715285  5.0  10.0  12.0  15.00  22.0\n",
            "Noturno     103.0  11.475728  3.561352  4.0   9.0  11.0  14.00  20.0\n",
            "Vespertino   50.0  11.740000  3.874617  4.0   9.0  12.0  14.00  20.0\n"
          ]
        }
      ]
    },
    {
      "cell_type": "code",
      "source": [
        "# Queremos fazer uma análise nas notas de cada periodo\n",
        "grupo_alunos_matutinos = alunos.groupby('Periodo')['AV1']\n",
        "print(grupo_alunos_matutinos.describe())"
      ],
      "metadata": {
        "colab": {
          "base_uri": "https://localhost:8080/"
        },
        "id": "iOKv_q32uYGF",
        "outputId": "e626e865-2697-40fd-9fa6-9d038a70e891"
      },
      "execution_count": null,
      "outputs": [
        {
          "output_type": "stream",
          "name": "stdout",
          "text": [
            "            count      mean       std  min   25%  50%  75%   max\n",
            "Periodo                                                         \n",
            "Integral     48.0  7.583333  1.268830  6.0  7.00  7.0  8.0  10.0\n",
            "Matutino     99.0  7.676768  1.412974  6.0  6.00  7.0  9.0  10.0\n",
            "Noturno     103.0  7.689320  1.357832  6.0  6.50  8.0  9.0  10.0\n",
            "Vespertino   50.0  7.800000  1.399708  6.0  6.25  8.0  9.0  10.0\n"
          ]
        }
      ]
    },
    {
      "cell_type": "code",
      "source": [
        "# Queremos fazer uma análise nas notas de cada periodo\n",
        "grupo_alunos_matutinos = alunos.groupby('Periodo')['AV2']\n",
        "print(grupo_alunos_matutinos.describe())"
      ],
      "metadata": {
        "colab": {
          "base_uri": "https://localhost:8080/"
        },
        "id": "OeGymIRhuglz",
        "outputId": "64d5dd96-a68c-4537-9bcf-25e8cf43051b"
      },
      "execution_count": null,
      "outputs": [
        {
          "output_type": "stream",
          "name": "stdout",
          "text": [
            "            count      mean       std  min  25%  50%  75%   max\n",
            "Periodo                                                        \n",
            "Integral     48.0  7.937500  1.359071  6.0  7.0  8.0  9.0  10.0\n",
            "Matutino     99.0  7.939394  1.376317  6.0  7.0  8.0  9.0  10.0\n",
            "Noturno     103.0  7.951456  1.444249  6.0  7.0  8.0  9.0  10.0\n",
            "Vespertino   50.0  8.160000  1.390346  6.0  7.0  8.0  9.0  10.0\n"
          ]
        }
      ]
    },
    {
      "cell_type": "markdown",
      "source": [
        "### Podemos aplicar filtros nas consultas"
      ],
      "metadata": {
        "id": "BZDmNmlqurpF"
      }
    },
    {
      "cell_type": "code",
      "source": [],
      "metadata": {
        "id": "7uC9g07guhi4"
      },
      "execution_count": null,
      "outputs": []
    },
    {
      "cell_type": "markdown",
      "source": [
        "#### Procuramos algo para avaliar, por exemplo, qual a média de falta de todos os alunos"
      ],
      "metadata": {
        "id": "44NxVdCwqIYM"
      }
    },
    {
      "cell_type": "code",
      "source": [
        "# Identifique em qual coluna está a informação e faça a operação\n",
        "média_falta = alunos['Total Faltas'].mean()\n",
        "# Faça a conclusão\n",
        "print(f'Em média os alunos faltaram {int(round(média_falta,0))} vezes ao longo do semestre')"
      ],
      "metadata": {
        "colab": {
          "base_uri": "https://localhost:8080/"
        },
        "id": "xl8Yr-Hrp8xV",
        "outputId": "f713042c-d667-4067-f106-c7a05bc67549"
      },
      "execution_count": null,
      "outputs": [
        {
          "output_type": "stream",
          "name": "stdout",
          "text": [
            "Em média os alunos faltaram 12 vezes ao longo do semestre\n"
          ]
        }
      ]
    },
    {
      "cell_type": "code",
      "source": [],
      "metadata": {
        "id": "37DvI0KJrjmc"
      },
      "execution_count": null,
      "outputs": []
    }
  ]
}