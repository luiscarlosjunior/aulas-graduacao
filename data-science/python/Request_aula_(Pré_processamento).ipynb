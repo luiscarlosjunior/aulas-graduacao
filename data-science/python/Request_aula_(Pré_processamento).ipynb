{
  "cells": [
    {
      "cell_type": "markdown",
      "metadata": {
        "id": "ELGkTA3_LDDQ"
      },
      "source": [
        "# Requisições Web\n"
      ]
    },
    {
      "cell_type": "markdown",
      "metadata": {
        "id": "czBCk1_ZNd4I"
      },
      "source": [
        "Um dos recursos importantes que Python nos oferece é a possibilidade de efetuar requisições WEB dentro de programas de forma simples e rápida. Para isso usaremos o módulo requests. Módulo é um programa Python que pode conter variáveis, funções, classes e que você pode adicionar ao seu programa Python\n",
        "\n",
        "O Módulo Requests permite que sejam enviados requisições HTTP/1.1 usando Python. Com ele você pode adicionar conteúdo como cabeçalhos (headers), dados de formulários (form datas), arquivos multipartes (multipart files) e parâmetros através do Python. Ele permite também que você acesse o retorno das requisições de forma simples e rápida."
      ]
    },
    {
      "cell_type": "markdown",
      "metadata": {
        "id": "cGjBmz55NigJ"
      },
      "source": [
        "Solicitações web (ou web requests) são pedidos feitos por um cliente (como um navegador da web ou um programa de computador) a um servidor web para obter informações ou realizar alguma ação. Essas solicitações são feitas utilizando o protocolo HTTP (Hypertext Transfer Protocol) ou HTTPS (HTTP Secure) para transferir dados pela internet.\n",
        "\n",
        "Existem vários tipos de solicitações web, sendo as mais comuns:\n",
        "\n",
        "Solicitação GET: é utilizada para solicitar dados de um servidor. A resposta geralmente é um arquivo HTML, que é renderizado pelo navegador para exibir uma página da web.\n",
        "Solicitação POST: é utilizada para enviar dados a um servidor, geralmente para realizar uma ação, como enviar um formulário de cadastro ou realizar uma compra online.\n",
        "Solicitação PUT: é utilizada para atualizar dados em um servidor.\n",
        "Solicitação DELETE: é utilizada para excluir dados em um servidor.\n",
        "Além disso, as solicitações web podem conter cabeçalhos (headers) que fornecem informações adicionais sobre a solicitação ou resposta, como o tipo de conteúdo sendo enviado, a codificação utilizada, a data e a hora da solicitação e outras informações relevantes.\n",
        "\n",
        "As solicitações web são amplamente utilizadas na construção de aplicativos e serviços da web. Por exemplo, um aplicativo de clima pode fazer uma solicitação web a um servidor para obter informações atualizadas sobre as condições meteorológicas em uma determinada região. Um aplicativo de e-commerce pode fazer uma solicitação web para enviar informações de pagamento a um servidor seguro. Em resumo, as solicitações web são essenciais para a comunicação entre clientes e servidores na web."
      ]
    },
    {
      "cell_type": "code",
      "execution_count": null,
      "metadata": {
        "colab": {
          "base_uri": "https://localhost:8080/"
        },
        "id": "7wGYdfinIMew",
        "outputId": "01307e0d-9a83-435a-e01c-d34bdb314168"
      },
      "outputs": [
        {
          "name": "stdout",
          "output_type": "stream",
          "text": [
            "b'<!doctype html>\\n<html>\\n<head>\\n    <title>Example Domain</title>\\n\\n    <meta charset=\"utf-8\" />\\n    <meta http-equiv=\"Content-type\" content=\"text/html; charset=utf-8\" />\\n    <meta name=\"viewport\" content=\"width=device-width, initial-scale=1\" />\\n    <style type=\"text/css\">\\n    body {\\n        background-color: #f0f0f2;\\n        margin: 0;\\n        padding: 0;\\n        font-family: -apple-system, system-ui, BlinkMacSystemFont, \"Segoe UI\", \"Open Sans\", \"Helvetica Neue\", Helvetica, Arial, sans-serif;\\n        \\n    }\\n    div {\\n        width: 600px;\\n        margin: 5em auto;\\n        padding: 2em;\\n        background-color: #fdfdff;\\n        border-radius: 0.5em;\\n        box-shadow: 2px 3px 7px 2px rgba(0,0,0,0.02);\\n    }\\n    a:link, a:visited {\\n        color: #38488f;\\n        text-decoration: none;\\n    }\\n    @media (max-width: 700px) {\\n        div {\\n            margin: 0 auto;\\n            width: auto;\\n        }\\n    }\\n    </style>    \\n</head>\\n\\n<body>\\n<div>\\n    <h1>Example Domain</h1>\\n    <p>This domain is for use in illustrative examples in documents. You may use this\\n    domain in literature without prior coordination or asking for permission.</p>\\n    <p><a href=\"https://www.iana.org/domains/example\">More information...</a></p>\\n</div>\\n</body>\\n</html>\\n'\n",
            "{'Content-Encoding': 'gzip', 'Accept-Ranges': 'bytes', 'Age': '407338', 'Cache-Control': 'max-age=604800', 'Content-Type': 'text/html; charset=UTF-8', 'Date': 'Tue, 04 Apr 2023 21:34:02 GMT', 'Etag': '\"3147526947\"', 'Expires': 'Tue, 11 Apr 2023 21:34:02 GMT', 'Last-Modified': 'Thu, 17 Oct 2019 07:18:26 GMT', 'Server': 'ECS (dna/63A8)', 'Vary': 'Accept-Encoding', 'X-Cache': 'HIT', 'Content-Length': '648'}\n",
            "200\n"
          ]
        }
      ],
      "source": [
        "# importa a biblioteca\n",
        "import requests\n",
        "\n",
        "url = 'https://www.example.com'\n",
        "response = requests.get(url)\n",
        "print(response.content) # Exibi o conteúdo\n",
        "print(response.headers) # Exibi o cabeçalho\n",
        "print(response.status_code) # Exibi o código de retorno"
      ]
    },
    {
      "cell_type": "code",
      "execution_count": null,
      "metadata": {
        "colab": {
          "base_uri": "https://localhost:8080/"
        },
        "id": "YNt7OppQT6-Z",
        "outputId": "4e759bcf-16b5-43d1-95aa-a8704c2ed217"
      },
      "outputs": [
        {
          "name": "stdout",
          "output_type": "stream",
          "text": [
            "b'<!doctype html><html itemscope=\"\" itemtype=\"http://schema.org/WebPage\" lang=\"en\"><head><meta content=\"Search the world\\'s information, including webpages, images, videos and more. Google has many special features to help you find exactly what you\\'re looking for.\" name=\"description\"><meta content=\"noodp\" name=\"robots\"><meta content=\"text/html; charset=UTF-8\" http-equiv=\"Content-Type\"><meta content=\"/images/branding/googleg/1x/googleg_standard_color_128dp.png\" itemprop=\"image\"><title>Google</title><script nonce=\"gw-Yj6TqJcwhHGlttd_juA\">(function(){window.google={kEI:\\'05csZJWTCZng0PEP_5-y6As\\',kEXPI:\\'0,1359409,6058,207,4804,2316,383,246,5,1129120,1197783,618,380090,16114,28684,22430,1362,12319,17580,4998,13228,3847,41316,2891,3926,213,4209,3406,606,29842,20217,8228,5017,12710,432,3,1590,1,16916,2652,4,1528,2304,29062,13064,13659,2980,18243,5815,2542,4094,7596,1,42154,2,14022,2373,342,21269,1755,5679,1021,31122,4567,6259,23418,1252,5835,14968,4332,7484,445,2,2,1,10956,15676,8155,6680,641,60,2,3,15965,873,9625,10008,7,1922,9779,12414,8976,14764,6305,2007,18192,20136,14,82,16514,3692,109,1513,899,879,12,4965,3785,11106,4069,280,4132,991,3030,427,5683,5041,4665,1804,7734,495,1150,1093,1757,1127,152,8189,4135,6508,130,4,207,416,2172,280,2,427,2899,666,1,2754,1757,43,1287,1684,13,1635,1606,6342,217,671,3,2525,3226,396,4098,2,843,2826,245,8,348,260,1119,602,1359,2,953,412,825,540,154,2132,1127,241,104,157,5,130,344,2234,14,1,4,765,3,121,208,435,534,1,711,266,64,52,297,26,2,1942,126,46,1018,1,77,2185,429,512,20,100,5,163,744,717,475,360,1180,29,45,98,348,340,102,170,1568,146,640,1001,2,5211386,226,2,73,396,65,5993308,2805074,3311,141,795,19735,1,347,4685,1,20,35,9,26,23945709,2738464,1303678,1964,1007,15666,2893,6250,12560,2144,1416092,146987,47333,10550\\',kBL:\\'RbSe\\',kOPI:89978449};google.sn=\\'webhp\\';google.kHL=\\'en\\';})();(function(){\\nvar f=this||self;var h,k=[];function l(a){for(var b;a&&(!a.getAttribute||!(b=a.getAttribute(\"eid\")));)a=a.parentNode;return b||h}function m(a){for(var b=null;a&&(!a.getAttribute||!(b=a.getAttribute(\"leid\")));)a=a.parentNode;return b}\\nfunction n(a,b,c,d,g){var e=\"\";c||-1!==b.search(\"&ei=\")||(e=\"&ei=\"+l(d),-1===b.search(\"&lei=\")&&(d=m(d))&&(e+=\"&lei=\"+d));d=\"\";!c&&f._cshid&&-1===b.search(\"&cshid=\")&&\"slh\"!==a&&(d=\"&cshid=\"+f._cshid);c=c||\"/\"+(g||\"gen_204\")+\"?atyp=i&ct=\"+a+\"&cad=\"+b+e+\"&zx=\"+Date.now()+d;/^http:/i.test(c)&&\"https:\"===window.location.protocol&&(google.ml&&google.ml(Error(\"a\"),!1,{src:c,glmm:1}),c=\"\");return c};h=google.kEI;google.getEI=l;google.getLEI=m;google.ml=function(){return null};google.log=function(a,b,c,d,g){if(c=n(a,b,c,d,g)){a=new Image;var e=k.length;k[e]=a;a.onerror=a.onload=a.onabort=function(){delete k[e]};a.src=c}};google.logUrl=n;}).call(this);(function(){google.y={};google.sy=[];google.x=function(a,b){if(a)var c=a.id;else{do c=Math.random();while(google.y[c])}google.y[c]=[a,b];return!1};google.sx=function(a){google.sy.push(a)};google.lm=[];google.plm=function(a){google.lm.push.apply(google.lm,a)};google.lq=[];google.load=function(a,b,c){google.lq.push([[a],b,c])};google.loadAll=function(a,b){google.lq.push([a,b])};google.bx=!1;google.lx=function(){};}).call(this);google.f={};(function(){\\ndocument.documentElement.addEventListener(\"submit\",function(b){var a;if(a=b.target){var c=a.getAttribute(\"data-submitfalse\");a=\"1\"===c||\"q\"===c&&!a.elements.q.value?!0:!1}else a=!1;a&&(b.preventDefault(),b.stopPropagation())},!0);document.documentElement.addEventListener(\"click\",function(b){var a;a:{for(a=b.target;a&&a!==document.documentElement;a=a.parentElement)if(\"A\"===a.tagName){a=\"1\"===a.getAttribute(\"data-nohref\");break a}a=!1}a&&b.preventDefault()},!0);}).call(this);</script><style>#gbar,#guser{font-size:13px;padding-top:1px !important;}#gbar{height:22px}#guser{padding-bottom:7px !important;text-align:right}.gbh,.gbd{border-top:1px solid #c9d7f1;font-size:1px}.gbh{height:0;position:absolute;top:24px;width:100%}@media all{.gb1{height:22px;margin-right:.5em;vertical-align:top}#gbar{float:left}}a.gb1,a.gb4{text-decoration:underline !important}a.gb1,a.gb4{color:#00c !important}.gbi .gb4{color:#dd8e27 !important}.gbf .gb4{color:#900 !important}\\n</style><style>body,td,a,p,.h{font-family:arial,sans-serif}body{margin:0;overflow-y:scroll}#gog{padding:3px 8px 0}td{line-height:.8em}.gac_m td{line-height:17px}form{margin-bottom:20px}.h{color:#1558d6}em{font-weight:bold;font-style:normal}.lst{height:25px;width:496px}.gsfi,.lst{font:18px arial,sans-serif}.gsfs{font:17px arial,sans-serif}.ds{display:inline-box;display:inline-block;margin:3px 0 4px;margin-left:4px}input{font-family:inherit}body{background:#fff;color:#000}a{color:#4b11a8;text-decoration:none}a:hover,a:active{text-decoration:underline}.fl a{color:#1558d6}a:visited{color:#4b11a8}.sblc{padding-top:5px}.sblc a{display:block;margin:2px 0;margin-left:13px;font-size:11px}.lsbb{background:#f8f9fa;border:solid 1px;border-color:#dadce0 #70757a #70757a #dadce0;height:30px}.lsbb{display:block}#WqQANb a{display:inline-block;margin:0 12px}.lsb{background:url(/images/nav_logo229.png) 0 -261px repeat-x;border:none;color:#000;cursor:pointer;height:30px;margin:0;outline:0;font:15px arial,sans-serif;vertical-align:top}.lsb:active{background:#dadce0}.lst:focus{outline:none}</style><script nonce=\"gw-Yj6TqJcwhHGlttd_juA\">(function(){window.google.erd={jsr:1,bv:1770,de:true};\\nvar h=this||self;var k,l=null!=(k=h.mei)?k:1,n,p=null!=(n=h.sdo)?n:!0,q=0,r,t=google.erd,v=t.jsr;google.ml=function(a,b,d,m,e){e=void 0===e?2:e;b&&(r=a&&a.message);if(google.dl)return google.dl(a,e,d),null;if(0>v){window.console&&console.error(a,d);if(-2===v)throw a;b=!1}else b=!a||!a.message||\"Error loading script\"===a.message||q>=l&&!m?!1:!0;if(!b)return null;q++;d=d||{};b=encodeURIComponent;var c=\"/gen_204?atyp=i&ei=\"+b(google.kEI);google.kEXPI&&(c+=\"&jexpid=\"+b(google.kEXPI));c+=\"&srcpg=\"+b(google.sn)+\"&jsr=\"+b(t.jsr)+\"&bver=\"+b(t.bv);var f=a.lineNumber;void 0!==f&&(c+=\"&line=\"+f);var g=\\na.fileName;g&&(0<g.indexOf(\"-extension:/\")&&(e=3),c+=\"&script=\"+b(g),f&&g===window.location.href&&(f=document.documentElement.outerHTML.split(\"\\\\n\")[f],c+=\"&cad=\"+b(f?f.substring(0,300):\"No script found.\")));c+=\"&jsel=\"+e;for(var u in d)c+=\"&\",c+=b(u),c+=\"=\",c+=b(d[u]);c=c+\"&emsg=\"+b(a.name+\": \"+a.message);c=c+\"&jsst=\"+b(a.stack||\"N/A\");12288<=c.length&&(c=c.substr(0,12288));a=c;m||google.log(0,\"\",a);return a};window.onerror=function(a,b,d,m,e){r!==a&&(a=e instanceof Error?e:Error(a),void 0===d||\"lineNumber\"in a||(a.lineNumber=d),void 0===b||\"fileName\"in a||(a.fileName=b),google.ml(a,!1,void 0,!1,\"SyntaxError\"===a.name||\"SyntaxError\"===a.message.substring(0,11)||-1!==a.message.indexOf(\"Script error\")?3:0));r=null;p&&q>=l&&(window.onerror=null)};})();</script></head><body bgcolor=\"#fff\"><script nonce=\"gw-Yj6TqJcwhHGlttd_juA\">(function(){var src=\\'/images/nav_logo229.png\\';var iesg=false;document.body.onload = function(){window.n && window.n();if (document.images){new Image().src=src;}\\nif (!iesg){document.f&&document.f.q.focus();document.gbqf&&document.gbqf.q.focus();}\\n}\\n})();</script><div id=\"mngb\"><div id=gbar><nobr><b class=gb1>Search</b> <a class=gb1 href=\"https://www.google.com/imghp?hl=en&tab=wi\">Images</a> <a class=gb1 href=\"https://maps.google.com/maps?hl=en&tab=wl\">Maps</a> <a class=gb1 href=\"https://play.google.com/?hl=en&tab=w8\">Play</a> <a class=gb1 href=\"https://www.youtube.com/?tab=w1\">YouTube</a> <a class=gb1 href=\"https://news.google.com/?tab=wn\">News</a> <a class=gb1 href=\"https://mail.google.com/mail/?tab=wm\">Gmail</a> <a class=gb1 href=\"https://drive.google.com/?tab=wo\">Drive</a> <a class=gb1 style=\"text-decoration:none\" href=\"https://www.google.com/intl/en/about/products?tab=wh\"><u>More</u> &raquo;</a></nobr></div><div id=guser width=100%><nobr><span id=gbn class=gbi></span><span id=gbf class=gbf></span><span id=gbe></span><a href=\"http://www.google.com/history/optout?hl=en\" class=gb4>Web History</a> | <a  href=\"/preferences?hl=en\" class=gb4>Settings</a> | <a target=_top id=gb_70 href=\"https://accounts.google.com/ServiceLogin?hl=en&passive=true&continue=https://www.google.com/&ec=GAZAAQ\" class=gb4>Sign in</a></nobr></div><div class=gbh style=left:0></div><div class=gbh style=right:0></div></div><center><br clear=\"all\" id=\"lgpd\"><div id=\"lga\"><img alt=\"Google\" height=\"92\" src=\"/images/branding/googlelogo/1x/googlelogo_white_background_color_272x92dp.png\" style=\"padding:28px 0 14px\" width=\"272\" id=\"hplogo\"><br><br></div><form action=\"/search\" name=\"f\"><table cellpadding=\"0\" cellspacing=\"0\"><tr valign=\"top\"><td width=\"25%\">&nbsp;</td><td align=\"center\" nowrap=\"\"><input name=\"ie\" value=\"ISO-8859-1\" type=\"hidden\"><input value=\"en\" name=\"hl\" type=\"hidden\"><input name=\"source\" type=\"hidden\" value=\"hp\"><input name=\"biw\" type=\"hidden\"><input name=\"bih\" type=\"hidden\"><div class=\"ds\" style=\"height:32px;margin:4px 0\"><input class=\"lst\" style=\"margin:0;padding:5px 8px 0 6px;vertical-align:top;color:#000\" autocomplete=\"off\" value=\"\" title=\"Google Search\" maxlength=\"2048\" name=\"q\" size=\"57\"></div><br style=\"line-height:0\"><span class=\"ds\"><span class=\"lsbb\"><input class=\"lsb\" value=\"Google Search\" name=\"btnG\" type=\"submit\"></span></span><span class=\"ds\"><span class=\"lsbb\"><input class=\"lsb\" id=\"tsuid_1\" value=\"I\\'m Feeling Lucky\" name=\"btnI\" type=\"submit\"><script nonce=\"gw-Yj6TqJcwhHGlttd_juA\">(function(){var id=\\'tsuid_1\\';document.getElementById(id).onclick = function(){if (this.form.q.value){this.checked = 1;if (this.form.iflsig)this.form.iflsig.disabled = false;}\\nelse top.location=\\'/doodles/\\';};})();</script><input value=\"AOEireoAAAAAZCyl43-6C8_H6w5DpErr7vURDNTa-H6Q\" name=\"iflsig\" type=\"hidden\"></span></span></td><td class=\"fl sblc\" align=\"left\" nowrap=\"\" width=\"25%\"><a href=\"/advanced_search?hl=en&amp;authuser=0\">Advanced search</a></td></tr></table><input id=\"gbv\" name=\"gbv\" type=\"hidden\" value=\"1\"><script nonce=\"gw-Yj6TqJcwhHGlttd_juA\">(function(){var a,b=\"1\";if(document&&document.getElementById)if(\"undefined\"!=typeof XMLHttpRequest)b=\"2\";else if(\"undefined\"!=typeof ActiveXObject){var c,d,e=[\"MSXML2.XMLHTTP.6.0\",\"MSXML2.XMLHTTP.3.0\",\"MSXML2.XMLHTTP\",\"Microsoft.XMLHTTP\"];for(c=0;d=e[c++];)try{new ActiveXObject(d),b=\"2\"}catch(h){}}a=b;if(\"2\"==a&&-1==location.search.indexOf(\"&gbv=2\")){var f=google.gbvu,g=document.getElementById(\"gbv\");g&&(g.value=a);f&&window.setTimeout(function(){location.href=f},0)};}).call(this);</script></form><div id=\"gac_scont\"></div><div style=\"font-size:83%;min-height:3.5em\"><br><div id=\"prm\"><style>.szppmdbYutt__middle-slot-promo{font-size:small;margin-bottom:32px}.szppmdbYutt__middle-slot-promo a.ZIeIlb{display:inline-block;text-decoration:none}.szppmdbYutt__middle-slot-promo img{border:none;margin-right:5px;vertical-align:middle}</style><div class=\"szppmdbYutt__middle-slot-promo\" data-ved=\"0ahUKEwjVyKb9lpH-AhUZMDQIHf-PDL0QnIcBCAQ\"><a class=\"NKcBbd\" href=\"https://www.google.com/url?q=https://blog.google/products/search/google-search-new-fact-checking-misinformation/&amp;source=hpp&amp;id=19034203&amp;ct=3&amp;usg=AOvVaw3UxG35a-5UX1Rl8M_VwPbd&amp;sa=X&amp;ved=0ahUKEwjVyKb9lpH-AhUZMDQIHf-PDL0Q8IcBCAU\" rel=\"nofollow\">Helpful tips to fact check information online</a></div></div></div><span id=\"footer\"><div style=\"font-size:10pt\"><div style=\"margin:19px auto;text-align:center\" id=\"WqQANb\"><a href=\"/intl/en/ads/\">Advertising</a><a href=\"/services/\">Business Solutions</a><a href=\"/intl/en/about.html\">About Google</a></div></div><p style=\"font-size:8pt;color:#70757a\">&copy; 2023 - <a href=\"/intl/en/policies/privacy/\">Privacy</a> - <a href=\"/intl/en/policies/terms/\">Terms</a></p></span></center><script nonce=\"gw-Yj6TqJcwhHGlttd_juA\">(function(){window.google.cdo={height:757,width:1440};(function(){var a=window.innerWidth,b=window.innerHeight;if(!a||!b){var c=window.document,d=\"CSS1Compat\"==c.compatMode?c.documentElement:c.body;a=d.clientWidth;b=d.clientHeight}a&&b&&(a!=google.cdo.width||b!=google.cdo.height)&&google.log(\"\",\"\",\"/client_204?&atyp=i&biw=\"+a+\"&bih=\"+b+\"&ei=\"+google.kEI);}).call(this);})();</script> <script nonce=\"gw-Yj6TqJcwhHGlttd_juA\">(function(){google.xjs={ck:\\'xjs.hp.7OK0Zk1e1VY.L.X.O\\',cs:\\'ACT90oG3Kg0PTfoNYK9MskypumscD_JjWQ\\',excm:[]};})();</script>  <script nonce=\"gw-Yj6TqJcwhHGlttd_juA\">(function(){var u=\\'/xjs/_/js/k\\\\x3dxjs.hp.en.c8Y5Z0nJNyE.O/am\\\\x3dAAAAdAIAKACw/d\\\\x3d1/ed\\\\x3d1/rs\\\\x3dACT90oHFQ7EvjWWPBTWpfHye_KR8s4v6TQ/m\\\\x3dsb_he,d\\';var amd=0;\\nvar e=this||self,g=function(c){return c};var k;var n=function(c,f){this.g=f===l?c:\"\"};n.prototype.toString=function(){return this.g+\"\"};var l={};\\nfunction p(){var c=u,f=function(){};google.lx=google.stvsc?f:function(){google.timers&&google.timers.load&&google.tick&&google.tick(\"load\",\"xjsls\");var a=document;var b=\"SCRIPT\";\"application/xhtml+xml\"===a.contentType&&(b=b.toLowerCase());b=a.createElement(b);b.id=\"base-js\";a=null===c?\"null\":void 0===c?\"undefined\":c;if(void 0===k){var d=null;var m=e.trustedTypes;if(m&&m.createPolicy){try{d=m.createPolicy(\"goog#html\",{createHTML:g,createScript:g,createScriptURL:g})}catch(r){e.console&&e.console.error(r.message)}k=\\nd}else k=d}a=(d=k)?d.createScriptURL(a):a;a=new n(a,l);b.src=a instanceof n&&a.constructor===n?a.g:\"type_error:TrustedResourceUrl\";var h,q;(h=(a=null==(q=(h=(b.ownerDocument&&b.ownerDocument.defaultView||window).document).querySelector)?void 0:q.call(h,\"script[nonce]\"))?a.nonce||a.getAttribute(\"nonce\")||\"\":\"\")&&b.setAttribute(\"nonce\",h);document.body.appendChild(b);google.psa=!0;google.lx=f};google.bx||google.lx()};google.xjsu=u;setTimeout(function(){0<amd?google.caft(function(){return p()},amd):p()},0);})();window._ = window._ || {};window._DumpException = _._DumpException = function(e){throw e;};window._s = window._s || {};_s._DumpException = _._DumpException;window._qs = window._qs || {};_qs._DumpException = _._DumpException;function _F_installCss(c){}\\n(function(){google.jl={blt:\\'none\\',chnk:0,dw:false,dwu:true,emtn:0,end:0,ico:false,ikb:0,ine:false,injs:\\'none\\',injt:0,injth:0,injv2:false,lls:\\'default\\',pdt:0,rep:0,snet:true,strt:0,ubm:false,uwp:true};})();(function(){var pmc=\\'{\\\\x22d\\\\x22:{},\\\\x22sb_he\\\\x22:{\\\\x22agen\\\\x22:true,\\\\x22cgen\\\\x22:true,\\\\x22client\\\\x22:\\\\x22heirloom-hp\\\\x22,\\\\x22dh\\\\x22:true,\\\\x22ds\\\\x22:\\\\x22\\\\x22,\\\\x22fl\\\\x22:true,\\\\x22host\\\\x22:\\\\x22google.com\\\\x22,\\\\x22jsonp\\\\x22:true,\\\\x22msgs\\\\x22:{\\\\x22cibl\\\\x22:\\\\x22Clear Search\\\\x22,\\\\x22dym\\\\x22:\\\\x22Did you mean:\\\\x22,\\\\x22lcky\\\\x22:\\\\x22I\\\\\\\\u0026#39;m Feeling Lucky\\\\x22,\\\\x22lml\\\\x22:\\\\x22Learn more\\\\x22,\\\\x22psrc\\\\x22:\\\\x22This search was removed from your \\\\\\\\u003Ca href\\\\x3d\\\\\\\\\\\\x22/history\\\\\\\\\\\\x22\\\\\\\\u003EWeb History\\\\\\\\u003C/a\\\\\\\\u003E\\\\x22,\\\\x22psrl\\\\x22:\\\\x22Remove\\\\x22,\\\\x22sbit\\\\x22:\\\\x22Search by image\\\\x22,\\\\x22srch\\\\x22:\\\\x22Google Search\\\\x22},\\\\x22ovr\\\\x22:{},\\\\x22pq\\\\x22:\\\\x22\\\\x22,\\\\x22rfs\\\\x22:[],\\\\x22sbas\\\\x22:\\\\x220 3px 8px 0 rgba(0,0,0,0.2),0 0 0 1px rgba(0,0,0,0.08)\\\\x22,\\\\x22stok\\\\x22:\\\\x227wrQ4_5mB0FuGL50YKPTZl7yook\\\\x22}}\\';google.pmc=JSON.parse(pmc);})();</script>       </body></html>'\n",
            "{'Date': 'Tue, 04 Apr 2023 21:34:11 GMT', 'Expires': '-1', 'Cache-Control': 'private, max-age=0', 'Content-Type': 'text/html; charset=ISO-8859-1', 'Content-Security-Policy-Report-Only': \"object-src 'none';base-uri 'self';script-src 'nonce-gw-Yj6TqJcwhHGlttd_juA' 'strict-dynamic' 'report-sample' 'unsafe-eval' 'unsafe-inline' https: http:;report-uri https://csp.withgoogle.com/csp/gws/other-hp\", 'P3P': 'CP=\"This is not a P3P policy! See g.co/p3phelp for more info.\"', 'Content-Encoding': 'gzip', 'Server': 'gws', 'X-XSS-Protection': '0', 'X-Frame-Options': 'SAMEORIGIN', 'Set-Cookie': '1P_JAR=2023-04-04-21; expires=Thu, 04-May-2023 21:34:11 GMT; path=/; domain=.google.com; Secure, AEC=AUEFqZe8AEynSy850q_c5fEJnAPk9jlyD2qyIZIXBgjHaBxJSkQ0QJnr4KI; expires=Sun, 01-Oct-2023 21:34:11 GMT; path=/; domain=.google.com; Secure; HttpOnly; SameSite=lax, NID=511=u_WrnrOFXj320SRBFjuIKdNS9TldxI_csUvfbY8plw1mwxXKjA5EgZGLenwtC808OuYBxb4ivfqfDO2sNzWAEhPnn8maK4TNmsuOrwwf12z3L03NPBGrDDaRtNj71vtzYLjF-m22WttRtBQIpZE7aHRtxS9kGhokMYIDD6uVXuo; expires=Wed, 04-Oct-2023 21:34:11 GMT; path=/; domain=.google.com; HttpOnly', 'Transfer-Encoding': 'chunked'}\n",
            "200\n",
            "Requisição foi feita com sucesso\n"
          ]
        }
      ],
      "source": [
        "import requests\n",
        "\n",
        "url = 'https://www.google.com'\n",
        "response = requests.get(url)\n",
        "\n",
        "print(response.content)\n",
        "print(response.headers)\n",
        "print(response.status_code)\n",
        "\n",
        "if response.status_code == 200:\n",
        "  print('Requisição foi feita com sucesso')\n",
        "else:\n",
        "  print(f'Houve algum erro segue o código {response.status_code}')"
      ]
    },
    {
      "cell_type": "code",
      "execution_count": null,
      "metadata": {
        "colab": {
          "base_uri": "https://localhost:8080/"
        },
        "id": "pfZwEErkIPbQ",
        "outputId": "8eb3d164-3437-455c-fb7e-077a01e9e108"
      },
      "outputs": [
        {
          "name": "stdout",
          "output_type": "stream",
          "text": [
            "Envio realizado com sucesso\n"
          ]
        }
      ],
      "source": [
        "# Faz uma requisição POST\n",
        "import requests\n",
        "\n",
        "url = 'https://www.example.com'\n",
        "data = {'name': 'John Doe', 'email': 'johndoe@example.com'}\n",
        "response = requests.post(url, data=data)\n",
        "\n",
        "if response.status_code >= 200 or response.status_code <= 299:\n",
        "  print('Envio realizado com sucesso')\n",
        "else:\n",
        "  print(f'Houve algum problema verifique o código de retorno {response.status_code}')\n"
      ]
    },
    {
      "cell_type": "code",
      "execution_count": null,
      "metadata": {
        "colab": {
          "base_uri": "https://localhost:8080/"
        },
        "id": "EEnuk8f8IY6R",
        "outputId": "b26d7e50-e18a-48c4-a2cd-1c431c74317b"
      },
      "outputs": [
        {
          "name": "stdout",
          "output_type": "stream",
          "text": [
            "404\n"
          ]
        }
      ],
      "source": [
        "import requests\n",
        "\n",
        "url = \"https://www.example.com/contact\"\n",
        "\n",
        "dados = {\n",
        "    \"name\": \"John Doe\",\n",
        "    \"email\": \"johndoe@example.com\",\n",
        "    \"message\": \"Olá, gostaria de fazer uma pergunta sobre o seu produto.\"\n",
        "}\n",
        "\n",
        "resposta = requests.post(url, data=dados)\n",
        "\n",
        "if resposta.status_code == 404:\n",
        "  print('Página não encontrada')\n",
        "elif resposta.status_code == 200:\n",
        "  print('Post realizado com sucesso')\n"
      ]
    },
    {
      "cell_type": "markdown",
      "metadata": {
        "id": "iJCOdV7fKxoe"
      },
      "source": [
        "### Formata para JSON"
      ]
    },
    {
      "cell_type": "code",
      "execution_count": null,
      "metadata": {
        "colab": {
          "base_uri": "https://localhost:8080/"
        },
        "id": "Xuy_1ojhZvEy",
        "outputId": "aa816bdb-2517-415c-edba-5d1f229a90b3"
      },
      "outputs": [
        {
          "name": "stdout",
          "output_type": "stream",
          "text": [
            "[{'userId': 1, 'id': 1, 'title': 'sunt aut facere repellat provident occaecati excepturi optio reprehenderit', 'body': 'quia et suscipit\\nsuscipit recusandae consequuntur expedita et cum\\nreprehenderit molestiae ut ut quas totam\\nnostrum rerum est autem sunt rem eveniet architecto'}, {'userId': 1, 'id': 2, 'title': 'qui est esse', 'body': 'est rerum tempore vitae\\nsequi sint nihil reprehenderit dolor beatae ea dolores neque\\nfugiat blanditiis voluptate porro vel nihil molestiae ut reiciendis\\nqui aperiam non debitis possimus qui neque nisi nulla'}, {'userId': 1, 'id': 3, 'title': 'ea molestias quasi exercitationem repellat qui ipsa sit aut', 'body': 'et iusto sed quo iure\\nvoluptatem occaecati omnis eligendi aut ad\\nvoluptatem doloribus vel accusantium quis pariatur\\nmolestiae porro eius odio et labore et velit aut'}, {'userId': 1, 'id': 4, 'title': 'eum et est occaecati', 'body': 'ullam et saepe reiciendis voluptatem adipisci\\nsit amet autem assumenda provident rerum culpa\\nquis hic commodi nesciunt rem tenetur doloremque ipsam iure\\nquis sunt voluptatem rerum illo velit'}, {'userId': 1, 'id': 5, 'title': 'nesciunt quas odio', 'body': 'repudiandae veniam quaerat sunt sed\\nalias aut fugiat sit autem sed est\\nvoluptatem omnis possimus esse voluptatibus quis\\nest aut tenetur dolor neque'}, {'userId': 1, 'id': 6, 'title': 'dolorem eum magni eos aperiam quia', 'body': 'ut aspernatur corporis harum nihil quis provident sequi\\nmollitia nobis aliquid molestiae\\nperspiciatis et ea nemo ab reprehenderit accusantium quas\\nvoluptate dolores velit et doloremque molestiae'}, {'userId': 1, 'id': 7, 'title': 'magnam facilis autem', 'body': 'dolore placeat quibusdam ea quo vitae\\nmagni quis enim qui quis quo nemo aut saepe\\nquidem repellat excepturi ut quia\\nsunt ut sequi eos ea sed quas'}, {'userId': 1, 'id': 8, 'title': 'dolorem dolore est ipsam', 'body': 'dignissimos aperiam dolorem qui eum\\nfacilis quibusdam animi sint suscipit qui sint possimus cum\\nquaerat magni maiores excepturi\\nipsam ut commodi dolor voluptatum modi aut vitae'}, {'userId': 1, 'id': 9, 'title': 'nesciunt iure omnis dolorem tempora et accusantium', 'body': 'consectetur animi nesciunt iure dolore\\nenim quia ad\\nveniam autem ut quam aut nobis\\net est aut quod aut provident voluptas autem voluptas'}, {'userId': 1, 'id': 10, 'title': 'optio molestias id quia eum', 'body': 'quo et expedita modi cum officia vel magni\\ndoloribus qui repudiandae\\nvero nisi sit\\nquos veniam quod sed accusamus veritatis error'}, {'userId': 2, 'id': 11, 'title': 'et ea vero quia laudantium autem', 'body': 'delectus reiciendis molestiae occaecati non minima eveniet qui voluptatibus\\naccusamus in eum beatae sit\\nvel qui neque voluptates ut commodi qui incidunt\\nut animi commodi'}, {'userId': 2, 'id': 12, 'title': 'in quibusdam tempore odit est dolorem', 'body': 'itaque id aut magnam\\npraesentium quia et ea odit et ea voluptas et\\nsapiente quia nihil amet occaecati quia id voluptatem\\nincidunt ea est distinctio odio'}, {'userId': 2, 'id': 13, 'title': 'dolorum ut in voluptas mollitia et saepe quo animi', 'body': 'aut dicta possimus sint mollitia voluptas commodi quo doloremque\\niste corrupti reiciendis voluptatem eius rerum\\nsit cumque quod eligendi laborum minima\\nperferendis recusandae assumenda consectetur porro architecto ipsum ipsam'}, {'userId': 2, 'id': 14, 'title': 'voluptatem eligendi optio', 'body': 'fuga et accusamus dolorum perferendis illo voluptas\\nnon doloremque neque facere\\nad qui dolorum molestiae beatae\\nsed aut voluptas totam sit illum'}, {'userId': 2, 'id': 15, 'title': 'eveniet quod temporibus', 'body': 'reprehenderit quos placeat\\nvelit minima officia dolores impedit repudiandae molestiae nam\\nvoluptas recusandae quis delectus\\nofficiis harum fugiat vitae'}, {'userId': 2, 'id': 16, 'title': 'sint suscipit perspiciatis velit dolorum rerum ipsa laboriosam odio', 'body': 'suscipit nam nisi quo aperiam aut\\nasperiores eos fugit maiores voluptatibus quia\\nvoluptatem quis ullam qui in alias quia est\\nconsequatur magni mollitia accusamus ea nisi voluptate dicta'}, {'userId': 2, 'id': 17, 'title': 'fugit voluptas sed molestias voluptatem provident', 'body': 'eos voluptas et aut odit natus earum\\naspernatur fuga molestiae ullam\\ndeserunt ratione qui eos\\nqui nihil ratione nemo velit ut aut id quo'}, {'userId': 2, 'id': 18, 'title': 'voluptate et itaque vero tempora molestiae', 'body': 'eveniet quo quis\\nlaborum totam consequatur non dolor\\nut et est repudiandae\\nest voluptatem vel debitis et magnam'}, {'userId': 2, 'id': 19, 'title': 'adipisci placeat illum aut reiciendis qui', 'body': 'illum quis cupiditate provident sit magnam\\nea sed aut omnis\\nveniam maiores ullam consequatur atque\\nadipisci quo iste expedita sit quos voluptas'}, {'userId': 2, 'id': 20, 'title': 'doloribus ad provident suscipit at', 'body': 'qui consequuntur ducimus possimus quisquam amet similique\\nsuscipit porro ipsam amet\\neos veritatis officiis exercitationem vel fugit aut necessitatibus totam\\nomnis rerum consequatur expedita quidem cumque explicabo'}, {'userId': 3, 'id': 21, 'title': 'asperiores ea ipsam voluptatibus modi minima quia sint', 'body': 'repellat aliquid praesentium dolorem quo\\nsed totam minus non itaque\\nnihil labore molestiae sunt dolor eveniet hic recusandae veniam\\ntempora et tenetur expedita sunt'}, {'userId': 3, 'id': 22, 'title': 'dolor sint quo a velit explicabo quia nam', 'body': 'eos qui et ipsum ipsam suscipit aut\\nsed omnis non odio\\nexpedita earum mollitia molestiae aut atque rem suscipit\\nnam impedit esse'}, {'userId': 3, 'id': 23, 'title': 'maxime id vitae nihil numquam', 'body': 'veritatis unde neque eligendi\\nquae quod architecto quo neque vitae\\nest illo sit tempora doloremque fugit quod\\net et vel beatae sequi ullam sed tenetur perspiciatis'}, {'userId': 3, 'id': 24, 'title': 'autem hic labore sunt dolores incidunt', 'body': 'enim et ex nulla\\nomnis voluptas quia qui\\nvoluptatem consequatur numquam aliquam sunt\\ntotam recusandae id dignissimos aut sed asperiores deserunt'}, {'userId': 3, 'id': 25, 'title': 'rem alias distinctio quo quis', 'body': 'ullam consequatur ut\\nomnis quis sit vel consequuntur\\nipsa eligendi ipsum molestiae et omnis error nostrum\\nmolestiae illo tempore quia et distinctio'}, {'userId': 3, 'id': 26, 'title': 'est et quae odit qui non', 'body': 'similique esse doloribus nihil accusamus\\nomnis dolorem fuga consequuntur reprehenderit fugit recusandae temporibus\\nperspiciatis cum ut laudantium\\nomnis aut molestiae vel vero'}, {'userId': 3, 'id': 27, 'title': 'quasi id et eos tenetur aut quo autem', 'body': 'eum sed dolores ipsam sint possimus debitis occaecati\\ndebitis qui qui et\\nut placeat enim earum aut odit facilis\\nconsequatur suscipit necessitatibus rerum sed inventore temporibus consequatur'}, {'userId': 3, 'id': 28, 'title': 'delectus ullam et corporis nulla voluptas sequi', 'body': 'non et quaerat ex quae ad maiores\\nmaiores recusandae totam aut blanditiis mollitia quas illo\\nut voluptatibus voluptatem\\nsimilique nostrum eum'}, {'userId': 3, 'id': 29, 'title': 'iusto eius quod necessitatibus culpa ea', 'body': 'odit magnam ut saepe sed non qui\\ntempora atque nihil\\naccusamus illum doloribus illo dolor\\neligendi repudiandae odit magni similique sed cum maiores'}, {'userId': 3, 'id': 30, 'title': 'a quo magni similique perferendis', 'body': 'alias dolor cumque\\nimpedit blanditiis non eveniet odio maxime\\nblanditiis amet eius quis tempora quia autem rem\\na provident perspiciatis quia'}, {'userId': 4, 'id': 31, 'title': 'ullam ut quidem id aut vel consequuntur', 'body': 'debitis eius sed quibusdam non quis consectetur vitae\\nimpedit ut qui consequatur sed aut in\\nquidem sit nostrum et maiores adipisci atque\\nquaerat voluptatem adipisci repudiandae'}, {'userId': 4, 'id': 32, 'title': 'doloremque illum aliquid sunt', 'body': 'deserunt eos nobis asperiores et hic\\nest debitis repellat molestiae optio\\nnihil ratione ut eos beatae quibusdam distinctio maiores\\nearum voluptates et aut adipisci ea maiores voluptas maxime'}, {'userId': 4, 'id': 33, 'title': 'qui explicabo molestiae dolorem', 'body': 'rerum ut et numquam laborum odit est sit\\nid qui sint in\\nquasi tenetur tempore aperiam et quaerat qui in\\nrerum officiis sequi cumque quod'}, {'userId': 4, 'id': 34, 'title': 'magnam ut rerum iure', 'body': 'ea velit perferendis earum ut voluptatem voluptate itaque iusto\\ntotam pariatur in\\nnemo voluptatem voluptatem autem magni tempora minima in\\nest distinctio qui assumenda accusamus dignissimos officia nesciunt nobis'}, {'userId': 4, 'id': 35, 'title': 'id nihil consequatur molestias animi provident', 'body': 'nisi error delectus possimus ut eligendi vitae\\nplaceat eos harum cupiditate facilis reprehenderit voluptatem beatae\\nmodi ducimus quo illum voluptas eligendi\\net nobis quia fugit'}, {'userId': 4, 'id': 36, 'title': 'fuga nam accusamus voluptas reiciendis itaque', 'body': 'ad mollitia et omnis minus architecto odit\\nvoluptas doloremque maxime aut non ipsa qui alias veniam\\nblanditiis culpa aut quia nihil cumque facere et occaecati\\nqui aspernatur quia eaque ut aperiam inventore'}, {'userId': 4, 'id': 37, 'title': 'provident vel ut sit ratione est', 'body': 'debitis et eaque non officia sed nesciunt pariatur vel\\nvoluptatem iste vero et ea\\nnumquam aut expedita ipsum nulla in\\nvoluptates omnis consequatur aut enim officiis in quam qui'}, {'userId': 4, 'id': 38, 'title': 'explicabo et eos deleniti nostrum ab id repellendus', 'body': 'animi esse sit aut sit nesciunt assumenda eum voluptas\\nquia voluptatibus provident quia necessitatibus ea\\nrerum repudiandae quia voluptatem delectus fugit aut id quia\\nratione optio eos iusto veniam iure'}, {'userId': 4, 'id': 39, 'title': 'eos dolorem iste accusantium est eaque quam', 'body': 'corporis rerum ducimus vel eum accusantium\\nmaxime aspernatur a porro possimus iste omnis\\nest in deleniti asperiores fuga aut\\nvoluptas sapiente vel dolore minus voluptatem incidunt ex'}, {'userId': 4, 'id': 40, 'title': 'enim quo cumque', 'body': 'ut voluptatum aliquid illo tenetur nemo sequi quo facilis\\nipsum rem optio mollitia quas\\nvoluptatem eum voluptas qui\\nunde omnis voluptatem iure quasi maxime voluptas nam'}, {'userId': 5, 'id': 41, 'title': 'non est facere', 'body': 'molestias id nostrum\\nexcepturi molestiae dolore omnis repellendus quaerat saepe\\nconsectetur iste quaerat tenetur asperiores accusamus ex ut\\nnam quidem est ducimus sunt debitis saepe'}, {'userId': 5, 'id': 42, 'title': 'commodi ullam sint et excepturi error explicabo praesentium voluptas', 'body': 'odio fugit voluptatum ducimus earum autem est incidunt voluptatem\\nodit reiciendis aliquam sunt sequi nulla dolorem\\nnon facere repellendus voluptates quia\\nratione harum vitae ut'}, {'userId': 5, 'id': 43, 'title': 'eligendi iste nostrum consequuntur adipisci praesentium sit beatae perferendis', 'body': 'similique fugit est\\nillum et dolorum harum et voluptate eaque quidem\\nexercitationem quos nam commodi possimus cum odio nihil nulla\\ndolorum exercitationem magnam ex et a et distinctio debitis'}, {'userId': 5, 'id': 44, 'title': 'optio dolor molestias sit', 'body': 'temporibus est consectetur dolore\\net libero debitis vel velit laboriosam quia\\nipsum quibusdam qui itaque fuga rem aut\\nea et iure quam sed maxime ut distinctio quae'}, {'userId': 5, 'id': 45, 'title': 'ut numquam possimus omnis eius suscipit laudantium iure', 'body': 'est natus reiciendis nihil possimus aut provident\\nex et dolor\\nrepellat pariatur est\\nnobis rerum repellendus dolorem autem'}, {'userId': 5, 'id': 46, 'title': 'aut quo modi neque nostrum ducimus', 'body': 'voluptatem quisquam iste\\nvoluptatibus natus officiis facilis dolorem\\nquis quas ipsam\\nvel et voluptatum in aliquid'}, {'userId': 5, 'id': 47, 'title': 'quibusdam cumque rem aut deserunt', 'body': 'voluptatem assumenda ut qui ut cupiditate aut impedit veniam\\noccaecati nemo illum voluptatem laudantium\\nmolestiae beatae rerum ea iure soluta nostrum\\neligendi et voluptate'}, {'userId': 5, 'id': 48, 'title': 'ut voluptatem illum ea doloribus itaque eos', 'body': 'voluptates quo voluptatem facilis iure occaecati\\nvel assumenda rerum officia et\\nillum perspiciatis ab deleniti\\nlaudantium repellat ad ut et autem reprehenderit'}, {'userId': 5, 'id': 49, 'title': 'laborum non sunt aut ut assumenda perspiciatis voluptas', 'body': 'inventore ab sint\\nnatus fugit id nulla sequi architecto nihil quaerat\\neos tenetur in in eum veritatis non\\nquibusdam officiis aspernatur cumque aut commodi aut'}, {'userId': 5, 'id': 50, 'title': 'repellendus qui recusandae incidunt voluptates tenetur qui omnis exercitationem', 'body': 'error suscipit maxime adipisci consequuntur recusandae\\nvoluptas eligendi et est et voluptates\\nquia distinctio ab amet quaerat molestiae et vitae\\nadipisci impedit sequi nesciunt quis consectetur'}, {'userId': 6, 'id': 51, 'title': 'soluta aliquam aperiam consequatur illo quis voluptas', 'body': 'sunt dolores aut doloribus\\ndolore doloribus voluptates tempora et\\ndoloremque et quo\\ncum asperiores sit consectetur dolorem'}, {'userId': 6, 'id': 52, 'title': 'qui enim et consequuntur quia animi quis voluptate quibusdam', 'body': 'iusto est quibusdam fuga quas quaerat molestias\\na enim ut sit accusamus enim\\ntemporibus iusto accusantium provident architecto\\nsoluta esse reprehenderit qui laborum'}, {'userId': 6, 'id': 53, 'title': 'ut quo aut ducimus alias', 'body': 'minima harum praesentium eum rerum illo dolore\\nquasi exercitationem rerum nam\\nporro quis neque quo\\nconsequatur minus dolor quidem veritatis sunt non explicabo similique'}, {'userId': 6, 'id': 54, 'title': 'sit asperiores ipsam eveniet odio non quia', 'body': 'totam corporis dignissimos\\nvitae dolorem ut occaecati accusamus\\nex velit deserunt\\net exercitationem vero incidunt corrupti mollitia'}, {'userId': 6, 'id': 55, 'title': 'sit vel voluptatem et non libero', 'body': 'debitis excepturi ea perferendis harum libero optio\\neos accusamus cum fuga ut sapiente repudiandae\\net ut incidunt omnis molestiae\\nnihil ut eum odit'}, {'userId': 6, 'id': 56, 'title': 'qui et at rerum necessitatibus', 'body': 'aut est omnis dolores\\nneque rerum quod ea rerum velit pariatur beatae excepturi\\net provident voluptas corrupti\\ncorporis harum reprehenderit dolores eligendi'}, {'userId': 6, 'id': 57, 'title': 'sed ab est est', 'body': 'at pariatur consequuntur earum quidem\\nquo est laudantium soluta voluptatem\\nqui ullam et est\\net cum voluptas voluptatum repellat est'}, {'userId': 6, 'id': 58, 'title': 'voluptatum itaque dolores nisi et quasi', 'body': 'veniam voluptatum quae adipisci id\\net id quia eos ad et dolorem\\naliquam quo nisi sunt eos impedit error\\nad similique veniam'}, {'userId': 6, 'id': 59, 'title': 'qui commodi dolor at maiores et quis id accusantium', 'body': 'perspiciatis et quam ea autem temporibus non voluptatibus qui\\nbeatae a earum officia nesciunt dolores suscipit voluptas et\\nanimi doloribus cum rerum quas et magni\\net hic ut ut commodi expedita sunt'}, {'userId': 6, 'id': 60, 'title': 'consequatur placeat omnis quisquam quia reprehenderit fugit veritatis facere', 'body': 'asperiores sunt ab assumenda cumque modi velit\\nqui esse omnis\\nvoluptate et fuga perferendis voluptas\\nillo ratione amet aut et omnis'}, {'userId': 7, 'id': 61, 'title': 'voluptatem doloribus consectetur est ut ducimus', 'body': 'ab nemo optio odio\\ndelectus tenetur corporis similique nobis repellendus rerum omnis facilis\\nvero blanditiis debitis in nesciunt doloribus dicta dolores\\nmagnam minus velit'}, {'userId': 7, 'id': 62, 'title': 'beatae enim quia vel', 'body': 'enim aspernatur illo distinctio quae praesentium\\nbeatae alias amet delectus qui voluptate distinctio\\nodit sint accusantium autem omnis\\nquo molestiae omnis ea eveniet optio'}, {'userId': 7, 'id': 63, 'title': 'voluptas blanditiis repellendus animi ducimus error sapiente et suscipit', 'body': 'enim adipisci aspernatur nemo\\nnumquam omnis facere dolorem dolor ex quis temporibus incidunt\\nab delectus culpa quo reprehenderit blanditiis asperiores\\naccusantium ut quam in voluptatibus voluptas ipsam dicta'}, {'userId': 7, 'id': 64, 'title': 'et fugit quas eum in in aperiam quod', 'body': 'id velit blanditiis\\neum ea voluptatem\\nmolestiae sint occaecati est eos perspiciatis\\nincidunt a error provident eaque aut aut qui'}, {'userId': 7, 'id': 65, 'title': 'consequatur id enim sunt et et', 'body': 'voluptatibus ex esse\\nsint explicabo est aliquid cumque adipisci fuga repellat labore\\nmolestiae corrupti ex saepe at asperiores et perferendis\\nnatus id esse incidunt pariatur'}, {'userId': 7, 'id': 66, 'title': 'repudiandae ea animi iusto', 'body': 'officia veritatis tenetur vero qui itaque\\nsint non ratione\\nsed et ut asperiores iusto eos molestiae nostrum\\nveritatis quibusdam et nemo iusto saepe'}, {'userId': 7, 'id': 67, 'title': 'aliquid eos sed fuga est maxime repellendus', 'body': 'reprehenderit id nostrum\\nvoluptas doloremque pariatur sint et accusantium quia quod aspernatur\\net fugiat amet\\nnon sapiente et consequatur necessitatibus molestiae'}, {'userId': 7, 'id': 68, 'title': 'odio quis facere architecto reiciendis optio', 'body': 'magnam molestiae perferendis quisquam\\nqui cum reiciendis\\nquaerat animi amet hic inventore\\nea quia deleniti quidem saepe porro velit'}, {'userId': 7, 'id': 69, 'title': 'fugiat quod pariatur odit minima', 'body': 'officiis error culpa consequatur modi asperiores et\\ndolorum assumenda voluptas et vel qui aut vel rerum\\nvoluptatum quisquam perspiciatis quia rerum consequatur totam quas\\nsequi commodi repudiandae asperiores et saepe a'}, {'userId': 7, 'id': 70, 'title': 'voluptatem laborum magni', 'body': 'sunt repellendus quae\\nest asperiores aut deleniti esse accusamus repellendus quia aut\\nquia dolorem unde\\neum tempora esse dolore'}, {'userId': 8, 'id': 71, 'title': 'et iusto veniam et illum aut fuga', 'body': 'occaecati a doloribus\\niste saepe consectetur placeat eum voluptate dolorem et\\nqui quo quia voluptas\\nrerum ut id enim velit est perferendis'}, {'userId': 8, 'id': 72, 'title': 'sint hic doloribus consequatur eos non id', 'body': 'quam occaecati qui deleniti consectetur\\nconsequatur aut facere quas exercitationem aliquam hic voluptas\\nneque id sunt ut aut accusamus\\nsunt consectetur expedita inventore velit'}, {'userId': 8, 'id': 73, 'title': 'consequuntur deleniti eos quia temporibus ab aliquid at', 'body': 'voluptatem cumque tenetur consequatur expedita ipsum nemo quia explicabo\\naut eum minima consequatur\\ntempore cumque quae est et\\net in consequuntur voluptatem voluptates aut'}, {'userId': 8, 'id': 74, 'title': 'enim unde ratione doloribus quas enim ut sit sapiente', 'body': 'odit qui et et necessitatibus sint veniam\\nmollitia amet doloremque molestiae commodi similique magnam et quam\\nblanditiis est itaque\\nquo et tenetur ratione occaecati molestiae tempora'}, {'userId': 8, 'id': 75, 'title': 'dignissimos eum dolor ut enim et delectus in', 'body': 'commodi non non omnis et voluptas sit\\nautem aut nobis magnam et sapiente voluptatem\\net laborum repellat qui delectus facilis temporibus\\nrerum amet et nemo voluptate expedita adipisci error dolorem'}, {'userId': 8, 'id': 76, 'title': 'doloremque officiis ad et non perferendis', 'body': 'ut animi facere\\ntotam iusto tempore\\nmolestiae eum aut et dolorem aperiam\\nquaerat recusandae totam odio'}, {'userId': 8, 'id': 77, 'title': 'necessitatibus quasi exercitationem odio', 'body': 'modi ut in nulla repudiandae dolorum nostrum eos\\naut consequatur omnis\\nut incidunt est omnis iste et quam\\nvoluptates sapiente aliquam asperiores nobis amet corrupti repudiandae provident'}, {'userId': 8, 'id': 78, 'title': 'quam voluptatibus rerum veritatis', 'body': 'nobis facilis odit tempore cupiditate quia\\nassumenda doloribus rerum qui ea\\nillum et qui totam\\naut veniam repellendus'}, {'userId': 8, 'id': 79, 'title': 'pariatur consequatur quia magnam autem omnis non amet', 'body': 'libero accusantium et et facere incidunt sit dolorem\\nnon excepturi qui quia sed laudantium\\nquisquam molestiae ducimus est\\nofficiis esse molestiae iste et quos'}, {'userId': 8, 'id': 80, 'title': 'labore in ex et explicabo corporis aut quas', 'body': 'ex quod dolorem ea eum iure qui provident amet\\nquia qui facere excepturi et repudiandae\\nasperiores molestias provident\\nminus incidunt vero fugit rerum sint sunt excepturi provident'}, {'userId': 9, 'id': 81, 'title': 'tempora rem veritatis voluptas quo dolores vero', 'body': 'facere qui nesciunt est voluptatum voluptatem nisi\\nsequi eligendi necessitatibus ea at rerum itaque\\nharum non ratione velit laboriosam quis consequuntur\\nex officiis minima doloremque voluptas ut aut'}, {'userId': 9, 'id': 82, 'title': 'laudantium voluptate suscipit sunt enim enim', 'body': 'ut libero sit aut totam inventore sunt\\nporro sint qui sunt molestiae\\nconsequatur cupiditate qui iste ducimus adipisci\\ndolor enim assumenda soluta laboriosam amet iste delectus hic'}, {'userId': 9, 'id': 83, 'title': 'odit et voluptates doloribus alias odio et', 'body': 'est molestiae facilis quis tempora numquam nihil qui\\nvoluptate sapiente consequatur est qui\\nnecessitatibus autem aut ipsa aperiam modi dolore numquam\\nreprehenderit eius rem quibusdam'}, {'userId': 9, 'id': 84, 'title': 'optio ipsam molestias necessitatibus occaecati facilis veritatis dolores aut', 'body': 'sint molestiae magni a et quos\\neaque et quasi\\nut rerum debitis similique veniam\\nrecusandae dignissimos dolor incidunt consequatur odio'}, {'userId': 9, 'id': 85, 'title': 'dolore veritatis porro provident adipisci blanditiis et sunt', 'body': 'similique sed nisi voluptas iusto omnis\\nmollitia et quo\\nassumenda suscipit officia magnam sint sed tempora\\nenim provident pariatur praesentium atque animi amet ratione'}, {'userId': 9, 'id': 86, 'title': 'placeat quia et porro iste', 'body': 'quasi excepturi consequatur iste autem temporibus sed molestiae beatae\\net quaerat et esse ut\\nvoluptatem occaecati et vel explicabo autem\\nasperiores pariatur deserunt optio'}, {'userId': 9, 'id': 87, 'title': 'nostrum quis quasi placeat', 'body': 'eos et molestiae\\nnesciunt ut a\\ndolores perspiciatis repellendus repellat aliquid\\nmagnam sint rem ipsum est'}, {'userId': 9, 'id': 88, 'title': 'sapiente omnis fugit eos', 'body': 'consequatur omnis est praesentium\\nducimus non iste\\nneque hic deserunt\\nvoluptatibus veniam cum et rerum sed'}, {'userId': 9, 'id': 89, 'title': 'sint soluta et vel magnam aut ut sed qui', 'body': 'repellat aut aperiam totam temporibus autem et\\narchitecto magnam ut\\nconsequatur qui cupiditate rerum quia soluta dignissimos nihil iure\\ntempore quas est'}, {'userId': 9, 'id': 90, 'title': 'ad iusto omnis odit dolor voluptatibus', 'body': 'minus omnis soluta quia\\nqui sed adipisci voluptates illum ipsam voluptatem\\neligendi officia ut in\\neos soluta similique molestias praesentium blanditiis'}, {'userId': 10, 'id': 91, 'title': 'aut amet sed', 'body': 'libero voluptate eveniet aperiam sed\\nsunt placeat suscipit molestias\\nsimilique fugit nam natus\\nexpedita consequatur consequatur dolores quia eos et placeat'}, {'userId': 10, 'id': 92, 'title': 'ratione ex tenetur perferendis', 'body': 'aut et excepturi dicta laudantium sint rerum nihil\\nlaudantium et at\\na neque minima officia et similique libero et\\ncommodi voluptate qui'}, {'userId': 10, 'id': 93, 'title': 'beatae soluta recusandae', 'body': 'dolorem quibusdam ducimus consequuntur dicta aut quo laboriosam\\nvoluptatem quis enim recusandae ut sed sunt\\nnostrum est odit totam\\nsit error sed sunt eveniet provident qui nulla'}, {'userId': 10, 'id': 94, 'title': 'qui qui voluptates illo iste minima', 'body': 'aspernatur expedita soluta quo ab ut similique\\nexpedita dolores amet\\nsed temporibus distinctio magnam saepe deleniti\\nomnis facilis nam ipsum natus sint similique omnis'}, {'userId': 10, 'id': 95, 'title': 'id minus libero illum nam ad officiis', 'body': 'earum voluptatem facere provident blanditiis velit laboriosam\\npariatur accusamus odio saepe\\ncumque dolor qui a dicta ab doloribus consequatur omnis\\ncorporis cupiditate eaque assumenda ad nesciunt'}, {'userId': 10, 'id': 96, 'title': 'quaerat velit veniam amet cupiditate aut numquam ut sequi', 'body': 'in non odio excepturi sint eum\\nlabore voluptates vitae quia qui et\\ninventore itaque rerum\\nveniam non exercitationem delectus aut'}, {'userId': 10, 'id': 97, 'title': 'quas fugiat ut perspiciatis vero provident', 'body': 'eum non blanditiis soluta porro quibusdam voluptas\\nvel voluptatem qui placeat dolores qui velit aut\\nvel inventore aut cumque culpa explicabo aliquid at\\nperspiciatis est et voluptatem dignissimos dolor itaque sit nam'}, {'userId': 10, 'id': 98, 'title': 'laboriosam dolor voluptates', 'body': 'doloremque ex facilis sit sint culpa\\nsoluta assumenda eligendi non ut eius\\nsequi ducimus vel quasi\\nveritatis est dolores'}, {'userId': 10, 'id': 99, 'title': 'temporibus sit alias delectus eligendi possimus magni', 'body': 'quo deleniti praesentium dicta non quod\\naut est molestias\\nmolestias et officia quis nihil\\nitaque dolorem quia'}, {'userId': 10, 'id': 100, 'title': 'at nam consequatur ea labore ea harum', 'body': 'cupiditate quo est a modi nesciunt soluta\\nipsa voluptas error itaque dicta in\\nautem qui minus magnam et distinctio eum\\naccusamus ratione error aut'}]\n"
          ]
        }
      ],
      "source": [
        "import requests\n",
        "url = \"https://jsonplaceholder.typicode.com/posts\"\n",
        "resposta = requests.get(url)\n",
        "dados = resposta.json()\n",
        "print(dados)"
      ]
    },
    {
      "cell_type": "code",
      "execution_count": null,
      "metadata": {
        "colab": {
          "base_uri": "https://localhost:8080/"
        },
        "id": "0kI9vbX9MzBq",
        "outputId": "bdea1809-db0c-46cb-c755-f89b41eee204"
      },
      "outputs": [
        {
          "name": "stdout",
          "output_type": "stream",
          "text": [
            "<class 'dict'>\n",
            "<built-in method values of dict object at 0x7ff60d92a1c0>\n"
          ]
        }
      ],
      "source": [
        "print(type(dados))\n",
        "print(dados.values)"
      ]
    },
    {
      "cell_type": "markdown",
      "metadata": {
        "id": "mLfOe7MtK2UJ"
      },
      "source": [
        "### Formata para XML"
      ]
    },
    {
      "cell_type": "code",
      "execution_count": null,
      "metadata": {
        "colab": {
          "base_uri": "https://localhost:8080/"
        },
        "id": "etUokG7YcejE",
        "outputId": "1aa2f959-16dc-4c8b-eaff-8541c7e35718"
      },
      "outputs": [
        {
          "name": "stdout",
          "output_type": "stream",
          "text": [
            "{'note': '\\n  ', 'to': 'Tove', 'from': 'Jani', 'heading': 'Reminder', 'body': \"Don't forget me this weekend!\"}\n"
          ]
        }
      ],
      "source": [
        "import requests\n",
        "import xml.etree.ElementTree as ET\n",
        "\n",
        "url = \"https://www.w3schools.com/xml/note.xml\"\n",
        "\n",
        "resposta = requests.get(url)\n",
        "raiz = ET.fromstring(resposta.content)\n",
        "dados = {}\n",
        "\n",
        "for elemento in raiz.iter():\n",
        "    dados[elemento.tag] = elemento.text\n",
        "\n",
        "print(dados)\n"
      ]
    },
    {
      "cell_type": "markdown",
      "metadata": {
        "id": "XqQv-evyLJCQ"
      },
      "source": [
        "# Pré-processamento com request"
      ]
    },
    {
      "cell_type": "markdown",
      "metadata": {
        "id": "sWMChYCeEucT"
      },
      "source": [
        "Pré-processamento em data science é o processo de preparação de dados para análise. É um passo crucial em todo o processo de análise de dados, pois dados não processados, não limpos e não estruturados podem levar a resultados imprecisos ou enganosos. O pré-processamento inclui várias atividades, como limpeza de dados, seleção de recursos, normalização de dados, transformação de dados e redução de dimensionalidade. O objetivo final do pré-processamento é preparar os dados de uma maneira que os algoritmos de aprendizado de máquina possam trabalhar com eficiência e gerar resultados precisos e confiáveis."
      ]
    },
    {
      "cell_type": "code",
      "execution_count": 9,
      "metadata": {
        "id": "CiNjBn7BNqNC"
      },
      "outputs": [],
      "source": [
        "import requests\n",
        "url = \"https://raw.githubusercontent.com/luiscarlosjunior/aulas-graduacao/master/data-science/analise-dados/datasets/csv/resumoAlunos.csv\"\n",
        "# Fazemos a requisição dos dados e atribuimos o resulta a variável resposta\n",
        "resposta = requests.get(url)"
      ]
    },
    {
      "cell_type": "code",
      "execution_count": null,
      "metadata": {
        "id": "hA3JYzzzFQ9o"
      },
      "outputs": [],
      "source": [
        "# Para exibirmos o texto presente na URL podemos usar o atributo text\n",
        "print(resposta.text)"
      ]
    },
    {
      "cell_type": "markdown",
      "metadata": {
        "id": "5rpitKJDG1Ya"
      },
      "source": [
        "## Converter os dados em uma lista\n",
        "\n",
        "Como visto em ```resposta.text``` os dados foram capturados em texto continuo.   \n",
        "Agora será necessário iniciar a separar desses dados em tipos de dados."
      ]
    },
    {
      "cell_type": "markdown",
      "metadata": {
        "id": "2FZaKfbXgkVd"
      },
      "source": [
        "### Organizar em uma lista\n",
        "\n",
        "Cada linha do texto capturado será uma linha em uma lista. \n",
        "\n",
        "Para fazermos isso, basta usarmos a função split que irá separar um texto seguindo um padrão estabelicido de separador. Aqui o separador é o caracter especial '\\n', pois estamos preocupados em pegar linha por linha"
      ]
    },
    {
      "cell_type": "code",
      "execution_count": 11,
      "metadata": {
        "colab": {
          "base_uri": "https://localhost:8080/"
        },
        "id": "M07-iXDQFVaN",
        "outputId": "62fb3f4b-73b1-414b-e282-d7109f95c0a2"
      },
      "outputs": [
        {
          "output_type": "stream",
          "name": "stdout",
          "text": [
            "A primeira linha é o cabeçalho do arquivo:\n",
            "﻿RA;Primeiro Nome;Sobrenome;Idade;AV1;AV2;média;Total Faltas;Curso;Genero;Periodo\n",
            "\n",
            "A segundo linha será o dado correspondendo aos cabeçalhos da linha:\n",
            "63227467787;Aaron;PHILLIPS;31;9;9;9;22;Engeharia de Software;Masculino;Matutino\n",
            "\n"
          ]
        }
      ],
      "source": [
        "texto = resposta.text\n",
        "itens = texto.split('\\n') # Quebra o texto usando o \\n\n",
        "\n",
        "print(f\"A primeira linha é o cabeçalho do arquivo:\\n{itens[0]}\\n\") # Pega a primeira linha\n",
        "print(f\"A segundo linha será o dado correspondendo aos cabeçalhos da linha:\\n{itens[1]}\\n\") # Pega a segunda linha"
      ]
    },
    {
      "cell_type": "markdown",
      "metadata": {
        "id": "EJl8GOAghwcU"
      },
      "source": [
        "#### Verificando a Última linha\n",
        "\n",
        "Observe que a última linha será vazia, isso é comum quando estamos realizando o pré-processamento de uma lista de dados, pois como estamos usando um caracter que dita a quebra de linha, a última linha, pode ocorrer de ter esse mesmo caracter, para isso precisamos excluir essa linha inválida para não termos problemas com dados inválidos"
      ]
    },
    {
      "cell_type": "code",
      "execution_count": 12,
      "metadata": {
        "colab": {
          "base_uri": "https://localhost:8080/"
        },
        "id": "ziG6WYVcht1M",
        "outputId": "867635a9-6506-4211-dbd3-64dc910c3120"
      },
      "outputs": [
        {
          "output_type": "stream",
          "name": "stdout",
          "text": [
            "Aqui será mostrada a última linha do arquivo:\n",
            "\n",
            "\n"
          ]
        }
      ],
      "source": [
        "print(f\"Aqui será mostrada a última linha do arquivo:\\n{itens[-1]}\\n\") # Pega a última linha"
      ]
    },
    {
      "cell_type": "markdown",
      "metadata": {
        "id": "qcsWjZCCinaE"
      },
      "source": [
        "#### Para remover a última linha basta escolher a função del ou remove. Segue um exemplo"
      ]
    },
    {
      "cell_type": "code",
      "execution_count": 13,
      "metadata": {
        "colab": {
          "base_uri": "https://localhost:8080/"
        },
        "id": "hKSTBgiXiuBO",
        "outputId": "91769ba9-30a8-4435-cdb0-c2bb439223e9"
      },
      "outputs": [
        {
          "output_type": "stream",
          "name": "stdout",
          "text": [
            "['Abacate', 'Uva', 'Maça']\n",
            "\n",
            "\n",
            "['Tomate', 'Uva', 'Maça']\n"
          ]
        }
      ],
      "source": [
        "lista = ['Abacate', 'Tomate', 'Uva', 'Maça']\n",
        "del lista[1] # Remove por índice\n",
        "print(lista)\n",
        "print('\\n')\n",
        "\n",
        "lista = ['Abacate', 'Tomate', 'Uva', 'Maça']\n",
        "lista.remove('Abacate') # Remove o valor\n",
        "print(lista)\n"
      ]
    },
    {
      "cell_type": "markdown",
      "metadata": {
        "id": "1uipPESHjPhC"
      },
      "source": [
        "#### Removendo última linha"
      ]
    },
    {
      "cell_type": "code",
      "execution_count": 14,
      "metadata": {
        "colab": {
          "base_uri": "https://localhost:8080/"
        },
        "id": "Nr-iih4yjO0f",
        "outputId": "c1728c25-0617-452f-edd2-e02a807e73de"
      },
      "outputs": [
        {
          "output_type": "stream",
          "name": "stdout",
          "text": [
            "Último item antes de deletar\n",
            "\n",
            "Último item depois de deletar\n",
            "92179223683;Zachary;COLLINS;61;7;10;8.5;10;Sistema da Informação;Masculino;Noturno\n"
          ]
        }
      ],
      "source": [
        "print(f'Último item antes de deletar\\n{itens[-1]}')\n",
        "del itens[-1] #Remove último item\n",
        "print(f'Último item depois de deletar\\n{itens[-1]}')\n"
      ]
    },
    {
      "cell_type": "markdown",
      "metadata": {
        "id": "FbUrIhgnjklr"
      },
      "source": [
        "Agora temos, pelo menos, um arquivo que a última linha não é nula"
      ]
    },
    {
      "cell_type": "code",
      "execution_count": 15,
      "metadata": {
        "colab": {
          "base_uri": "https://localhost:8080/"
        },
        "id": "P4mXxBarhqGd",
        "outputId": "bacdea35-1858-424f-adf8-30066b351482"
      },
      "outputs": [
        {
          "output_type": "stream",
          "name": "stdout",
          "text": [
            "301\n"
          ]
        }
      ],
      "source": [
        "print(len(itens)) # Exibe a quantidade de itens daquela lista"
      ]
    },
    {
      "cell_type": "markdown",
      "metadata": {
        "id": "wRxJcC5TFOzV"
      },
      "source": [
        "Agora que já temos uma lista com todos os itens, podemos começar a realizar\n",
        "algumas tarefas, mas antes, temos que nos certificar de que estamos \n",
        "com os tipos de dados tratados"
      ]
    },
    {
      "cell_type": "code",
      "execution_count": 16,
      "metadata": {
        "colab": {
          "base_uri": "https://localhost:8080/"
        },
        "id": "jpWVhPoeSN1c",
        "outputId": "17fd426e-2798-45e5-de6e-e97bddfb2251"
      },
      "outputs": [
        {
          "output_type": "stream",
          "name": "stdout",
          "text": [
            "﻿RA;Primeiro Nome;Sobrenome;Idade;AV1;AV2;média;Total Faltas;Curso;Genero;Periodo\n",
            "63227467787;Aaron;PHILLIPS;31;9;9;9;22;Engeharia de Software;Masculino;Matutino\n",
            "55774275097;Abigail;SOTO;20;7;6;6.5;18;Ciência da Computação;Feminino;Matutino\n"
          ]
        }
      ],
      "source": [
        "# Como podemos ver com o próximo código, cada linha é uma sequencia de \n",
        "# caracteres \n",
        "for item in itens[:3]:\n",
        "  print(item)"
      ]
    },
    {
      "cell_type": "markdown",
      "metadata": {
        "id": "E0FvW0v2Il5_"
      },
      "source": [
        "Como cada linha daquela lista é um texto, e observando, é possível\n",
        " verificar que cada informação do texto possui um separador, podemos\n",
        " aplicar a mesma função, split, com o símbolo ; dessa forma teremos uma lista de itens observer"
      ]
    },
    {
      "cell_type": "code",
      "execution_count": 17,
      "metadata": {
        "colab": {
          "base_uri": "https://localhost:8080/"
        },
        "id": "zyi6JifsIqVl",
        "outputId": "52e4f1e8-ad39-4740-b34e-9cd3deb1e2c6"
      },
      "outputs": [
        {
          "output_type": "stream",
          "name": "stdout",
          "text": [
            "['\\ufeffRA', 'Primeiro Nome', 'Sobrenome', 'Idade', 'AV1', 'AV2', 'média', 'Total Faltas', 'Curso', 'Genero', 'Periodo']\n",
            "['63227467787', 'Aaron', 'PHILLIPS', '31', '9', '9', '9', '22', 'Engeharia de Software', 'Masculino', 'Matutino']\n",
            "['55774275097', 'Abigail', 'SOTO', '20', '7', '6', '6.5', '18', 'Ciência da Computação', 'Feminino', 'Matutino']\n"
          ]
        }
      ],
      "source": [
        "for item in itens[:3]:\n",
        "  print(item.split(';'))"
      ]
    },
    {
      "cell_type": "markdown",
      "source": [
        "Precisamos criar um tabela\n",
        "\n",
        "| RA | Primeiro Nome | Idade |\n",
        "| --- | --- | --- |\n",
        "| 123456 | João | 25 |\n",
        "| 123465 | Maria |  26 |\n"
      ],
      "metadata": {
        "id": "sZoEQOX0VwtQ"
      }
    },
    {
      "cell_type": "markdown",
      "metadata": {
        "id": "pnmdl2uRO3Lz"
      },
      "source": [
        "#### Capturando os cabeçalhos\n",
        "\n",
        "Como sabemos que essa lista possui cabeçalhos, então podemos fazer o seguinte.\n",
        "\n",
        "1 - Pegar a primeira linha   \n",
        "2 - Separar os dados daquela linha   \n",
        "3 - E usar como indice da linha   "
      ]
    },
    {
      "cell_type": "code",
      "execution_count": 8,
      "metadata": {
        "colab": {
          "base_uri": "https://localhost:8080/"
        },
        "id": "5it9QnStO2gr",
        "outputId": "27aeff5d-9e66-4a19-f14b-73b9075095b4"
      },
      "outputs": [
        {
          "output_type": "stream",
          "name": "stdout",
          "text": [
            "Lista de cabeçalhos: ['\\ufeffRA', 'Primeiro Nome', 'Sobrenome', 'Idade', 'AV1', 'AV2', 'média', 'Total Faltas', 'Curso', 'Genero', 'Periodo']\n"
          ]
        }
      ],
      "source": [
        "# Pegar a primeira linha\n",
        "cabecalhos = itens[0]\n",
        "\n",
        "# Separar os dados da linha e transformar em uma lista\n",
        "lista_cabecalhos = cabecalhos.split(';')\n",
        "print(f'Lista de cabeçalhos: {lista_cabecalhos}')\n",
        "# Com a lista, podemos aplicar como chaves em um dicionário e associa-los \n",
        "# aos valores"
      ]
    },
    {
      "cell_type": "markdown",
      "metadata": {
        "id": "FmzRL3xQIzta"
      },
      "source": [
        "Observer que agora temos uma lista desses dados que podemos acessar somente com\n",
        "os indices, por exemplo"
      ]
    },
    {
      "cell_type": "code",
      "execution_count": null,
      "metadata": {
        "colab": {
          "base_uri": "https://localhost:8080/"
        },
        "id": "TvwKsMElI6hW",
        "outputId": "f86b7d09-af51-4204-a35c-93a20113dddd"
      },
      "outputs": [
        {
          "output_type": "stream",
          "name": "stdout",
          "text": [
            "﻿RA \t\t Total Faltas\n",
            "63227467787 \t\t 22\n",
            "55774275097 \t\t 18\n"
          ]
        }
      ],
      "source": [
        "for item in itens[:3]:\n",
        "  # Pego o campo RA e média\n",
        "  print(item.split(';')[0], '\\t\\t', item.split(';')[7]) "
      ]
    },
    {
      "cell_type": "markdown",
      "metadata": {
        "id": "2i7e2IdrJp5X"
      },
      "source": [
        "Agora vamos criar uma estrutura de dados no qual podemos associa"
      ]
    },
    {
      "cell_type": "markdown",
      "source": [
        "O caractere \\ufeff é conhecido como \"marca de ordem zero\" (BOM - Byte Order Mark, em inglês) e é usado em algumas codificações de caracteres, como UTF-8, para indicar a ordem dos bytes."
      ],
      "metadata": {
        "id": "Jceiot0xFUAZ"
      }
    },
    {
      "cell_type": "code",
      "execution_count": null,
      "metadata": {
        "colab": {
          "base_uri": "https://localhost:8080/"
        },
        "id": "Fh7-AcQfILds",
        "outputId": "7836b331-afb9-4b9f-baed-3da6b076ef26"
      },
      "outputs": [
        {
          "output_type": "stream",
          "name": "stdout",
          "text": [
            "{'RA': [], 'Primeiro Nome': [], 'Sobrenome': [], 'Idade': [], 'AV1': [], 'AV2': [], 'média': [], 'Total Faltas': [], 'Curso': [], 'Genero': [], 'Periodo': []}\n"
          ]
        }
      ],
      "source": [
        "# Cria um dicionário onde cada índice tem com valor o cabeçalho\n",
        "dicionario_alunos = dict()\n",
        "for i in range(len(lista_cabecalhos)):\n",
        "  cabecalho = lista_cabecalhos[i].lstrip('\\ufeff')\n",
        "  dicionario_alunos[cabecalho] = list()\n",
        "\n",
        "print(dicionario_alunos)"
      ]
    },
    {
      "cell_type": "code",
      "execution_count": null,
      "metadata": {
        "id": "R3rKbvX0QqsE"
      },
      "outputs": [],
      "source": [
        "for item in dicionario_alunos:\n",
        "  print(item)"
      ]
    },
    {
      "cell_type": "code",
      "source": [
        "chave_dicionario = list(dicionario_alunos.keys())\n",
        "print(chave_dicionario)"
      ],
      "metadata": {
        "colab": {
          "base_uri": "https://localhost:8080/"
        },
        "id": "vj63jD9A0PSz",
        "outputId": "855279ed-0685-4d18-bccd-532ebfe6149b"
      },
      "execution_count": null,
      "outputs": [
        {
          "output_type": "stream",
          "name": "stdout",
          "text": [
            "['RA', 'Primeiro Nome', 'Sobrenome', 'Idade', 'AV1', 'AV2', 'média', 'Total Faltas', 'Curso', 'Genero', 'Periodo']\n"
          ]
        }
      ]
    },
    {
      "cell_type": "code",
      "source": [
        "for linha in range(1,3):\n",
        "  print(itens[linha].split(';'))"
      ],
      "metadata": {
        "colab": {
          "base_uri": "https://localhost:8080/"
        },
        "id": "ThvXn-Do1KaK",
        "outputId": "8ce65a89-2aa5-43c6-f007-6bff7b43279c"
      },
      "execution_count": null,
      "outputs": [
        {
          "output_type": "stream",
          "name": "stdout",
          "text": [
            "['63227467787', 'Aaron', 'PHILLIPS', '31', '9', '9', '9', '22', 'Engeharia de Software', 'Masculino', 'Matutino']\n",
            "['55774275097', 'Abigail', 'SOTO', '20', '7', '6', '6.5', '18', 'Ciência da Computação', 'Feminino', 'Matutino']\n"
          ]
        }
      ]
    },
    {
      "cell_type": "code",
      "source": [
        "#lista_itens = list(range(0,len(chave_dicionario)))\n",
        "#print(lista_itens)\n",
        "\n",
        "lista_itens = []\n",
        "for lista in range(0,len(chave_dicionario)):\n",
        "  lista_itens.append(list())\n",
        "\n",
        "print(lista_itens[0])\n",
        "print(len(lista_itens))"
      ],
      "metadata": {
        "colab": {
          "base_uri": "https://localhost:8080/"
        },
        "id": "betDsg9k3Ado",
        "outputId": "1ae75427-dbde-4535-ca2b-f70b039b6fe8"
      },
      "execution_count": null,
      "outputs": [
        {
          "output_type": "stream",
          "name": "stdout",
          "text": [
            "[]\n",
            "11\n"
          ]
        }
      ]
    },
    {
      "cell_type": "code",
      "source": [
        "# Pego cada linha e transforma \n",
        "for linha in range(1,len(itens)):\n",
        "  item = itens[linha].split(';')\n",
        "  lista_itens[0].append(item[0])\n",
        "  lista_itens[1].append(item[1])\n",
        "  lista_itens[2].append(item[2])\n",
        "  lista_itens[3].append(item[3])\n",
        "  lista_itens[4].append(item[4])\n",
        "  lista_itens[5].append(item[5])\n",
        "  lista_itens[6].append(item[6])\n",
        "  lista_itens[7].append(item[7])\n",
        "  lista_itens[8].append(item[8])\n",
        "  lista_itens[9].append(item[9])\n",
        "  lista_itens[10].append(item[10])\n",
        "\n"
      ],
      "metadata": {
        "id": "zLWRC9Pg2xsg"
      },
      "execution_count": null,
      "outputs": []
    },
    {
      "cell_type": "code",
      "source": [
        "print(len(lista_itens[0]))"
      ],
      "metadata": {
        "colab": {
          "base_uri": "https://localhost:8080/"
        },
        "id": "2PaZw0x1DOC7",
        "outputId": "9f276da9-47cf-47e5-9c5e-eaff3e225b1b"
      },
      "execution_count": null,
      "outputs": [
        {
          "output_type": "stream",
          "name": "stdout",
          "text": [
            "300\n"
          ]
        }
      ]
    },
    {
      "cell_type": "code",
      "execution_count": null,
      "metadata": {
        "id": "SF7D3vpUSV92"
      },
      "outputs": [],
      "source": [
        "# Cria um dicionário de itens a partir das linhas\n",
        "dicionario_alunos[chave_dicionario[0]] = lista_itens[0]\n",
        "dicionario_alunos[chave_dicionario[1]] = lista_itens[1]\n",
        "dicionario_alunos[chave_dicionario[2]] = lista_itens[2]\n",
        "dicionario_alunos[chave_dicionario[3]] = lista_itens[3]\n",
        "dicionario_alunos[chave_dicionario[4]] = lista_itens[4]\n",
        "dicionario_alunos[chave_dicionario[5]] = lista_itens[5]\n",
        "dicionario_alunos[chave_dicionario[6]] = lista_itens[6]\n",
        "dicionario_alunos[chave_dicionario[7]] = lista_itens[7]\n",
        "dicionario_alunos[chave_dicionario[8]] = lista_itens[8]\n",
        "dicionario_alunos[chave_dicionario[9]] = lista_itens[9]\n",
        "dicionario_alunos[chave_dicionario[10]] = lista_itens[10]\n"
      ]
    },
    {
      "cell_type": "code",
      "source": [
        "# Apresenta dados da coluna RA\n",
        "print(dicionario_alunos['RA'])"
      ],
      "metadata": {
        "colab": {
          "base_uri": "https://localhost:8080/"
        },
        "id": "4R-jUquiDbfG",
        "outputId": "20156929-b611-477f-d70c-6c53d3280799"
      },
      "execution_count": null,
      "outputs": [
        {
          "output_type": "stream",
          "name": "stdout",
          "text": [
            "['63227467787', '55774275097', '76059134116', '64295541703', '71033266097', '94355846566', '80830562656', '76852042511', '91522109945', '71863649027', '82373740270', '57200402542', '60126099851', '97496463855', '68646765054', '99843755621', '72053544514', '63210991357', '68082779370', '84414508263', '88706391022', '56156691826', '84252161084', '73823696006', '59249490017', '73891810505', '61441849541', '73782019520', '97849217948', '84177767225', '98294834305', '71047234172', '82131935084', '96097690587', '73911690845', '96446798045', '94220360149', '61668710511', '90556999713', '55798993528', '98437267044', '89793773870', '82100280473', '76505149113', '79176696752', '65353394077', '77075884375', '81226486449', '58427716925', '82852392557', '78324728693', '88082561631', '82882234104', '58806617325', '78853954754', '90612351728', '61919608954', '75846263960', '73794741310', '69608990923', '77449838968', '60372750744', '99073972248', '64281482473', '72283032018', '98610176591', '82514349615', '61001960241', '58054694485', '94936869901', '72054138041', '75310776795', '97240471150', '74294082143', '68618995444', '95468149924', '67880375501', '67771470327', '59814649756', '70143824644', '96078264778', '93436555629', '80253593355', '75646529999', '85152587295', '57719656378', '58437716952', '61835193405', '64727719347', '95730698265', '74226841493', '78891245316', '86685864800', '72184788680', '62678402433', '95028498771', '77590052981', '84097442344', '87534302801', '60915633675', '77551235570', '91291552109', '91607324230', '85579223715', '89003896358', '55896866724', '87396313125', '57585823373', '66289571273', '98990966649', '65021803315', '87802422775', '81151693087', '90937476478', '92546748274', '81850742708', '95980765400', '78549251895', '77945547478', '83011733706', '83006306304', '55680472790', '75011208424', '62953896046', '80628296520', '83926907902', '76709212705', '64092642989', '56957808904', '88649434046', '79531250584', '57525680626', '91889704239', '56935443946', '66167313279', '81361526204', '87708947203', '63907571633', '81885346751', '93306105792', '97284346100', '57249264851', '79983949999', '99277040765', '94356056686', '64497873431', '78416394568', '71966580485', '92814941309', '55616855724', '90016805947', '81946383101', '99668234269', '78541742773', '76005698603', '67592796415', '87358837817', '69261074960', '88717881455', '56682750405', '94661035036', '80007068125', '93337030792', '98015855059', '99554681418', '58824953664', '88420471730', '89753204608', '90202411846', '81270830371', '66377269361', '58149644619', '66591401813', '65765753264', '82526148869', '90309914050', '83975379628', '66661633537', '61583920765', '62123716594', '84576082462', '76397496949', '57500064385', '70054158612', '97864881365', '84701642018', '66520770222', '93867800997', '97553346924', '81005826445', '99058766380', '75679584507', '65910449155', '57129783197', '75212790666', '92971053189', '61231871495', '57150917852', '98697853336', '58912360748', '95789459920', '67495034437', '94181295850', '71774966528', '92514746471', '64023556397', '93220030662', '64834744744', '97266315766', '61818444647', '91593744313', '86983369387', '62425838632', '90887685686', '80818216300', '70913174333', '73171353709', '99478075629', '82950348580', '75811422535', '59992394107', '61123299597', '85829880750', '71981991451', '75371578775', '66825609138', '60302141496', '74696150320', '60533949567', '63528419604', '68716425599', '93795650965', '88726960254', '89549710801', '73056953742', '82562254871', '72175054968', '73232572919', '70459266656', '72340937537', '98177664836', '68885567947', '82536911321', '77472036374', '88725538553', '90403549025', '80925212572', '89377636199', '86525690894', '97364081212', '89804698120', '86941202761', '68954599741', '75366354164', '69608866653', '64928767418', '88501881981', '70982644387', '68610098906', '80014803890', '67380702151', '79819361962', '90396632443', '79667586565', '74962199967', '96481026526', '73333039512', '96377476121', '57039255807', '63093566834', '88482887885', '97950320482', '56843204394', '99532054279', '57029100687', '82487546449', '74652879976', '84788367355', '76288685079', '69937104197', '78051129659', '76858653145', '63119744731', '72100652952', '76533280860', '57880527806', '65092064021', '63893561511', '84291839162', '80113300098', '59463043646', '75332205879', '80967326985', '64145893892', '58534624387', '80355209504', '64876344668', '77611509140', '61821096538', '92179223683']\n"
          ]
        }
      ]
    },
    {
      "cell_type": "code",
      "source": [
        "print(len(dicionario_alunos['RA']))"
      ],
      "metadata": {
        "colab": {
          "base_uri": "https://localhost:8080/"
        },
        "id": "PqUL-aTODjHN",
        "outputId": "1ac9ec00-bd8d-4d20-fff5-225f13f2a9a9"
      },
      "execution_count": null,
      "outputs": [
        {
          "output_type": "stream",
          "name": "stdout",
          "text": [
            "300\n"
          ]
        }
      ]
    },
    {
      "cell_type": "markdown",
      "source": [
        "Vamos agora tentar realizar algumas operações matemáticas. Para isso temos que saber os tipos dos nossos dados"
      ],
      "metadata": {
        "id": "qbFhI1z8BTLq"
      }
    },
    {
      "cell_type": "code",
      "source": [
        "lista_idade = dicionario_alunos['Idade']\n",
        "print(lista_idade)"
      ],
      "metadata": {
        "colab": {
          "base_uri": "https://localhost:8080/"
        },
        "id": "m1kU9wIlBSMe",
        "outputId": "98395d3f-9ad8-4e50-e19e-7d691bd027bc"
      },
      "execution_count": null,
      "outputs": [
        {
          "output_type": "stream",
          "name": "stdout",
          "text": [
            "['31', '20', '19', '45', '39', '25', '51', '22', '65', '65', '39', '35', '21', '59', '37', '33', '52', '63', '20', '33', '33', '31', '63', '46', '38', '52', '23', '53', '53', '21', '47', '44', '18', '24', '62', '33', '57', '40', '37', '46', '59', '38', '52', '18', '65', '47', '58', '50', '28', '44', '33', '52', '26', '49', '57', '64', '63', '36', '32', '30', '34', '19', '49', '53', '58', '18', '34', '46', '20', '21', '25', '65', '58', '39', '40', '22', '35', '41', '40', '35', '26', '49', '56', '43', '20', '54', '51', '23', '46', '57', '51', '54', '52', '24', '49', '37', '39', '22', '54', '33', '30', '35', '20', '33', '45', '64', '19', '39', '57', '33', '31', '60', '51', '18', '58', '52', '43', '65', '25', '39', '64', '38', '52', '22', '26', '55', '42', '61', '28', '34', '21', '18', '32', '24', '54', '30', '31', '49', '34', '40', '65', '22', '42', '38', '34', '25', '30', '28', '40', '63', '32', '49', '39', '58', '33', '54', '32', '57', '39', '34', '47', '40', '54', '44', '17', '59', '59', '61', '19', '53', '45', '30', '20', '43', '45', '24', '55', '41', '25', '45', '63', '41', '41', '43', '57', '39', '28', '32', '42', '49', '59', '19', '62', '21', '59', '30', '43', '52', '54', '30', '65', '48', '38', '60', '34', '57', '22', '26', '33', '21', '20', '51', '23', '60', '33', '33', '62', '35', '19', '49', '32', '65', '60', '32', '43', '31', '58', '58', '21', '65', '56', '45', '24', '45', '24', '39', '64', '49', '31', '65', '36', '19', '33', '48', '19', '30', '27', '30', '39', '62', '60', '26', '51', '27', '60', '47', '26', '32', '59', '30', '45', '28', '62', '27', '52', '56', '43', '28', '21', '33', '24', '30', '23', '20', '50', '54', '32', '29', '56', '29', '36', '35', '34', '30', '25', '24', '21', '41', '24', '40', '52', '40', '63', '51', '36', '59', '26', '26', '50', '61']\n",
            "<class 'list'>\n",
            "<class 'str'>\n"
          ]
        }
      ]
    },
    {
      "cell_type": "markdown",
      "source": [
        "Antes de realizar qualquer operação matemática, precisamos nos certificar que os dados estão no tipo certo"
      ],
      "metadata": {
        "id": "mqgCUbfTCd8A"
      }
    },
    {
      "cell_type": "code",
      "source": [
        "print(type(lista_idade))\n",
        "print(type(lista_idade[0]))"
      ],
      "metadata": {
        "colab": {
          "base_uri": "https://localhost:8080/"
        },
        "id": "CS3TXL_bCmjn",
        "outputId": "5b8d5124-b490-4c95-c3bc-dbb6a3252bbe"
      },
      "execution_count": null,
      "outputs": [
        {
          "output_type": "stream",
          "name": "stdout",
          "text": [
            "<class 'list'>\n",
            "<class 'str'>\n"
          ]
        }
      ]
    },
    {
      "cell_type": "markdown",
      "source": [
        "Veja que no exemplo acima temos uma lista, era o esperado, porém quando pegamos a idade vemos que ela está em formato de texto. Logo precisamos converter para um formato ideial"
      ],
      "metadata": {
        "id": "kWS9kMqcCnpE"
      }
    },
    {
      "cell_type": "code",
      "source": [
        "# Temos algumas formas de fazer, inclusive com ajuda de biblioteca, \n",
        "# mas vamos nos tentar sem uso de biblioteca externas.\n",
        "# 1° forma de fazer\n",
        "\n",
        "#lista_floats = []\n",
        "#for idade in lista_idade:\n",
        "#    lista_floats.append(int(idade))\n",
        "\n",
        "\n",
        "#2° - Podemos usar uma nova sintaxe em python, chamada de 'compreensão de lista'\n",
        "# No qual é uma maneira concisa de criar uma nova lista. Sua sintaxe é\n",
        "# [novo_valor for valor in lista]\n",
        "lista_idade_int = [int(idade) for idade in lista_idade]\n"
      ],
      "metadata": {
        "id": "Zu134CbsCzNN"
      },
      "execution_count": null,
      "outputs": []
    },
    {
      "cell_type": "code",
      "source": [
        "print(type(lista_idade_int))\n",
        "print(type(lista_idade_int[0]))"
      ],
      "metadata": {
        "colab": {
          "base_uri": "https://localhost:8080/"
        },
        "id": "pzo-tgh1Egwl",
        "outputId": "3c8cba68-d480-412d-d687-bd54a34b98a2"
      },
      "execution_count": null,
      "outputs": [
        {
          "output_type": "stream",
          "name": "stdout",
          "text": [
            "<class 'list'>\n",
            "<class 'int'>\n"
          ]
        }
      ]
    },
    {
      "cell_type": "code",
      "source": [
        "dicionario_alunos['Idade'] = lista_idade_int\n",
        "print(type(dicionario_alunos['Idade'][0]))"
      ],
      "metadata": {
        "colab": {
          "base_uri": "https://localhost:8080/"
        },
        "id": "7WCPJGK6ElF2",
        "outputId": "f3905d6d-5122-4982-82bf-17406b21268a"
      },
      "execution_count": null,
      "outputs": [
        {
          "output_type": "stream",
          "name": "stdout",
          "text": [
            "<class 'int'>\n"
          ]
        }
      ]
    },
    {
      "cell_type": "code",
      "source": [
        "lista_idades = dicionario_alunos['Idade']\n",
        "print(lista_idades)\n",
        "print(type(lista_idades))\n",
        "print(len(lista_idades))"
      ],
      "metadata": {
        "colab": {
          "base_uri": "https://localhost:8080/"
        },
        "id": "YP5ZQbLfFIQT",
        "outputId": "3b23d740-ee31-4dd9-a986-eb11fa5f3fb3"
      },
      "execution_count": null,
      "outputs": [
        {
          "output_type": "stream",
          "name": "stdout",
          "text": [
            "[31, 20, 19, 45, 39, 25, 51, 22, 65, 65, 39, 35, 21, 59, 37, 33, 52, 63, 20, 33, 33, 31, 63, 46, 38, 52, 23, 53, 53, 21, 47, 44, 18, 24, 62, 33, 57, 40, 37, 46, 59, 38, 52, 18, 65, 47, 58, 50, 28, 44, 33, 52, 26, 49, 57, 64, 63, 36, 32, 30, 34, 19, 49, 53, 58, 18, 34, 46, 20, 21, 25, 65, 58, 39, 40, 22, 35, 41, 40, 35, 26, 49, 56, 43, 20, 54, 51, 23, 46, 57, 51, 54, 52, 24, 49, 37, 39, 22, 54, 33, 30, 35, 20, 33, 45, 64, 19, 39, 57, 33, 31, 60, 51, 18, 58, 52, 43, 65, 25, 39, 64, 38, 52, 22, 26, 55, 42, 61, 28, 34, 21, 18, 32, 24, 54, 30, 31, 49, 34, 40, 65, 22, 42, 38, 34, 25, 30, 28, 40, 63, 32, 49, 39, 58, 33, 54, 32, 57, 39, 34, 47, 40, 54, 44, 17, 59, 59, 61, 19, 53, 45, 30, 20, 43, 45, 24, 55, 41, 25, 45, 63, 41, 41, 43, 57, 39, 28, 32, 42, 49, 59, 19, 62, 21, 59, 30, 43, 52, 54, 30, 65, 48, 38, 60, 34, 57, 22, 26, 33, 21, 20, 51, 23, 60, 33, 33, 62, 35, 19, 49, 32, 65, 60, 32, 43, 31, 58, 58, 21, 65, 56, 45, 24, 45, 24, 39, 64, 49, 31, 65, 36, 19, 33, 48, 19, 30, 27, 30, 39, 62, 60, 26, 51, 27, 60, 47, 26, 32, 59, 30, 45, 28, 62, 27, 52, 56, 43, 28, 21, 33, 24, 30, 23, 20, 50, 54, 32, 29, 56, 29, 36, 35, 34, 30, 25, 24, 21, 41, 24, 40, 52, 40, 63, 51, 36, 59, 26, 26, 50, 61]\n",
            "<class 'list'>\n",
            "300\n"
          ]
        }
      ]
    },
    {
      "cell_type": "code",
      "source": [
        "# Vamos realizar alguma operações estatísticas\n",
        "soma_das_idades = sum(lista_idades)\n",
        "média_das_idades = soma_das_idades / len(lista_idades)\n",
        "print(soma_das_idades)\n",
        "print(média_das_idades)\n",
        "# Porém, agora podemos começar a usar algumas bibliotecas"
      ],
      "metadata": {
        "colab": {
          "base_uri": "https://localhost:8080/"
        },
        "id": "sBE1nazBE0Ib",
        "outputId": "0df8f424-31e6-4dee-d3a1-5cca8c611374"
      },
      "execution_count": null,
      "outputs": [
        {
          "output_type": "stream",
          "name": "stdout",
          "text": [
            "12137\n",
            "40.45666666666666\n"
          ]
        }
      ]
    },
    {
      "cell_type": "markdown",
      "source": [
        "### Utilizando a biblioteca Math"
      ],
      "metadata": {
        "id": "rfs73CQEF-ih"
      }
    },
    {
      "cell_type": "markdown",
      "source": [
        "#### Cálculo do desvio padrão"
      ],
      "metadata": {
        "id": "FtGoaIfGGL2V"
      }
    },
    {
      "cell_type": "code",
      "source": [
        "import math\n",
        "\n",
        "# Lista de valores amostrais\n",
        "valores = [10, 8, 12, 15, 13]\n",
        "\n",
        "# Cálculo do desvio padrão amostral\n",
        "media = sum(valores) / len(valores)\n",
        "variancia = sum((x - media) ** 2 for x in valores) / (len(valores) - 1)\n",
        "desvio_padrao_amostral = math.sqrt(variancia)\n",
        "\n",
        "print(desvio_padrao_amostral)\n"
      ],
      "metadata": {
        "colab": {
          "base_uri": "https://localhost:8080/"
        },
        "id": "iCSefS8dFzv3",
        "outputId": "8ebf128f-0e0e-48ff-efed-9f1eec4e03b5"
      },
      "execution_count": null,
      "outputs": [
        {
          "output_type": "stream",
          "name": "stdout",
          "text": [
            "2.701851217221259\n"
          ]
        }
      ]
    },
    {
      "cell_type": "markdown",
      "source": [
        "#### Cálculo da mediana"
      ],
      "metadata": {
        "id": "klb3_DtpGQ7c"
      }
    },
    {
      "cell_type": "code",
      "source": [
        "import math\n",
        "\n",
        "# Lista de valores\n",
        "valores = [10, 8, 12, 15, 13]\n",
        "\n",
        "# Ordenar a lista\n",
        "valores_ordenados = sorted(valores)\n",
        "\n",
        "# Cálculo da mediana\n",
        "meio = len(valores_ordenados) // 2\n",
        "if len(valores_ordenados) % 2 == 0:\n",
        "    mediana = (valores_ordenados[meio - 1] + valores_ordenados[meio]) / 2\n",
        "else:\n",
        "    mediana = valores_ordenados[meio]\n",
        "\n",
        "print(mediana)"
      ],
      "metadata": {
        "colab": {
          "base_uri": "https://localhost:8080/"
        },
        "id": "x2BVwdHvGGP5",
        "outputId": "42c2be56-6d57-4861-c7ac-2dac78773562"
      },
      "execution_count": null,
      "outputs": [
        {
          "output_type": "stream",
          "name": "stdout",
          "text": [
            "12\n"
          ]
        }
      ]
    },
    {
      "cell_type": "markdown",
      "source": [
        "#### cálculo do coeficiente de relação"
      ],
      "metadata": {
        "id": "49ZAZapaGU9N"
      }
    },
    {
      "cell_type": "code",
      "source": [
        "import math\n",
        "\n",
        "# Lista de valores X e Y\n",
        "valores_x = [10, 8, 12, 15, 13]\n",
        "valores_y = [2, 1, 3, 6, 4]\n",
        "\n",
        "# Cálculo da média\n",
        "media_x = sum(valores_x) / len(valores_x)\n",
        "media_y = sum(valores_y) / len(valores_y)\n",
        "\n",
        "# Cálculo do coeficiente de correlação\n",
        "num = sum((x - media_x) * (y - media_y) for x, y in zip(valores_x, valores_y))\n",
        "den1 = math.sqrt(sum((x - media_x) ** 2 for x in valores_x))\n",
        "den2 = math.sqrt(sum((y - media_y) ** 2 for y in valores_y))\n",
        "coef_correlacao = num / (den1 * den2)\n",
        "\n",
        "print(coef_correlacao)\n"
      ],
      "metadata": {
        "colab": {
          "base_uri": "https://localhost:8080/"
        },
        "id": "fvADvWuRGKDr",
        "outputId": "a1799eae-506a-4a48-b145-041d0e293faa"
      },
      "execution_count": null,
      "outputs": [
        {
          "output_type": "stream",
          "name": "stdout",
          "text": [
            "0.9813137496771573\n"
          ]
        }
      ]
    },
    {
      "cell_type": "markdown",
      "source": [
        "### Utilizando a biblioteca statistics "
      ],
      "metadata": {
        "id": "1n5aJPv_Gb8F"
      }
    },
    {
      "cell_type": "markdown",
      "source": [
        "#### Calculando a média"
      ],
      "metadata": {
        "id": "rLAkEq-wGjiO"
      }
    },
    {
      "cell_type": "code",
      "source": [
        "import statistics\n",
        "\n",
        "data = [1, 2, 3, 4, 5]\n",
        "media = statistics.mean(data)\n",
        "print(media)  # Output: 3.0\n"
      ],
      "metadata": {
        "colab": {
          "base_uri": "https://localhost:8080/"
        },
        "id": "SgkXX8pPGmI_",
        "outputId": "c6241cfe-02a2-429c-a017-211cd3e592d3"
      },
      "execution_count": null,
      "outputs": [
        {
          "output_type": "stream",
          "name": "stdout",
          "text": [
            "3\n"
          ]
        }
      ]
    },
    {
      "cell_type": "markdown",
      "source": [
        "#### Calculando a mediana"
      ],
      "metadata": {
        "id": "v5GZbi28Gp23"
      }
    },
    {
      "cell_type": "code",
      "source": [
        "import statistics\n",
        "\n",
        "data = [1, 2, 3, 4, 5, 6]\n",
        "mediana = statistics.median(data)\n",
        "print(mediana)  # Output: 3.5\n"
      ],
      "metadata": {
        "id": "4NaVmFO0Go_F"
      },
      "execution_count": null,
      "outputs": []
    },
    {
      "cell_type": "markdown",
      "source": [
        "#### Calculando a moda "
      ],
      "metadata": {
        "id": "8nj5ALH4Gs5D"
      }
    },
    {
      "cell_type": "code",
      "source": [
        "import statistics\n",
        "\n",
        "data = [1, 2, 2, 3, 3, 3, 4, 4, 5]\n",
        "moda = statistics.mode(data)\n",
        "print(moda)  # Output: 3\n"
      ],
      "metadata": {
        "colab": {
          "base_uri": "https://localhost:8080/"
        },
        "id": "EDTUodlEGv2k",
        "outputId": "8fb403b5-00aa-419b-b211-eee270dac468"
      },
      "execution_count": null,
      "outputs": [
        {
          "output_type": "stream",
          "name": "stdout",
          "text": [
            "3\n"
          ]
        }
      ]
    },
    {
      "cell_type": "markdown",
      "source": [
        "#### Calculandoa variância"
      ],
      "metadata": {
        "id": "rjQrCxItGyGE"
      }
    },
    {
      "cell_type": "code",
      "source": [
        "import statistics\n",
        "\n",
        "data = [1, 2, 3, 4, 5]\n",
        "variancia = statistics.variance(data)\n",
        "print(variancia)  # Output: 2.5\n"
      ],
      "metadata": {
        "colab": {
          "base_uri": "https://localhost:8080/"
        },
        "id": "SFkS71GVG00K",
        "outputId": "b9d6878d-3383-4871-99bd-bb20194dd007"
      },
      "execution_count": null,
      "outputs": [
        {
          "output_type": "stream",
          "name": "stdout",
          "text": [
            "2.5\n"
          ]
        }
      ]
    },
    {
      "cell_type": "markdown",
      "source": [
        "#### Calculando o desvio padrão"
      ],
      "metadata": {
        "id": "77C3i1t2G40d"
      }
    },
    {
      "cell_type": "markdown",
      "metadata": {
        "id": "xwpCqnoELIij"
      },
      "source": [
        "A exibição estão muit fraca, podemos criar uma função que exiba a quantidade\n",
        "de dados"
      ]
    },
    {
      "cell_type": "code",
      "source": [
        "import statistics\n",
        "\n",
        "data = [1, 2, 3, 4, 5]\n",
        "desvio_padrao = statistics.stdev(data)\n",
        "print(desvio_padrao)  # Output: 1.5811388300841898\n"
      ],
      "metadata": {
        "id": "P4tqjoS-G8FY",
        "outputId": "07bcb619-878c-4c0f-e648-0d7f389de694",
        "colab": {
          "base_uri": "https://localhost:8080/"
        }
      },
      "execution_count": null,
      "outputs": [
        {
          "output_type": "stream",
          "name": "stdout",
          "text": [
            "1.5811388300841898\n"
          ]
        }
      ]
    },
    {
      "cell_type": "code",
      "execution_count": null,
      "metadata": {
        "id": "Qm1X8GFkLRpy"
      },
      "outputs": [],
      "source": [
        "from os import replace\n",
        "def exibir_dados_dicionarios(colecao, inicio = 0, fim = 5, todos_itens = False):\n",
        "  if len(colecao) < fim:\n",
        "    print(f'A coleção possui {len(colecao)} enquanto o indice final é {fim}')\n",
        "    return \n",
        "\n",
        "  if todos_itens == True:\n",
        "    fim = len(colecao[0])\n",
        "\n",
        "  for linha in range(inicio, fim):\n",
        "    print(str(colecao.get(linha)).removeprefix('[').removesuffix(']'))"
      ]
    },
    {
      "cell_type": "code",
      "execution_count": null,
      "metadata": {
        "colab": {
          "base_uri": "https://localhost:8080/"
        },
        "id": "CrrLoz6KL5cG",
        "outputId": "6a9abedc-2d8f-4805-8511-ea2a283f839d"
      },
      "outputs": [
        {
          "output_type": "stream",
          "name": "stdout",
          "text": [
            "None\n",
            "None\n",
            "None\n",
            "None\n",
            "None\n",
            "None\n"
          ]
        }
      ],
      "source": [
        "print(exibir_dados_dicionarios(dicionario_alunos))"
      ]
    },
    {
      "cell_type": "markdown",
      "metadata": {
        "id": "LmkRFL8qMe53"
      },
      "source": [
        "Porem ainda temos o problema com os tipos de dados"
      ]
    },
    {
      "cell_type": "code",
      "execution_count": null,
      "metadata": {
        "colab": {
          "base_uri": "https://localhost:8080/",
          "height": 140
        },
        "id": "SOOA6MFxeCYL",
        "outputId": "501b621c-4c40-415b-f53d-d56a1ecf7b9f"
      },
      "outputs": [
        {
          "data": {
            "application/vnd.google.colaboratory.intrinsic+json": {
              "type": "string"
            },
            "text/plain": [
              "'[{\"id\":\"28202679839\",\"type\":\"PushEvent\",\"actor\":{\"id\":84808407,\"login\":\"JennKnapp\",\"display_login\":\"JennKnapp\",\"gravatar_id\":\"\",\"url\":\"https://api.github.com/users/JennKnapp\",\"avatar_url\":\"https://avatars.githubusercontent.com/u/84808407?\"},\"repo\":{\"id\":350746193,\"name\":\"Ellmen/alcov\",\"url\":\"https://api.github.com/repos/Ellmen/alcov\"},\"payload\":{\"repository_id\":350746193,\"push_id\":13188910700,\"size\":2,\"distinct_size\":2,\"ref\":\"refs/heads/main\",\"head\":\"8b28d86cf84d9a202278b5c12bba8b429af071ac\",\"before\":\"4bedefe491f7109822e357c30d8d64b65b071491\",\"commits\":[{\"sha\":\"f7573e3132178181c80a402112e761fabaef9451\",\"author\":{\"email\":\"jknapp@uwaterloo.ca\",\"name\":\"JennKnapp\"},\"message\":\"Added constellations for XBB.1.16, XBB.1.9, XBB.2\",\"distinct\":true,\"url\":\"https://api.github.com/repos/Ellmen/alcov/commits/f7573e3132178181c80a402112e761fabaef9451\"},{\"sha\":\"8b28d86cf84d9a202278b5c12bba8b429af071ac\",\"author\":{\"email\":\"84808407+JennKnapp@users.noreply.github.com\",\"name\":\"Jenn Knapp\"},\"message\":\"Merge pull request #24 from JennKnapp/main\\\\n\\\\nAdded constellations for XBB.1.16, XBB.1.9, XBB.2\",\"distinct\":true,\"url\":\"https://api.github.com/repos/Ellmen/alcov/commits/8b28d86cf84d9a202278b5c12bba8b429af071ac\"}]},\"public\":true,\"created_at\":\"2023-04-04T18:38:31Z\"},{\"id\":\"28202679874\",\"type\":\"PushEvent\",\"actor\":{\"id\":78044586,\"login\":\"GoldenVadim\",\"display_login\":\"GoldenVadim\",\"gravatar_id\":\"\",\"url\":\"https://api.github.com/users/GoldenVadim\",\"avatar_url\":\"https://avatars.githubusercontent.com/u/78044586?\"},\"repo\":{\"id\":597157569,\"name\":\"GoldenVadim/UserAgentX\",\"url\":\"https://api.github.com/repos/GoldenVadim/UserAgentX\"},\"payload\":{\"repository_id\":597157569,\"push_id\":13188910744,\"size\":1,\"distinct_size\":1,\"ref\":\"refs/heads/main\",\"head\":\"45cd4e4cb7f365798d99dc9ff39e5f14ede53df8\",\"before\":\"beaef6217e0e7a03d38316c8c378038bd482b2eb\",\"commits\":[{\"sha\":\"45cd4e4cb7f365798d99dc9ff39e5f14ede53df8\",\"author\":{\"email\":\"78044586+GoldenVadim@users.noreply.github.com\",\"name\":\"GoldenVadim\"},\"message\":\"Update README.md\",\"distinct\":true,\"url\":\"https://api.github.com/repos/GoldenVadim/UserAgentX/commits/45cd4e4cb7f365798d99dc9ff39e5f14ede53df8\"}]},\"public\":true,\"created_at\":\"2023-04-04T18:38:31Z\"},{\"id\":\"28202679893\",\"type\":\"CreateEvent\",\"actor\":{\"id\":18690062,\"login\":\"Russell-Newton\",\"display_login\":\"Russell-Newton\",\"gravatar_id\":\"\",\"url\":\"https://api.github.com/users/Russell-Newton\",\"avatar_url\":\"https://avatars.githubusercontent.com/u/18690062?\"},\"repo\":{\"id\":623623000,\"name\":\"Russell-Newton/TaylorGreenVPM\",\"url\":\"https://api.github.com/repos/Russell-Newton/TaylorGreenVPM\"},\"payload\":{\"ref\":\"main\",\"ref_type\":\"branch\",\"master_branch\":\"main\",\"description\":null,\"pusher_type\":\"user\"},\"public\":true,\"created_at\":\"2023-04-04T18:38:31Z\"},{\"id\":\"28202679866\",\"type\":\"CreateEvent\",\"actor\":{\"id\":118613637,\"login\":\"ZloY29\",\"display_login\":\"ZloY29\",\"gravatar_id\":\"\",\"url\":\"https://api.github.com/users/ZloY29\",\"avatar_url\":\"https://avatars.githubusercontent.com/u/118613637?\"},\"repo\":{\"id\":617351284,\"name\":\"ZloY29/Codeforces_parcer_PMI_13\",\"url\":\"https://api.github.com/repos/ZloY29/Codeforces_parcer_PMI_13\"},\"payload\":{\"ref\":\"checkMerge\",\"ref_type\":\"branch\",\"master_branch\":\"main\",\"description\":null,\"pusher_type\":\"user\"},\"public\":true,\"created_at\":\"2023-04-04T18:38:31Z\"},{\"id\":\"28202679880\",\"type\":\"PullRequestEvent\",\"actor\":{\"id\":12663534,\"login\":\"marcpopMSFT\",\"display_login\":\"marcpopMSFT\",\"gravatar_id\":\"\",\"url\":\"https://api.github.com/users/marcpopMSFT\",\"avatar_url\":\"https://avatars.githubusercontent.com/u/12663534?\"},\"repo\":{\"id\":104528436,\"name\":\"dotnet/installer\",\"url\":\"https://api.github.com/repos/dotnet/installer\"},\"payload\":{\"action\":\"closed\",\"number\":15979,\"pull_request\":{\"url\":\"https://api.github.com/repos/dotnet/installer/pulls/15979\",\"id\":1302029531,\"node_id\":\"PR_kwDOBjr6NM5Nm2Tb\",\"html_url\":\"https://github.com/dotnet/installer/pull/15979\",\"diff_url\":\"https://github.com/dotnet/installer/pull/15979.diff\",\"patch_url\":\"https://github.com/dotnet/installer/pull/15979.patch\",\"issue_url\":\"https://api.github.com/repos/dotnet/installer/issues/15979\",\"number\":15979,\"state\":\"closed\",\"locked\":false,\"title\":\"Update branding to 7.0.204\",\"user\":{\"login\":\"vseanreesermsft\",\"id\":78103370,\"node_id\":\"MDQ6VXNlcjc4MTAzMzcw\",\"avatar_url\":\"https://avatars.githubusercontent.com/u/78103370?v=4\",\"gravatar_id\":\"\",\"url\":\"https://api.github.com/users/vseanreesermsft\",\"html_url\":\"https://github.com/vseanreesermsft\",\"followers_url\":\"https://api.github.com/users/vseanreesermsft/followers\",\"following_url\":\"https://api.github.com/users/vseanreesermsft/following{/other_user}\",\"gists_url\":\"https://api.github.com/users/vseanreesermsft/gists{/gist_id}\",\"starred_url\":\"https://api.github.com/users/vseanreesermsft/starred{/owner}{/repo}\",\"subscriptions_url\":\"https://api.github.com/users/vseanreesermsft/subscriptions\",\"organizations_url\":\"https://api.github.com/users/vseanreesermsft/orgs\",\"repos_url\":\"https://api.github.com/users/vseanreesermsft/repos\",\"events_url\":\"https://api.github.com/users/vseanreesermsft/events{/privacy}\",\"received_events_url\":\"https://api.github.com/users/vseanreesermsft/received_events\",\"type\":\"User\",\"site_admin\":false},\"body\":null,\"created_at\":\"2023-04-04T17:33:57Z\",\"updated_at\":\"2023-04-04T18:38:30Z\",\"closed_at\":\"2023-04-04T18:38:30Z\",\"merged_at\":\"2023-04-04T18:38:30Z\",\"merge_commit_sha\":\"9d8bde79e5960e590931beea8529b8237bfa2f93\",\"assignee\":null,\"assignees\":[],\"requested_reviewers\":[],\"requested_teams\":[],\"labels\":[],\"milestone\":null,\"draft\":false,\"commits_url\":\"https://api.github.com/repos/dotnet/installer/pulls/15979/commits\",\"review_comments_url\":\"https://api.github.com/repos/dotnet/installer/pulls/15979/comments\",\"review_comment_url\":\"https://api.github.com/repos/dotnet/installer/pulls/comments{/number}\",\"comments_url\":\"https://api.github.com/repos/dotnet/installer/issues/15979/comments\",\"statuses_url\":\"https://api.github.com/repos/dotnet/installer/statuses/138c3bbdf4c91b75a57e623bdeba4df7782bc435\",\"head\":{\"label\":\"vseanreesermsft:branding-7.0.204-2023-04-04-1033\",\"ref\":\"branding-7.0.204-2023-04-04-1033\",\"sha\":\"138c3bbdf4c91b75a57e623bdeba4df7782bc435\",\"user\":{\"login\":\"vseanreesermsft\",\"id\":78103370,\"node_id\":\"MDQ6VXNlcjc4MTAzMzcw\",\"avatar_url\":\"https://avatars.githubusercontent.com/u/78103370?v=4\",\"gravatar_id\":\"\",\"url\":\"https://api.github.com/users/vseanreesermsft\",\"html_url\":\"https://github.com/vseanreesermsft\",\"followers_url\":\"https://api.github.com/users/vseanreesermsft/followers\",\"following_url\":\"https://api.github.com/users/vseanreesermsft/following{/other_user}\",\"gists_url\":\"https://api.github.com/users/vseanreesermsft/gists{/gist_id}\",\"starred_url\":\"https://api.github.com/users/vseanreesermsft/starred{/owner}{/repo}\",\"subscriptions_url\":\"https://api.github.com/users/vseanreesermsft/subscriptions\",\"organizations_url\":\"https://api.github.com/users/vseanreesermsft/orgs\",\"repos_url\":\"https://api.github.com/users/vseanreesermsft/repos\",\"events_url\":\"https://api.github.com/users/vseanreesermsft/events{/privacy}\",\"received_events_url\":\"https://api.github.com/users/vseanreesermsft/received_events\",\"type\":\"User\",\"site_admin\":false},\"repo\":{\"id\":343568193,\"node_id\":\"MDEwOlJlcG9zaXRvcnkzNDM1NjgxOTM=\",\"name\":\"installer\",\"full_name\":\"vseanreesermsft/installer\",\"private\":false,\"owner\":{\"login\":\"vseanreesermsft\",\"id\":78103370,\"node_id\":\"MDQ6VXNlcjc4MTAzMzcw\",\"avatar_url\":\"https://avatars.githubusercontent.com/u/78103370?v=4\",\"gravatar_id\":\"\",\"url\":\"https://api.github.com/users/vseanreesermsft\",\"html_url\":\"https://github.com/vseanreesermsft\",\"followers_url\":\"https://api.github.com/users/vseanreesermsft/followers\",\"following_url\":\"https://api.github.com/users/vseanreesermsft/following{/other_user}\",\"gists_url\":\"https://api.github.com/users/vseanreesermsft/gists{/gist_id}\",\"starred_url\":\"https://api.github.com/users/vseanreesermsft/starred{/owner}{/repo}\",\"subscriptions_url\":\"https://api.github.com/users/vseanreesermsft/subscriptions\",\"organizations_url\":\"https://api.github.com/users/vseanreesermsft/orgs\",\"repos_url\":\"https://api.github.com/users/vseanreesermsft/repos\",\"events_url\":\"https://api.github.com/users/vseanreesermsft/events{/privacy}\",\"received_events_url\":\"https://api.github.com/users/vseanreesermsft/received_events\",\"type\":\"User\",\"site_admin\":false},\"html_url\":\"https://github.com/vseanreesermsft/installer\",\"description\":\".NET SDK Installer\",\"fork\":true,\"url\":\"https://api.github.com/repos/vseanreesermsft/installer\",\"forks_url\":\"https://api.github.com/repos/vseanreesermsft/installer/forks\",\"keys_url\":\"https://api.github.com/repos/vseanreesermsft/installer/keys{/key_id}\",\"collaborators_url\":\"https://api.github.com/repos/vseanreesermsft/installer/collaborators{/collaborator}\",\"teams_url\":\"https://api.github.com/repos/vseanreesermsft/installer/teams\",\"hooks_url\":\"https://api.github.com/repos/vseanreesermsft/installer/hooks\",\"issue_events_url\":\"https://api.github.com/repos/vseanreesermsft/installer/issues/events{/number}\",\"events_url\":\"https://api.github.com/repos/vseanreesermsft/installer/events\",\"assignees_url\":\"https://api.github.com/repos/vseanreesermsft/installer/assignees{/user}\",\"branches_url\":\"https://api.github.com/repos/vseanreesermsft/installer/branches{/branch}\",\"tags_url\":\"https://api.github.com/repos/vseanreesermsft/installer/tags\",\"blobs_url\":\"https://api.github.com/repos/vseanreesermsft/installer/git/blobs{/sha}\",\"git_tags_url\":\"https://api.github.com/repos/vseanreesermsft/installer/git/tags{/sha}\",\"git_refs_url\":\"https://api.github.com/repos/vseanreesermsft/installer/git/refs{/sha}\",\"trees_url\":\"https://api.github.com/repos/vseanreesermsft/installer/git/trees{/sha}\",\"statuses_url\":\"https://api.github.com/repos/vseanreesermsft/installer/statuses/{sha}\",\"languages_url\":\"https://api.github.com/repos/vseanreesermsft/installer/languages\",\"stargazers_url\":\"https://api.github.com/repos/vseanreesermsft/installer/stargazers\",\"contributors_url\":\"https://api.github.com/repos/vseanreesermsft/installer/contributors\",\"subscribers_url\":\"https://api.github.com/repos/vseanreesermsft/installer/subscribers\",\"subscription_url\":\"https://api.github.com/repos/vseanreesermsft/installer/subscription\",\"commits_url\":\"https://api.github.com/repos/vseanreesermsft/installer/commits{/sha}\",\"git_commits_url\":\"https://api.github.com/repos/vseanreesermsft/installer/git/commits{/sha}\",\"comments_url\":\"https://api.github.com/repos/vseanreesermsft/installer/comments{/number}\",\"issue_comment_url\":\"https://api.github.com/repos/vseanreesermsft/installer/issues/comments{/number}\",\"contents_url\":\"https://api.github.com/repos/vseanreesermsft/installer/contents/{+path}\",\"compare_url\":\"https://api.github.com/repos/vseanreesermsft/installer/compare/{base}...{head}\",\"merges_url\":\"https://api.github.com/repos/vseanreesermsft/installer/merges\",\"archive_url\":\"https://api.github.com/repos/vseanreesermsft/installer/{archive_format}{/ref}\",\"downloads_url\":\"https://api.github.com/repos/vseanreesermsft/installer/downloads\",\"issues_url\":\"https://api.github.com/repos/vseanreesermsft/installer/issues{/number}\",\"pulls_url\":\"https://api.github.com/repos/vseanreesermsft/installer/pulls{/number}\",\"milestones_url\":\"https://api.github.com/repos/vseanreesermsft/installer/milestones{/number}\",\"notifications_url\":\"https://api.github.com/repos/vseanreesermsft/installer/notifications{?since,all,participating}\",\"labels_url\":\"https://api.github.com/repos/vseanreesermsft/installer/labels{/name}\",\"releases_url\":\"https://api.github.com/repos/vseanreesermsft/installer/releases{/id}\",\"deployments_url\":\"https://api.github.com/repos/vseanreesermsft/installer/deployments\",\"created_at\":\"2021-03-01T21:56:22Z\",\"updated_at\":\"2021-03-01T22:07:00Z\",\"pushed_at\":\"2023-04-04T17:33:57Z\",\"git_url\":\"git://github.com/vseanreesermsft/installer.git\",\"ssh_url\":\"git@github.com:vseanreesermsft/installer.git\",\"clone_url\":\"https://github.com/vseanreesermsft/installer.git\",\"svn_url\":\"https://github.com/vseanreesermsft/installer\",\"homepage\":\"https://dotnet.microsoft.com/download/dotnet-core\",\"size\":79406,\"stargazers_count\":0,\"watchers_count\":0,\"language\":\"C#\",\"has_issues\":false,\"has_projects\":true,\"has_downloads\":true,\"has_wiki\":true,\"has_pages\":false,\"has_discussions\":false,\"forks_count\":0,\"mirror_url\":null,\"archived\":false,\"disabled\":false,\"open_issues_count\":0,\"license\":{\"key\":\"mit\",\"name\":\"MIT License\",\"spdx_id\":\"MIT\",\"url\":\"https://api.github.com/licenses/mit\",\"node_id\":\"MDc6TGljZW5zZTEz\"},\"allow_forking\":true,\"is_template\":false,\"web_commit_signoff_required\":false,\"topics\":[],\"visibility\":\"public\",\"forks\":0,\"open_issues\":0,\"watchers\":0,\"default_branch\":\"master\"}},\"base\":{\"label\":\"dotnet:release/7.0.2xx\",\"ref\":\"release/7.0.2xx\",\"sha\":\"332c2bc24954c8305a1985bd8e52088cc6b6a677\",\"user\":{\"login\":\"dotnet\",\"id\":9141961,\"node_id\":\"MDEyOk9yZ2FuaXphdGlvbjkxNDE5NjE=\",\"avatar_url\":\"https://avatars.githubusercontent.com/u/9141961?v=4\",\"gravatar_id\":\"\",\"url\":\"https://api.github.com/users/dotnet\",\"html_url\":\"https://github.com/dotnet\",\"followers_url\":\"https://api.github.com/users/dotnet/followers\",\"following_url\":\"https://api.github.com/users/dotnet/following{/other_user}\",\"gists_url\":\"https://api.github.com/users/dotnet/gists{/gist_id}\",\"starred_url\":\"https://api.github.com/users/dotnet/starred{/owner}{/repo}\",\"subscriptions_url\":\"https://api.github.com/users/dotnet/subscriptions\",\"organizations_url\":\"https://api.github.com/users/dotnet/orgs\",\"repos_url\":\"https://api.github.com/users/dotnet/repos\",\"events_url\":\"https://api.github.com/users/dotnet/events{/privacy}\",\"received_events_url\":\"https://api.github.com/users/dotnet/received_events\",\"type\":\"Organization\",\"site_admin\":false},\"repo\":{\"id\":104528436,\"node_id\":\"MDEwOlJlcG9zaXRvcnkxMDQ1Mjg0MzY=\",\"name\":\"installer\",\"full_name\":\"dotnet/installer\",\"private\":false,\"owner\":{\"login\":\"dotnet\",\"id\":9141961,\"node_id\":\"MDEyOk9yZ2FuaXphdGlvbjkxNDE5NjE=\",\"avatar_url\":\"https://avatars.githubusercontent.com/u/9141961?v=4\",\"gravatar_id\":\"\",\"url\":\"https://api.github.com/users/dotnet\",\"html_url\":\"https://github.com/dotnet\",\"followers_url\":\"https://api.github.com/users/dotnet/followers\",\"following_url\":\"https://api.github.com/users/dotnet/following{/other_user}\",\"gists_url\":\"https://api.github.com/users/dotnet/gists{/gist_id}\",\"starred_url\":\"https://api.github.com/users/dotnet/starred{/owner}{/repo}\",\"subscriptions_url\":\"https://api.github.com/users/dotnet/subscriptions\",\"organizations_url\":\"https://api.github.com/users/dotnet/orgs\",\"repos_url\":\"https://api.github.com/users/dotnet/repos\",\"events_url\":\"https://api.github.com/users/dotnet/events{/privacy}\",\"received_events_url\":\"https://api.github.com/users/dotnet/received_events\",\"type\":\"Organization\",\"site_admin\":false},\"html_url\":\"https://github.com/dotnet/installer\",\"description\":\".NET SDK Installer\",\"fork\":false,\"url\":\"https://api.github.com/repos/dotnet/installer\",\"forks_url\":\"https://api.github.com/repos/dotnet/installer/forks\",\"keys_url\":\"https://api.github.com/repos/dotnet/installer/keys{/key_id}\",\"collaborators_url\":\"https://api.github.com/repos/dotnet/installer/collaborators{/collaborator}\",\"teams_url\":\"https://api.github.com/repos/dotnet/installer/teams\",\"hooks_url\":\"https://api.github.com/repos/dotnet/installer/hooks\",\"issue_events_url\":\"https://api.github.com/repos/dotnet/installer/issues/events{/number}\",\"events_url\":\"https://api.github.com/repos/dotnet/installer/events\",\"assignees_url\":\"https://api.github.com/repos/dotnet/installer/assignees{/user}\",\"branches_url\":\"https://api.github.com/repos/dotnet/installer/branches{/branch}\",\"tags_url\":\"https://api.github.com/repos/dotnet/installer/tags\",\"blobs_url\":\"https://api.github.com/repos/dotnet/installer/git/blobs{/sha}\",\"git_tags_url\":\"https://api.github.com/repos/dotnet/installer/git/tags{/sha}\",\"git_refs_url\":\"https://api.github.com/repos/dotnet/installer/git/refs{/sha}\",\"trees_url\":\"https://api.github.com/repos/dotnet/installer/git/trees{/sha}\",\"statuses_url\":\"https://api.github.com/repos/dotnet/installer/statuses/{sha}\",\"languages_url\":\"https://api.github.com/repos/dotnet/installer/languages\",\"stargazers_url\":\"https://api.github.com/repos/dotnet/installer/stargazers\",\"contributors_url\":\"https://api.github.com/repos/dotnet/installer/contributors\",\"subscribers_url\":\"https://api.github.com/repos/dotnet/installer/subscribers\",\"subscription_url\":\"https://api.github.com/repos/dotnet/installer/subscription\",\"commits_url\":\"https://api.github.com/repos/dotnet/installer/commits{/sha}\",\"git_commits_url\":\"https://api.github.com/repos/dotnet/installer/git/commits{/sha}\",\"comments_url\":\"https://api.github.com/repos/dotnet/installer/comments{/number}\",\"issue_comment_url\":\"https://api.github.com/repos/dotnet/installer/issues/comments{/number}\",\"contents_url\":\"https://api.github.com/repos/dotnet/installer/contents/{+path}\",\"compare_url\":\"https://api.github.com/repos/dotnet/installer/compare/{base}...{head}\",\"merges_url\":\"https://api.github.com/repos/dotnet/installer/merges\",\"archive_url\":\"https://api.github.com/repos/dotnet/installer/{archive_format}{/ref}\",\"downloads_url\":\"https://api.github.com/repos/dotnet/installer/downloads\",\"issues_url\":\"https://api.github.com/repos/dotnet/installer/issues{/number}\",\"pulls_url\":\"https://api.github.com/repos/dotnet/installer/pulls{/number}\",\"milestones_url\":\"https://api.github.com/repos/dotnet/installer/milestones{/number}\",\"notifications_url\":\"https://api.github.com/repos/dotnet/installer/notifications{?since,all,participating}\",\"labels_url\":\"https://api.github.com/repos/dotnet/installer/labels{/name}\",\"releases_url\":\"https://api.github.com/repos/dotnet/installer/releases{/id}\",\"deployments_url\":\"https://api.github.com/repos/dotnet/installer/deployments\",\"created_at\":\"2017-09-23T00:07:01Z\",\"updated_at\":\"2023-04-03T14:04:24Z\",\"pushed_at\":\"2023-04-04T18:38:30Z\",\"git_url\":\"git://github.com/dotnet/installer.git\",\"ssh_url\":\"git@github.com:dotnet/installer.git\",\"clone_url\":\"https://github.com/dotnet/installer.git\",\"svn_url\":\"https://github.com/dotnet/installer\",\"homepage\":\"https://dotnet.microsoft.com/download/dotnet-core\",\"size\":82701,\"stargazers_count\":1129,\"watchers_count\":1129,\"language\":\"C#\",\"has_issues\":true,\"has_projects\":true,\"has_downloads\":true,\"has_wiki\":true,\"has_pages\":false,\"has_discussions\":false,\"forks_count\":433,\"mirror_url\":null,\"archived\":false,\"disabled\":false,\"open_issues_count\":187,\"license\":{\"key\":\"mit\",\"name\":\"MIT License\",\"spdx_id\":\"MIT\",\"url\":\"https://api.github.com/licenses/mit\",\"node_id\":\"MDc6TGljZW5zZTEz\"},\"allow_forking\":true,\"is_template\":false,\"web_commit_signoff_required\":false,\"topics\":[],\"visibility\":\"public\",\"forks\":433,\"open_issues\":187,\"watchers\":1129,\"default_branch\":\"main\"}},\"_links\":{\"self\":{\"href\":\"https://api.github.com/repos/dotnet/installer/pulls/15979\"},\"html\":{\"href\":\"https://github.com/dotnet/installer/pull/15979\"},\"issue\":{\"href\":\"https://api.github.com/repos/dotnet/installer/issues/15979\"},\"comments\":{\"href\":\"https://api.github.com/repos/dotnet/installer/issues/15979/comments\"},\"review_comments\":{\"href\":\"https://api.github.com/repos/dotnet/installer/pulls/15979/comments\"},\"review_comment\":{\"href\":\"https://api.github.com/repos/dotnet/installer/pulls/comments{/number}\"},\"commits\":{\"href\":\"https://api.github.com/repos/dotnet/installer/pulls/15979/commits\"},\"statuses\":{\"href\":\"https://api.github.com/repos/dotnet/installer/statuses/138c3bbdf4c91b75a57e623bdeba4df7782bc435\"}},\"author_association\":\"CONTRIBUTOR\",\"auto_merge\":null,\"active_lock_reason\":null,\"merged\":true,\"mergeable\":null,\"rebaseable\":null,\"mergeable_state\":\"unknown\",\"merged_by\":{\"login\":\"marcpopMSFT\",\"id\":12663534,\"node_id\":\"MDQ6VXNlcjEyNjYzNTM0\",\"avatar_url\":\"https://avatars.githubusercontent.com/u/12663534?v=4\",\"gravatar_id\":\"\",\"url\":\"https://api.github.com/users/marcpopMSFT\",\"html_url\":\"https://github.com/marcpopMSFT\",\"followers_url\":\"https://api.github.com/users/marcpopMSFT/followers\",\"following_url\":\"https://api.github.com/users/marcpopMSFT/following{/other_user}\",\"gists_url\":\"https://api.github.com/users/marcpopMSFT/gists{/gist_id}\",\"starred_url\":\"https://api.github.com/users/marcpopMSFT/starred{/owner}{/repo}\",\"subscriptions_url\":\"https://api.github.com/users/marcpopMSFT/subscriptions\",\"organizations_url\":\"https://api.github.com/users/marcpopMSFT/orgs\",\"repos_url\":\"https://api.github.com/users/marcpopMSFT/repos\",\"events_url\":\"https://api.github.com/users/marcpopMSFT/events{/privacy}\",\"received_events_url\":\"https://api.github.com/users/marcpopMSFT/received_events\",\"type\":\"User\",\"site_admin\":false},\"comments\":0,\"review_comments\":0,\"maintainer_can_modify\":false,\"commits\":1,\"additions\":1,\"deletions\":1,\"changed_files\":1}},\"public\":true,\"created_at\":\"2023-04-04T18:38:31Z\",\"org\":{\"id\":9141961,\"login\":\"dotnet\",\"gravatar_id\":\"\",\"url\":\"https://api.github.com/orgs/dotnet\",\"avatar_url\":\"https://avatars.githubusercontent.com/u/9141961?\"}},{\"id\":\"28202679830\",\"type\":\"PushEvent\",\"actor\":{\"id\":51850536,\"login\":\"PatrykFlama\",\"display_login\":\"PatrykFlama\",\"gravatar_id\":\"\",\"url\":\"https://api.github.com/users/PatrykFlama\",\"avatar_url\":\"https://avatars.githubusercontent.com/u/51850536?\"},\"repo\":{\"id\":600775804,\"name\":\"PatrykFlama/PatrykFlama\",\"url\":\"https://api.github.com/repos/PatrykFlama/PatrykFlama\"},\"payload\":{\"repository_id\":600775804,\"push_id\":13188910717,\"size\":1,\"distinct_size\":1,\"ref\":\"refs/heads/main\",\"head\":\"289223ca42407430f60a9ff4fa5fb0b6bda97318\",\"before\":\"91cb7248e8bd9bd8331d2f7467e53bcd3bcdc929\",\"commits\":[{\"sha\":\"289223ca42407430f60a9ff4fa5fb0b6bda97318\",\"author\":{\"email\":\"51850536+PatrykFlama@users.noreply.github.com\",\"name\":\"Patryk Flama\"},\"message\":\"Update README.md\",\"distinct\":true,\"url\":\"https://api.github.com/repos/PatrykFlama/PatrykFlama/commits/289223ca42407430f60a9ff4fa5fb0b6bda97318\"}]},\"public\":true,\"created_at\":\"2023-04-04T18:38:31Z\"},{\"id\":\"28202679807\",\"type\":\"PushEvent\",\"actor\":{\"id\":83468174,\"login\":\"prepheadrus\",\"display_login\":\"prepheadrus\",\"gravatar_id\":\"\",\"url\":\"https://api.github.com/users/prepheadrus\",\"avatar_url\":\"https://avatars.githubusercontent.com/u/83468174?\"},\"repo\":{\"id\":548091374,\"name\":\"prepheadrus/Troodon\",\"url\":\"https://api.github.com/repos/prepheadrus/Troodon\"},\"payload\":{\"repository_id\":548091374,\"push_id\":13188910675,\"size\":1,\"distinct_size\":1,\"ref\":\"refs/heads/main\",\"head\":\"f9bda55013039d4d874a5732af7419fab56dbec5\",\"before\":\"2501e60cb120aa8f5842f624092c1d746aaea93e\",\"commits\":[{\"sha\":\"f9bda55013039d4d874a5732af7419fab56dbec5\",\"author\":{\"email\":\"83468174+prepheadrus@users.noreply.github.com\",\"name\":\"Prepheadrus\"},\"message\":\"Open Storage: New File.\",\"distinct\":true,\"url\":\"https://api.github.com/repos/prepheadrus/Troodon/commits/f9bda55013039d4d874a5732af7419fab56dbec5\"}]},\"public\":true,\"created_at\":\"2023-04-04T18:38:31Z\"},{\"id\":\"28202679823\",\"type\":\"PushEvent\",\"actor\":{\"id\":26720352,\"login\":\"danieltan1517\",\"display_login\":\"danieltan1517\",\"gravatar_id\":\"\",\"url\":\"https://api.github.com/users/danieltan1517\",\"avatar_url\":\"https://avatars.githubusercontent.com/u/26720352?\"},\"repo\":{\"id\":571221811,\"name\":\"danieltan1517/xiangqi-jai\",\"url\":\"https://api.github.com/repos/danieltan1517/xiangqi-jai\"},\"payload\":{\"repository_id\":571221811,\"push_id\":13188910695,\"size\":1,\"distinct_size\":1,\"ref\":\"refs/heads/master\",\"head\":\"90d9676f5cedf30bc0d69c62d29bd3f1c288f034\",\"before\":\"9bfe1a6b1befabd3081f492cda5f382abdba5880\",\"commits\":[{\"sha\":\"90d9676f5cedf30bc0d69c62d29bd3f1c288f034\",\"author\":{\"email\":\"danieltan1517@protonmail.com\",\"name\":\"Daniel\"},\"message\":\"...<sigh> history move ordering just isn\\'t working...\",\"distinct\":true,\"url\":\"https://api.github.com/repos/danieltan1517/xiangqi-jai/commits/90d9676f5cedf30bc0d69c62d29bd3f1c288f034\"}]},\"public\":true,\"created_at\":\"2023-04-04T18:38:31Z\"},{\"id\":\"28202679786\",\"type\":\"PullRequestEvent\",\"actor\":{\"id\":3949878,\"login\":\"mchitre\",\"display_login\":\"mchitre\",\"gravatar_id\":\"\",\"url\":\"https://api.github.com/users/mchitre\",\"avatar_url\":\"https://avatars.githubusercontent.com/u/3949878?\"},\"repo\":{\"id\":64863962,\"name\":\"org-arl/arlpy\",\"url\":\"https://api.github.com/repos/org-arl/arlpy\"},\"payload\":{\"action\":\"closed\",\"number\":80,\"pull_request\":{\"url\":\"https://api.github.com/repos/org-arl/arlpy/pulls/80\",\"id\":1301219106,\"node_id\":\"PR_kwDOA92-2s5Njwci\",\"html_url\":\"https://github.com/org-arl/arlpy/pull/80\",\"diff_url\":\"https://github.com/org-arl/arlpy/pull/80.diff\",\"patch_url\":\"https://github.com/org-arl/arlpy/pull/80.patch\",\"issue_url\":\"https://api.github.com/repos/org-arl/arlpy/issues/80\",\"number\":80,\"state\":\"closed\",\"locked\":false,\"title\":\"fixing issue #79: arlpy outputs debug messages to stdout\",\"user\":{\"login\":\"vlaskine\",\"id\":1157270,\"node_id\":\"MDQ6VXNlcjExNTcyNzA=\",\"avatar_url\":\"https://avatars.githubusercontent.com/u/1157270?v=4\",\"gravatar_id\":\"\",\"url\":\"https://api.github.com/users/vlaskine\",\"html_url\":\"https://github.com/vlaskine\",\"followers_url\":\"https://api.github.com/users/vlaskine/followers\",\"following_url\":\"https://api.github.com/users/vlaskine/following{/other_user}\",\"gists_url\":\"https://api.github.com/users/vlaskine/gists{/gist_id}\",\"starred_url\":\"https://api.github.com/users/vlaskine/starred{/owner}{/repo}\",\"subscriptions_url\":\"https://api.github.com/users/vlaskine/subscriptions\",\"organizations_url\":\"https://api.github.com/users/vlaskine/orgs\",\"repos_url\":\"https://api.github.com/users/vlaskine/repos\",\"events_url\":\"https://api.github.com/users/vlaskine/events{/privacy}\",\"received_events_url\":\"https://api.github.com/users/vlaskine/received_events\",\"type\":\"User\",\"site_admin\":false},\"body\":\"see https://github.com/org-arl/arlpy/issues/79\",\"created_at\":\"2023-04-04T07:53:11Z\",\"updated_at\":\"2023-04-04T18:38:30Z\",\"closed_at\":\"2023-04-04T18:38:30Z\",\"merged_at\":\"2023-04-04T18:38:30Z\",\"merge_commit_sha\":\"003b3111ab9aa17666af7af71e3b015734f028c1\",\"assignee\":{\"login\":\"vlaskine\",\"id\":1157270,\"node_id\":\"MDQ6VXNlcjExNTcyNzA=\",\"avatar_url\":\"https://avatars.githubusercontent.com/u/1157270?v=4\",\"gravatar_id\":\"\",\"url\":\"https://api.github.com/users/vlaskine\",\"html_url\":\"https://github.com/vlaskine\",\"followers_url\":\"https://api.github.com/users/vlaskine/followers\",\"following_url\":\"https://api.github.com/users/vlaskine/following{/other_user}\",\"gists_url\":\"https://api.github.com/users/vlaskine/gists{/gist_id}\",\"starred_url\":\"https://api.github.com/users/vlaskine/starred{/owner}{/repo}\",\"subscriptions_url\":\"https://api.github.com/users/vlaskine/subscriptions\",\"organizations_url\":\"https://api.github.com/users/vlaskine/orgs\",\"repos_url\":\"https://api.github.com/users/vlaskine/repos\",\"events_url\":\"https://api.github.com/users/vlaskine/events{/privacy}\",\"received_events_url\":\"https://api.github.com/users/vlaskine/received_events\",\"type\":\"User\",\"site_admin\":false},\"assignees\":[{\"login\":\"vlaskine\",\"id\":1157270,\"node_id\":\"MDQ6VXNlcjExNTcyNzA=\",\"avatar_url\":\"https://avatars.githubusercontent.com/u/1157270?v=4\",\"gravatar_id\":\"\",\"url\":\"https://api.github.com/users/vlaskine\",\"html_url\":\"https://github.com/vlaskine\",\"followers_url\":\"https://api.github.com/users/vlaskine/followers\",\"following_url\":\"https://api.github.com/users/vlaskine/following{/other_user}\",\"gists_url\":\"https://api.github.com/users/vlaskine/gists{/gist_id}\",\"starred_url\":\"https://api.github.com/users/vlaskine/starred{/owner}{/repo}\",\"subscriptions_url\":\"https://api.github.com/users/vlaskine/subscriptions\",\"organizations_url\":\"https://api.github.com/users/vlaskine/orgs\",\"repos_url\":\"https://api.github.com/users/vlaskine/repos\",\"events_url\":\"https://api.github.com/users/vlaskine/events{/privacy}\",\"received_events_url\":\"https://api.github.com/users/vlaskine/received_events\",\"type\":\"User\",\"site_admin\":false}],\"requested_reviewers\":[],\"requested_teams\":[],\"labels\":[],\"milestone\":null,\"draft\":false,\"commits_url\":\"https://api.github.com/repos/org-arl/arlpy/pulls/80/commits\",\"review_comments_url\":\"https://api.github.com/repos/org-arl/arlpy/pulls/80/comments\",\"review_comment_url\":\"https://api.github.com/repos/org-arl/arlpy/pulls/comments{/number}\",\"comments_url\":\"https://api.github.com/repos/org-arl/arlpy/issues/80/comments\",\"statuses_url\":\"https://api.github.com/repos/org-arl/arlpy/statuses/ad44ddfd09b986c499a725e1089b72e4309c57ae\",\"head\":{\"label\":\"vlaskine:master\",\"ref\":\"master\",\"sha\":\"ad44ddfd09b986c499a725e1089b72e4309c57ae\",\"user\":{\"login\":\"vlaskine\",\"id\":1157270,\"node_id\":\"MDQ6VXNlcjExNTcyNzA=\",\"avatar_url\":\"https://avatars.githubusercontent.com/u/1157270?v=4\",\"gravatar_id\":\"\",\"url\":\"https://api.github.com/users/vlaskine\",\"html_url\":\"https://github.com/vlaskine\",\"followers_url\":\"https://api.github.com/users/vlaskine/followers\",\"following_url\":\"https://api.github.com/users/vlaskine/following{/other_user}\",\"gists_url\":\"https://api.github.com/users/vlaskine/gists{/gist_id}\",\"starred_url\":\"https://api.github.com/users/vlaskine/starred{/owner}{/repo}\",\"subscriptions_url\":\"https://api.github.com/users/vlaskine/subscriptions\",\"organizations_url\":\"https://api.github.com/users/vlaskine/orgs\",\"repos_url\":\"https://api.github.com/users/vlaskine/repos\",\"events_url\":\"https://api.github.com/users/vlaskine/events{/privacy}\",\"received_events_url\":\"https://api.github.com/users/vlaskine/received_events\",\"type\":\"User\",\"site_admin\":false},\"repo\":{\"id\":622835473,\"node_id\":\"R_kgDOJR-3EQ\",\"name\":\"arlpy\",\"full_name\":\"vlaskine/arlpy\",\"private\":false,\"owner\":{\"login\":\"vlaskine\",\"id\":1157270,\"node_id\":\"MDQ6VXNlcjExNTcyNzA=\",\"avatar_url\":\"https://avatars.githubusercontent.com/u/1157270?v=4\",\"gravatar_id\":\"\",\"url\":\"https://api.github.com/users/vlaskine\",\"html_url\":\"https://github.com/vlaskine\",\"followers_url\":\"https://api.github.com/users/vlaskine/followers\",\"following_url\":\"https://api.github.com/users/vlaskine/following{/other_user}\",\"gists_url\":\"https://api.github.com/users/vlaskine/gists{/gist_id}\",\"starred_url\":\"https://api.github.com/users/vlaskine/starred{/owner}{/repo}\",\"subscriptions_url\":\"https://api.github.com/users/vlaskine/subscriptions\",\"organizations_url\":\"https://api.github.com/users/vlaskine/orgs\",\"repos_url\":\"https://api.github.com/users/vlaskine/repos\",\"events_url\":\"https://api.github.com/users/vlaskine/events{/privacy}\",\"received_events_url\":\"https://api.github.com/users/vlaskine/received_events\",\"type\":\"User\",\"site_admin\":false},\"html_url\":\"https://github.com/vlaskine/arlpy\",\"description\":\"ARL Python Tools\",\"fork\":true,\"url\":\"https://api.github.com/repos/vlaskine/arlpy\",\"forks_url\":\"https://api.github.com/repos/vlaskine/arlpy/forks\",\"keys_url\":\"https://api.github.com/repos/vlaskine/arlpy/keys{/key_id}\",\"collaborators_url\":\"https://api.github.com/repos/vlaskine/arlpy/collaborators{/collaborator}\",\"teams_url\":\"https://api.github.com/repos/vlaskine/arlpy/teams\",\"hooks_url\":\"https://api.github.com/repos/vlaskine/arlpy/hooks\",\"issue_events_url\":\"https://api.github.com/repos/vlaskine/arlpy/issues/events{/number}\",\"events_url\":\"https://api.github.com/repos/vlaskine/arlpy/events\",\"assignees_url\":\"https://api.github.com/repos/vlaskine/arlpy/assignees{/user}\",\"branches_url\":\"https://api.github.com/repos/vlaskine/arlpy/branches{/branch}\",\"tags_url\":\"https://api.github.com/repos/vlaskine/arlpy/tags\",\"blobs_url\":\"https://api.github.com/repos/vlaskine/arlpy/git/blobs{/sha}\",\"git_tags_url\":\"https://api.github.com/repos/vlaskine/arlpy/git/tags{/sha}\",\"git_refs_url\":\"https://api.github.com/repos/vlaskine/arlpy/git/refs{/sha}\",\"trees_url\":\"https://api.github.com/repos/vlaskine/arlpy/git/trees{/sha}\",\"statuses_url\":\"https://api.github.com/repos/vlaskine/arlpy/statuses/{sha}\",\"languages_url\":\"https://api.github.com/repos/vlaskine/arlpy/languages\",\"stargazers_url\":\"https://api.github.com/repos/vlaskine/arlpy/stargazers\",\"contributors_url\":\"https://api.github.com/repos/vlaskine/arlpy/contributors\",\"subscribers_url\":\"https://api.github.com/repos/vlaskine/arlpy/subscribers\",\"subscription_url\":\"https://api.github.com/repos/vlaskine/arlpy/subscription\",\"commits_url\":\"https://api.github.com/repos/vlaskine/arlpy/commits{/sha}\",\"git_commits_url\":\"https://api.github.com/repos/vlaskine/arlpy/git/commits{/sha}\",\"comments_url\":\"https://api.github.com/repos/vlaskine/arlpy/comments{/number}\",\"issue_comment_url\":\"https://api.github.com/repos/vlaskine/arlpy/issues/comments{/number}\",\"contents_url\":\"https://api.github.com/repos/vlaskine/arlpy/contents/{+path}\",\"compare_url\":\"https://api.github.com/repos/vlaskine/arlpy/compare/{base}...{head}\",\"merges_url\":\"https://api.github.com/repos/vlaskine/arlpy/merges\",\"archive_url\":\"https://api.github.com/repos/vlaskine/arlpy/{archive_format}{/ref}\",\"downloads_url\":\"https://api.github.com/repos/vlaskine/arlpy/downloads\",\"issues_url\":\"https://api.github.com/repos/vlaskine/arlpy/issues{/number}\",\"pulls_url\":\"https://api.github.com/repos/vlaskine/arlpy/pulls{/number}\",\"milestones_url\":\"https://api.github.com/repos/vlaskine/arlpy/milestones{/number}\",\"notifications_url\":\"https://api.github.com/repos/vlaskine/arlpy/notifications{?since,all,participating}\",\"labels_url\":\"https://api.github.com/repos/vlaskine/arlpy/labels{/name}\",\"releases_url\":\"https://api.github.com/repos/vlaskine/arlpy/releases{/id}\",\"deployments_url\":\"https://api.github.com/repos/vlaskine/arlpy/deployments\",\"created_at\":\"2023-04-03T06:55:42Z\",\"updated_at\":\"2023-04-03T07:05:24Z\",\"pushed_at\":\"2023-04-04T07:49:44Z\",\"git_url\":\"git://github.com/vlaskine/arlpy.git\",\"ssh_url\":\"git@github.com:vlaskine/arlpy.git\",\"clone_url\":\"https://github.com/vlaskine/arlpy.git\",\"svn_url\":\"https://github.com/vlaskine/arlpy\",\"homepage\":null,\"size\":10577,\"stargazers_count\":0,\"watchers_count\":0,\"language\":\"Python\",\"has_issues\":false,\"has_projects\":true,\"has_downloads\":true,\"has_wiki\":false,\"has_pages\":false,\"has_discussions\":false,\"forks_count\":0,\"mirror_url\":null,\"archived\":false,\"disabled\":false,\"open_issues_count\":0,\"license\":{\"key\":\"bsd-3-clause\",\"name\":\"BSD 3-Clause \\\\\"New\\\\\" or \\\\\"Revised\\\\\" License\",\"spdx_id\":\"BSD-3-Clause\",\"url\":\"https://api.github.com/licenses/bsd-3-clause\",\"node_id\":\"MDc6TGljZW5zZTU=\"},\"allow_forking\":true,\"is_template\":false,\"web_commit_signoff_required\":false,\"topics\":[],\"visibility\":\"public\",\"forks\":0,\"open_issues\":0,\"watchers\":0,\"default_branch\":\"master\"}},\"base\":{\"label\":\"org-arl:master\",\"ref\":\"master\",\"sha\":\"22044b17cdf9880bd4302d2d6b339b450c372277\",\"user\":{\"login\":\"org-arl\",\"id\":3949520,\"node_id\":\"MDEyOk9yZ2FuaXphdGlvbjM5NDk1MjA=\",\"avatar_url\":\"https://avatars.githubusercontent.com/u/3949520?v=4\",\"gravatar_id\":\"\",\"url\":\"https://api.github.com/users/org-arl\",\"html_url\":\"https://github.com/org-arl\",\"followers_url\":\"https://api.github.com/users/org-arl/followers\",\"following_url\":\"https://api.github.com/users/org-arl/following{/other_user}\",\"gists_url\":\"https://api.github.com/users/org-arl/gists{/gist_id}\",\"starred_url\":\"https://api.github.com/users/org-arl/starred{/owner}{/repo}\",\"subscriptions_url\":\"https://api.github.com/users/org-arl/subscriptions\",\"organizations_url\":\"https://api.github.com/users/org-arl/orgs\",\"repos_url\":\"https://api.github.com/users/org-arl/repos\",\"events_url\":\"https://api.github.com/users/org-arl/events{/privacy}\",\"received_events_url\":\"https://api.github.com/users/org-arl/received_events\",\"type\":\"Organization\",\"site_admin\":false},\"repo\":{\"id\":64863962,\"node_id\":\"MDEwOlJlcG9zaXRvcnk2NDg2Mzk2Mg==\",\"name\":\"arlpy\",\"full_name\":\"org-arl/arlpy\",\"private\":false,\"owner\":{\"login\":\"org-arl\",\"id\":3949520,\"node_id\":\"MDEyOk9yZ2FuaXphdGlvbjM5NDk1MjA=\",\"avatar_url\":\"https://avatars.githubusercontent.com/u/3949520?v=4\",\"gravatar_id\":\"\",\"url\":\"https://api.github.com/users/org-arl\",\"html_url\":\"https://github.com/org-arl\",\"followers_url\":\"https://api.github.com/users/org-arl/followers\",\"following_url\":\"https://api.github.com/users/org-arl/following{/other_user}\",\"gists_url\":\"https://api.github.com/users/org-arl/gists{/gist_id}\",\"starred_url\":\"https://api.github.com/users/org-arl/starred{/owner}{/repo}\",\"subscriptions_url\":\"https://api.github.com/users/org-arl/subscriptions\",\"organizations_url\":\"https://api.github.com/users/org-arl/orgs\",\"repos_url\":\"https://api.github.com/users/org-arl/repos\",\"events_url\":\"https://api.github.com/users/org-arl/events{/privacy}\",\"received_events_url\":\"https://api.github.com/users/org-arl/received_events\",\"type\":\"Organization\",\"site_admin\":false},\"html_url\":\"https://github.com/org-arl/arlpy\",\"description\":\"ARL Python Tools\",\"fork\":false,\"url\":\"https://api.github.com/repos/org-arl/arlpy\",\"forks_url\":\"https://api.github.com/repos/org-arl/arlpy/forks\",\"keys_url\":\"https://api.github.com/repos/org-arl/arlpy/keys{/key_id}\",\"collaborators_url\":\"https://api.github.com/repos/org-arl/arlpy/collaborators{/collaborator}\",\"teams_url\":\"https://api.github.com/repos/org-arl/arlpy/teams\",\"hooks_url\":\"https://api.github.com/repos/org-arl/arlpy/hooks\",\"issue_events_url\":\"https://api.github.com/repos/org-arl/arlpy/issues/events{/number}\",\"events_url\":\"https://api.github.com/repos/org-arl/arlpy/events\",\"assignees_url\":\"https://api.github.com/repos/org-arl/arlpy/assignees{/user}\",\"branches_url\":\"https://api.github.com/repos/org-arl/arlpy/branches{/branch}\",\"tags_url\":\"https://api.github.com/repos/org-arl/arlpy/tags\",\"blobs_url\":\"https://api.github.com/repos/org-arl/arlpy/git/blobs{/sha}\",\"git_tags_url\":\"https://api.github.com/repos/org-arl/arlpy/git/tags{/sha}\",\"git_refs_url\":\"https://api.github.com/repos/org-arl/arlpy/git/refs{/sha}\",\"trees_url\":\"https://api.github.com/repos/org-arl/arlpy/git/trees{/sha}\",\"statuses_url\":\"https://api.github.com/repos/org-arl/arlpy/statuses/{sha}\",\"languages_url\":\"https://api.github.com/repos/org-arl/arlpy/languages\",\"stargazers_url\":\"https://api.github.com/repos/org-arl/arlpy/stargazers\",\"contributors_url\":\"https://api.github.com/repos/org-arl/arlpy/contributors\",\"subscribers_url\":\"https://api.github.com/repos/org-arl/arlpy/subscribers\",\"subscription_url\":\"https://api.github.com/repos/org-arl/arlpy/subscription\",\"commits_url\":\"https://api.github.com/repos/org-arl/arlpy/commits{/sha}\",\"git_commits_url\":\"https://api.github.com/repos/org-arl/arlpy/git/commits{/sha}\",\"comments_url\":\"https://api.github.com/repos/org-arl/arlpy/comments{/number}\",\"issue_comment_url\":\"https://api.github.com/repos/org-arl/arlpy/issues/comments{/number}\",\"contents_url\":\"https://api.github.com/repos/org-arl/arlpy/contents/{+path}\",\"compare_url\":\"https://api.github.com/repos/org-arl/arlpy/compare/{base}...{head}\",\"merges_url\":\"https://api.github.com/repos/org-arl/arlpy/merges\",\"archive_url\":\"https://api.github.com/repos/org-arl/arlpy/{archive_format}{/ref}\",\"downloads_url\":\"https://api.github.com/repos/org-arl/arlpy/downloads\",\"issues_url\":\"https://api.github.com/repos/org-arl/arlpy/issues{/number}\",\"pulls_url\":\"https://api.github.com/repos/org-arl/arlpy/pulls{/number}\",\"milestones_url\":\"https://api.github.com/repos/org-arl/arlpy/milestones{/number}\",\"notifications_url\":\"https://api.github.com/repos/org-arl/arlpy/notifications{?since,all,participating}\",\"labels_url\":\"https://api.github.com/repos/org-arl/arlpy/labels{/name}\",\"releases_url\":\"https://api.github.com/repos/org-arl/arlpy/releases{/id}\",\"deployments_url\":\"https://api.github.com/repos/org-arl/arlpy/deployments\",\"created_at\":\"2016-08-03T17:08:13Z\",\"updated_at\":\"2023-03-22T06:13:55Z\",\"pushed_at\":\"2023-04-04T18:38:30Z\",\"git_url\":\"git://github.com/org-arl/arlpy.git\",\"ssh_url\":\"git@github.com:org-arl/arlpy.git\",\"clone_url\":\"https://github.com/org-arl/arlpy.git\",\"svn_url\":\"https://github.com/org-arl/arlpy\",\"homepage\":null,\"size\":10569,\"stargazers_count\":91,\"watchers_count\":91,\"language\":\"Python\",\"has_issues\":true,\"has_projects\":true,\"has_downloads\":true,\"has_wiki\":false,\"has_pages\":false,\"has_discussions\":false,\"forks_count\":29,\"mirror_url\":null,\"archived\":false,\"disabled\":false,\"open_issues_count\":13,\"license\":{\"key\":\"bsd-3-clause\",\"name\":\"BSD 3-Clause \\\\\"New\\\\\" or \\\\\"Revised\\\\\" License\",\"spdx_id\":\"BSD-3-Clause\",\"url\":\"https://api.github.com/licenses/bsd-3-clause\",\"node_id\":\"MDc6TGljZW5zZTU=\"},\"allow_forking\":true,\"is_template\":false,\"web_commit_signoff_required\":false,\"topics\":[\"acoustics\",\"communications\",\"gps\",\"plotting\",\"python\",\"signal-processing\",\"underwater\",\"unet\",\"utils\"],\"visibility\":\"public\",\"forks\":29,\"open_issues\":13,\"watchers\":91,\"default_branch\":\"master\"}},\"_links\":{\"self\":{\"href\":\"https://api.github.com/repos/org-arl/arlpy/pulls/80\"},\"html\":{\"href\":\"https://github.com/org-arl/arlpy/pull/80\"},\"issue\":{\"href\":\"https://api.github.com/repos/org-arl/arlpy/issues/80\"},\"comments\":{\"href\":\"https://api.github.com/repos/org-arl/arlpy/issues/80/comments\"},\"review_comments\":{\"href\":\"https://api.github.com/repos/org-arl/arlpy/pulls/80/comments\"},\"review_comment\":{\"href\":\"https://api.github.com/repos/org-arl/arlpy/pulls/comments{/number}\"},\"commits\":{\"href\":\"https://api.github.com/repos/org-arl/arlpy/pulls/80/commits\"},\"statuses\":{\"href\":\"https://api.github.com/repos/org-arl/arlpy/statuses/ad44ddfd09b986c499a725e1089b72e4309c57ae\"}},\"author_association\":\"NONE\",\"auto_merge\":null,\"active_lock_reason\":null,\"merged\":true,\"mergeable\":null,\"rebaseable\":null,\"mergeable_state\":\"unknown\",\"merged_by\":{\"login\":\"mchitre\",\"id\":3949878,\"node_id\":\"MDQ6VXNlcjM5NDk4Nzg=\",\"avatar_url\":\"https://avatars.githubusercontent.com/u/3949878?v=4\",\"gravatar_id\":\"\",\"url\":\"https://api.github.com/users/mchitre\",\"html_url\":\"https://github.com/mchitre\",\"followers_url\":\"https://api.github.com/users/mchitre/followers\",\"following_url\":\"https://api.github.com/users/mchitre/following{/other_user}\",\"gists_url\":\"https://api.github.com/users/mchitre/gists{/gist_id}\",\"starred_url\":\"https://api.github.com/users/mchitre/starred{/owner}{/repo}\",\"subscriptions_url\":\"https://api.github.com/users/mchitre/subscriptions\",\"organizations_url\":\"https://api.github.com/users/mchitre/orgs\",\"repos_url\":\"https://api.github.com/users/mchitre/repos\",\"events_url\":\"https://api.github.com/users/mchitre/events{/privacy}\",\"received_events_url\":\"https://api.github.com/users/mchitre/received_events\",\"type\":\"User\",\"site_admin\":false},\"comments\":0,\"review_comments\":0,\"maintainer_can_modify\":false,\"commits\":2,\"additions\":16,\"deletions\":11,\"changed_files\":1}},\"public\":true,\"created_at\":\"2023-04-04T18:38:31Z\",\"org\":{\"id\":3949520,\"login\":\"org-arl\",\"gravatar_id\":\"\",\"url\":\"https://api.github.com/orgs/org-arl\",\"avatar_url\":\"https://avatars.githubusercontent.com/u/3949520?\"}},{\"id\":\"28202679821\",\"type\":\"CreateEvent\",\"actor\":{\"id\":90667258,\"login\":\"narah10\",\"display_login\":\"narah10\",\"gravatar_id\":\"\",\"url\":\"https://api.github.com/users/narah10\",\"avatar_url\":\"https://avatars.githubusercontent.com/u/90667258?\"},\"repo\":{\"id\":623622609,\"name\":\"narah10/Hack-BYUI\",\"url\":\"https://api.github.com/repos/narah10/Hack-BYUI\"},\"payload\":{\"ref\":\"main\",\"ref_type\":\"branch\",\"master_branch\":\"main\",\"description\":null,\"pusher_type\":\"user\"},\"public\":true,\"created_at\":\"2023-04-04T18:38:31Z\"},{\"id\":\"28202679800\",\"type\":\"WatchEvent\",\"actor\":{\"id\":60786467,\"login\":\"wuqingcanshang\",\"display_login\":\"wuqingcanshang\",\"gravatar_id\":\"\",\"url\":\"https://api.github.com/users/wuqingcanshang\",\"avatar_url\":\"https://avatars.githubusercontent.com/u/60786467?\"},\"repo\":{\"id\":114747226,\"name\":\"deepfakes/faceswap\",\"url\":\"https://api.github.com/repos/deepfakes/faceswap\"},\"payload\":{\"action\":\"started\"},\"public\":true,\"created_at\":\"2023-04-04T18:38:31Z\"},{\"id\":\"28202679816\",\"type\":\"PullRequestReviewCommentEvent\",\"actor\":{\"id\":34867698,\"login\":\"DM1122\",\"display_login\":\"DM1122\",\"gravatar_id\":\"\",\"url\":\"https://api.github.com/users/DM1122\",\"avatar_url\":\"https://avatars.githubusercontent.com/u/34867698?\"},\"repo\":{\"id\":576357110,\"name\":\"utat-ss/tree-visualizer\",\"url\":\"https://api.github.com/repos/utat-ss/tree-visualizer\"},\"payload\":{\"action\":\"created\",\"comment\":{\"url\":\"https://api.github.com/repos/utat-ss/tree-visualizer/pulls/comments/1157630320\",\"pull_request_review_id\":1371569301,\"id\":1157630320,\"node_id\":\"PRRC_kwDOIlqC9s5FAAlw\",\"diff_hunk\":\"@@ -1,39 +1,119 @@\\\\n-const notion = require(\\\\\"@notionhq/client\\\\\");\\\\n-const { getEnv } = require(\\\\\"../utils/env.util\\\\\")\\\\n+const notion = require(\\'@notionhq/client\\');\\\\n+const { getEnv } = require(\\'../utils/env.util\\')\\\\n \\\\n-const notionClient = new notion.Client({\\\\n-  auth: getEnv(\\\\\"NOTION_TOKEN\\\\\"),\\\\n-})\\\\n+const newNotionClient = function(auth_token = undefined) {\\\\n+  if (auth_token === undefined) auth_token = getEnv(\\'NOTION_TOKEN\\');\\\\n \\\\n-const getRequirementsData = async function() {\\\\n-  let all = []\\\\n+  return new notion.Client({\\\\n+    auth: auth_token,\\\\n+  });\\\\n+}\\\\n+\\\\n+const _getNotionDB = async function(database_id, notion_client = undefined) {\\\\n+  if (notion_client === undefined) notion_client = newNotionClient();\",\"path\":\"server/src/services/notion.service.js\",\"position\":20,\"original_position\":20,\"commit_id\":\"b412c546913fc79ab4e5fac8c2b0d31a0e3f55af\",\"original_commit_id\":\"38f29973cd1b31f193512b8485d515b17d696b2d\",\"user\":{\"login\":\"DM1122\",\"id\":34867698,\"node_id\":\"MDQ6VXNlcjM0ODY3Njk4\",\"avatar_url\":\"https://avatars.githubusercontent.com/u/34867698?v=4\",\"gravatar_id\":\"\",\"url\":\"https://api.github.com/users/DM1122\",\"html_url\":\"https://github.com/DM1122\",\"followers_url\":\"https://api.github.com/users/DM1122/followers\",\"following_url\":\"https://api.github.com/users/DM1122/following{/other_user}\",\"gists_url\":\"https://api.github.com/users/DM1122/gists{/gist_id}\",\"starred_url\":\"https://api.github.com/users/DM1122/starred{/owner}{/repo}\",\"subscriptions_url\":\"https://api.github.com/users/DM1122/subscriptions\",\"organizations_url\":\"https://api.github.com/users/DM1122/orgs\",\"repos_url\":\"https://api.github.com/users/DM1122/repos\",\"events_url\":\"https://api.github.com/users/DM1122/events{/privacy}\",\"received_events_url\":\"https://api.github.com/users/DM1122/received_events\",\"type\":\"User\",\"site_admin\":false},\"body\":\"I see, we can revisit this at a later point to find a way to structure this code so it complies with DI without needing to duplicate code. Closing these as resolved\",\"created_at\":\"2023-04-04T18:38:30Z\",\"updated_at\":\"2023-04-04T18:38:30Z\",\"html_url\":\"https://github.com/utat-ss/tree-visualizer/pull/9#discussion_r1157630320\",\"pull_request_url\":\"https://api.github.com/repos/utat-ss/tree-visualizer/pulls/9\",\"author_association\":\"CONTRIBUTOR\",\"_links\":{\"self\":{\"href\":\"https://api.github.com/repos/utat-ss/tree-visualizer/pulls/comments/1157630320\"},\"html\":{\"href\":\"https://github.com/utat-ss/tree-visualizer/pull/9#discussion_r1157630320\"},\"pull_request\":{\"href\":\"https://api.github.com/repos/utat-ss/tree-visualizer/pulls/9\"}},\"reactions\":{\"url\":\"https://api.github.com/repos/utat-ss/tree-visualizer/pulls/comments/1157630320/reactions\",\"total_count\":0,\"+1\":0,\"-1\":0,\"laugh\":0,\"hooray\":0,\"confused\":0,\"heart\":0,\"rocket\":0,\"eyes\":0},\"start_line\":12,\"original_start_line\":12,\"start_side\":\"RIGHT\",\"line\":13,\"original_line\":13,\"side\":\"RIGHT\",\"in_reply_to_id\":1157436976,\"subject_type\":\"line\"},\"pull_request\":{\"url\":\"https://api.github.com/repos/utat-ss/tree-visualizer/pulls/9\",\"id\":1299304030,\"node_id\":\"PR_kwDOIlqC9s5Ncc5e\",\"html_url\":\"https://github.com/utat-ss/tree-visualizer/pull/9\",\"diff_url\":\"https://github.com/utat-ss/tree-visualizer/pull/9.diff\",\"patch_url\":\"https://github.com/utat-ss/tree-visualizer/pull/9.patch\",\"issue_url\":\"https://api.github.com/repos/utat-ss/tree-visualizer/issues/9\",\"number\":9,\"state\":\"open\",\"locked\":false,\"title\":\"New backend API\",\"user\":{\"login\":\"jdtech3\",\"id\":8998191,\"node_id\":\"MDQ6VXNlcjg5OTgxOTE=\",\"avatar_url\":\"https://avatars.githubusercontent.com/u/8998191?v=4\",\"gravatar_id\":\"\",\"url\":\"https://api.github.com/users/jdtech3\",\"html_url\":\"https://github.com/jdtech3\",\"followers_url\":\"https://api.github.com/users/jdtech3/followers\",\"following_url\":\"https://api.github.com/users/jdtech3/following{/other_user}\",\"gists_url\":\"https://api.github.com/users/jdtech3/gists{/gist_id}\",\"starred_url\":\"https://api.github.com/users/jdtech3/starred{/owner}{/repo}\",\"subscriptions_url\":\"https://api.github.com/users/jdtech3/subscriptions\",\"organizations_url\":\"https://api.github.com/users/jdtech3/orgs\",\"repos_url\":\"https://api.github.com/users/jdtech3/repos\",\"events_url\":\"https://api.github.com/users/jdtech3/events{/privacy}\",\"received_events_url\":\"https://api.github.com/users/jdtech3/received_events\",\"type\":\"User\",\"site_admin\":false},\"body\":\"Resolves #6 with new backend API of form:\\\\r\\\\n\\\\r\\\\n```json\\\\r\\\\n {\\\\r\\\\n  \\\\\"ff5892a7-b5c9-4a25-97bd-663b2cff5bd7\\\\\": {\\\\r\\\\n    \\\\\"created-by\\\\\": \\\\\"khang nguyen\\\\\",\\\\r\\\\n    \\\\\"parent-id\\\\\": \\\\\"b7985ca8-94f4-4a30-ae61-8af2126019bd\\\\\",\\\\r\\\\n    \\\\\"last-edited\\\\\": \\\\\"2023-02-20T17:51:00.000Z\\\\\",\\\\r\\\\n    \\\\\"qualifier\\\\\": \\\\\"SHALL\\\\\",\\\\r\\\\n    \\\\\"collection\\\\\": [\\\\r\\\\n      \\\\\"Volume Allocation & Placement\\\\\"\\\\r\\\\n    ],\\\\r\\\\n    \\\\\"verification-plan\\\\\": [\\\\r\\\\n      \\\\\"TVAC Testing Plan\\\\\"\\\\r\\\\n    ],\\\\r\\\\n    \\\\\"system\\\\\": \\\\\"Tree Visualizer\\\\\",\\\\r\\\\n    \\\\\"rationale\\\\\": \\\\\"To allow UTAT Space Systems members to graphically view the relationships between entries\\\\\",\\\\r\\\\n    \\\\\"trades\\\\\": [\\\\r\\\\n      \\\\\"Spacecraft Bus Stack Order Selection\\\\\"\\\\r\\\\n    ],\\\\r\\\\n    \\\\\"last-edited-by\\\\\": \\\\\"David\\\\\",\\\\r\\\\n    \\\\\"stakeholder\\\\\": [\\\\r\\\\n      \\\\\"Mechanical\\\\\",\\\\r\\\\n      \\\\\"Power\\\\\",\\\\r\\\\n      \\\\\"Thermal\\\\\"\\\\r\\\\n    ],\\\\r\\\\n    \\\\\"mission\\\\\": \\\\\"FINCH\\\\\",\\\\r\\\\n    \\\\\"description\\\\\": \\\\\"ADCS shall consistently know FINCH’s location relative to the SUN and Earth Position\\\\\",\\\\r\\\\n    \\\\\"title\\\\\": \\\\\"FINCH-ADCS-AttitudeDetermination\\\\\",\\\\r\\\\n    \\\\\"url\\\\\": \\\\\"https://www.notion.so/FINCH-Power-Batteries-74331bc1129c417c850a0a5ca0deb759\\\\\"\\\\r\\\\n  },\\\\r\\\\n\\\\r\\\\n[...]\\\\r\\\\n\\\\r\\\\n}\\\\r\\\\n```\\\\r\\\\n\\\\r\\\\n_Note: this is slightly different from description in #6 due to Requirements DB changes._\",\"created_at\":\"2023-04-03T01:57:50Z\",\"updated_at\":\"2023-04-04T18:38:30Z\",\"closed_at\":null,\"merged_at\":null,\"merge_commit_sha\":\"cd425f0cd121c82acda970b703cbe6d22d39fead\",\"assignee\":{\"login\":\"jdtech3\",\"id\":8998191,\"node_id\":\"MDQ6VXNlcjg5OTgxOTE=\",\"avatar_url\":\"https://avatars.githubusercontent.com/u/8998191?v=4\",\"gravatar_id\":\"\",\"url\":\"https://api.github.com/users/jdtech3\",\"html_url\":\"https://github.com/jdtech3\",\"followers_url\":\"https://api.github.com/users/jdtech3/followers\",\"following_url\":\"https://api.github.com/users/jdtech3/following{/other_user}\",\"gists_url\":\"https://api.github.com/users/jdtech3/gists{/gist_id}\",\"starred_url\":\"https://api.github.com/users/jdtech3/starred{/owner}{/repo}\",\"subscriptions_url\":\"https://api.github.com/users/jdtech3/subscriptions\",\"organizations_url\":\"https://api.github.com/users/jdtech3/orgs\",\"repos_url\":\"https://api.github.com/users/jdtech3/repos\",\"events_url\":\"https://api.github.com/users/jdtech3/events{/privacy}\",\"received_events_url\":\"https://api.github.com/users/jdtech3/received_events\",\"type\":\"User\",\"site_admin\":false},\"assignees\":[{\"login\":\"jdtech3\",\"id\":8998191,\"node_id\":\"MDQ6VXNlcjg5OTgxOTE=\",\"avatar_url\":\"https://avatars.githubusercontent.com/u/8998191?v=4\",\"gravatar_id\":\"\",\"url\":\"https://api.github.com/users/jdtech3\",\"html_url\":\"https://github.com/jdtech3\",\"followers_url\":\"https://api.github.com/users/jdtech3/followers\",\"following_url\":\"https://api.github.com/users/jdtech3/following{/other_user}\",\"gists_url\":\"https://api.github.com/users/jdtech3/gists{/gist_id}\",\"starred_url\":\"https://api.github.com/users/jdtech3/starred{/owner}{/repo}\",\"subscriptions_url\":\"https://api.github.com/users/jdtech3/subscriptions\",\"organizations_url\":\"https://api.github.com/users/jdtech3/orgs\",\"repos_url\":\"https://api.github.com/users/jdtech3/repos\",\"events_url\":\"https://api.github.com/users/jdtech3/events{/privacy}\",\"received_events_url\":\"https://api.github.com/users/jdtech3/received_events\",\"type\":\"User\",\"site_admin\":false}],\"requested_reviewers\":[{\"login\":\"stephanieyflu\",\"id\":84485762,\"node_id\":\"MDQ6VXNlcjg0NDg1NzYy\",\"avatar_url\":\"https://avatars.githubusercontent.com/u/84485762?v=4\",\"gravatar_id\":\"\",\"url\":\"https://api.github.com/users/stephanieyflu\",\"html_url\":\"https://github.com/stephanieyflu\",\"followers_url\":\"https://api.github.com/users/stephanieyflu/followers\",\"following_url\":\"https://api.github.com/users/stephanieyflu/following{/other_user}\",\"gists_url\":\"https://api.github.com/users/stephanieyflu/gists{/gist_id}\",\"starred_url\":\"https://api.github.com/users/stephanieyflu/starred{/owner}{/repo}\",\"subscriptions_url\":\"https://api.github.com/users/stephanieyflu/subscriptions\",\"organizations_url\":\"https://api.github.com/users/stephanieyflu/orgs\",\"repos_url\":\"https://api.github.com/users/stephanieyflu/repos\",\"events_url\":\"https://api.github.com/users/stephanieyflu/events{/privacy}\",\"received_events_url\":\"https://api.github.com/users/stephanieyflu/received_events\",\"type\":\"User\",\"site_admin\":false}],\"requested_teams\":[],\"labels\":[{\"id\":4892941108,\"node_id\":\"LA_kwDOIlqC9s8AAAABI6RbNA\",\"url\":\"https://api.github.com/repos/utat-ss/tree-visualizer/labels/enhancement\",\"name\":\"enhancement\",\"color\":\"a2eeef\",\"default\":true,\"description\":\"New feature or request\"}],\"milestone\":{\"url\":\"https://api.github.com/repos/utat-ss/tree-visualizer/milestones/1\",\"html_url\":\"https://github.com/utat-ss/tree-visualizer/milestone/1\",\"labels_url\":\"https://api.github.com/repos/utat-ss/tree-visualizer/milestones/1/labels\",\"id\":8945745,\"node_id\":\"MI_kwDOIlqC9s4AiIBR\",\"number\":1,\"title\":\"MVP (Build V1)\",\"description\":\"Requirements for Build V1 are:\\\\r\\\\n\\\\r\\\\nUTAT-TreeVisualizer-VisualizeDatabase\\\\r\\\\nUTAT-TreeVisualizer-SynchronousTeamwork\\\\r\\\\nUTAT-TreeVisualizer-NodePropertyVisualizationSelection\\\\r\\\\nUTAT-TreeVisualizer-VPNAccess\\\\r\\\\nUTAT-TreeVisualizer-FilterNodes\",\"creator\":{\"login\":\"jdtech3\",\"id\":8998191,\"node_id\":\"MDQ6VXNlcjg5OTgxOTE=\",\"avatar_url\":\"https://avatars.githubusercontent.com/u/8998191?v=4\",\"gravatar_id\":\"\",\"url\":\"https://api.github.com/users/jdtech3\",\"html_url\":\"https://github.com/jdtech3\",\"followers_url\":\"https://api.github.com/users/jdtech3/followers\",\"following_url\":\"https://api.github.com/users/jdtech3/following{/other_user}\",\"gists_url\":\"https://api.github.com/users/jdtech3/gists{/gist_id}\",\"starred_url\":\"https://api.github.com/users/jdtech3/starred{/owner}{/repo}\",\"subscriptions_url\":\"https://api.github.com/users/jdtech3/subscriptions\",\"organizations_url\":\"https://api.github.com/users/jdtech3/orgs\",\"repos_url\":\"https://api.github.com/users/jdtech3/repos\",\"events_url\":\"https://api.github.com/users/jdtech3/events{/privacy}\",\"received_events_url\":\"https://api.github.com/users/jdtech3/received_events\",\"type\":\"User\",\"site_admin\":false},\"open_issues\":4,\"closed_issues\":5,\"state\":\"open\",\"created_at\":\"2023-01-19T23:08:57Z\",\"updated_at\":\"2023-04-03T01:59:01Z\",\"due_on\":null,\"closed_at\":null},\"draft\":false,\"commits_url\":\"https://api.github.com/repos/utat-ss/tree-visualizer/pulls/9/commits\",\"review_comments_url\":\"https://api.github.com/repos/utat-ss/tree-visualizer/pulls/9/comments\",\"review_comment_url\":\"https://api.github.com/repos/utat-ss/tree-visualizer/pulls/comments{/number}\",\"comments_url\":\"https://api.github.com/repos/utat-ss/tree-visualizer/issues/9/comments\",\"statuses_url\":\"https://api.github.com/repos/utat-ss/tree-visualizer/statuses/b412c546913fc79ab4e5fac8c2b0d31a0e3f55af\",\"head\":{\"label\":\"utat-ss:new_api\",\"ref\":\"new_api\",\"sha\":\"b412c546913fc79ab4e5fac8c2b0d31a0e3f55af\",\"user\":{\"login\":\"utat-ss\",\"id\":63824882,\"node_id\":\"MDEyOk9yZ2FuaXphdGlvbjYzODI0ODgy\",\"avatar_url\":\"https://avatars.githubusercontent.com/u/63824882?v=4\",\"gravatar_id\":\"\",\"url\":\"https://api.github.com/users/utat-ss\",\"html_url\":\"https://github.com/utat-ss\",\"followers_url\":\"https://api.github.com/users/utat-ss/followers\",\"following_url\":\"https://api.github.com/users/utat-ss/following{/other_user}\",\"gists_url\":\"https://api.github.com/users/utat-ss/gists{/gist_id}\",\"starred_url\":\"https://api.github.com/users/utat-ss/starred{/owner}{/repo}\",\"subscriptions_url\":\"https://api.github.com/users/utat-ss/subscriptions\",\"organizations_url\":\"https://api.github.com/users/utat-ss/orgs\",\"repos_url\":\"https://api.github.com/users/utat-ss/repos\",\"events_url\":\"https://api.github.com/users/utat-ss/events{/privacy}\",\"received_events_url\":\"https://api.github.com/users/utat-ss/received_events\",\"type\":\"Organization\",\"site_admin\":false},\"repo\":{\"id\":576357110,\"node_id\":\"R_kgDOIlqC9g\",\"name\":\"tree-visualizer\",\"full_name\":\"utat-ss/tree-visualizer\",\"private\":false,\"owner\":{\"login\":\"utat-ss\",\"id\":63824882,\"node_id\":\"MDEyOk9yZ2FuaXphdGlvbjYzODI0ODgy\",\"avatar_url\":\"https://avatars.githubusercontent.com/u/63824882?v=4\",\"gravatar_id\":\"\",\"url\":\"https://api.github.com/users/utat-ss\",\"html_url\":\"https://github.com/utat-ss\",\"followers_url\":\"https://api.github.com/users/utat-ss/followers\",\"following_url\":\"https://api.github.com/users/utat-ss/following{/other_user}\",\"gists_url\":\"https://api.github.com/users/utat-ss/gists{/gist_id}\",\"starred_url\":\"https://api.github.com/users/utat-ss/starred{/owner}{/repo}\",\"subscriptions_url\":\"https://api.github.com/users/utat-ss/subscriptions\",\"organizations_url\":\"https://api.github.com/users/utat-ss/orgs\",\"repos_url\":\"https://api.github.com/users/utat-ss/repos\",\"events_url\":\"https://api.github.com/users/utat-ss/events{/privacy}\",\"received_events_url\":\"https://api.github.com/users/utat-ss/received_events\",\"type\":\"Organization\",\"site_admin\":false},\"html_url\":\"https://github.com/utat-ss/tree-visualizer\",\"description\":\"A tree-like Notion database visualizer\",\"fork\":false,\"url\":\"https://api.github.com/repos/utat-ss/tree-visualizer\",\"forks_url\":\"https://api.github.com/repos/utat-ss/tree-visualizer/forks\",\"keys_url\":\"https://api.github.com/repos/utat-ss/tree-visualizer/keys{/key_id}\",\"collaborators_url\":\"https://api.github.com/repos/utat-ss/tree-visualizer/collaborators{/collaborator}\",\"teams_url\":\"https://api.github.com/repos/utat-ss/tree-visualizer/teams\",\"hooks_url\":\"https://api.github.com/repos/utat-ss/tree-visualizer/hooks\",\"issue_events_url\":\"https://api.github.com/repos/utat-ss/tree-visualizer/issues/events{/number}\",\"events_url\":\"https://api.github.com/repos/utat-ss/tree-visualizer/events\",\"assignees_url\":\"https://api.github.com/repos/utat-ss/tree-visualizer/assignees{/user}\",\"branches_url\":\"https://api.github.com/repos/utat-ss/tree-visualizer/branches{/branch}\",\"tags_url\":\"https://api.github.com/repos/utat-ss/tree-visualizer/tags\",\"blobs_url\":\"https://api.github.com/repos/utat-ss/tree-visualizer/git/blobs{/sha}\",\"git_tags_url\":\"https://api.github.com/repos/utat-ss/tree-visualizer/git/tags{/sha}\",\"git_refs_url\":\"https://api.github.com/repos/utat-ss/tree-visualizer/git/refs{/sha}\",\"trees_url\":\"https://api.github.com/repos/utat-ss/tree-visualizer/git/trees{/sha}\",\"statuses_url\":\"https://api.github.com/repos/utat-ss/tree-visualizer/statuses/{sha}\",\"languages_url\":\"https://api.github.com/repos/utat-ss/tree-visualizer/languages\",\"stargazers_url\":\"https://api.github.com/repos/utat-ss/tree-visualizer/stargazers\",\"contributors_url\":\"https://api.github.com/repos/utat-ss/tree-visualizer/contributors\",\"subscribers_url\":\"https://api.github.com/repos/utat-ss/tree-visualizer/subscribers\",\"subscription_url\":\"https://api.github.com/repos/utat-ss/tree-visualizer/subscription\",\"commits_url\":\"https://api.github.com/repos/utat-ss/tree-visualizer/commits{/sha}\",\"git_commits_url\":\"https://api.github.com/repos/utat-ss/tree-visualizer/git/commits{/sha}\",\"comments_url\":\"https://api.github.com/repos/utat-ss/tree-visualizer/comments{/number}\",\"issue_comment_url\":\"https://api.github.com/repos/utat-ss/tree-visualizer/issues/comments{/number}\",\"contents_url\":\"https://api.github.com/repos/utat-ss/tree-visualizer/contents/{+path}\",\"compare_url\":\"https://api.github.com/repos/utat-ss/tree-visualizer/compare/{base}...{head}\",\"merges_url\":\"https://api.github.com/repos/utat-ss/tree-visualizer/merges\",\"archive_url\":\"https://api.github.com/repos/utat-ss/tree-visualizer/{archive_format}{/ref}\",\"downloads_url\":\"https://api.github.com/repos/utat-ss/tree-visualizer/downloads\",\"issues_url\":\"https://api.github.com/repos/utat-ss/tree-visualizer/issues{/number}\",\"pulls_url\":\"https://api.github.com/repos/utat-ss/tree-visualizer/pulls{/number}\",\"milestones_url\":\"https://api.github.com/repos/utat-ss/tree-visualizer/milestones{/number}\",\"notifications_url\":\"https://api.github.com/repos/utat-ss/tree-visualizer/notifications{?since,all,participating}\",\"labels_url\":\"https://api.github.com/repos/utat-ss/tree-visualizer/labels{/name}\",\"releases_url\":\"https://api.github.com/repos/utat-ss/tree-visualizer/releases{/id}\",\"deployments_url\":\"https://api.github.com/repos/utat-ss/tree-visualizer/deployments\",\"created_at\":\"2022-12-09T16:36:10Z\",\"updated_at\":\"2022-12-09T17:16:36Z\",\"pushed_at\":\"2023-04-04T18:13:26Z\",\"git_url\":\"git://github.com/utat-ss/tree-visualizer.git\",\"ssh_url\":\"git@github.com:utat-ss/tree-visualizer.git\",\"clone_url\":\"https://github.com/utat-ss/tree-visualizer.git\",\"svn_url\":\"https://github.com/utat-ss/tree-visualizer\",\"homepage\":null,\"size\":2294,\"stargazers_count\":0,\"watchers_count\":0,\"language\":\"HTML\",\"has_issues\":true,\"has_projects\":true,\"has_downloads\":true,\"has_wiki\":true,\"has_pages\":false,\"has_discussions\":false,\"forks_count\":0,\"mirror_url\":null,\"archived\":false,\"disabled\":false,\"open_issues_count\":4,\"license\":{\"key\":\"unlicense\",\"name\":\"The Unlicense\",\"spdx_id\":\"Unlicense\",\"url\":\"https://api.github.com/licenses/unlicense\",\"node_id\":\"MDc6TGljZW5zZTE1\"},\"allow_forking\":true,\"is_template\":false,\"web_commit_signoff_required\":false,\"topics\":[],\"visibility\":\"public\",\"forks\":0,\"open_issues\":4,\"watchers\":0,\"default_branch\":\"main\"}},\"base\":{\"label\":\"utat-ss:dev\",\"ref\":\"dev\",\"sha\":\"27545a61469ed0588c2deca312c1a6cd3f61aa9a\",\"user\":{\"login\":\"utat-ss\",\"id\":63824882,\"node_id\":\"MDEyOk9yZ2FuaXphdGlvbjYzODI0ODgy\",\"avatar_url\":\"https://avatars.githubusercontent.com/u/63824882?v=4\",\"gravatar_id\":\"\",\"url\":\"https://api.github.com/users/utat-ss\",\"html_url\":\"https://github.com/utat-ss\",\"followers_url\":\"https://api.github.com/users/utat-ss/followers\",\"following_url\":\"https://api.github.com/users/utat-ss/following{/other_user}\",\"gists_url\":\"https://api.github.com/users/utat-ss/gists{/gist_id}\",\"starred_url\":\"https://api.github.com/users/utat-ss/starred{/owner}{/repo}\",\"subscriptions_url\":\"https://api.github.com/users/utat-ss/subscriptions\",\"organizations_url\":\"https://api.github.com/users/utat-ss/orgs\",\"repos_url\":\"https://api.github.com/users/utat-ss/repos\",\"events_url\":\"https://api.github.com/users/utat-ss/events{/privacy}\",\"received_events_url\":\"https://api.github.com/users/utat-ss/received_events\",\"type\":\"Organization\",\"site_admin\":false},\"repo\":{\"id\":576357110,\"node_id\":\"R_kgDOIlqC9g\",\"name\":\"tree-visualizer\",\"full_name\":\"utat-ss/tree-visualizer\",\"private\":false,\"owner\":{\"login\":\"utat-ss\",\"id\":63824882,\"node_id\":\"MDEyOk9yZ2FuaXphdGlvbjYzODI0ODgy\",\"avatar_url\":\"https://avatars.githubusercontent.com/u/63824882?v=4\",\"gravatar_id\":\"\",\"url\":\"https://api.github.com/users/utat-ss\",\"html_url\":\"https://github.com/utat-ss\",\"followers_url\":\"https://api.github.com/users/utat-ss/followers\",\"following_url\":\"https://api.github.com/users/utat-ss/following{/other_user}\",\"gists_url\":\"https://api.github.com/users/utat-ss/gists{/gist_id}\",\"starred_url\":\"https://api.github.com/users/utat-ss/starred{/owner}{/repo}\",\"subscriptions_url\":\"https://api.github.com/users/utat-ss/subscriptions\",\"organizations_url\":\"https://api.github.com/users/utat-ss/orgs\",\"repos_url\":\"https://api.github.com/users/utat-ss/repos\",\"events_url\":\"https://api.github.com/users/utat-ss/events{/privacy}\",\"received_events_url\":\"https://api.github.com/users/utat-ss/received_events\",\"type\":\"Organization\",\"site_admin\":false},\"html_url\":\"https://github.com/utat-ss/tree-visualizer\",\"description\":\"A tree-like Notion database visualizer\",\"fork\":false,\"url\":\"https://api.github.com/repos/utat-ss/tree-visualizer\",\"forks_url\":\"https://api.github.com/repos/utat-ss/tree-visualizer/forks\",\"keys_url\":\"https://api.github.com/repos/utat-ss/tree-visualizer/keys{/key_id}\",\"collaborators_url\":\"https://api.github.com/repos/utat-ss/tree-visualizer/collaborators{/collaborator}\",\"teams_url\":\"https://api.github.com/repos/utat-ss/tree-visualizer/teams\",\"hooks_url\":\"https://api.github.com/repos/utat-ss/tree-visualizer/hooks\",\"issue_events_url\":\"https://api.github.com/repos/utat-ss/tree-visualizer/issues/events{/number}\",\"events_url\":\"https://api.github.com/repos/utat-ss/tree-visualizer/events\",\"assignees_url\":\"https://api.github.com/repos/utat-ss/tree-visualizer/assignees{/user}\",\"branches_url\":\"https://api.github.com/repos/utat-ss/tree-visualizer/branches{/branch}\",\"tags_url\":\"https://api.github.com/repos/utat-ss/tree-visualizer/tags\",\"blobs_url\":\"https://api.github.com/repos/utat-ss/tree-visualizer/git/blobs{/sha}\",\"git_tags_url\":\"https://api.github.com/repos/utat-ss/tree-visualizer/git/tags{/sha}\",\"git_refs_url\":\"https://api.github.com/repos/utat-ss/tree-visualizer/git/refs{/sha}\",\"trees_url\":\"https://api.github.com/repos/utat-ss/tree-visualizer/git/trees{/sha}\",\"statuses_url\":\"https://api.github.com/repos/utat-ss/tree-visualizer/statuses/{sha}\",\"languages_url\":\"https://api.github.com/repos/utat-ss/tree-visualizer/languages\",\"stargazers_url\":\"https://api.github.com/repos/utat-ss/tree-visualizer/stargazers\",\"contributors_url\":\"https://api.github.com/repos/utat-ss/tree-visualizer/contributors\",\"subscribers_url\":\"https://api.github.com/repos/utat-ss/tree-visualizer/subscribers\",\"subscription_url\":\"https://api.github.com/repos/utat-ss/tree-visualizer/subscription\",\"commits_url\":\"https://api.github.com/repos/utat-ss/tree-visualizer/commits{/sha}\",\"git_commits_url\":\"https://api.github.com/repos/utat-ss/tree-visualizer/git/commits{/sha}\",\"comments_url\":\"https://api.github.com/repos/utat-ss/tree-visualizer/comments{/number}\",\"issue_comment_url\":\"https://api.github.com/repos/utat-ss/tree-visualizer/issues/comments{/number}\",\"contents_url\":\"https://api.github.com/repos/utat-ss/tree-visualizer/contents/{+path}\",\"compare_url\":\"https://api.github.com/repos/utat-ss/tree-visualizer/compare/{base}...{head}\",\"merges_url\":\"https://api.github.com/repos/utat-ss/tree-visualizer/merges\",\"archive_url\":\"https://api.github.com/repos/utat-ss/tree-visualizer/{archive_format}{/ref}\",\"downloads_url\":\"https://api.github.com/repos/utat-ss/tree-visualizer/downloads\",\"issues_url\":\"https://api.github.com/repos/utat-ss/tree-visualizer/issues{/number}\",\"pulls_url\":\"https://api.github.com/repos/utat-ss/tree-visualizer/pulls{/number}\",\"milestones_url\":\"https://api.github.com/repos/utat-ss/tree-visualizer/milestones{/number}\",\"notifications_url\":\"https://api.github.com/repos/utat-ss/tree-visualizer/notifications{?since,all,participating}\",\"labels_url\":\"https://api.github.com/repos/utat-ss/tree-visualizer/labels{/name}\",\"releases_url\":\"https://api.github.com/repos/utat-ss/tree-visualizer/releases{/id}\",\"deployments_url\":\"https://api.github.com/repos/utat-ss/tree-visualizer/deployments\",\"created_at\":\"2022-12-09T16:36:10Z\",\"updated_at\":\"2022-12-09T17:16:36Z\",\"pushed_at\":\"2023-04-04T18:13:26Z\",\"git_url\":\"git://github.com/utat-ss/tree-visualizer.git\",\"ssh_url\":\"git@github.com:utat-ss/tree-visualizer.git\",\"clone_url\":\"https://github.com/utat-ss/tree-visualizer.git\",\"svn_url\":\"https://github.com/utat-ss/tree-visualizer\",\"homepage\":null,\"size\":2294,\"stargazers_count\":0,\"watchers_count\":0,\"language\":\"HTML\",\"has_issues\":true,\"has_projects\":true,\"has_downloads\":true,\"has_wiki\":true,\"has_pages\":false,\"has_discussions\":false,\"forks_count\":0,\"mirror_url\":null,\"archived\":false,\"disabled\":false,\"open_issues_count\":4,\"license\":{\"key\":\"unlicense\",\"name\":\"The Unlicense\",\"spdx_id\":\"Unlicense\",\"url\":\"https://api.github.com/licenses/unlicense\",\"node_id\":\"MDc6TGljZW5zZTE1\"},\"allow_forking\":true,\"is_template\":false,\"web_commit_signoff_required\":false,\"topics\":[],\"visibility\":\"public\",\"forks\":0,\"open_issues\":4,\"watchers\":0,\"default_branch\":\"main\"}},\"_links\":{\"self\":{\"href\":\"https://api.github.com/repos/utat-ss/tree-visualizer/pulls/9\"},\"html\":{\"href\":\"https://github.com/utat-ss/tree-visualizer/pull/9\"},\"issue\":{\"href\":\"https://api.github.com/repos/utat-ss/tree-visualizer/issues/9\"},\"comments\":{\"href\":\"https://api.github.com/repos/utat-ss/tree-visualizer/issues/9/comments\"},\"review_comments\":{\"href\":\"https://api.github.com/repos/utat-ss/tree-visualizer/pulls/9/comments\"},\"review_comment\":{\"href\":\"https://api.github.com/repos/utat-ss/tree-visualizer/pulls/comments{/number}\"},\"commits\":{\"href\":\"https://api.github.com/repos/utat-ss/tree-visualizer/pulls/9/commits\"},\"statuses\":{\"href\":\"https://api.github.com/repos/utat-ss/tree-visualizer/statuses/b412c546913fc79ab4e5fac8c2b0d31a0e3f55af\"}},\"author_association\":\"CONTRIBUTOR\",\"auto_merge\":null,\"active_lock_reason\":null}},\"public\":true,\"created_at\":\"2023-04-04T18:38:30Z\",\"org\":{\"id\":63824882,\"login\":\"utat-ss\",\"gravatar_id\":\"\",\"url\":\"https://api.github.com/orgs/utat-ss\",\"avatar_url\":\"https://avatars.githubusercontent.com/u/63824882?\"}},{\"id\":\"28202679818\",\"type\":\"PushEvent\",\"actor\":{\"id\":7261958,\"login\":\"sjm42\",\"display_login\":\"sjm42\",\"gravatar_id\":\"\",\"url\":\"https://api.github.com/users/sjm42\",\"avatar_url\":\"https://avatars.githubusercontent.com/u/7261958?\"},\"repo\":{\"id\":428239733,\"name\":\"sjm42/mqtt2coap-rs\",\"url\":\"https://api.github.com/repos/sjm42/mqtt2coap-rs\"},\"payload\":{\"repository_id\":428239733,\"push_id\":13188910696,\"size\":1,\"distinct_size\":1,\"ref\":\"refs/heads/master\",\"head\":\"461106358bfc758377e60aa6aca2e119176b8bf3\",\"before\":\"c027542d618cc51fc3d753eb2af8c478c0b009d3\",\"commits\":[{\"sha\":\"461106358bfc758377e60aa6aca2e119176b8bf3\",\"author\":{\"email\":\"sjm@iki.fi\",\"name\":\"Sami J. Mäkinen\"},\"message\":\"cargo update\",\"distinct\":true,\"url\":\"https://api.github.com/repos/sjm42/mqtt2coap-rs/commits/461106358bfc758377e60aa6aca2e119176b8bf3\"}]},\"public\":true,\"created_at\":\"2023-04-04T18:38:31Z\"},{\"id\":\"28202679748\",\"type\":\"ForkEvent\",\"actor\":{\"id\":100048895,\"login\":\"cristian200504\",\"display_login\":\"cristian200504\",\"gravatar_id\":\"\",\"url\":\"https://api.github.com/users/cristian200504\",\"avatar_url\":\"https://avatars.githubusercontent.com/u/100048895?\"},\"repo\":{\"id\":575340621,\"name\":\"lencx/ChatGPT\",\"url\":\"https://api.github.com/repos/lencx/ChatGPT\"},\"payload\":{\"forkee\":{\"id\":623623006,\"node_id\":\"R_kgDOJSu7Xg\",\"name\":\"ChatGPT\",\"full_name\":\"cristian200504/ChatGPT\",\"private\":false,\"owner\":{\"login\":\"cristian200504\",\"id\":100048895,\"node_id\":\"U_kgDOBfaf_w\",\"avatar_url\":\"https://avatars.githubusercontent.com/u/100048895?v=4\",\"gravatar_id\":\"\",\"url\":\"https://api.github.com/users/cristian200504\",\"html_url\":\"https://github.com/cristian200504\",\"followers_url\":\"https://api.github.com/users/cristian200504/followers\",\"following_url\":\"https://api.github.com/users/cristian200504/following{/other_user}\",\"gists_url\":\"https://api.github.com/users/cristian200504/gists{/gist_id}\",\"starred_url\":\"https://api.github.com/users/cristian200504/starred{/owner}{/repo}\",\"subscriptions_url\":\"https://api.github.com/users/cristian200504/subscriptions\",\"organizations_url\":\"https://api.github.com/users/cristian200504/orgs\",\"repos_url\":\"https://api.github.com/users/cristian200504/repos\",\"events_url\":\"https://api.github.com/users/cristian200504/events{/privacy}\",\"received_events_url\":\"https://api.github.com/users/cristian200504/received_events\",\"type\":\"User\",\"site_admin\":false},\"html_url\":\"https://github.com/cristian200504/ChatGPT\",\"description\":\"🔮 ChatGPT Desktop Application (Mac, Windows and Linux)\",\"fork\":true,\"url\":\"https://api.github.com/repos/cristian200504/ChatGPT\",\"forks_url\":\"https://api.github.com/repos/cristian200504/ChatGPT/forks\",\"keys_url\":\"https://api.github.com/repos/cristian200504/ChatGPT/keys{/key_id}\",\"collaborators_url\":\"https://api.github.com/repos/cristian200504/ChatGPT/collaborators{/collaborator}\",\"teams_url\":\"https://api.github.com/repos/cristian200504/ChatGPT/teams\",\"hooks_url\":\"https://api.github.com/repos/cristian200504/ChatGPT/hooks\",\"issue_events_url\":\"https://api.github.com/repos/cristian200504/ChatGPT/issues/events{/number}\",\"events_url\":\"https://api.github.com/repos/cristian200504/ChatGPT/events\",\"assignees_url\":\"https://api.github.com/repos/cristian200504/ChatGPT/assignees{/user}\",\"branches_url\":\"https://api.github.com/repos/cristian200504/ChatGPT/branches{/branch}\",\"tags_url\":\"https://api.github.com/repos/cristian200504/ChatGPT/tags\",\"blobs_url\":\"https://api.github.com/repos/cristian200504/ChatGPT/git/blobs{/sha}\",\"git_tags_url\":\"https://api.github.com/repos/cristian200504/ChatGPT/git/tags{/sha}\",\"git_refs_url\":\"https://api.github.com/repos/cristian200504/ChatGPT/git/refs{/sha}\",\"trees_url\":\"https://api.github.com/repos/cristian200504/ChatGPT/git/trees{/sha}\",\"statuses_url\":\"https://api.github.com/repos/cristian200504/ChatGPT/statuses/{sha}\",\"languages_url\":\"https://api.github.com/repos/cristian200504/ChatGPT/languages\",\"stargazers_url\":\"https://api.github.com/repos/cristian200504/ChatGPT/stargazers\",\"contributors_url\":\"https://api.github.com/repos/cristian200504/ChatGPT/contributors\",\"subscribers_url\":\"https://api.github.com/repos/cristian200504/ChatGPT/subscribers\",\"subscription_url\":\"https://api.github.com/repos/cristian200504/ChatGPT/subscription\",\"commits_url\":\"https://api.github.com/repos/cristian200504/ChatGPT/commits{/sha}\",\"git_commits_url\":\"https://api.github.com/repos/cristian200504/ChatGPT/git/commits{/sha}\",\"comments_url\":\"https://api.github.com/repos/cristian200504/ChatGPT/comments{/number}\",\"issue_comment_url\":\"https://api.github.com/repos/cristian200504/ChatGPT/issues/comments{/number}\",\"contents_url\":\"https://api.github.com/repos/cristian200504/ChatGPT/contents/{+path}\",\"compare_url\":\"https://api.github.com/repos/cristian200504/ChatGPT/compare/{base}...{head}\",\"merges_url\":\"https://api.github.com/repos/cristian200504/ChatGPT/merges\",\"archive_url\":\"https://api.github.com/repos/cristian200504/ChatGPT/{archive_format}{/ref}\",\"downloads_url\":\"https://api.github.com/repos/cristian200504/ChatGPT/downloads\",\"issues_url\":\"https://api.github.com/repos/cristian200504/ChatGPT/issues{/number}\",\"pulls_url\":\"https://api.github.com/repos/cristian200504/ChatGPT/pulls{/number}\",\"milestones_url\":\"https://api.github.com/repos/cristian200504/ChatGPT/milestones{/number}\",\"notifications_url\":\"https://api.github.com/repos/cristian200504/ChatGPT/notifications{?since,all,participating}\",\"labels_url\":\"https://api.github.com/repos/cristian200504/ChatGPT/labels{/name}\",\"releases_url\":\"https://api.github.com/repos/cristian200504/ChatGPT/releases{/id}\",\"deployments_url\":\"https://api.github.com/repos/cristian200504/ChatGPT/deployments\",\"created_at\":\"2023-04-04T18:38:30Z\",\"updated_at\":\"2023-04-04T18:15:00Z\",\"pushed_at\":\"2023-04-04T07:31:13Z\",\"git_url\":\"git://github.com/cristian200504/ChatGPT.git\",\"ssh_url\":\"git@github.com:cristian200504/ChatGPT.git\",\"clone_url\":\"https://github.com/cristian200504/ChatGPT.git\",\"svn_url\":\"https://github.com/cristian200504/ChatGPT\",\"homepage\":\"https://nofwl.com\",\"size\":31230,\"stargazers_count\":0,\"watchers_count\":0,\"language\":null,\"has_issues\":false,\"has_projects\":true,\"has_downloads\":true,\"has_wiki\":false,\"has_pages\":false,\"has_discussions\":false,\"forks_count\":0,\"mirror_url\":null,\"archived\":false,\"disabled\":false,\"open_issues_count\":0,\"license\":null,\"allow_forking\":true,\"is_template\":false,\"web_commit_signoff_required\":false,\"topics\":[],\"visibility\":\"public\",\"forks\":0,\"open_issues\":0,\"watchers\":0,\"default_branch\":\"main\",\"public\":true}},\"public\":true,\"created_at\":\"2023-04-04T18:38:31Z\"},{\"id\":\"28202679750\",\"type\":\"CreateEvent\",\"actor\":{\"id\":3677780,\"login\":\"lauroguedes\",\"display_login\":\"lauroguedes\",\"gravatar_id\":\"\",\"url\":\"https://api.github.com/users/lauroguedes\",\"avatar_url\":\"https://avatars.githubusercontent.com/u/3677780?\"},\"repo\":{\"id\":623623004,\"name\":\"lauroguedes/tremple\",\"url\":\"https://api.github.com/repos/lauroguedes/tremple\"},\"payload\":{\"ref\":null,\"ref_type\":\"repository\",\"master_branch\":\"main\",\"description\":\"Simple Trello Clone Project\",\"pusher_type\":\"user\"},\"public\":true,\"created_at\":\"2023-04-04T18:38:31Z\"},{\"id\":\"28202679713\",\"type\":\"PushEvent\",\"actor\":{\"id\":120439197,\"login\":\"JakeCodes1\",\"display_login\":\"JakeCodes1\",\"gravatar_id\":\"\",\"url\":\"https://api.github.com/users/JakeCodes1\",\"avatar_url\":\"https://avatars.githubusercontent.com/u/120439197?\"},\"repo\":{\"id\":623276326,\"name\":\"JakeCodes1/Arsenal-Aimlock-Tracers-Esp\",\"url\":\"https://api.github.com/repos/JakeCodes1/Arsenal-Aimlock-Tracers-Esp\"},\"payload\":{\"repository_id\":623276326,\"push_id\":13188910652,\"size\":1,\"distinct_size\":1,\"ref\":\"refs/heads/main\",\"head\":\"56ad5d992f7775179906936d482761c42f0b7776\",\"before\":\"ccf5e4e28194cd6d3c1dd7fa16a34de645d1d474\",\"commits\":[{\"sha\":\"56ad5d992f7775179906936d482761c42f0b7776\",\"author\":{\"email\":\"120439197+JakeCodes1@users.noreply.github.com\",\"name\":\"JakeCodes1\"},\"message\":\"Update Arsenal\",\"distinct\":true,\"url\":\"https://api.github.com/repos/JakeCodes1/Arsenal-Aimlock-Tracers-Esp/commits/56ad5d992f7775179906936d482761c42f0b7776\"}]},\"public\":true,\"created_at\":\"2023-04-04T18:38:31Z\"},{\"id\":\"28202679676\",\"type\":\"CreateEvent\",\"actor\":{\"id\":22523732,\"login\":\"TBertuzzi\",\"display_login\":\"TBertuzzi\",\"gravatar_id\":\"\",\"url\":\"https://api.github.com/users/TBertuzzi\",\"avatar_url\":\"https://avatars.githubusercontent.com/u/22523732?\"},\"repo\":{\"id\":623623003,\"name\":\"TBertuzzi/TestePerfomance\",\"url\":\"https://api.github.com/repos/TBertuzzi/TestePerfomance\"},\"payload\":{\"ref\":null,\"ref_type\":\"repository\",\"master_branch\":\"main\",\"description\":\"Testes de Perfomance com BenchmarkDotNet e xUnit\",\"pusher_type\":\"user\"},\"public\":true,\"created_at\":\"2023-04-04T18:38:31Z\"},{\"id\":\"28202679744\",\"type\":\"ForkEvent\",\"actor\":{\"id\":129892952,\"login\":\"vahidshs7\",\"display_login\":\"vahidshs7\",\"gravatar_id\":\"\",\"url\":\"https://api.github.com/users/vahidshs7\",\"avatar_url\":\"https://avatars.githubusercontent.com/u/129892952?\"},\"repo\":{\"id\":588897968,\"name\":\"fscarmen2/X-for-Glitch\",\"url\":\"https://api.github.com/repos/fscarmen2/X-for-Glitch\"},\"payload\":{\"forkee\":{\"id\":623623007,\"node_id\":\"R_kgDOJSu7Xw\",\"name\":\"X-for-Glitch\",\"full_name\":\"vahidshs7/X-for-Glitch\",\"private\":false,\"owner\":{\"login\":\"vahidshs7\",\"id\":129892952,\"node_id\":\"U_kgDOB74CWA\",\"avatar_url\":\"https://avatars.githubusercontent.com/u/129892952?v=4\",\"gravatar_id\":\"\",\"url\":\"https://api.github.com/users/vahidshs7\",\"html_url\":\"https://github.com/vahidshs7\",\"followers_url\":\"https://api.github.com/users/vahidshs7/followers\",\"following_url\":\"https://api.github.com/users/vahidshs7/following{/other_user}\",\"gists_url\":\"https://api.github.com/users/vahidshs7/gists{/gist_id}\",\"starred_url\":\"https://api.github.com/users/vahidshs7/starred{/owner}{/repo}\",\"subscriptions_url\":\"https://api.github.com/users/vahidshs7/subscriptions\",\"organizations_url\":\"https://api.github.com/users/vahidshs7/orgs\",\"repos_url\":\"https://api.github.com/users/vahidshs7/repos\",\"events_url\":\"https://api.github.com/users/vahidshs7/events{/privacy}\",\"received_events_url\":\"https://api.github.com/users/vahidshs7/received_events\",\"type\":\"User\",\"site_admin\":false},\"html_url\":\"https://github.com/vahidshs7/X-for-Glitch\",\"description\":null,\"fork\":true,\"url\":\"https://api.github.com/repos/vahidshs7/X-for-Glitch\",\"forks_url\":\"https://api.github.com/repos/vahidshs7/X-for-Glitch/forks\",\"keys_url\":\"https://api.github.com/repos/vahidshs7/X-for-Glitch/keys{/key_id}\",\"collaborators_url\":\"https://api.github.com/repos/vahidshs7/X-for-Glitch/collaborators{/collaborator}\",\"teams_url\":\"https://api.github.com/repos/vahidshs7/X-for-Glitch/teams\",\"hooks_url\":\"https://api.github.com/repos/vahidshs7/X-for-Glitch/hooks\",\"issue_events_url\":\"https://api.github.com/repos/vahidshs7/X-for-Glitch/issues/events{/number}\",\"events_url\":\"https://api.github.com/repos/vahidshs7/X-for-Glitch/events\",\"assignees_url\":\"https://api.github.com/repos/vahidshs7/X-for-Glitch/assignees{/user}\",\"branches_url\":\"https://api.github.com/repos/vahidshs7/X-for-Glitch/branches{/branch}\",\"tags_url\":\"https://api.github.com/repos/vahidshs7/X-for-Glitch/tags\",\"blobs_url\":\"https://api.github.com/repos/vahidshs7/X-for-Glitch/git/blobs{/sha}\",\"git_tags_url\":\"https://api.github.com/repos/vahidshs7/X-for-Glitch/git/tags{/sha}\",\"git_refs_url\":\"https://api.github.com/repos/vahidshs7/X-for-Glitch/git/refs{/sha}\",\"trees_url\":\"https://api.github.com/repos/vahidshs7/X-for-Glitch/git/trees{/sha}\",\"statuses_url\":\"https://api.github.com/repos/vahidshs7/X-for-Glitch/statuses/{sha}\",\"languages_url\":\"https://api.github.com/repos/vahidshs7/X-for-Glitch/languages\",\"stargazers_url\":\"https://api.github.com/repos/vahidshs7/X-for-Glitch/stargazers\",\"contributors_url\":\"https://api.github.com/repos/vahidshs7/X-for-Glitch/contributors\",\"subscribers_url\":\"https://api.github.com/repos/vahidshs7/X-for-Glitch/subscribers\",\"subscription_url\":\"https://api.github.com/repos/vahidshs7/X-for-Glitch/subscription\",\"commits_url\":\"https://api.github.com/repos/vahidshs7/X-for-Glitch/commits{/sha}\",\"git_commits_url\":\"https://api.github.com/repos/vahidshs7/X-for-Glitch/git/commits{/sha}\",\"comments_url\":\"https://api.github.com/repos/vahidshs7/X-for-Glitch/comments{/number}\",\"issue_comment_url\":\"https://api.github.com/repos/vahidshs7/X-for-Glitch/issues/comments{/number}\",\"contents_url\":\"https://api.github.com/repos/vahidshs7/X-for-Glitch/contents/{+path}\",\"compare_url\":\"https://api.github.com/repos/vahidshs7/X-for-Glitch/compare/{base}...{head}\",\"merges_url\":\"https://api.github.com/repos/vahidshs7/X-for-Glitch/merges\",\"archive_url\":\"https://api.github.com/repos/vahidshs7/X-for-Glitch/{archive_format}{/ref}\",\"downloads_url\":\"https://api.github.com/repos/vahidshs7/X-for-Glitch/downloads\",\"issues_url\":\"https://api.github.com/repos/vahidshs7/X-for-Glitch/issues{/number}\",\"pulls_url\":\"https://api.github.com/repos/vahidshs7/X-for-Glitch/pulls{/number}\",\"milestones_url\":\"https://api.github.com/repos/vahidshs7/X-for-Glitch/milestones{/number}\",\"notifications_url\":\"https://api.github.com/repos/vahidshs7/X-for-Glitch/notifications{?since,all,participating}\",\"labels_url\":\"https://api.github.com/repos/vahidshs7/X-for-Glitch/labels{/name}\",\"releases_url\":\"https://api.github.com/repos/vahidshs7/X-for-Glitch/releases{/id}\",\"deployments_url\":\"https://api.github.com/repos/vahidshs7/X-for-Glitch/deployments\",\"created_at\":\"2023-04-04T18:38:30Z\",\"updated_at\":\"2023-04-04T18:38:25Z\",\"pushed_at\":\"2023-03-27T16:03:54Z\",\"git_url\":\"git://github.com/vahidshs7/X-for-Glitch.git\",\"ssh_url\":\"git@github.com:vahidshs7/X-for-Glitch.git\",\"clone_url\":\"https://github.com/vahidshs7/X-for-Glitch.git\",\"svn_url\":\"https://github.com/vahidshs7/X-for-Glitch\",\"homepage\":null,\"size\":25,\"stargazers_count\":0,\"watchers_count\":0,\"language\":null,\"has_issues\":false,\"has_projects\":true,\"has_downloads\":true,\"has_wiki\":true,\"has_pages\":false,\"has_discussions\":false,\"forks_count\":0,\"mirror_url\":null,\"archived\":false,\"disabled\":false,\"open_issues_count\":0,\"license\":null,\"allow_forking\":true,\"is_template\":true,\"web_commit_signoff_required\":false,\"topics\":[],\"visibility\":\"public\",\"forks\":0,\"open_issues\":0,\"watchers\":0,\"default_branch\":\"main\",\"public\":true}},\"public\":true,\"created_at\":\"2023-04-04T18:38:31Z\"},{\"id\":\"28202679767\",\"type\":\"PushEvent\",\"actor\":{\"id\":110636015,\"login\":\"Mohamed00Abdelmonem\",\"display_login\":\"Mohamed00Abdelmonem\",\"gravatar_id\":\"\",\"url\":\"https://api.github.com/users/Mohamed00Abdelmonem\",\"avatar_url\":\"https://avatars.githubusercontent.com/u/110636015?\"},\"repo\":{\"id\":623555341,\"name\":\"Mohamed00Abdelmonem/Mohamed00Abdelmonem\",\"url\":\"https://api.github.com/repos/Mohamed00Abdelmonem/Mohamed00Abdelmonem\"},\"payload\":{\"repository_id\":623555341,\"push_id\":13188910648,\"size\":1,\"distinct_size\":1,\"ref\":\"refs/heads/main\",\"head\":\"5c9acc17d3c7b93c3a2394b56aad60d2fb5bf2c0\",\"before\":\"af0baac105a6ca19f1578ed47c0bf61d52f3c880\",\"commits\":[{\"sha\":\"5c9acc17d3c7b93c3a2394b56aad60d2fb5bf2c0\",\"author\":{\"email\":\"mmohamedabdelm@gmail.com\",\"name\":\"Mohamed Abdelmonem\"},\"message\":\"Update README.md\",\"distinct\":true,\"url\":\"https://api.github.com/repos/Mohamed00Abdelmonem/Mohamed00Abdelmonem/commits/5c9acc17d3c7b93c3a2394b56aad60d2fb5bf2c0\"}]},\"public\":true,\"created_at\":\"2023-04-04T18:38:31Z\"},{\"id\":\"28202679733\",\"type\":\"CreateEvent\",\"actor\":{\"id\":50462624,\"login\":\"brun95\",\"display_login\":\"brun95\",\"gravatar_id\":\"\",\"url\":\"https://api.github.com/users/brun95\",\"avatar_url\":\"https://avatars.githubusercontent.com/u/50462624?\"},\"repo\":{\"id\":623617743,\"name\":\"brun95/tech-lab-challenge\",\"url\":\"https://api.github.com/repos/brun95/tech-lab-challenge\"},\"payload\":{\"ref\":\"master\",\"ref_type\":\"branch\",\"master_branch\":\"master\",\"description\":\"Jumping on the Clouds\",\"pusher_type\":\"user\"},\"public\":true,\"created_at\":\"2023-04-04T18:38:31Z\"},{\"id\":\"28202679686\",\"type\":\"PullRequestEvent\",\"actor\":{\"id\":17383963,\"login\":\"noexec\",\"display_login\":\"noexec\",\"gravatar_id\":\"\",\"url\":\"https://api.github.com/users/noexec\",\"avatar_url\":\"https://avatars.githubusercontent.com/u/17383963?\"},\"repo\":{\"id\":573902000,\"name\":\"noexec/curldl\",\"url\":\"https://api.github.com/repos/noexec/curldl\"},\"payload\":{\"action\":\"opened\",\"number\":33,\"pull_request\":{\"url\":\"https://api.github.com/repos/noexec/curldl/pulls/33\",\"id\":1302111739,\"node_id\":\"PR_kwDOIjUMsM5NnKX7\",\"html_url\":\"https://github.com/noexec/curldl/pull/33\",\"diff_url\":\"https://github.com/noexec/curldl/pull/33.diff\",\"patch_url\":\"https://github.com/noexec/curldl/pull/33.patch\",\"issue_url\":\"https://api.github.com/repos/noexec/curldl/issues/33\",\"number\":33,\"state\":\"open\",\"locked\":false,\"title\":\"Workflow/27 implement complete packaging workflow offline and in cicd\",\"user\":{\"login\":\"noexec\",\"id\":17383963,\"node_id\":\"MDQ6VXNlcjE3MzgzOTYz\",\"avatar_url\":\"https://avatars.githubusercontent.com/u/17383963?v=4\",\"gravatar_id\":\"\",\"url\":\"https://api.github.com/users/noexec\",\"html_url\":\"https://github.com/noexec\",\"followers_url\":\"https://api.github.com/users/noexec/followers\",\"following_url\":\"https://api.github.com/users/noexec/following{/other_user}\",\"gists_url\":\"https://api.github.com/users/noexec/gists{/gist_id}\",\"starred_url\":\"https://api.github.com/users/noexec/starred{/owner}{/repo}\",\"subscriptions_url\":\"https://api.github.com/users/noexec/subscriptions\",\"organizations_url\":\"https://api.github.com/users/noexec/orgs\",\"repos_url\":\"https://api.github.com/users/noexec/repos\",\"events_url\":\"https://api.github.com/users/noexec/events{/privacy}\",\"received_events_url\":\"https://api.github.com/users/noexec/received_events\",\"type\":\"User\",\"site_admin\":false},\"body\":null,\"created_at\":\"2023-04-04T18:38:28Z\",\"updated_at\":\"2023-04-04T18:38:30Z\",\"closed_at\":null,\"merged_at\":null,\"merge_commit_sha\":null,\"assignee\":{\"login\":\"noexec\",\"id\":17383963,\"node_id\":\"MDQ6VXNlcjE3MzgzOTYz\",\"avatar_url\":\"https://avatars.githubusercontent.com/u/17383963?v=4\",\"gravatar_id\":\"\",\"url\":\"https://api.github.com/users/noexec\",\"html_url\":\"https://github.com/noexec\",\"followers_url\":\"https://api.github.com/users/noexec/followers\",\"following_url\":\"https://api.github.com/users/noexec/following{/other_user}\",\"gists_url\":\"https://api.github.com/users/noexec/gists{/gist_id}\",\"starred_url\":\"https://api.github.com/users/noexec/starred{/owner}{/repo}\",\"subscriptions_url\":\"https://api.github.com/users/noexec/subscriptions\",\"organizations_url\":\"https://api.github.com/users/noexec/orgs\",\"repos_url\":\"https://api.github.com/users/noexec/repos\",\"events_url\":\"https://api.github.com/users/noexec/events{/privacy}\",\"received_events_url\":\"https://api.github.com/users/noexec/received_events\",\"type\":\"User\",\"site_admin\":false},\"assignees\":[{\"login\":\"noexec\",\"id\":17383963,\"node_id\":\"MDQ6VXNlcjE3MzgzOTYz\",\"avatar_url\":\"https://avatars.githubusercontent.com/u/17383963?v=4\",\"gravatar_id\":\"\",\"url\":\"https://api.github.com/users/noexec\",\"html_url\":\"https://github.com/noexec\",\"followers_url\":\"https://api.github.com/users/noexec/followers\",\"following_url\":\"https://api.github.com/users/noexec/following{/other_user}\",\"gists_url\":\"https://api.github.com/users/noexec/gists{/gist_id}\",\"starred_url\":\"https://api.github.com/users/noexec/starred{/owner}{/repo}\",\"subscriptions_url\":\"https://api.github.com/users/noexec/subscriptions\",\"organizations_url\":\"https://api.github.com/users/noexec/orgs\",\"repos_url\":\"https://api.github.com/users/noexec/repos\",\"events_url\":\"https://api.github.com/users/noexec/events{/privacy}\",\"received_events_url\":\"https://api.github.com/users/noexec/received_events\",\"type\":\"User\",\"site_admin\":false}],\"requested_reviewers\":[],\"requested_teams\":[],\"labels\":[{\"id\":4870636471,\"node_id\":\"LA_kwDOIjUMsM8AAAABIlADtw\",\"url\":\"https://api.github.com/repos/noexec/curldl/labels/enhancement\",\"name\":\"enhancement\",\"color\":\"a2eeef\",\"default\":true,\"description\":\"New feature or request\"},{\"id\":5201288786,\"node_id\":\"LA_kwDOIjUMsM8AAAABNgVeUg\",\"url\":\"https://api.github.com/repos/noexec/curldl/labels/packaging\",\"name\":\"packaging\",\"color\":\"bfd4f2\",\"default\":false,\"description\":\"Packaging and build system\"},{\"id\":5318153869,\"node_id\":\"LA_kwDOIjUMsM8AAAABPPyWjQ\",\"url\":\"https://api.github.com/repos/noexec/curldl/labels/integration\",\"name\":\"integration\",\"color\":\"1d76db\",\"default\":false,\"description\":\"Continuous integration and deployment\"}],\"milestone\":{\"url\":\"https://api.github.com/repos/noexec/curldl/milestones/1\",\"html_url\":\"https://github.com/noexec/curldl/milestone/1\",\"labels_url\":\"https://api.github.com/repos/noexec/curldl/milestones/1/labels\",\"id\":9090785,\"node_id\":\"MI_kwDOIjUMsM4Airbh\",\"number\":1,\"title\":\"v0.1.1\",\"description\":\"\",\"creator\":{\"login\":\"noexec\",\"id\":17383963,\"node_id\":\"MDQ6VXNlcjE3MzgzOTYz\",\"avatar_url\":\"https://avatars.githubusercontent.com/u/17383963?v=4\",\"gravatar_id\":\"\",\"url\":\"https://api.github.com/users/noexec\",\"html_url\":\"https://github.com/noexec\",\"followers_url\":\"https://api.github.com/users/noexec/followers\",\"following_url\":\"https://api.github.com/users/noexec/following{/other_user}\",\"gists_url\":\"https://api.github.com/users/noexec/gists{/gist_id}\",\"starred_url\":\"https://api.github.com/users/noexec/starred{/owner}{/repo}\",\"subscriptions_url\":\"https://api.github.com/users/noexec/subscriptions\",\"organizations_url\":\"https://api.github.com/users/noexec/orgs\",\"repos_url\":\"https://api.github.com/users/noexec/repos\",\"events_url\":\"https://api.github.com/users/noexec/events{/privacy}\",\"received_events_url\":\"https://api.github.com/users/noexec/received_events\",\"type\":\"User\",\"site_admin\":false},\"open_issues\":6,\"closed_issues\":18,\"state\":\"open\",\"created_at\":\"2023-02-26T20:25:37Z\",\"updated_at\":\"2023-04-04T18:38:29Z\",\"due_on\":null,\"closed_at\":null},\"draft\":false,\"commits_url\":\"https://api.github.com/repos/noexec/curldl/pulls/33/commits\",\"review_comments_url\":\"https://api.github.com/repos/noexec/curldl/pulls/33/comments\",\"review_comment_url\":\"https://api.github.com/repos/noexec/curldl/pulls/comments{/number}\",\"comments_url\":\"https://api.github.com/repos/noexec/curldl/issues/33/comments\",\"statuses_url\":\"https://api.github.com/repos/noexec/curldl/statuses/c9f69c08732bebbe0e31470c34f9971171474aee\",\"head\":{\"label\":\"noexec:workflow/27-implement-complete-packaging-workflow-offline-and-in-cicd\",\"ref\":\"workflow/27-implement-complete-packaging-workflow-offline-and-in-cicd\",\"sha\":\"c9f69c08732bebbe0e31470c34f9971171474aee\",\"user\":{\"login\":\"noexec\",\"id\":17383963,\"node_id\":\"MDQ6VXNlcjE3MzgzOTYz\",\"avatar_url\":\"https://avatars.githubusercontent.com/u/17383963?v=4\",\"gravatar_id\":\"\",\"url\":\"https://api.github.com/users/noexec\",\"html_url\":\"https://github.com/noexec\",\"followers_url\":\"https://api.github.com/users/noexec/followers\",\"following_url\":\"https://api.github.com/users/noexec/following{/other_user}\",\"gists_url\":\"https://api.github.com/users/noexec/gists{/gist_id}\",\"starred_url\":\"https://api.github.com/users/noexec/starred{/owner}{/repo}\",\"subscriptions_url\":\"https://api.github.com/users/noexec/subscriptions\",\"organizations_url\":\"https://api.github.com/users/noexec/orgs\",\"repos_url\":\"https://api.github.com/users/noexec/repos\",\"events_url\":\"https://api.github.com/users/noexec/events{/privacy}\",\"received_events_url\":\"https://api.github.com/users/noexec/received_events\",\"type\":\"User\",\"site_admin\":false},\"repo\":{\"id\":573902000,\"node_id\":\"R_kgDOIjUMsA\",\"name\":\"curldl\",\"full_name\":\"noexec/curldl\",\"private\":false,\"owner\":{\"login\":\"noexec\",\"id\":17383963,\"node_id\":\"MDQ6VXNlcjE3MzgzOTYz\",\"avatar_url\":\"https://avatars.githubusercontent.com/u/17383963?v=4\",\"gravatar_id\":\"\",\"url\":\"https://api.github.com/users/noexec\",\"html_url\":\"https://github.com/noexec\",\"followers_url\":\"https://api.github.com/users/noexec/followers\",\"following_url\":\"https://api.github.com/users/noexec/following{/other_user}\",\"gists_url\":\"https://api.github.com/users/noexec/gists{/gist_id}\",\"starred_url\":\"https://api.github.com/users/noexec/starred{/owner}{/repo}\",\"subscriptions_url\":\"https://api.github.com/users/noexec/subscriptions\",\"organizations_url\":\"https://api.github.com/users/noexec/orgs\",\"repos_url\":\"https://api.github.com/users/noexec/repos\",\"events_url\":\"https://api.github.com/users/noexec/events{/privacy}\",\"received_events_url\":\"https://api.github.com/users/noexec/received_events\",\"type\":\"User\",\"site_admin\":false},\"html_url\":\"https://github.com/noexec/curldl\",\"description\":\"Safely and reliably download files with PycURL\",\"fork\":false,\"url\":\"https://api.github.com/repos/noexec/curldl\",\"forks_url\":\"https://api.github.com/repos/noexec/curldl/forks\",\"keys_url\":\"https://api.github.com/repos/noexec/curldl/keys{/key_id}\",\"collaborators_url\":\"https://api.github.com/repos/noexec/curldl/collaborators{/collaborator}\",\"teams_url\":\"https://api.github.com/repos/noexec/curldl/teams\",\"hooks_url\":\"https://api.github.com/repos/noexec/curldl/hooks\",\"issue_events_url\":\"https://api.github.com/repos/noexec/curldl/issues/events{/number}\",\"events_url\":\"https://api.github.com/repos/noexec/curldl/events\",\"assignees_url\":\"https://api.github.com/repos/noexec/curldl/assignees{/user}\",\"branches_url\":\"https://api.github.com/repos/noexec/curldl/branches{/branch}\",\"tags_url\":\"https://api.github.com/repos/noexec/curldl/tags\",\"blobs_url\":\"https://api.github.com/repos/noexec/curldl/git/blobs{/sha}\",\"git_tags_url\":\"https://api.github.com/repos/noexec/curldl/git/tags{/sha}\",\"git_refs_url\":\"https://api.github.com/repos/noexec/curldl/git/refs{/sha}\",\"trees_url\":\"https://api.github.com/repos/noexec/curldl/git/trees{/sha}\",\"statuses_url\":\"https://api.github.com/repos/noexec/curldl/statuses/{sha}\",\"languages_url\":\"https://api.github.com/repos/noexec/curldl/languages\",\"stargazers_url\":\"https://api.github.com/repos/noexec/curldl/stargazers\",\"contributors_url\":\"https://api.github.com/repos/noexec/curldl/contributors\",\"subscribers_url\":\"https://api.github.com/repos/noexec/curldl/subscribers\",\"subscription_url\":\"https://api.github.com/repos/noexec/curldl/subscription\",\"commits_url\":\"https://api.github.com/repos/noexec/curldl/commits{/sha}\",\"git_commits_url\":\"https://api.github.com/repos/noexec/curldl/git/commits{/sha}\",\"comments_url\":\"https://api.github.com/repos/noexec/curldl/comments{/number}\",\"issue_comment_url\":\"https://api.github.com/repos/noexec/curldl/issues/comments{/number}\",\"contents_url\":\"https://api.github.com/repos/noexec/curldl/contents/{+path}\",\"compare_url\":\"https://api.github.com/repos/noexec/curldl/compare/{base}...{head}\",\"merges_url\":\"https://api.github.com/repos/noexec/curldl/merges\",\"archive_url\":\"https://api.github.com/repos/noexec/curldl/{archive_format}{/ref}\",\"downloads_url\":\"https://api.github.com/repos/noexec/curldl/downloads\",\"issues_url\":\"https://api.github.com/repos/noexec/curldl/issues{/number}\",\"pulls_url\":\"https://api.github.com/repos/noexec/curldl/pulls{/number}\",\"milestones_url\":\"https://api.github.com/repos/noexec/curldl/milestones{/number}\",\"notifications_url\":\"https://api.github.com/repos/noexec/curldl/notifications{?since,all,participating}\",\"labels_url\":\"https://api.github.com/repos/noexec/curldl/labels{/name}\",\"releases_url\":\"https://api.github.com/repos/noexec/curldl/releases{/id}\",\"deployments_url\":\"https://api.github.com/repos/noexec/curldl/deployments\",\"created_at\":\"2022-12-03T19:44:44Z\",\"updated_at\":\"2023-04-01T13:40:28Z\",\"pushed_at\":\"2023-04-04T18:38:30Z\",\"git_url\":\"git://github.com/noexec/curldl.git\",\"ssh_url\":\"git@github.com:noexec/curldl.git\",\"clone_url\":\"https://github.com/noexec/curldl.git\",\"svn_url\":\"https://github.com/noexec/curldl\",\"homepage\":\"\",\"size\":116,\"stargazers_count\":0,\"watchers_count\":0,\"language\":\"Python\",\"has_issues\":true,\"has_projects\":false,\"has_downloads\":true,\"has_wiki\":false,\"has_pages\":false,\"has_discussions\":false,\"forks_count\":0,\"mirror_url\":null,\"archived\":false,\"disabled\":false,\"open_issues_count\":7,\"license\":{\"key\":\"lgpl-3.0\",\"name\":\"GNU Lesser General Public License v3.0\",\"spdx_id\":\"LGPL-3.0\",\"url\":\"https://api.github.com/licenses/lgpl-3.0\",\"node_id\":\"MDc6TGljZW5zZTEy\"},\"allow_forking\":true,\"is_template\":false,\"web_commit_signoff_required\":false,\"topics\":[\"curl\",\"download\",\"pycurl\"],\"visibility\":\"public\",\"forks\":0,\"open_issues\":7,\"watchers\":0,\"default_branch\":\"develop\"}},\"base\":{\"label\":\"noexec:develop\",\"ref\":\"develop\",\"sha\":\"e47036ae081e2b91308661d1658a4dd282a6f2e6\",\"user\":{\"login\":\"noexec\",\"id\":17383963,\"node_id\":\"MDQ6VXNlcjE3MzgzOTYz\",\"avatar_url\":\"https://avatars.githubusercontent.com/u/17383963?v=4\",\"gravatar_id\":\"\",\"url\":\"https://api.github.com/users/noexec\",\"html_url\":\"https://github.com/noexec\",\"followers_url\":\"https://api.github.com/users/noexec/followers\",\"following_url\":\"https://api.github.com/users/noexec/following{/other_user}\",\"gists_url\":\"https://api.github.com/users/noexec/gists{/gist_id}\",\"starred_url\":\"https://api.github.com/users/noexec/starred{/owner}{/repo}\",\"subscriptions_url\":\"https://api.github.com/users/noexec/subscriptions\",\"organizations_url\":\"https://api.github.com/users/noexec/orgs\",\"repos_url\":\"https://api.github.com/users/noexec/repos\",\"events_url\":\"https://api.github.com/users/noexec/events{/privacy}\",\"received_events_url\":\"https://api.github.com/users/noexec/received_events\",\"type\":\"User\",\"site_admin\":false},\"repo\":{\"id\":573902000,\"node_id\":\"R_kgDOIjUMsA\",\"name\":\"curldl\",\"full_name\":\"noexec/curldl\",\"private\":false,\"owner\":{\"login\":\"noexec\",\"id\":17383963,\"node_id\":\"MDQ6VXNlcjE3MzgzOTYz\",\"avatar_url\":\"https://avatars.githubusercontent.com/u/17383963?v=4\",\"gravatar_id\":\"\",\"url\":\"https://api.github.com/users/noexec\",\"html_url\":\"https://github.com/noexec\",\"followers_url\":\"https://api.github.com/users/noexec/followers\",\"following_url\":\"https://api.github.com/users/noexec/following{/other_user}\",\"gists_url\":\"https://api.github.com/users/noexec/gists{/gist_id}\",\"starred_url\":\"https://api.github.com/users/noexec/starred{/owner}{/repo}\",\"subscriptions_url\":\"https://api.github.com/users/noexec/subscriptions\",\"organizations_url\":\"https://api.github.com/users/noexec/orgs\",\"repos_url\":\"https://api.github.com/users/noexec/repos\",\"events_url\":\"https://api.github.com/users/noexec/events{/privacy}\",\"received_events_url\":\"https://api.github.com/users/noexec/received_events\",\"type\":\"User\",\"site_admin\":false},\"html_url\":\"https://github.com/noexec/curldl\",\"description\":\"Safely and reliably download files with PycURL\",\"fork\":false,\"url\":\"https://api.github.com/repos/noexec/curldl\",\"forks_url\":\"https://api.github.com/repos/noexec/curldl/forks\",\"keys_url\":\"https://api.github.com/repos/noexec/curldl/keys{/key_id}\",\"collaborators_url\":\"https://api.github.com/repos/noexec/curldl/collaborators{/collaborator}\",\"teams_url\":\"https://api.github.com/repos/noexec/curldl/teams\",\"hooks_url\":\"https://api.github.com/repos/noexec/curldl/hooks\",\"issue_events_url\":\"https://api.github.com/repos/noexec/curldl/issues/events{/number}\",\"events_url\":\"https://api.github.com/repos/noexec/curldl/events\",\"assignees_url\":\"https://api.github.com/repos/noexec/curldl/assignees{/user}\",\"branches_url\":\"https://api.github.com/repos/noexec/curldl/branches{/branch}\",\"tags_url\":\"https://api.github.com/repos/noexec/curldl/tags\",\"blobs_url\":\"https://api.github.com/repos/noexec/curldl/git/blobs{/sha}\",\"git_tags_url\":\"https://api.github.com/repos/noexec/curldl/git/tags{/sha}\",\"git_refs_url\":\"https://api.github.com/repos/noexec/curldl/git/refs{/sha}\",\"trees_url\":\"https://api.github.com/repos/noexec/curldl/git/trees{/sha}\",\"statuses_url\":\"https://api.github.com/repos/noexec/curldl/statuses/{sha}\",\"languages_url\":\"https://api.github.com/repos/noexec/curldl/languages\",\"stargazers_url\":\"https://api.github.com/repos/noexec/curldl/stargazers\",\"contributors_url\":\"https://api.github.com/repos/noexec/curldl/contributors\",\"subscribers_url\":\"https://api.github.com/repos/noexec/curldl/subscribers\",\"subscription_url\":\"https://api.github.com/repos/noexec/curldl/subscription\",\"commits_url\":\"https://api.github.com/repos/noexec/curldl/commits{/sha}\",\"git_commits_url\":\"https://api.github.com/repos/noexec/curldl/git/commits{/sha}\",\"comments_url\":\"https://api.github.com/repos/noexec/curldl/comments{/number}\",\"issue_comment_url\":\"https://api.github.com/repos/noexec/curldl/issues/comments{/number}\",\"contents_url\":\"https://api.github.com/repos/noexec/curldl/contents/{+path}\",\"compare_url\":\"https://api.github.com/repos/noexec/curldl/compare/{base}...{head}\",\"merges_url\":\"https://api.github.com/repos/noexec/curldl/merges\",\"archive_url\":\"https://api.github.com/repos/noexec/curldl/{archive_format}{/ref}\",\"downloads_url\":\"https://api.github.com/repos/noexec/curldl/downloads\",\"issues_url\":\"https://api.github.com/repos/noexec/curldl/issues{/number}\",\"pulls_url\":\"https://api.github.com/repos/noexec/curldl/pulls{/number}\",\"milestones_url\":\"https://api.github.com/repos/noexec/curldl/milestones{/number}\",\"notifications_url\":\"https://api.github.com/repos/noexec/curldl/notifications{?since,all,participating}\",\"labels_url\":\"https://api.github.com/repos/noexec/curldl/labels{/name}\",\"releases_url\":\"https://api.github.com/repos/noexec/curldl/releases{/id}\",\"deployments_url\":\"https://api.github.com/repos/noexec/curldl/deployments\",\"created_at\":\"2022-12-03T19:44:44Z\",\"updated_at\":\"2023-04-01T13:40:28Z\",\"pushed_at\":\"2023-04-04T18:38:30Z\",\"git_url\":\"git://github.com/noexec/curldl.git\",\"ssh_url\":\"git@github.com:noexec/curldl.git\",\"clone_url\":\"https://github.com/noexec/curldl.git\",\"svn_url\":\"https://github.com/noexec/curldl\",\"homepage\":\"\",\"size\":116,\"stargazers_count\":0,\"watchers_count\":0,\"language\":\"Python\",\"has_issues\":true,\"has_projects\":false,\"has_downloads\":true,\"has_wiki\":false,\"has_pages\":false,\"has_discussions\":false,\"forks_count\":0,\"mirror_url\":null,\"archived\":false,\"disabled\":false,\"open_issues_count\":7,\"license\":{\"key\":\"lgpl-3.0\",\"name\":\"GNU Lesser General Public License v3.0\",\"spdx_id\":\"LGPL-3.0\",\"url\":\"https://api.github.com/licenses/lgpl-3.0\",\"node_id\":\"MDc6TGljZW5zZTEy\"},\"allow_forking\":true,\"is_template\":false,\"web_commit_signoff_required\":false,\"topics\":[\"curl\",\"download\",\"pycurl\"],\"visibility\":\"public\",\"forks\":0,\"open_issues\":7,\"watchers\":0,\"default_branch\":\"develop\"}},\"_links\":{\"self\":{\"href\":\"https://api.github.com/repos/noexec/curldl/pulls/33\"},\"html\":{\"href\":\"https://github.com/noexec/curldl/pull/33\"},\"issue\":{\"href\":\"https://api.github.com/repos/noexec/curldl/issues/33\"},\"comments\":{\"href\":\"https://api.github.com/repos/noexec/curldl/issues/33/comments\"},\"review_comments\":{\"href\":\"https://api.github.com/repos/noexec/curldl/pulls/33/comments\"},\"review_comment\":{\"href\":\"https://api.github.com/repos/noexec/curldl/pulls/comments{/number}\"},\"commits\":{\"href\":\"https://api.github.com/repos/noexec/curldl/pulls/33/commits\"},\"statuses\":{\"href\":\"https://api.github.com/repos/noexec/curldl/statuses/c9f69c08732bebbe0e31470c34f9971171474aee\"}},\"author_association\":\"OWNER\",\"auto_merge\":null,\"active_lock_reason\":null,\"merged\":false,\"mergeable\":null,\"rebaseable\":null,\"mergeable_state\":\"unknown\",\"merged_by\":null,\"comments\":0,\"review_comments\":0,\"maintainer_can_modify\":false,\"commits\":6,\"additions\":104,\"deletions\":24,\"changed_files\":4}},\"public\":true,\"created_at\":\"2023-04-04T18:38:31Z\"},{\"id\":\"28202679747\",\"type\":\"WatchEvent\",\"actor\":{\"id\":30129597,\"login\":\"j-Riv\",\"display_login\":\"j-Riv\",\"gravatar_id\":\"\",\"url\":\"https://api.github.com/users/j-Riv\",\"avatar_url\":\"https://avatars.githubusercontent.com/u/30129597?\"},\"repo\":{\"id\":22234455,\"name\":\"react-grid-layout/react-draggable\",\"url\":\"https://api.github.com/repos/react-grid-layout/react-draggable\"},\"payload\":{\"action\":\"started\"},\"public\":true,\"created_at\":\"2023-04-04T18:38:31Z\",\"org\":{\"id\":79858588,\"login\":\"react-grid-layout\",\"gravatar_id\":\"\",\"url\":\"https://api.github.com/orgs/react-grid-layout\",\"avatar_url\":\"https://avatars.githubusercontent.com/u/79858588?\"}},{\"id\":\"28202679770\",\"type\":\"IssuesEvent\",\"actor\":{\"id\":22003725,\"login\":\"daglem\",\"display_login\":\"daglem\",\"gravatar_id\":\"\",\"url\":\"https://api.github.com/users/daglem\",\"avatar_url\":\"https://avatars.githubusercontent.com/u/22003725?\"},\"repo\":{\"id\":328488852,\"name\":\"daglem/reDIP-SID\",\"url\":\"https://api.github.com/repos/daglem/reDIP-SID\"},\"payload\":{\"action\":\"closed\",\"issue\":{\"url\":\"https://api.github.com/repos/daglem/reDIP-SID/issues/9\",\"repository_url\":\"https://api.github.com/repos/daglem/reDIP-SID\",\"labels_url\":\"https://api.github.com/repos/daglem/reDIP-SID/issues/9/labels{/name}\",\"comments_url\":\"https://api.github.com/repos/daglem/reDIP-SID/issues/9/comments\",\"events_url\":\"https://api.github.com/repos/daglem/reDIP-SID/issues/9/events\",\"html_url\":\"https://github.com/daglem/reDIP-SID/issues/9\",\"id\":1651013662,\"node_id\":\"I_kwDOE5RXlM5iaHge\",\"number\":9,\"title\":\"Pot discharge - is it safe?\",\"user\":{\"login\":\"sorgelig\",\"id\":917089,\"node_id\":\"MDQ6VXNlcjkxNzA4OQ==\",\"avatar_url\":\"https://avatars.githubusercontent.com/u/917089?v=4\",\"gravatar_id\":\"\",\"url\":\"https://api.github.com/users/sorgelig\",\"html_url\":\"https://github.com/sorgelig\",\"followers_url\":\"https://api.github.com/users/sorgelig/followers\",\"following_url\":\"https://api.github.com/users/sorgelig/following{/other_user}\",\"gists_url\":\"https://api.github.com/users/sorgelig/gists{/gist_id}\",\"starred_url\":\"https://api.github.com/users/sorgelig/starred{/owner}{/repo}\",\"subscriptions_url\":\"https://api.github.com/users/sorgelig/subscriptions\",\"organizations_url\":\"https://api.github.com/users/sorgelig/orgs\",\"repos_url\":\"https://api.github.com/users/sorgelig/repos\",\"events_url\":\"https://api.github.com/users/sorgelig/events{/privacy}\",\"received_events_url\":\"https://api.github.com/users/sorgelig/received_events\",\"type\":\"User\",\"site_admin\":false},\"labels\":[],\"state\":\"closed\",\"locked\":false,\"assignee\":null,\"assignees\":[],\"milestone\":null,\"comments\":1,\"created_at\":\"2023-04-02T16:40:27Z\",\"updated_at\":\"2023-04-04T18:38:30Z\",\"closed_at\":\"2023-04-04T18:38:30Z\",\"author_association\":\"NONE\",\"active_lock_reason\":null,\"body\":\"Hi!\\\\r\\\\n\\\\r\\\\nI don\\'t see any resistor in series for potX/Y, it means when pot is in lower resistivity state (~0 Ohm) with strong 5V drive and FPGA is pulling it down to GND then high current will flow. Isn\\'t it dangerous for FPGA/level-shifter/4066?\",\"reactions\":{\"url\":\"https://api.github.com/repos/daglem/reDIP-SID/issues/9/reactions\",\"total_count\":0,\"+1\":0,\"-1\":0,\"laugh\":0,\"hooray\":0,\"confused\":0,\"heart\":0,\"rocket\":0,\"eyes\":0},\"timeline_url\":\"https://api.github.com/repos/daglem/reDIP-SID/issues/9/timeline\",\"performed_via_github_app\":null,\"state_reason\":\"completed\"}},\"public\":true,\"created_at\":\"2023-04-04T18:38:31Z\"},{\"id\":\"28202679714\",\"type\":\"IssueCommentEvent\",\"actor\":{\"id\":39514782,\"login\":\"sonarcloud[bot]\",\"display_login\":\"sonarcloud\",\"gravatar_id\":\"\",\"url\":\"https://api.github.com/users/sonarcloud[bot]\",\"avatar_url\":\"https://avatars.githubusercontent.com/u/39514782?\"},\"repo\":{\"id\":214608525,\"name\":\"skyYaga/skdvin-webapp\",\"url\":\"https://api.github.com/repos/skyYaga/skdvin-webapp\"},\"payload\":{\"action\":\"created\",\"issue\":{\"url\":\"https://api.github.com/repos/skyYaga/skdvin-webapp/issues/1381\",\"repository_url\":\"https://api.github.com/repos/skyYaga/skdvin-webapp\",\"labels_url\":\"https://api.github.com/repos/skyYaga/skdvin-webapp/issues/1381/labels{/name}\",\"comments_url\":\"https://api.github.com/repos/skyYaga/skdvin-webapp/issues/1381/comments\",\"events_url\":\"https://api.github.com/repos/skyYaga/skdvin-webapp/issues/1381/events\",\"html_url\":\"https://github.com/skyYaga/skdvin-webapp/pull/1381\",\"id\":1596817819,\"node_id\":\"PR_kwDODMqqjc5Kmria\",\"number\":1381,\"title\":\"build(deps): bump axios from 0.27.2 to 1.3.4\",\"user\":{\"login\":\"dependabot[bot]\",\"id\":49699333,\"node_id\":\"MDM6Qm90NDk2OTkzMzM=\",\"avatar_url\":\"https://avatars.githubusercontent.com/in/29110?v=4\",\"gravatar_id\":\"\",\"url\":\"https://api.github.com/users/dependabot%5Bbot%5D\",\"html_url\":\"https://github.com/apps/dependabot\",\"followers_url\":\"https://api.github.com/users/dependabot%5Bbot%5D/followers\",\"following_url\":\"https://api.github.com/users/dependabot%5Bbot%5D/following{/other_user}\",\"gists_url\":\"https://api.github.com/users/dependabot%5Bbot%5D/gists{/gist_id}\",\"starred_url\":\"https://api.github.com/users/dependabot%5Bbot%5D/starred{/owner}{/repo}\",\"subscriptions_url\":\"https://api.github.com/users/dependabot%5Bbot%5D/subscriptions\",\"organizations_url\":\"https://api.github.com/users/dependabot%5Bbot%5D/orgs\",\"repos_url\":\"https://api.github.com/users/dependabot%5Bbot%5D/repos\",\"events_url\":\"https://api.github.com/users/dependabot%5Bbot%5D/events{/privacy}\",\"received_events_url\":\"https://api.github.com/users/dependabot%5Bbot%5D/received_events\",\"type\":\"Bot\",\"site_admin\":false},\"labels\":[{\"id\":1899294236,\"node_id\":\"MDU6TGFiZWwxODk5Mjk0MjM2\",\"url\":\"https://api.github.com/repos/skyYaga/skdvin-webapp/labels/dependencies\",\"name\":\"dependencies\",\"color\":\"0366d6\",\"default\":false,\"description\":\"Pull requests that update a dependency file\"}],\"state\":\"open\",\"locked\":false,\"assignee\":null,\"assignees\":[],\"milestone\":null,\"comments\":3,\"created_at\":\"2023-02-23T12:58:08Z\",\"updated_at\":\"2023-04-04T18:38:30Z\",\"closed_at\":null,\"author_association\":\"CONTRIBUTOR\",\"active_lock_reason\":null,\"draft\":false,\"pull_request\":{\"url\":\"https://api.github.com/repos/skyYaga/skdvin-webapp/pulls/1381\",\"html_url\":\"https://github.com/skyYaga/skdvin-webapp/pull/1381\",\"diff_url\":\"https://github.com/skyYaga/skdvin-webapp/pull/1381.diff\",\"patch_url\":\"https://github.com/skyYaga/skdvin-webapp/pull/1381.patch\",\"merged_at\":null},\"body\":\"Bumps [axios](https://github.com/axios/axios) from 0.27.2 to 1.3.4.\\\\n<details>\\\\n<summary>Release notes</summary>\\\\n<p><em>Sourced from <a href=\\\\\"https://github.com/axios/axios/releases\\\\\">axios\\'s releases</a>.</em></p>\\\\n<blockquote>\\\\n<h2>Release v1.3.4</h2>\\\\n<h2>Release notes:</h2>\\\\n<h3>Bug Fixes</h3>\\\\n<ul>\\\\n<li><strong>blob:</strong> added a check to make sure the Blob class is available in the browser\\'s global scope; (<a href=\\\\\"https://github-redirect.dependabot.com/axios/axios/issues/5548\\\\\">#5548</a>) (<a href=\\\\\"https://github.com/axios/axios/commit/3772c8fe74112a56e3e9551f894d899bc3a9443a\\\\\">3772c8f</a>)</li>\\\\n<li><strong>http:</strong> fixed regression bug when handling synchronous errors inside the adapter; (<a href=\\\\\"https://github-redirect.dependabot.com/axios/axios/issues/5564\\\\\">#5564</a>) (<a href=\\\\\"https://github.com/axios/axios/commit/a3b246c9de5c3bc4b5a742e15add55b375479451\\\\\">a3b246c</a>)</li>\\\\n</ul>\\\\n<h3>Contributors to this release</h3>\\\\n<ul>\\\\n<li><!-- raw HTML omitted --> <a href=\\\\\"https://github.com/DigitalBrainJS\\\\\" title=\\\\\"+38/-26 ([#5564](https://github.com/axios/axios/issues/5564) )\\\\\">Dmitriy Mozgovoy</a></li>\\\\n<li><!-- raw HTML omitted --> <a href=\\\\\"https://github.com/lcysgsg\\\\\" title=\\\\\"+4/-0 ([#5548](https://github.com/axios/axios/issues/5548) )\\\\\">lcysgsg</a></li>\\\\n<li><!-- raw HTML omitted --> <a href=\\\\\"https://github.com/Cadienvan\\\\\" title=\\\\\"+3/-0 ([#5444](https://github.com/axios/axios/issues/5444) )\\\\\">Michael Di Prisco</a></li>\\\\n</ul>\\\\n<h2>Release v1.3.3</h2>\\\\n<h2>Release notes:</h2>\\\\n<h3>Bug Fixes</h3>\\\\n<ul>\\\\n<li><strong>formdata:</strong> added a check to make sure the FormData class is available in the browser\\'s global scope; (<a href=\\\\\"https://github-redirect.dependabot.com/axios/axios/issues/5545\\\\\">#5545</a>) (<a href=\\\\\"https://github.com/axios/axios/commit/a6dfa72010db5ad52db8bd13c0f98e537e8fd05d\\\\\">a6dfa72</a>)</li>\\\\n<li><strong>formdata:</strong> fixed setting NaN as Content-Length for form payload in some cases; (<a href=\\\\\"https://github-redirect.dependabot.com/axios/axios/issues/5535\\\\\">#5535</a>) (<a href=\\\\\"https://github.com/axios/axios/commit/c19f7bf770f90ae8307f4ea3104f227056912da1\\\\\">c19f7bf</a>)</li>\\\\n<li><strong>headers:</strong> fixed the filtering logic of the clear method; (<a href=\\\\\"https://github-redirect.dependabot.com/axios/axios/issues/5542\\\\\">#5542</a>) (<a href=\\\\\"https://github.com/axios/axios/commit/ea87ebfe6d1699af072b9e7cd40faf8f14b0ab93\\\\\">ea87ebf</a>)</li>\\\\n</ul>\\\\n<h3>Contributors to this release</h3>\\\\n<ul>\\\\n<li><!-- raw HTML omitted --> <a href=\\\\\"https://github.com/DigitalBrainJS\\\\\" title=\\\\\"+11/-7 ([#5545](https://github.com/axios/axios/issues/5545) [#5535](https://github.com/axios/axios/issues/5535) [#5542](https://github.com/axios/axios/issues/5542) )\\\\\">Dmitriy Mozgovoy</a></li>\\\\n<li><!-- raw HTML omitted --> <a href=\\\\\"https://github.com/ruofee\\\\\" title=\\\\\"+2/-2 ([#5467](https://github.com/axios/axios/issues/5467) )\\\\\">陈若枫</a></li>\\\\n</ul>\\\\n<h2>Release v1.3.2</h2>\\\\n<h2>Release notes:</h2>\\\\n<h3>Bug Fixes</h3>\\\\n<ul>\\\\n<li><strong>http:</strong> treat <a href=\\\\\"http://localhost\\\\\">http://localhost</a> as base URL for relative paths to avoid <code>ERR_INVALID_URL</code> error; (<a href=\\\\\"https://github-redirect.dependabot.com/axios/axios/issues/5528\\\\\">#5528</a>) (<a href=\\\\\"https://github.com/axios/axios/commit/128d56f4a0fb8f5f2ed6e0dd80bc9225fee9538c\\\\\">128d56f</a>)</li>\\\\n<li><strong>http:</strong> use explicit import instead of TextEncoder global; (<a href=\\\\\"https://github-redirect.dependabot.com/axios/axios/issues/5530\\\\\">#5530</a>) (<a href=\\\\\"https://github.com/axios/axios/commit/6b3c305fc40c56428e0afabedc6f4d29c2830f6f\\\\\">6b3c305</a>)</li>\\\\n</ul>\\\\n<h3>Contributors to this release</h3>\\\\n<ul>\\\\n<li><!-- raw HTML omitted --> <a href=\\\\\"https://github.com/DigitalBrainJS\\\\\" title=\\\\\"+2/-1 ([#5530](https://github.com/axios/axios/issues/5530) [#5528](https://github.com/axios/axios/issues/5528) )\\\\\">Dmitriy Mozgovoy</a></li>\\\\n</ul>\\\\n<h2>Release v1.3.1</h2>\\\\n<h2>Release notes:</h2>\\\\n<h3>Bug Fixes</h3>\\\\n<ul>\\\\n<li><strong>formdata:</strong> add hotfix to use the asynchronous API to compute the content-length header value; (<a href=\\\\\"https://github-redirect.dependabot.com/axios/axios/issues/5521\\\\\">#5521</a>) (<a href=\\\\\"https://github.com/axios/axios/commit/96d336f527619f21da012fe1f117eeb53e5a2120\\\\\">96d336f</a>)</li>\\\\n<li><strong>serializer:</strong> fixed serialization of array-like objects; (<a href=\\\\\"https://github-redirect.dependabot.com/axios/axios/issues/5518\\\\\">#5518</a>) (<a href=\\\\\"https://github.com/axios/axios/commit/08104c028c0f9353897b1b6691d74c440fd0c32d\\\\\">08104c0</a>)</li>\\\\n</ul>\\\\n<h3>Contributors to this release</h3>\\\\n<ul>\\\\n<li><!-- raw HTML omitted --> <a href=\\\\\"https://github.com/DigitalBrainJS\\\\\" title=\\\\\"+27/-8 ([#5521](https://github.com/axios/axios/issues/5521) [#5518](https://github.com/axios/axios/issues/5518) )\\\\\">Dmitriy Mozgovoy</a></li>\\\\n</ul>\\\\n<h2>Release v1.3.0</h2>\\\\n<h2>Release notes:</h2>\\\\n<!-- raw HTML omitted -->\\\\n</blockquote>\\\\n<p>... (truncated)</p>\\\\n</details>\\\\n<details>\\\\n<summary>Changelog</summary>\\\\n<p><em>Sourced from <a href=\\\\\"https://github.com/axios/axios/blob/v1.x/CHANGELOG.md\\\\\">axios\\'s changelog</a>.</em></p>\\\\n<blockquote>\\\\n<h2><a href=\\\\\"https://github.com/axios/axios/compare/v1.3.3...v1.3.4\\\\\">1.3.4</a> (2023-02-22)</h2>\\\\n<h3>Bug Fixes</h3>\\\\n<ul>\\\\n<li><strong>blob:</strong> added a check to make sure the Blob class is available in the browser\\'s global scope; (<a href=\\\\\"https://github-redirect.dependabot.com/axios/axios/issues/5548\\\\\">#5548</a>) (<a href=\\\\\"https://github.com/axios/axios/commit/3772c8fe74112a56e3e9551f894d899bc3a9443a\\\\\">3772c8f</a>)</li>\\\\n<li><strong>http:</strong> fixed regression bug when handling synchronous errors inside the adapter; (<a href=\\\\\"https://github-redirect.dependabot.com/axios/axios/issues/5564\\\\\">#5564</a>) (<a href=\\\\\"https://github.com/axios/axios/commit/a3b246c9de5c3bc4b5a742e15add55b375479451\\\\\">a3b246c</a>)</li>\\\\n</ul>\\\\n<h3>Contributors to this release</h3>\\\\n<ul>\\\\n<li><!-- raw HTML omitted --> <a href=\\\\\"https://github.com/DigitalBrainJS\\\\\" title=\\\\\"+38/-26 ([#5564](https://github.com/axios/axios/issues/5564) )\\\\\">Dmitriy Mozgovoy</a></li>\\\\n<li><!-- raw HTML omitted --> <a href=\\\\\"https://github.com/lcysgsg\\\\\" title=\\\\\"+4/-0 ([#5548](https://github.com/axios/axios/issues/5548) )\\\\\">lcysgsg</a></li>\\\\n<li><!-- raw HTML omitted --> <a href=\\\\\"https://github.com/Cadienvan\\\\\" title=\\\\\"+3/-0 ([#5444](https://github.com/axios/axios/issues/5444) )\\\\\">Michael Di Prisco</a></li>\\\\n</ul>\\\\n<h2><a href=\\\\\"https://github.com/axios/axios/compare/v1.3.2...v1.3.3\\\\\">1.3.3</a> (2023-02-13)</h2>\\\\n<h3>Bug Fixes</h3>\\\\n<ul>\\\\n<li><strong>formdata:</strong> added a check to make sure the FormData class is available in the browser\\'s global scope; (<a href=\\\\\"https://github-redirect.dependabot.com/axios/axios/issues/5545\\\\\">#5545</a>) (<a href=\\\\\"https://github.com/axios/axios/commit/a6dfa72010db5ad52db8bd13c0f98e537e8fd05d\\\\\">a6dfa72</a>)</li>\\\\n<li><strong>formdata:</strong> fixed setting NaN as Content-Length for form payload in some cases; (<a href=\\\\\"https://github-redirect.dependabot.com/axios/axios/issues/5535\\\\\">#5535</a>) (<a href=\\\\\"https://github.com/axios/axios/commit/c19f7bf770f90ae8307f4ea3104f227056912da1\\\\\">c19f7bf</a>)</li>\\\\n<li><strong>headers:</strong> fixed the filtering logic of the clear method; (<a href=\\\\\"https://github-redirect.dependabot.com/axios/axios/issues/5542\\\\\">#5542</a>) (<a href=\\\\\"https://github.com/axios/axios/commit/ea87ebfe6d1699af072b9e7cd40faf8f14b0ab93\\\\\">ea87ebf</a>)</li>\\\\n</ul>\\\\n<h3>Contributors to this release</h3>\\\\n<ul>\\\\n<li><!-- raw HTML omitted --> <a href=\\\\\"https://github.com/DigitalBrainJS\\\\\" title=\\\\\"+11/-7 ([#5545](https://github.com/axios/axios/issues/5545) [#5535](https://github.com/axios/axios/issues/5535) [#5542](https://github.com/axios/axios/issues/5542) )\\\\\">Dmitriy Mozgovoy</a></li>\\\\n<li><!-- raw HTML omitted --> <a href=\\\\\"https://github.com/ruofee\\\\\" title=\\\\\"+2/-2 ([#5467](https://github.com/axios/axios/issues/5467) )\\\\\">陈若枫</a></li>\\\\n</ul>\\\\n<h2><a href=\\\\\"https://github.com/axios/axios/compare/v1.3.1...v1.3.2\\\\\">1.3.2</a> (2023-02-03)</h2>\\\\n<h3>Bug Fixes</h3>\\\\n<ul>\\\\n<li><strong>http:</strong> treat <a href=\\\\\"http://localhost\\\\\">http://localhost</a> as base URL for relative paths to avoid <code>ERR_INVALID_URL</code> error; (<a href=\\\\\"https://github-redirect.dependabot.com/axios/axios/issues/5528\\\\\">#5528</a>) (<a href=\\\\\"https://github.com/axios/axios/commit/128d56f4a0fb8f5f2ed6e0dd80bc9225fee9538c\\\\\">128d56f</a>)</li>\\\\n<li><strong>http:</strong> use explicit import instead of TextEncoder global; (<a href=\\\\\"https://github-redirect.dependabot.com/axios/axios/issues/5530\\\\\">#5530</a>) (<a href=\\\\\"https://github.com/axios/axios/commit/6b3c305fc40c56428e0afabedc6f4d29c2830f6f\\\\\">6b3c305</a>)</li>\\\\n</ul>\\\\n<h3>Contributors to this release</h3>\\\\n<ul>\\\\n<li><!-- raw HTML omitted --> <a href=\\\\\"https://github.com/DigitalBrainJS\\\\\" title=\\\\\"+2/-1 ([#5530](https://github.com/axios/axios/issues/5530) [#5528](https://github.com/axios/axios/issues/5528) )\\\\\">Dmitriy Mozgovoy</a></li>\\\\n</ul>\\\\n<h2><a href=\\\\\"https://github.com/axios/axios/compare/v1.3.0...v1.3.1\\\\\">1.3.1</a> (2023-02-01)</h2>\\\\n<h3>Bug Fixes</h3>\\\\n<ul>\\\\n<li><strong>formdata:</strong> add hotfix to use the asynchronous API to compute the content-length header value; (<a href=\\\\\"https://github-redirect.dependabot.com/axios/axios/issues/5521\\\\\">#5521</a>) (<a href=\\\\\"https://github.com/axios/axios/commit/96d336f527619f21da012fe1f117eeb53e5a2120\\\\\">96d336f</a>)</li>\\\\n<li><strong>serializer:</strong> fixed serialization of array-like objects; (<a href=\\\\\"https://github-redirect.dependabot.com/axios/axios/issues/5518\\\\\">#5518</a>) (<a href=\\\\\"https://github.com/axios/axios/commit/08104c028c0f9353897b1b6691d74c440fd0c32d\\\\\">08104c0</a>)</li>\\\\n</ul>\\\\n<h3>Contributors to this release</h3>\\\\n<!-- raw HTML omitted -->\\\\n</blockquote>\\\\n<p>... (truncated)</p>\\\\n</details>\\\\n<details>\\\\n<summary>Commits</summary>\\\\n<ul>\\\\n<li><a href=\\\\\"https://github.com/axios/axios/commit/2e70cecda42993e1153248f0f96715c3c55f7f39\\\\\"><code>2e70cec</code></a> chore(release): v1.3.4 (<a href=\\\\\"https://github-redirect.dependabot.com/axios/axios/issues/5565\\\\\">#5565</a>)</li>\\\\n<li><a href=\\\\\"https://github.com/axios/axios/commit/cbe2de60d3c9f494b4f5996632107d7a3a93abf1\\\\\"><code>cbe2de6</code></a> chore(ci): remove team-reviewers config; (<a href=\\\\\"https://github-redirect.dependabot.com/axios/axios/issues/5566\\\\\">#5566</a>)</li>\\\\n<li><a href=\\\\\"https://github.com/axios/axios/commit/2b1fc73600f28028499aa08c7baff980da10b504\\\\\"><code>2b1fc73</code></a> chore(docs): added missing config.transport doc (<a href=\\\\\"https://github-redirect.dependabot.com/axios/axios/issues/5444\\\\\">#5444</a>)</li>\\\\n<li><a href=\\\\\"https://github.com/axios/axios/commit/3772c8fe74112a56e3e9551f894d899bc3a9443a\\\\\"><code>3772c8f</code></a> fix(blob): added a check to make sure the Blob class is available in the brow...</li>\\\\n<li><a href=\\\\\"https://github.com/axios/axios/commit/a3b246c9de5c3bc4b5a742e15add55b375479451\\\\\"><code>a3b246c</code></a> fix(http): fixed regression bug when handling synchronous errors inside the a...</li>\\\\n<li><a href=\\\\\"https://github.com/axios/axios/commit/d9ebf8fb3ab2e6d277626d72bcf5580e2a6e795b\\\\\"><code>d9ebf8f</code></a> chore(release): v1.3.3 (<a href=\\\\\"https://github-redirect.dependabot.com/axios/axios/issues/5546\\\\\">#5546</a>)</li>\\\\n<li><a href=\\\\\"https://github.com/axios/axios/commit/a43bca033db3dc47e4d1635b7e7af8a6f60b6c6b\\\\\"><code>a43bca0</code></a> chore(example): fix source map urls; (<a href=\\\\\"https://github-redirect.dependabot.com/axios/axios/issues/5467\\\\\">#5467</a>)</li>\\\\n<li><a href=\\\\\"https://github.com/axios/axios/commit/a6dfa72010db5ad52db8bd13c0f98e537e8fd05d\\\\\"><code>a6dfa72</code></a> fix(formdata): added a check to make sure the FormData class is available in ...</li>\\\\n<li><a href=\\\\\"https://github.com/axios/axios/commit/c19f7bf770f90ae8307f4ea3104f227056912da1\\\\\"><code>c19f7bf</code></a> fix(formdata): fixed setting NaN as Content-Length for form payload in some c...</li>\\\\n<li><a href=\\\\\"https://github.com/axios/axios/commit/ea87ebfe6d1699af072b9e7cd40faf8f14b0ab93\\\\\"><code>ea87ebf</code></a> fix(headers): fixed the filtering logic of the clear method; (<a href=\\\\\"https://github-redirect.dependabot.com/axios/axios/issues/5542\\\\\">#5542</a>)</li>\\\\n<li>Additional commits viewable in <a href=\\\\\"https://github.com/axios/axios/compare/v0.27.2...v1.3.4\\\\\">compare view</a></li>\\\\n</ul>\\\\n</details>\\\\n<br />\\\\n\\\\n\\\\n[![Dependabot compatibility score](https://dependabot-badges.githubapp.com/badges/compatibility_score?dependency-name=axios&package-manager=npm_and_yarn&previous-version=0.27.2&new-version=1.3.4)](https://docs.github.com/en/github/managing-security-vulnerabilities/about-dependabot-security-updates#about-compatibility-scores)\\\\n\\\\nDependabot will resolve any conflicts with this PR as long as you don\\'t alter it yourself. You can also trigger a rebase manually by commenting `@dependabot rebase`.\\\\n\\\\n[//]: # (dependabot-automerge-start)\\\\n[//]: # (dependabot-automerge-end)\\\\n\\\\n---\\\\n\\\\n<details>\\\\n<summary>Dependabot commands and options</summary>\\\\n<br />\\\\n\\\\nYou can trigger Dependabot actions by commenting on this PR:\\\\n- `@dependabot rebase` will rebase this PR\\\\n- `@dependabot recreate` will recreate this PR, overwriting any edits that have been made to it\\\\n- `@dependabot merge` will merge this PR after your CI passes on it\\\\n- `@dependabot squash and merge` will squash and merge this PR after your CI passes on it\\\\n- `@dependabot cancel merge` will cancel a previously requested merge and block automerging\\\\n- `@dependabot reopen` will reopen this PR if it is closed\\\\n- `@dependabot close` will close this PR and stop Dependabot recreating it. You can achieve the same result by closing it manually\\\\n- `@dependabot ignore this major version` will close this PR and stop Dependabot creating any more for this major version (unless you reopen the PR or upgrade to it yourself)\\\\n- `@dependabot ignore this minor version` will close this PR and stop Dependabot creating any more for this minor version (unless you reopen the PR or upgrade to it yourself)\\\\n- `@dependabot ignore this dependency` will close this PR and stop Dependabot creating any more for this dependency (unless you reopen the PR or upgrade to it yourself)\\\\n\\\\n\\\\n</details>\",\"reactions\":{\"url\":\"https://api.github.com/repos/skyYaga/skdvin-webapp/issues/1381/reactions\",\"total_count\":0,\"+1\":0,\"-1\":0,\"laugh\":0,\"hooray\":0,\"confused\":0,\"heart\":0,\"rocket\":0,\"eyes\":0},\"timeline_url\":\"https://api.github.com/repos/skyYaga/skdvin-webapp/issues/1381/timeline\",\"performed_via_github_app\":null,\"state_reason\":null},\"comment\":{\"url\":\"https://api.github.com/repos/skyYaga/skdvin-webapp/issues/comments/1496429391\",\"html_url\":\"https://github.com/skyYaga/skdvin-webapp/pull/1381#issuecomment-1496429391\",\"issue_url\":\"https://api.github.com/repos/skyYaga/skdvin-webapp/issues/1381\",\"id\":1496429391,\"node_id\":\"IC_kwDODMqqjc5ZMbNP\",\"user\":{\"login\":\"sonarcloud[bot]\",\"id\":39514782,\"node_id\":\"MDM6Qm90Mzk1MTQ3ODI=\",\"avatar_url\":\"https://avatars.githubusercontent.com/in/12526?v=4\",\"gravatar_id\":\"\",\"url\":\"https://api.github.com/users/sonarcloud%5Bbot%5D\",\"html_url\":\"https://github.com/apps/sonarcloud\",\"followers_url\":\"https://api.github.com/users/sonarcloud%5Bbot%5D/followers\",\"following_url\":\"https://api.github.com/users/sonarcloud%5Bbot%5D/following{/other_user}\",\"gists_url\":\"https://api.github.com/users/sonarcloud%5Bbot%5D/gists{/gist_id}\",\"starred_url\":\"https://api.github.com/users/sonarcloud%5Bbot%5D/starred{/owner}{/repo}\",\"subscriptions_url\":\"https://api.github.com/users/sonarcloud%5Bbot%5D/subscriptions\",\"organizations_url\":\"https://api.github.com/users/sonarcloud%5Bbot%5D/orgs\",\"repos_url\":\"https://api.github.com/users/sonarcloud%5Bbot%5D/repos\",\"events_url\":\"https://api.github.com/users/sonarcloud%5Bbot%5D/events{/privacy}\",\"received_events_url\":\"https://api.github.com/users/sonarcloud%5Bbot%5D/received_events\",\"type\":\"Bot\",\"site_admin\":false},\"created_at\":\"2023-04-04T18:38:30Z\",\"updated_at\":\"2023-04-04T18:38:30Z\",\"author_association\":\"NONE\",\"body\":\"Kudos, SonarCloud Quality Gate passed!&nbsp; &nbsp; [![Quality Gate passed](https://sonarsource.github.io/sonarcloud-github-static-resources/v2/checks/QualityGateBadge/passed-16px.png \\'Quality Gate passed\\')](https://sonarcloud.io/dashboard?id=skyYaga_skdvin-webapp&pullRequest=1381)\\\\n\\\\n[![Bug](https://sonarsource.github.io/sonarcloud-github-static-resources/v2/common/bug-16px.png \\'Bug\\')](https://sonarcloud.io/project/issues?id=skyYaga_skdvin-webapp&pullRequest=1381&resolved=false&types=BUG) [![A](https://sonarsource.github.io/sonarcloud-github-static-resources/v2/checks/RatingBadge/A-16px.png \\'A\\')](https://sonarcloud.io/project/issues?id=skyYaga_skdvin-webapp&pullRequest=1381&resolved=false&types=BUG) [0 Bugs](https://sonarcloud.io/project/issues?id=skyYaga_skdvin-webapp&pullRequest=1381&resolved=false&types=BUG)  \\\\n[![Vulnerability](https://sonarsource.github.io/sonarcloud-github-static-resources/v2/common/vulnerability-16px.png \\'Vulnerability\\')](https://sonarcloud.io/project/issues?id=skyYaga_skdvin-webapp&pullRequest=1381&resolved=false&types=VULNERABILITY) [![A](https://sonarsource.github.io/sonarcloud-github-static-resources/v2/checks/RatingBadge/A-16px.png \\'A\\')](https://sonarcloud.io/project/issues?id=skyYaga_skdvin-webapp&pullRequest=1381&resolved=false&types=VULNERABILITY) [0 Vulnerabilities](https://sonarcloud.io/project/issues?id=skyYaga_skdvin-webapp&pullRequest=1381&resolved=false&types=VULNERABILITY)  \\\\n[![Security Hotspot](https://sonarsource.github.io/sonarcloud-github-static-resources/v2/common/security_hotspot-16px.png \\'Security Hotspot\\')](https://sonarcloud.io/project/security_hotspots?id=skyYaga_skdvin-webapp&pullRequest=1381&resolved=false&types=SECURITY_HOTSPOT) [![A](https://sonarsource.github.io/sonarcloud-github-static-resources/v2/checks/RatingBadge/A-16px.png \\'A\\')](https://sonarcloud.io/project/security_hotspots?id=skyYaga_skdvin-webapp&pullRequest=1381&resolved=false&types=SECURITY_HOTSPOT) [0 Security Hotspots](https://sonarcloud.io/project/security_hotspots?id=skyYaga_skdvin-webapp&pullRequest=1381&resolved=false&types=SECURITY_HOTSPOT)  \\\\n[![Code Smell](https://sonarsource.github.io/sonarcloud-github-static-resources/v2/common/code_smell-16px.png \\'Code Smell\\')](https://sonarcloud.io/project/issues?id=skyYaga_skdvin-webapp&pullRequest=1381&resolved=false&types=CODE_SMELL) [![A](https://sonarsource.github.io/sonarcloud-github-static-resources/v2/checks/RatingBadge/A-16px.png \\'A\\')](https://sonarcloud.io/project/issues?id=skyYaga_skdvin-webapp&pullRequest=1381&resolved=false&types=CODE_SMELL) [0 Code Smells](https://sonarcloud.io/project/issues?id=skyYaga_skdvin-webapp&pullRequest=1381&resolved=false&types=CODE_SMELL)\\\\n\\\\n[![No Coverage information](https://sonarsource.github.io/sonarcloud-github-static-resources/v2/checks/CoverageChart/NoCoverageInfo-16px.png \\'No Coverage information\\')](https://sonarcloud.io/component_measures?id=skyYaga_skdvin-webapp&pullRequest=1381) No Coverage information  \\\\n[![0.0%](https://sonarsource.github.io/sonarcloud-github-static-resources/v2/checks/Duplications/3-16px.png \\'0.0%\\')](https://sonarcloud.io/component_measures?id=skyYaga_skdvin-webapp&pullRequest=1381&metric=new_duplicated_lines_density&view=list) [0.0% Duplication](https://sonarcloud.io/component_measures?id=skyYaga_skdvin-webapp&pullRequest=1381&metric=new_duplicated_lines_density&view=list)\\\\n\\\\n\",\"reactions\":{\"url\":\"https://api.github.com/repos/skyYaga/skdvin-webapp/issues/comments/1496429391/reactions\",\"total_count\":0,\"+1\":0,\"-1\":0,\"laugh\":0,\"hooray\":0,\"confused\":0,\"heart\":0,\"rocket\":0,\"eyes\":0},\"performed_via_github_app\":null}},\"public\":true,\"created_at\":\"2023-04-04T18:38:31Z\"},{\"id\":\"28202679760\",\"type\":\"CreateEvent\",\"actor\":{\"id\":40831708,\"login\":\"ahmedamsoliman-1\",\"display_login\":\"ahmedamsoliman-1\",\"gravatar_id\":\"\",\"url\":\"https://api.github.com/users/ahmedamsoliman-1\",\"avatar_url\":\"https://avatars.githubusercontent.com/u/40831708?\"},\"repo\":{\"id\":416240677,\"name\":\"ahmedamsoliman-1/ahmedamsoliman-1\",\"url\":\"https://api.github.com/repos/ahmedamsoliman-1/ahmedamsoliman-1\"},\"payload\":{\"ref\":\"porfile\",\"ref_type\":\"branch\",\"master_branch\":\"main\",\"description\":null,\"pusher_type\":\"user\"},\"public\":true,\"created_at\":\"2023-04-04T18:38:31Z\"},{\"id\":\"28202679678\",\"type\":\"PullRequestReviewEvent\",\"actor\":{\"id\":34867698,\"login\":\"DM1122\",\"display_login\":\"DM1122\",\"gravatar_id\":\"\",\"url\":\"https://api.github.com/users/DM1122\",\"avatar_url\":\"https://avatars.githubusercontent.com/u/34867698?\"},\"repo\":{\"id\":576357110,\"name\":\"utat-ss/tree-visualizer\",\"url\":\"https://api.github.com/repos/utat-ss/tree-visualizer\"},\"payload\":{\"action\":\"created\",\"review\":{\"id\":1371569301,\"node_id\":\"PRR_kwDOIlqC9s5RwHyV\",\"user\":{\"login\":\"DM1122\",\"id\":34867698,\"node_id\":\"MDQ6VXNlcjM0ODY3Njk4\",\"avatar_url\":\"https://avatars.githubusercontent.com/u/34867698?v=4\",\"gravatar_id\":\"\",\"url\":\"https://api.github.com/users/DM1122\",\"html_url\":\"https://github.com/DM1122\",\"followers_url\":\"https://api.github.com/users/DM1122/followers\",\"following_url\":\"https://api.github.com/users/DM1122/following{/other_user}\",\"gists_url\":\"https://api.github.com/users/DM1122/gists{/gist_id}\",\"starred_url\":\"https://api.github.com/users/DM1122/starred{/owner}{/repo}\",\"subscriptions_url\":\"https://api.github.com/users/DM1122/subscriptions\",\"organizations_url\":\"https://api.github.com/users/DM1122/orgs\",\"repos_url\":\"https://api.github.com/users/DM1122/repos\",\"events_url\":\"https://api.github.com/users/DM1122/events{/privacy}\",\"received_events_url\":\"https://api.github.com/users/DM1122/received_events\",\"type\":\"User\",\"site_admin\":false},\"body\":null,\"commit_id\":\"38f29973cd1b31f193512b8485d515b17d696b2d\",\"submitted_at\":\"2023-04-04T18:38:30Z\",\"state\":\"commented\",\"html_url\":\"https://github.com/utat-ss/tree-visualizer/pull/9#pullrequestreview-1371569301\",\"pull_request_url\":\"https://api.github.com/repos/utat-ss/tree-visualizer/pulls/9\",\"author_association\":\"CONTRIBUTOR\",\"_links\":{\"html\":{\"href\":\"https://github.com/utat-ss/tree-visualizer/pull/9#pullrequestreview-1371569301\"},\"pull_request\":{\"href\":\"https://api.github.com/repos/utat-ss/tree-visualizer/pulls/9\"}}},\"pull_request\":{\"url\":\"https://api.github.com/repos/utat-ss/tree-visualizer/pulls/9\",\"id\":1299304030,\"node_id\":\"PR_kwDOIlqC9s5Ncc5e\",\"html_url\":\"https://github.com/utat-ss/tree-visualizer/pull/9\",\"diff_url\":\"https://github.com/utat-ss/tree-visualizer/pull/9.diff\",\"patch_url\":\"https://github.com/utat-ss/tree-visualizer/pull/9.patch\",\"issue_url\":\"https://api.github.com/repos/utat-ss/tree-visualizer/issues/9\",\"number\":9,\"state\":\"open\",\"locked\":false,\"title\":\"New backend API\",\"user\":{\"login\":\"jdtech3\",\"id\":8998191,\"node_id\":\"MDQ6VXNlcjg5OTgxOTE=\",\"avatar_url\":\"https://avatars.githubusercontent.com/u/8998191?v=4\",\"gravatar_id\":\"\",\"url\":\"https://api.github.com/users/jdtech3\",\"html_url\":\"https://github.com/jdtech3\",\"followers_url\":\"https://api.github.com/users/jdtech3/followers\",\"following_url\":\"https://api.github.com/users/jdtech3/following{/other_user}\",\"gists_url\":\"https://api.github.com/users/jdtech3/gists{/gist_id}\",\"starred_url\":\"https://api.github.com/users/jdtech3/starred{/owner}{/repo}\",\"subscriptions_url\":\"https://api.github.com/users/jdtech3/subscriptions\",\"organizations_url\":\"https://api.github.com/users/jdtech3/orgs\",\"repos_url\":\"https://api.github.com/users/jdtech3/repos\",\"events_url\":\"https://api.github.com/users/jdtech3/events{/privacy}\",\"received_events_url\":\"https://api.github.com/users/jdtech3/received_events\",\"type\":\"User\",\"site_admin\":false},\"body\":\"Resolves #6 with new backend API of form:\\\\r\\\\n\\\\r\\\\n```json\\\\r\\\\n {\\\\r\\\\n  \\\\\"ff5892a7-b5c9-4a25-97bd-663b2cff5bd7\\\\\": {\\\\r\\\\n    \\\\\"created-by\\\\\": \\\\\"khang nguyen\\\\\",\\\\r\\\\n    \\\\\"parent-id\\\\\": \\\\\"b7985ca8-94f4-4a30-ae61-8af2126019bd\\\\\",\\\\r\\\\n    \\\\\"last-edited\\\\\": \\\\\"2023-02-20T17:51:00.000Z\\\\\",\\\\r\\\\n    \\\\\"qualifier\\\\\": \\\\\"SHALL\\\\\",\\\\r\\\\n    \\\\\"collection\\\\\": [\\\\r\\\\n      \\\\\"Volume Allocation & Placement\\\\\"\\\\r\\\\n    ],\\\\r\\\\n    \\\\\"verification-plan\\\\\": [\\\\r\\\\n      \\\\\"TVAC Testing Plan\\\\\"\\\\r\\\\n    ],\\\\r\\\\n    \\\\\"system\\\\\": \\\\\"Tree Visualizer\\\\\",\\\\r\\\\n    \\\\\"rationale\\\\\": \\\\\"To allow UTAT Space Systems members to graphically view the relationships between entries\\\\\",\\\\r\\\\n    \\\\\"trades\\\\\": [\\\\r\\\\n      \\\\\"Spacecraft Bus Stack Order Selection\\\\\"\\\\r\\\\n    ],\\\\r\\\\n    \\\\\"last-edited-by\\\\\": \\\\\"David\\\\\",\\\\r\\\\n    \\\\\"stakeholder\\\\\": [\\\\r\\\\n      \\\\\"Mechanical\\\\\",\\\\r\\\\n      \\\\\"Power\\\\\",\\\\r\\\\n      \\\\\"Thermal\\\\\"\\\\r\\\\n    ],\\\\r\\\\n    \\\\\"mission\\\\\": \\\\\"FINCH\\\\\",\\\\r\\\\n    \\\\\"description\\\\\": \\\\\"ADCS shall consistently know FINCH’s location relative to the SUN and Earth Position\\\\\",\\\\r\\\\n    \\\\\"title\\\\\": \\\\\"FINCH-ADCS-AttitudeDetermination\\\\\",\\\\r\\\\n    \\\\\"url\\\\\": \\\\\"https://www.notion.so/FINCH-Power-Batteries-74331bc1129c417c850a0a5ca0deb759\\\\\"\\\\r\\\\n  },\\\\r\\\\n\\\\r\\\\n[...]\\\\r\\\\n\\\\r\\\\n}\\\\r\\\\n```\\\\r\\\\n\\\\r\\\\n_Note: this is slightly different from description in #6 due to Requirements DB changes._\",\"created_at\":\"2023-04-03T01:57:50Z\",\"updated_at\":\"2023-04-04T18:38:30Z\",\"closed_at\":null,\"merged_at\":null,\"merge_commit_sha\":\"cd425f0cd121c82acda970b703cbe6d22d39fead\",\"assignee\":{\"login\":\"jdtech3\",\"id\":8998191,\"node_id\":\"MDQ6VXNlcjg5OTgxOTE=\",\"avatar_url\":\"https://avatars.githubusercontent.com/u/8998191?v=4\",\"gravatar_id\":\"\",\"url\":\"https://api.github.com/users/jdtech3\",\"html_url\":\"https://github.com/jdtech3\",\"followers_url\":\"https://api.github.com/users/jdtech3/followers\",\"following_url\":\"https://api.github.com/users/jdtech3/following{/other_user}\",\"gists_url\":\"https://api.github.com/users/jdtech3/gists{/gist_id}\",\"starred_url\":\"https://api.github.com/users/jdtech3/starred{/owner}{/repo}\",\"subscriptions_url\":\"https://api.github.com/users/jdtech3/subscriptions\",\"organizations_url\":\"https://api.github.com/users/jdtech3/orgs\",\"repos_url\":\"https://api.github.com/users/jdtech3/repos\",\"events_url\":\"https://api.github.com/users/jdtech3/events{/privacy}\",\"received_events_url\":\"https://api.github.com/users/jdtech3/received_events\",\"type\":\"User\",\"site_admin\":false},\"assignees\":[{\"login\":\"jdtech3\",\"id\":8998191,\"node_id\":\"MDQ6VXNlcjg5OTgxOTE=\",\"avatar_url\":\"https://avatars.githubusercontent.com/u/8998191?v=4\",\"gravatar_id\":\"\",\"url\":\"https://api.github.com/users/jdtech3\",\"html_url\":\"https://github.com/jdtech3\",\"followers_url\":\"https://api.github.com/users/jdtech3/followers\",\"following_url\":\"https://api.github.com/users/jdtech3/following{/other_user}\",\"gists_url\":\"https://api.github.com/users/jdtech3/gists{/gist_id}\",\"starred_url\":\"https://api.github.com/users/jdtech3/starred{/owner}{/repo}\",\"subscriptions_url\":\"https://api.github.com/users/jdtech3/subscriptions\",\"organizations_url\":\"https://api.github.com/users/jdtech3/orgs\",\"repos_url\":\"https://api.github.com/users/jdtech3/repos\",\"events_url\":\"https://api.github.com/users/jdtech3/events{/privacy}\",\"received_events_url\":\"https://api.github.com/users/jdtech3/received_events\",\"type\":\"User\",\"site_admin\":false}],\"requested_reviewers\":[{\"login\":\"stephanieyflu\",\"id\":84485762,\"node_id\":\"MDQ6VXNlcjg0NDg1NzYy\",\"avatar_url\":\"https://avatars.githubusercontent.com/u/84485762?v=4\",\"gravatar_id\":\"\",\"url\":\"https://api.github.com/users/stephanieyflu\",\"html_url\":\"https://github.com/stephanieyflu\",\"followers_url\":\"https://api.github.com/users/stephanieyflu/followers\",\"following_url\":\"https://api.github.com/users/stephanieyflu/following{/other_user}\",\"gists_url\":\"https://api.github.com/users/stephanieyflu/gists{/gist_id}\",\"starred_url\":\"https://api.github.com/users/stephanieyflu/starred{/owner}{/repo}\",\"subscriptions_url\":\"https://api.github.com/users/stephanieyflu/subscriptions\",\"organizations_url\":\"https://api.github.com/users/stephanieyflu/orgs\",\"repos_url\":\"https://api.github.com/users/stephanieyflu/repos\",\"events_url\":\"https://api.github.com/users/stephanieyflu/events{/privacy}\",\"received_events_url\":\"https://api.github.com/users/stephanieyflu/received_events\",\"type\":\"User\",\"site_admin\":false}],\"requested_teams\":[],\"labels\":[{\"id\":4892941108,\"node_id\":\"LA_kwDOIlqC9s8AAAABI6RbNA\",\"url\":\"https://api.github.com/repos/utat-ss/tree-visualizer/labels/enhancement\",\"name\":\"enhancement\",\"color\":\"a2eeef\",\"default\":true,\"description\":\"New feature or request\"}],\"milestone\":{\"url\":\"https://api.github.com/repos/utat-ss/tree-visualizer/milestones/1\",\"html_url\":\"https://github.com/utat-ss/tree-visualizer/milestone/1\",\"labels_url\":\"https://api.github.com/repos/utat-ss/tree-visualizer/milestones/1/labels\",\"id\":8945745,\"node_id\":\"MI_kwDOIlqC9s4AiIBR\",\"number\":1,\"title\":\"MVP (Build V1)\",\"description\":\"Requirements for Build V1 are:\\\\r\\\\n\\\\r\\\\nUTAT-TreeVisualizer-VisualizeDatabase\\\\r\\\\nUTAT-TreeVisualizer-SynchronousTeamwork\\\\r\\\\nUTAT-TreeVisualizer-NodePropertyVisualizationSelection\\\\r\\\\nUTAT-TreeVisualizer-VPNAccess\\\\r\\\\nUTAT-TreeVisualizer-FilterNodes\",\"creator\":{\"login\":\"jdtech3\",\"id\":8998191,\"node_id\":\"MDQ6VXNlcjg5OTgxOTE=\",\"avatar_url\":\"https://avatars.githubusercontent.com/u/8998191?v=4\",\"gravatar_id\":\"\",\"url\":\"https://api.github.com/users/jdtech3\",\"html_url\":\"https://github.com/jdtech3\",\"followers_url\":\"https://api.github.com/users/jdtech3/followers\",\"following_url\":\"https://api.github.com/users/jdtech3/following{/other_user}\",\"gists_url\":\"https://api.github.com/users/jdtech3/gists{/gist_id}\",\"starred_url\":\"https://api.github.com/users/jdtech3/starred{/owner}{/repo}\",\"subscriptions_url\":\"https://api.github.com/users/jdtech3/subscriptions\",\"organizations_url\":\"https://api.github.com/users/jdtech3/orgs\",\"repos_url\":\"https://api.github.com/users/jdtech3/repos\",\"events_url\":\"https://api.github.com/users/jdtech3/events{/privacy}\",\"received_events_url\":\"https://api.github.com/users/jdtech3/received_events\",\"type\":\"User\",\"site_admin\":false},\"open_issues\":4,\"closed_issues\":5,\"state\":\"open\",\"created_at\":\"2023-01-19T23:08:57Z\",\"updated_at\":\"2023-04-03T01:59:01Z\",\"due_on\":null,\"closed_at\":null},\"draft\":false,\"commits_url\":\"https://api.github.com/repos/utat-ss/tree-visualizer/pulls/9/commits\",\"review_comments_url\":\"https://api.github.com/repos/utat-ss/tree-visualizer/pulls/9/comments\",\"review_comment_url\":\"https://api.github.com/repos/utat-ss/tree-visualizer/pulls/comments{/number}\",\"comments_url\":\"https://api.github.com/repos/utat-ss/tree-visualizer/issues/9/comments\",\"statuses_url\":\"https://api.github.com/repos/utat-ss/tree-visualizer/statuses/b412c546913fc79ab4e5fac8c2b0d31a0e3f55af\",\"head\":{\"label\":\"utat-ss:new_api\",\"ref\":\"new_api\",\"sha\":\"b412c546913fc79ab4e5fac8c2b0d31a0e3f55af\",\"user\":{\"login\":\"utat-ss\",\"id\":63824882,\"node_id\":\"MDEyOk9yZ2FuaXphdGlvbjYzODI0ODgy\",\"avatar_url\":\"https://avatars.githubusercontent.com/u/63824882?v=4\",\"gravatar_id\":\"\",\"url\":\"https://api.github.com/users/utat-ss\",\"html_url\":\"https://github.com/utat-ss\",\"followers_url\":\"https://api.github.com/users/utat-ss/followers\",\"following_url\":\"https://api.github.com/users/utat-ss/following{/other_user}\",\"gists_url\":\"https://api.github.com/users/utat-ss/gists{/gist_id}\",\"starred_url\":\"https://api.github.com/users/utat-ss/starred{/owner}{/repo}\",\"subscriptions_url\":\"https://api.github.com/users/utat-ss/subscriptions\",\"organizations_url\":\"https://api.github.com/users/utat-ss/orgs\",\"repos_url\":\"https://api.github.com/users/utat-ss/repos\",\"events_url\":\"https://api.github.com/users/utat-ss/events{/privacy}\",\"received_events_url\":\"https://api.github.com/users/utat-ss/received_events\",\"type\":\"Organization\",\"site_admin\":false},\"repo\":{\"id\":576357110,\"node_id\":\"R_kgDOIlqC9g\",\"name\":\"tree-visualizer\",\"full_name\":\"utat-ss/tree-visualizer\",\"private\":false,\"owner\":{\"login\":\"utat-ss\",\"id\":63824882,\"node_id\":\"MDEyOk9yZ2FuaXphdGlvbjYzODI0ODgy\",\"avatar_url\":\"https://avatars.githubusercontent.com/u/63824882?v=4\",\"gravatar_id\":\"\",\"url\":\"https://api.github.com/users/utat-ss\",\"html_url\":\"https://github.com/utat-ss\",\"followers_url\":\"https://api.github.com/users/utat-ss/followers\",\"following_url\":\"https://api.github.com/users/utat-ss/following{/other_user}\",\"gists_url\":\"https://api.github.com/users/utat-ss/gists{/gist_id}\",\"starred_url\":\"https://api.github.com/users/utat-ss/starred{/owner}{/repo}\",\"subscriptions_url\":\"https://api.github.com/users/utat-ss/subscriptions\",\"organizations_url\":\"https://api.github.com/users/utat-ss/orgs\",\"repos_url\":\"https://api.github.com/users/utat-ss/repos\",\"events_url\":\"https://api.github.com/users/utat-ss/events{/privacy}\",\"received_events_url\":\"https://api.github.com/users/utat-ss/received_events\",\"type\":\"Organization\",\"site_admin\":false},\"html_url\":\"https://github.com/utat-ss/tree-visualizer\",\"description\":\"A tree-like Notion database visualizer\",\"fork\":false,\"url\":\"https://api.github.com/repos/utat-ss/tree-visualizer\",\"forks_url\":\"https://api.github.com/repos/utat-ss/tree-visualizer/forks\",\"keys_url\":\"https://api.github.com/repos/utat-ss/tree-visualizer/keys{/key_id}\",\"collaborators_url\":\"https://api.github.com/repos/utat-ss/tree-visualizer/collaborators{/collaborator}\",\"teams_url\":\"https://api.github.com/repos/utat-ss/tree-visualizer/teams\",\"hooks_url\":\"https://api.github.com/repos/utat-ss/tree-visualizer/hooks\",\"issue_events_url\":\"https://api.github.com/repos/utat-ss/tree-visualizer/issues/events{/number}\",\"events_url\":\"https://api.github.com/repos/utat-ss/tree-visualizer/events\",\"assignees_url\":\"https://api.github.com/repos/utat-ss/tree-visualizer/assignees{/user}\",\"branches_url\":\"https://api.github.com/repos/utat-ss/tree-visualizer/branches{/branch}\",\"tags_url\":\"https://api.github.com/repos/utat-ss/tree-visualizer/tags\",\"blobs_url\":\"https://api.github.com/repos/utat-ss/tree-visualizer/git/blobs{/sha}\",\"git_tags_url\":\"https://api.github.com/repos/utat-ss/tree-visualizer/git/tags{/sha}\",\"git_refs_url\":\"https://api.github.com/repos/utat-ss/tree-visualizer/git/refs{/sha}\",\"trees_url\":\"https://api.github.com/repos/utat-ss/tree-visualizer/git/trees{/sha}\",\"statuses_url\":\"https://api.github.com/repos/utat-ss/tree-visualizer/statuses/{sha}\",\"languages_url\":\"https://api.github.com/repos/utat-ss/tree-visualizer/languages\",\"stargazers_url\":\"https://api.github.com/repos/utat-ss/tree-visualizer/stargazers\",\"contributors_url\":\"https://api.github.com/repos/utat-ss/tree-visualizer/contributors\",\"subscribers_url\":\"https://api.github.com/repos/utat-ss/tree-visualizer/subscribers\",\"subscription_url\":\"https://api.github.com/repos/utat-ss/tree-visualizer/subscription\",\"commits_url\":\"https://api.github.com/repos/utat-ss/tree-visualizer/commits{/sha}\",\"git_commits_url\":\"https://api.github.com/repos/utat-ss/tree-visualizer/git/commits{/sha}\",\"comments_url\":\"https://api.github.com/repos/utat-ss/tree-visualizer/comments{/number}\",\"issue_comment_url\":\"https://api.github.com/repos/utat-ss/tree-visualizer/issues/comments{/number}\",\"contents_url\":\"https://api.github.com/repos/utat-ss/tree-visualizer/contents/{+path}\",\"compare_url\":\"https://api.github.com/repos/utat-ss/tree-visualizer/compare/{base}...{head}\",\"merges_url\":\"https://api.github.com/repos/utat-ss/tree-visualizer/merges\",\"archive_url\":\"https://api.github.com/repos/utat-ss/tree-visualizer/{archive_format}{/ref}\",\"downloads_url\":\"https://api.github.com/repos/utat-ss/tree-visualizer/downloads\",\"issues_url\":\"https://api.github.com/repos/utat-ss/tree-visualizer/issues{/number}\",\"pulls_url\":\"https://api.github.com/repos/utat-ss/tree-visualizer/pulls{/number}\",\"milestones_url\":\"https://api.github.com/repos/utat-ss/tree-visualizer/milestones{/number}\",\"notifications_url\":\"https://api.github.com/repos/utat-ss/tree-visualizer/notifications{?since,all,participating}\",\"labels_url\":\"https://api.github.com/repos/utat-ss/tree-visualizer/labels{/name}\",\"releases_url\":\"https://api.github.com/repos/utat-ss/tree-visualizer/releases{/id}\",\"deployments_url\":\"https://api.github.com/repos/utat-ss/tree-visualizer/deployments\",\"created_at\":\"2022-12-09T16:36:10Z\",\"updated_at\":\"2022-12-09T17:16:36Z\",\"pushed_at\":\"2023-04-04T18:13:26Z\",\"git_url\":\"git://github.com/utat-ss/tree-visualizer.git\",\"ssh_url\":\"git@github.com:utat-ss/tree-visualizer.git\",\"clone_url\":\"https://github.com/utat-ss/tree-visualizer.git\",\"svn_url\":\"https://github.com/utat-ss/tree-visualizer\",\"homepage\":null,\"size\":2294,\"stargazers_count\":0,\"watchers_count\":0,\"language\":\"HTML\",\"has_issues\":true,\"has_projects\":true,\"has_downloads\":true,\"has_wiki\":true,\"has_pages\":false,\"has_discussions\":false,\"forks_count\":0,\"mirror_url\":null,\"archived\":false,\"disabled\":false,\"open_issues_count\":4,\"license\":{\"key\":\"unlicense\",\"name\":\"The Unlicense\",\"spdx_id\":\"Unlicense\",\"url\":\"https://api.github.com/licenses/unlicense\",\"node_id\":\"MDc6TGljZW5zZTE1\"},\"allow_forking\":true,\"is_template\":false,\"web_commit_signoff_required\":false,\"topics\":[],\"visibility\":\"public\",\"forks\":0,\"open_issues\":4,\"watchers\":0,\"default_branch\":\"main\"}},\"base\":{\"label\":\"utat-ss:dev\",\"ref\":\"dev\",\"sha\":\"27545a61469ed0588c2deca312c1a6cd3f61aa9a\",\"user\":{\"login\":\"utat-ss\",\"id\":63824882,\"node_id\":\"MDEyOk9yZ2FuaXphdGlvbjYzODI0ODgy\",\"avatar_url\":\"https://avatars.githubusercontent.com/u/63824882?v=4\",\"gravatar_id\":\"\",\"url\":\"https://api.github.com/users/utat-ss\",\"html_url\":\"https://github.com/utat-ss\",\"followers_url\":\"https://api.github.com/users/utat-ss/followers\",\"following_url\":\"https://api.github.com/users/utat-ss/following{/other_user}\",\"gists_url\":\"https://api.github.com/users/utat-ss/gists{/gist_id}\",\"starred_url\":\"https://api.github.com/users/utat-ss/starred{/owner}{/repo}\",\"subscriptions_url\":\"https://api.github.com/users/utat-ss/subscriptions\",\"organizations_url\":\"https://api.github.com/users/utat-ss/orgs\",\"repos_url\":\"https://api.github.com/users/utat-ss/repos\",\"events_url\":\"https://api.github.com/users/utat-ss/events{/privacy}\",\"received_events_url\":\"https://api.github.com/users/utat-ss/received_events\",\"type\":\"Organization\",\"site_admin\":false},\"repo\":{\"id\":576357110,\"node_id\":\"R_kgDOIlqC9g\",\"name\":\"tree-visualizer\",\"full_name\":\"utat-ss/tree-visualizer\",\"private\":false,\"owner\":{\"login\":\"utat-ss\",\"id\":63824882,\"node_id\":\"MDEyOk9yZ2FuaXphdGlvbjYzODI0ODgy\",\"avatar_url\":\"https://avatars.githubusercontent.com/u/63824882?v=4\",\"gravatar_id\":\"\",\"url\":\"https://api.github.com/users/utat-ss\",\"html_url\":\"https://github.com/utat-ss\",\"followers_url\":\"https://api.github.com/users/utat-ss/followers\",\"following_url\":\"https://api.github.com/users/utat-ss/following{/other_user}\",\"gists_url\":\"https://api.github.com/users/utat-ss/gists{/gist_id}\",\"starred_url\":\"https://api.github.com/users/utat-ss/starred{/owner}{/repo}\",\"subscriptions_url\":\"https://api.github.com/users/utat-ss/subscriptions\",\"organizations_url\":\"https://api.github.com/users/utat-ss/orgs\",\"repos_url\":\"https://api.github.com/users/utat-ss/repos\",\"events_url\":\"https://api.github.com/users/utat-ss/events{/privacy}\",\"received_events_url\":\"https://api.github.com/users/utat-ss/received_events\",\"type\":\"Organization\",\"site_admin\":false},\"html_url\":\"https://github.com/utat-ss/tree-visualizer\",\"description\":\"A tree-like Notion database visualizer\",\"fork\":false,\"url\":\"https://api.github.com/repos/utat-ss/tree-visualizer\",\"forks_url\":\"https://api.github.com/repos/utat-ss/tree-visualizer/forks\",\"keys_url\":\"https://api.github.com/repos/utat-ss/tree-visualizer/keys{/key_id}\",\"collaborators_url\":\"https://api.github.com/repos/utat-ss/tree-visualizer/collaborators{/collaborator}\",\"teams_url\":\"https://api.github.com/repos/utat-ss/tree-visualizer/teams\",\"hooks_url\":\"https://api.github.com/repos/utat-ss/tree-visualizer/hooks\",\"issue_events_url\":\"https://api.github.com/repos/utat-ss/tree-visualizer/issues/events{/number}\",\"events_url\":\"https://api.github.com/repos/utat-ss/tree-visualizer/events\",\"assignees_url\":\"https://api.github.com/repos/utat-ss/tree-visualizer/assignees{/user}\",\"branches_url\":\"https://api.github.com/repos/utat-ss/tree-visualizer/branches{/branch}\",\"tags_url\":\"https://api.github.com/repos/utat-ss/tree-visualizer/tags\",\"blobs_url\":\"https://api.github.com/repos/utat-ss/tree-visualizer/git/blobs{/sha}\",\"git_tags_url\":\"https://api.github.com/repos/utat-ss/tree-visualizer/git/tags{/sha}\",\"git_refs_url\":\"https://api.github.com/repos/utat-ss/tree-visualizer/git/refs{/sha}\",\"trees_url\":\"https://api.github.com/repos/utat-ss/tree-visualizer/git/trees{/sha}\",\"statuses_url\":\"https://api.github.com/repos/utat-ss/tree-visualizer/statuses/{sha}\",\"languages_url\":\"https://api.github.com/repos/utat-ss/tree-visualizer/languages\",\"stargazers_url\":\"https://api.github.com/repos/utat-ss/tree-visualizer/stargazers\",\"contributors_url\":\"https://api.github.com/repos/utat-ss/tree-visualizer/contributors\",\"subscribers_url\":\"https://api.github.com/repos/utat-ss/tree-visualizer/subscribers\",\"subscription_url\":\"https://api.github.com/repos/utat-ss/tree-visualizer/subscription\",\"commits_url\":\"https://api.github.com/repos/utat-ss/tree-visualizer/commits{/sha}\",\"git_commits_url\":\"https://api.github.com/repos/utat-ss/tree-visualizer/git/commits{/sha}\",\"comments_url\":\"https://api.github.com/repos/utat-ss/tree-visualizer/comments{/number}\",\"issue_comment_url\":\"https://api.github.com/repos/utat-ss/tree-visualizer/issues/comments{/number}\",\"contents_url\":\"https://api.github.com/repos/utat-ss/tree-visualizer/contents/{+path}\",\"compare_url\":\"https://api.github.com/repos/utat-ss/tree-visualizer/compare/{base}...{head}\",\"merges_url\":\"https://api.github.com/repos/utat-ss/tree-visualizer/merges\",\"archive_url\":\"https://api.github.com/repos/utat-ss/tree-visualizer/{archive_format}{/ref}\",\"downloads_url\":\"https://api.github.com/repos/utat-ss/tree-visualizer/downloads\",\"issues_url\":\"https://api.github.com/repos/utat-ss/tree-visualizer/issues{/number}\",\"pulls_url\":\"https://api.github.com/repos/utat-ss/tree-visualizer/pulls{/number}\",\"milestones_url\":\"https://api.github.com/repos/utat-ss/tree-visualizer/milestones{/number}\",\"notifications_url\":\"https://api.github.com/repos/utat-ss/tree-visualizer/notifications{?since,all,participating}\",\"labels_url\":\"https://api.github.com/repos/utat-ss/tree-visualizer/labels{/name}\",\"releases_url\":\"https://api.github.com/repos/utat-ss/tree-visualizer/releases{/id}\",\"deployments_url\":\"https://api.github.com/repos/utat-ss/tree-visualizer/deployments\",\"created_at\":\"2022-12-09T16:36:10Z\",\"updated_at\":\"2022-12-09T17:16:36Z\",\"pushed_at\":\"2023-04-04T18:13:26Z\",\"git_url\":\"git://github.com/utat-ss/tree-visualizer.git\",\"ssh_url\":\"git@github.com:utat-ss/tree-visualizer.git\",\"clone_url\":\"https://github.com/utat-ss/tree-visualizer.git\",\"svn_url\":\"https://github.com/utat-ss/tree-visualizer\",\"homepage\":null,\"size\":2294,\"stargazers_count\":0,\"watchers_count\":0,\"language\":\"HTML\",\"has_issues\":true,\"has_projects\":true,\"has_downloads\":true,\"has_wiki\":true,\"has_pages\":false,\"has_discussions\":false,\"forks_count\":0,\"mirror_url\":null,\"archived\":false,\"disabled\":false,\"open_issues_count\":4,\"license\":{\"key\":\"unlicense\",\"name\":\"The Unlicense\",\"spdx_id\":\"Unlicense\",\"url\":\"https://api.github.com/licenses/unlicense\",\"node_id\":\"MDc6TGljZW5zZTE1\"},\"allow_forking\":true,\"is_template\":false,\"web_commit_signoff_required\":false,\"topics\":[],\"visibility\":\"public\",\"forks\":0,\"open_issues\":4,\"watchers\":0,\"default_branch\":\"main\"}},\"_links\":{\"self\":{\"href\":\"https://api.github.com/repos/utat-ss/tree-visualizer/pulls/9\"},\"html\":{\"href\":\"https://github.com/utat-ss/tree-visualizer/pull/9\"},\"issue\":{\"href\":\"https://api.github.com/repos/utat-ss/tree-visualizer/issues/9\"},\"comments\":{\"href\":\"https://api.github.com/repos/utat-ss/tree-visualizer/issues/9/comments\"},\"review_comments\":{\"href\":\"https://api.github.com/repos/utat-ss/tree-visualizer/pulls/9/comments\"},\"review_comment\":{\"href\":\"https://api.github.com/repos/utat-ss/tree-visualizer/pulls/comments{/number}\"},\"commits\":{\"href\":\"https://api.github.com/repos/utat-ss/tree-visualizer/pulls/9/commits\"},\"statuses\":{\"href\":\"https://api.github.com/repos/utat-ss/tree-visualizer/statuses/b412c546913fc79ab4e5fac8c2b0d31a0e3f55af\"}},\"author_association\":\"CONTRIBUTOR\",\"auto_merge\":null,\"active_lock_reason\":null}},\"public\":true,\"created_at\":\"2023-04-04T18:38:31Z\",\"org\":{\"id\":63824882,\"login\":\"utat-ss\",\"gravatar_id\":\"\",\"url\":\"https://api.github.com/orgs/utat-ss\",\"avatar_url\":\"https://avatars.githubusercontent.com/u/63824882?\"}},{\"id\":\"28202679670\",\"type\":\"MemberEvent\",\"actor\":{\"id\":122046588,\"login\":\"denise-techlead\",\"display_login\":\"denise-techlead\",\"gravatar_id\":\"\",\"url\":\"https://api.github.com/users/denise-techlead\",\"avatar_url\":\"https://avatars.githubusercontent.com/u/122046588?\"},\"repo\":{\"id\":623622974,\"name\":\"evercodeinc/story-hello-evercode-js-leticiasassaki1077-c31f0dc53a\",\"url\":\"https://api.github.com/repos/evercodeinc/story-hello-evercode-js-leticiasassaki1077-c31f0dc53a\"},\"payload\":{\"member\":{\"login\":\"denise-techlead\",\"id\":122046588,\"node_id\":\"U_kgDOB0ZIfA\",\"avatar_url\":\"https://avatars.githubusercontent.com/u/122046588?v=4\",\"gravatar_id\":\"\",\"url\":\"https://api.github.com/users/denise-techlead\",\"html_url\":\"https://github.com/denise-techlead\",\"followers_url\":\"https://api.github.com/users/denise-techlead/followers\",\"following_url\":\"https://api.github.com/users/denise-techlead/following{/other_user}\",\"gists_url\":\"https://api.github.com/users/denise-techlead/gists{/gist_id}\",\"starred_url\":\"https://api.github.com/users/denise-techlead/starred{/owner}{/repo}\",\"subscriptions_url\":\"https://api.github.com/users/denise-techlead/subscriptions\",\"organizations_url\":\"https://api.github.com/users/denise-techlead/orgs\",\"repos_url\":\"https://api.github.com/users/denise-techlead/repos\",\"events_url\":\"https://api.github.com/users/denise-techlead/events{/privacy}\",\"received_events_url\":\"https://api.github.com/users/denise-techlead/received_events\",\"type\":\"User\",\"site_admin\":false},\"action\":\"added\"},\"public\":true,\"created_at\":\"2023-04-04T18:38:31Z\",\"org\":{\"id\":122046957,\"login\":\"evercodeinc\",\"gravatar_id\":\"\",\"url\":\"https://api.github.com/orgs/evercodeinc\",\"avatar_url\":\"https://avatars.githubusercontent.com/u/122046957?\"}},{\"id\":\"28202679715\",\"type\":\"PushEvent\",\"actor\":{\"id\":40700896,\"login\":\"pedromarques09\",\"display_login\":\"pedromarques09\",\"gravatar_id\":\"\",\"url\":\"https://api.github.com/users/pedromarques09\",\"avatar_url\":\"https://avatars.githubusercontent.com/u/40700896?\"},\"repo\":{\"id\":439390301,\"name\":\"pedromarques09/WhereTheBus\",\"url\":\"https://api.github.com/repos/pedromarques09/WhereTheBus\"},\"payload\":{\"repository_id\":439390301,\"push_id\":13188910631,\"size\":1,\"distinct_size\":1,\"ref\":\"refs/heads/staging\",\"head\":\"3fb272b6a64cfe5d2cde89fb7f75fb94f74be677\",\"before\":\"c0341c074b60ffbb8b6c06210b9d3ad79e96834d\",\"commits\":[{\"sha\":\"3fb272b6a64cfe5d2cde89fb7f75fb94f74be677\",\"author\":{\"email\":\"pedrom@dimed.com.br\",\"name\":\"pedrom\"},\"message\":\"adjust width\",\"distinct\":true,\"url\":\"https://api.github.com/repos/pedromarques09/WhereTheBus/commits/3fb272b6a64cfe5d2cde89fb7f75fb94f74be677\"}]},\"public\":true,\"created_at\":\"2023-04-04T18:38:31Z\"},{\"id\":\"28202679645\",\"type\":\"PushEvent\",\"actor\":{\"id\":105088158,\"login\":\"BroomSalesman\",\"display_login\":\"BroomSalesman\",\"gravatar_id\":\"\",\"url\":\"https://api.github.com/users/BroomSalesman\",\"avatar_url\":\"https://avatars.githubusercontent.com/u/105088158?\"},\"repo\":{\"id\":615474387,\"name\":\"BroomSalesman/Python-Comp-Sci-20\",\"url\":\"https://api.github.com/repos/BroomSalesman/Python-Comp-Sci-20\"},\"payload\":{\"repository_id\":615474387,\"push_id\":13188910612,\"size\":1,\"distinct_size\":1,\"ref\":\"refs/heads/main\",\"head\":\"201c09ec007d1483e58c7cff5ccca7ae91016a94\",\"before\":\"1eb8e938060221beec748e08fb15f98d8c44f32b\",\"commits\":[{\"sha\":\"201c09ec007d1483e58c7cff5ccca7ae91016a94\",\"author\":{\"email\":\"farooqi.labeeb07@gmail.com\",\"name\":\"Labeeb\"},\"message\":\"dsa\",\"distinct\":true,\"url\":\"https://api.github.com/repos/BroomSalesman/Python-Comp-Sci-20/commits/201c09ec007d1483e58c7cff5ccca7ae91016a94\"}]},\"public\":true,\"created_at\":\"2023-04-04T18:38:31Z\"},{\"id\":\"28202679710\",\"type\":\"PushEvent\",\"actor\":{\"id\":80321495,\"login\":\"sai5725\",\"display_login\":\"sai5725\",\"gravatar_id\":\"\",\"url\":\"https://api.github.com/users/sai5725\",\"avatar_url\":\"https://avatars.githubusercontent.com/u/80321495?\"},\"repo\":{\"id\":622954819,\"name\":\"sai5725/CShekar\",\"url\":\"https://api.github.com/repos/sai5725/CShekar\"},\"payload\":{\"repository_id\":622954819,\"push_id\":13188910634,\"size\":1,\"distinct_size\":1,\"ref\":\"refs/heads/main\",\"head\":\"ae9515e229a7e7653b57d1b85fb7e8f76b1f275e\",\"before\":\"ac52bd8cac4256bdef6a12a93781f700f3093d33\",\"commits\":[{\"sha\":\"ae9515e229a7e7653b57d1b85fb7e8f76b1f275e\",\"author\":{\"email\":\"sai5725@yahoo.com\",\"name\":\"sai5725\"},\"message\":\"data\",\"distinct\":true,\"url\":\"https://api.github.com/repos/sai5725/CShekar/commits/ae9515e229a7e7653b57d1b85fb7e8f76b1f275e\"}]},\"public\":true,\"created_at\":\"2023-04-04T18:38:31Z\"}]'"
            ]
          },
          "execution_count": 13,
          "metadata": {},
          "output_type": "execute_result"
        }
      ],
      "source": [
        "import requests\n",
        "\n",
        "r = requests.get('https://api.github.com/events')\n",
        "r.text"
      ]
    },
    {
      "cell_type": "code",
      "execution_count": null,
      "metadata": {
        "colab": {
          "base_uri": "https://localhost:8080/",
          "height": 91
        },
        "id": "1pJUkn-blLSM",
        "outputId": "06862a6d-5054-4f99-f394-4896c92ac6c0"
      },
      "outputs": [
        {
          "name": "stdout",
          "output_type": "stream",
          "text": [
            "{'userId': 1, 'id': 1, 'title': 'sunt aut facere repellat provident occaecati excepturi optio reprehenderit', 'body': 'quia et suscipit\\nsuscipit recusandae consequuntur expedita et cum\\nreprehenderit molestiae ut ut quas totam\\nnostrum rerum est autem sunt rem eveniet architecto'}\n"
          ]
        },
        {
          "data": {
            "application/vnd.google.colaboratory.intrinsic+json": {
              "type": "string"
            },
            "text/plain": [
              "\"\\n{'userId': 1, 'id': 1, 'title': 'sunt aut facere repellat provident occaecati excepturi optio reprehenderit', 'body': 'quia et suscipit\\nsuscipit recusandae consequuntur expedita et cum\\nreprehenderit molestiae ut ut quas totam\\nnostrum rerum est autem sunt rem eveniet architecto'}\\n\""
            ]
          },
          "execution_count": 14,
          "metadata": {},
          "output_type": "execute_result"
        }
      ],
      "source": [
        "import requests\n",
        "\n",
        "# The API endpoint\n",
        "url = \"https://jsonplaceholder.typicode.com/posts/1\"\n",
        "\n",
        "# A GET request to the API\n",
        "response = requests.get(url)\n",
        "\n",
        "# Print the response\n",
        "response_json = response.json()\n",
        "print(response_json)\n",
        "\n",
        "\"\"\"\n",
        "{'userId': 1, 'id': 1, 'title': 'sunt aut facere repellat provident occaecati excepturi optio reprehenderit', 'body': 'quia et suscipit\\nsuscipit recusandae consequuntur expedita et cum\\nreprehenderit molestiae ut ut quas totam\\nnostrum rerum est autem sunt rem eveniet architecto'}\n",
        "\"\"\""
      ]
    },
    {
      "cell_type": "code",
      "execution_count": null,
      "metadata": {
        "id": "JUUutTK6lfky"
      },
      "outputs": [],
      "source": [
        "import requests\n",
        "\n",
        "url = 'https://www.example.com/api/registros/123'\n",
        "dados = {'nome': 'João', 'idade': 35}\n",
        "\n",
        "resposta = requests.put(url, json=dados)\n",
        "\n",
        "print(resposta.status_code)\n"
      ]
    },
    {
      "cell_type": "code",
      "execution_count": null,
      "metadata": {
        "id": "e0BXRK6Wpu5Z"
      },
      "outputs": [],
      "source": []
    }
  ],
  "metadata": {
    "colab": {
      "provenance": []
    },
    "kernelspec": {
      "display_name": "Python 3",
      "name": "python3"
    },
    "language_info": {
      "name": "python"
    }
  },
  "nbformat": 4,
  "nbformat_minor": 0
}