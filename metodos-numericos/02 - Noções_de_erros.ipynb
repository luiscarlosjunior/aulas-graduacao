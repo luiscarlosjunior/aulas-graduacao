{
  "nbformat": 4,
  "nbformat_minor": 0,
  "metadata": {
    "colab": {
      "provenance": []
    },
    "kernelspec": {
      "name": "python3",
      "display_name": "Python 3"
    },
    "language_info": {
      "name": "python"
    }
  },
  "cells": [
    {
      "cell_type": "markdown",
      "source": [
        "# Tópico de representação numérica"
      ],
      "metadata": {
        "id": "WG1MsR_F-xx2"
      }
    },
    {
      "cell_type": "markdown",
      "source": [
        "### Binário\n"
      ],
      "metadata": {
        "id": "P9k93pur-5US"
      }
    },
    {
      "cell_type": "markdown",
      "source": [],
      "metadata": {
        "id": "fneTrr0k--Ft"
      }
    },
    {
      "cell_type": "code",
      "execution_count": null,
      "metadata": {
        "colab": {
          "base_uri": "https://localhost:8080/"
        },
        "id": "b811dkuC-v_9",
        "outputId": "34e37d49-5579-4c0d-fa52-40744188e089"
      },
      "outputs": [
        {
          "output_type": "stream",
          "name": "stdout",
          "text": [
            "65\n"
          ]
        }
      ],
      "source": [
        "# Função simples para converter um valor de binário para decimal\n",
        "# Exemplo:\n",
        "# numero_binario = 1001\n",
        "# potencia vai ser 3, pois iniciamos do zero\n",
        "\n",
        "def binario_para_decimal(numero_binario):\n",
        "    decimal = 0\n",
        "    # Define a maior potência, por exemplo: \n",
        "    potencia = len(numero_binario) - 1\n",
        "    # For: Para cada digito dentro da variável, faça\n",
        "      # iteração 1 : 1 * 2 ^ 3\n",
        "      # iteração 2 : 0 * 2 ^ 2\n",
        "      # iteração 3 : 0 * 2 ^ 1\n",
        "      # iteração 4 : 1 * 2 ^ 0\n",
        "    for digito in numero_binario:\n",
        "        # Calcula o decimal com base na potência\n",
        "        decimal += int(digito) * 2 ** potencia\n",
        "        potencia -= 1\n",
        "    return decimal\n",
        "\n",
        "def decimal_para_binario(decimal):\n",
        "    if decimal == 0:\n",
        "        return '0'\n",
        "    binario = ''\n",
        "    while decimal > 0:\n",
        "        resto = decimal % 2\n",
        "        binario = str(resto) + binario\n",
        "        decimal //= 2\n",
        "    return binario\n",
        "\n",
        "# Chama a função\n",
        "print(binario_para_decimal('01000001'))"
      ]
    },
    {
      "cell_type": "code",
      "source": [
        "# Função ord pega a representação da tabela ASCII em decimal para os caracteres\n",
        "print(ord('O'))\n",
        "print(ord('l'))\n",
        "print(ord('a'))\n",
        "print(ord(','))\n",
        "print(ord('m'))\n",
        "print(ord('u'))\n",
        "print(ord('n'))\n",
        "print(ord('d'))\n",
        "print(ord('o'))\n",
        "print(ord('!'))"
      ],
      "metadata": {
        "colab": {
          "base_uri": "https://localhost:8080/"
        },
        "id": "1rGvd-07_DwZ",
        "outputId": "bf873502-01fb-4cee-e600-e9804af8d211"
      },
      "execution_count": 1,
      "outputs": [
        {
          "output_type": "stream",
          "name": "stdout",
          "text": [
            "79\n",
            "108\n",
            "97\n",
            "44\n",
            "109\n",
            "117\n",
            "110\n",
            "100\n",
            "111\n",
            "33\n"
          ]
        }
      ]
    },
    {
      "cell_type": "code",
      "source": [
        "# Decimal para binário\n",
        "# Função ord retorno o valor decimal e a função bin converte para binário\n",
        "print(bin(ord('O')))\n",
        "print(bin(ord('l')))\n",
        "print(bin(ord('a')))\n",
        "print(bin(ord(',')))\n",
        "print(bin(ord('m')))\n",
        "print(bin(ord('u')))\n",
        "print(bin(ord('n')))\n",
        "print(bin(ord('d')))\n",
        "print(bin(ord('o')))\n",
        "print(bin(ord('!')))"
      ],
      "metadata": {
        "colab": {
          "base_uri": "https://localhost:8080/"
        },
        "id": "-gFi9cqKFa1Q",
        "outputId": "80458318-afee-4f1c-f16f-27eb6421aa98"
      },
      "execution_count": 2,
      "outputs": [
        {
          "output_type": "stream",
          "name": "stdout",
          "text": [
            "0b1001111\n",
            "0b1101100\n",
            "0b1100001\n",
            "0b101100\n",
            "0b1101101\n",
            "0b1110101\n",
            "0b1101110\n",
            "0b1100100\n",
            "0b1101111\n",
            "0b100001\n"
          ]
        }
      ]
    },
    {
      "cell_type": "code",
      "source": [
        "# Binário para octal\n",
        "# A função ord retorna o código decimal, a função bin retorna o valor em binário no \n",
        "# formato de string, por esse motivo é usado a função int(valor, 2), o 2 dentro\n",
        "# da função int define a base, nesse caso é a base 2, pois é binária. Por último,\n",
        "# a função oct converte o binário em octal\n",
        "print(oct(int(bin(ord('O')),2)))\n",
        "print(oct(int(bin(ord('l')),2)))\n",
        "print(oct(int(bin(ord('a')),2)))\n",
        "print(oct(int(bin(ord(',')),2)))\n",
        "print(oct(int(bin(ord('m')),2)))\n",
        "print(oct(int(bin(ord('u')),2)))\n",
        "print(oct(int(bin(ord('n')),2)))\n",
        "print(oct(int(bin(ord('d')),2)))\n",
        "print(oct(int(bin(ord('o')),2)))\n",
        "print(oct(int(bin(ord('!')),2)))"
      ],
      "metadata": {
        "colab": {
          "base_uri": "https://localhost:8080/"
        },
        "id": "0nSI_9AyMz6m",
        "outputId": "a91ab634-7a14-4447-a8dd-c8927e88b254"
      },
      "execution_count": 6,
      "outputs": [
        {
          "output_type": "stream",
          "name": "stdout",
          "text": [
            "0o117\n",
            "0o154\n",
            "0o141\n",
            "0o54\n",
            "0o155\n",
            "0o165\n",
            "0o156\n",
            "0o144\n",
            "0o157\n",
            "0o41\n"
          ]
        }
      ]
    },
    {
      "cell_type": "code",
      "source": [
        "# Binário para hexadecimal\n",
        "# Binário para octal\n",
        "# A função ord retorna o código decimal, a função bin retorna o valor em binário no \n",
        "# formato de string, por esse motivo é usado a função int(valor, 2), o 2 dentro\n",
        "# da função int define a base, nesse caso é a base 2, pois é binária. Por último,\n",
        "# a função hex converte o binário em hex\n",
        "print(hex(int(bin(ord('O')),2)))\n",
        "print(hex(int(bin(ord('l')),2)))\n",
        "print(hex(int(bin(ord('a')),2)))\n",
        "print(hex(int(bin(ord(',')),2)))\n",
        "print(hex(int(bin(ord('m')),2)))\n",
        "print(hex(int(bin(ord('u')),2)))\n",
        "print(hex(int(bin(ord('n')),2)))\n",
        "print(hex(int(bin(ord('d')),2)))\n",
        "print(hex(int(bin(ord('o')),2)))\n",
        "print(hex(int(bin(ord('!')),2)))"
      ],
      "metadata": {
        "colab": {
          "base_uri": "https://localhost:8080/"
        },
        "id": "omzQU40eNZDc",
        "outputId": "6726a385-6a42-4677-ece8-4d51f7912d13"
      },
      "execution_count": null,
      "outputs": [
        {
          "output_type": "stream",
          "name": "stdout",
          "text": [
            "0x4f\n",
            "0x6c\n",
            "0x61\n",
            "0x2c\n",
            "0x6d\n",
            "0x75\n",
            "0x6e\n",
            "0x64\n",
            "0x6f\n",
            "0x21\n"
          ]
        }
      ]
    },
    {
      "cell_type": "code",
      "source": [],
      "metadata": {
        "id": "eyyR4Bg1q7J9"
      },
      "execution_count": null,
      "outputs": []
    }
  ]
}