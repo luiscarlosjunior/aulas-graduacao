{
  "cells": [
    {
      "cell_type": "markdown",
      "metadata": {
        "id": "ML2Rz6MPo1rX"
      },
      "source": [
        "# Introdução a Linguagem Python \n"
      ]
    },
    {
      "cell_type": "markdown",
      "metadata": {
        "id": "53rB5UP4o1pb"
      },
      "source": [
        "## O que é Python?\n",
        "\n",
        "Python é uma linguagem de programação dinâmica de alto nível, interpreta, e de proprósito de uso geral [linguagens de alto nivel](https://www.infoescola.com/engenharia-de-software/linguagem-de-programacao-de-alto-nivel/) e para mais detalhes acesse o link [história do Python](https://pt.wikipedia.org/wiki/Python#Hist%C3%B3ria). \n",
        "\n",
        "Como diz o excelente livro iterativo \"[Como Pensar Como um Cientista da Computação](https://panda.ime.usp.br/pensepy/static/pensepy/index.html)\", onde recomento fortemente a leitura: \"Programas escritos em linguagens de alto nível precisam ser processados antes que possam rodar\" ou seja, precisamos de uma compilador, no caso do python de um interpretador, no qual consistem em um programa que interpreta a linguagem para que o computador consiga entender, em outras palavras, o compilador/interpretador transforma uma linguagem de alto nível para uma [linguagem de baixo nível](https://www.sos.com.br/noticias/tecnologia/o-que-e-linguagem-de-programacao-de-alto-nivel-e-de-baixo-nivel). \n",
        "\n",
        "Veja uma discussão no [stackoverflow](https://stackoverflow.com/questions/2377273/how-does-an-interpreter-compiler-work#:~:text=An%20interpreter%20is%20also%20a%20program%20that%20translates,then%20instruct%20the%20interpreter%20to%20run%20the%20program.) de como um compilador/interpretador funciona.\n",
        "\n",
        "Existem duas formas para de escrita de um código python, atráves de linha de comando o chamado shell mode, ou modeo script.\n",
        "O modeo linha de comando o programa necessita de um compiador onde voce pode executar na mesma hora o seu código atrávés de um terminal. \n",
        "\n",
        "Nesse curso iremos usar o [Colab](https://colab.research.google.com/) para executarmos os nossos códigos. Basta criar uma conta gmail para ter acesso"
      ]
    },
    {
      "cell_type": "markdown",
      "metadata": {
        "id": "rvCQY8XxpcrE"
      },
      "source": [
        "## Ferramenta utilizada (Colab)\n",
        "\n",
        "O Colab é dividido em células, onde usaremos cada uma delas para compilar os nossos códigos. Vamos criar um exemplo simples de código na célula a seguir: "
      ]
    },
    {
      "cell_type": "code",
      "execution_count": null,
      "metadata": {
        "colab": {
          "base_uri": "https://localhost:8080/"
        },
        "id": "s3l1FMwLpcKn",
        "outputId": "41950425-d656-415c-aeb4-76ebd3abfb04"
      },
      "outputs": [
        {
          "name": "stdout",
          "output_type": "stream",
          "text": [
            "Olá, Mundo\n"
          ]
        }
      ],
      "source": [
        "print(\"Olá, Mundo\")"
      ]
    },
    {
      "cell_type": "code",
      "execution_count": null,
      "metadata": {
        "colab": {
          "base_uri": "https://localhost:8080/"
        },
        "id": "eHIrYwTIpWOR",
        "outputId": "c6ccdf91-57a1-4314-e76e-9fbb058ea4bb"
      },
      "outputs": [
        {
          "name": "stdout",
          "output_type": "stream",
          "text": [
            "Meu primeiro programa soma os numeros 2 e 3:\n",
            "5\n"
          ]
        }
      ],
      "source": [
        "print(\"Meu primeiro programa soma os numeros 2 e 3:\")\n",
        "print(2 + 3)"
      ]
    },
    {
      "cell_type": "markdown",
      "metadata": {
        "id": "Q4pijBvCppgc"
      },
      "source": [
        "Note que usamos a função \"print()\" para escrever na saída o resultado que queremos, no caso a soma de 2 + 3.\n"
      ]
    },
    {
      "cell_type": "markdown",
      "metadata": {
        "id": "xRoPmQLMptCe"
      },
      "source": [
        "## Sintaxe da linguagem Python\n",
        "\n",
        "Antes de começarmos a programar em python, vale a pena dar uma olhada de como funciona a sintaxe do python. Segue um link abaixo para referência.\n",
        "\n",
        "[Introdução sintaxe do python](https://pt.wikipedia.org/wiki/Sintaxe_e_sem%C3%A2ntica_de_Python#:~:text=A%20sintaxe%20da%20linguagem%20de%20programa%C3%A7%C3%A3o%20Python%20%C3%A9,foi%20concebido%20para%20ser%20uma%20linguagem%20altamente%20leg%C3%ADvel.)\n",
        "\n",
        "Agora vamos falar um pouco sobre tipos de dados e variáveis no Python, Let's code!"
      ]
    },
    {
      "cell_type": "markdown",
      "metadata": {
        "id": "86tO366OL-Jh"
      },
      "source": [
        "#Python Comentários\n",
        "\n",
        "Comentários podem ser usados para explicar o código Python.\n",
        "\n"
      ]
    },
    {
      "cell_type": "code",
      "execution_count": null,
      "metadata": {
        "colab": {
          "base_uri": "https://localhost:8080/",
          "height": 34
        },
        "id": "rJMqjaWJMTir",
        "outputId": "f927c41b-caed-4b45-a917-38cf74b83c1e"
      },
      "outputs": [
        {
          "name": "stdout",
          "output_type": "stream",
          "text": [
            "Hello, World!\n"
          ]
        }
      ],
      "source": [
        "#Isso é um comentário\n",
        "print(\"Olá, mundo!\")"
      ]
    },
    {
      "cell_type": "markdown",
      "metadata": {
        "id": "QMfnUNxwMeBD"
      },
      "source": [
        "\n",
        "Comentários podem ser colocados no final da linha, e o Pytfon irá ignorar o restante da linha:\n"
      ]
    },
    {
      "cell_type": "code",
      "execution_count": null,
      "metadata": {
        "colab": {
          "base_uri": "https://localhost:8080/",
          "height": 34
        },
        "id": "YfzLyd6nMvfr",
        "outputId": "7ceed64a-7e6a-4705-f393-6979e658a973"
      },
      "outputs": [
        {
          "name": "stdout",
          "output_type": "stream",
          "text": [
            "Hello, World!\n"
          ]
        }
      ],
      "source": [
        "print(\"Hello, World!\") # E"
      ]
    },
    {
      "cell_type": "markdown",
      "metadata": {
        "id": "fplVuKLHM5xU"
      },
      "source": [
        "Multi Comentários\n",
        "\n",
        "Python não tem sintaxe para várias linhas de comentário. Para adicionar várias linhas com comentário vocÊ pode inserir # para cada linha:\n",
        "\n"
      ]
    },
    {
      "cell_type": "code",
      "execution_count": null,
      "metadata": {
        "colab": {
          "base_uri": "https://localhost:8080/",
          "height": 34
        },
        "id": "WPnjzLIrNYKc",
        "outputId": "a6678a3d-dc52-433e-bb3d-70828e57e770"
      },
      "outputs": [
        {
          "name": "stdout",
          "output_type": "stream",
          "text": [
            "Hello, World!\n"
          ]
        }
      ],
      "source": [
        "# Esse é apenas um comentário\n",
        "# Comentários simples de uma linha\n",
        "print(\"Hello, World!\")"
      ]
    },
    {
      "cell_type": "markdown",
      "metadata": {
        "id": "gSJgN4A-NiZy"
      },
      "source": [
        "#Variáveis Python \n",
        "\n",
        "### Criando variáveis\n",
        "\n",
        "Variáveis ​​são contêineres usados para armazenar valores de dados. Diferente de outras linguagens de programação, o Python não tem comando para declarar uma variável. Uma variável é criada no momento em que você atribui um valor a ela."
      ]
    },
    {
      "cell_type": "code",
      "execution_count": null,
      "metadata": {
        "colab": {
          "base_uri": "https://localhost:8080/"
        },
        "id": "yCpIMYgbN5o6",
        "outputId": "696a890e-ccb7-4fb5-be2b-75759adf0c19"
      },
      "outputs": [
        {
          "name": "stdout",
          "output_type": "stream",
          "text": [
            "5\n",
            "Rubens\n"
          ]
        }
      ],
      "source": [
        "# Exemplo\n",
        "x = 5\n",
        "y = \"Rubens\"\n",
        "print(x)\n",
        "print(y)"
      ]
    },
    {
      "cell_type": "markdown",
      "metadata": {
        "id": "dEIhsF6lOGCC"
      },
      "source": [
        "As variáveis ​​não precisam ser declaradas com nenhum tipo específico e podem até mudar de tipo após serem definidas."
      ]
    },
    {
      "cell_type": "code",
      "execution_count": null,
      "metadata": {
        "colab": {
          "base_uri": "https://localhost:8080/"
        },
        "id": "hKk17aMhOHOy",
        "outputId": "5f8f8c29-30bf-4d0b-dfba-096a3f3466b0"
      },
      "outputs": [
        {
          "name": "stdout",
          "output_type": "stream",
          "text": [
            "Sally\n"
          ]
        }
      ],
      "source": [
        "x = 4 # x é do tipo int\n",
        "x = \"Sally\" # x agora é do tipo str (string - sequência de caracteres)\n",
        "print(x)"
      ]
    },
    {
      "cell_type": "markdown",
      "metadata": {
        "id": "93TnHqFuOT-Z"
      },
      "source": [
        "As variáveis ​​de sequência podem ser declaradas usando aspas simples ou duplas:\n"
      ]
    },
    {
      "cell_type": "code",
      "execution_count": null,
      "metadata": {
        "id": "1j7aiAGbOU6D"
      },
      "outputs": [],
      "source": [
        "x = \"John\"\n",
        "# É o mesmo\n",
        "x = 'John'"
      ]
    },
    {
      "cell_type": "markdown",
      "metadata": {
        "id": "ZwZWgACP2t5I"
      },
      "source": [
        "### Pedindo valores ao usuário (entrada de dados através do teclado)"
      ]
    },
    {
      "cell_type": "code",
      "execution_count": null,
      "metadata": {
        "colab": {
          "base_uri": "https://localhost:8080/"
        },
        "id": "g-mjIyNT2z-l",
        "outputId": "722652bd-3513-407e-b783-ade744033afc"
      },
      "outputs": [
        {
          "name": "stdout",
          "output_type": "stream",
          "text": [
            "Informe a sua idade: 29\n",
            "29\n",
            "<class 'int'>\n"
          ]
        }
      ],
      "source": [
        "# A função usada será o input\n",
        "#idade = input(\"Informe a sua idade: \")\n",
        "#idade = int(idade)\n",
        "\n",
        "idade = int(input(\"Informe a sua idade: \"))\n",
        "print(idade)\n",
        "print(type(idade))"
      ]
    },
    {
      "cell_type": "markdown",
      "metadata": {
        "id": "sl67FoAtOgth"
      },
      "source": [
        "#Tipos de dados Python \n",
        "\n",
        "Na programação, o tipo de dados é um conceito importante. Variáveis ​​podem armazenar dados de tipos diferentes e tipos diferentes podem fazer coisas diferentes. O Python possui os seguintes tipos de dados embutidos por padrão, nestas categorias:\n",
        "\n",
        "Text Type:\tstr\n",
        "Numeric Types:\tint, float, complex\n",
        "Sequence Types:\tlist, tuple, range\n",
        "Mapping Type:\tdict\n",
        "Set Types:\tset, frozenset\n",
        "Boolean Type:\tbool\n",
        "Binary Types:\tbytes, bytearray, memoryview\n",
        "\n"
      ]
    },
    {
      "cell_type": "markdown",
      "metadata": {
        "id": "xfbYNXFdO91J"
      },
      "source": [
        "\n",
        "Obtendo o tipo de dados\n",
        "Você pode obter o tipo de dados de qualquer objeto usando a função type ():"
      ]
    },
    {
      "cell_type": "code",
      "execution_count": null,
      "metadata": {
        "colab": {
          "base_uri": "https://localhost:8080/"
        },
        "id": "UTg5Ihn5PAQ6",
        "outputId": "244f384a-65b8-45f5-c216-3355131c5927"
      },
      "outputs": [
        {
          "name": "stdout",
          "output_type": "stream",
          "text": [
            "<class 'int'>\n",
            "<class 'str'>\n",
            "<class 'str'>\n",
            "<class 'str'>\n",
            "<class 'str'>\n"
          ]
        }
      ],
      "source": [
        "x = 5\n",
        "print(type(x))\n",
        "\n",
        "# Com str\n",
        "print(type('Esse e um string.') )\n",
        "print(type(\"E esse tambem eh um string.\") )\n",
        "print(type(\"\"\"e esse.\"\"\") )\n",
        "print(type('''e mesmo esse...''') )"
      ]
    },
    {
      "cell_type": "markdown",
      "metadata": {
        "id": "EF7dVOAPqasC"
      },
      "source": [
        "### Conversão de tipo de dados\n",
        "\n",
        "Podemos converter os tipos usando algumas funções que transformam valores para diferentes tipos, elas são chamadas de funções para conversão de valores. \n",
        "\n",
        "Essas funções são: int(),float() e str(). Elas convertem para números inteiros, decimeis e para strings, respectivamente. Abaixo seguem alguns exemplos:"
      ]
    },
    {
      "cell_type": "code",
      "execution_count": null,
      "metadata": {
        "colab": {
          "base_uri": "https://localhost:8080/"
        },
        "id": "1sJCVMVgqko4",
        "outputId": "9f2bbb44-821e-46df-e6f9-90f891b65813"
      },
      "outputs": [
        {
          "name": "stdout",
          "output_type": "stream",
          "text": [
            "3.14 3\n",
            "3.9999 3\n",
            "3.0 3\n",
            "-3.999 -3\n"
          ]
        }
      ],
      "source": [
        "\n",
        "print(3.14, int(3.14))\n",
        "print(3.9999, int(3.9999))       # Isto não arredonda para o inteiro mais próximo\n",
        "print(3.0,int(3.0))\n",
        "print(-3.999,int(-3.999))        # Observe que o resultado está mais próximo de zero"
      ]
    },
    {
      "cell_type": "markdown",
      "metadata": {
        "id": "GOIStbTvZKf0"
      },
      "source": [
        "### Arredondar valores flutuantes"
      ]
    },
    {
      "cell_type": "code",
      "execution_count": null,
      "metadata": {
        "colab": {
          "base_uri": "https://localhost:8080/"
        },
        "id": "8Hg9cifMYvyI",
        "outputId": "149fee8f-4eb0-4d8b-c465-26d91cb1b165"
      },
      "outputs": [
        {
          "name": "stdout",
          "output_type": "stream",
          "text": [
            "0.30000000000000004\n",
            "0.30\n",
            "0.3\n",
            "0.30\n"
          ]
        }
      ],
      "source": [
        "soma = 0.1 + 0.2\n",
        "print(soma)\n",
        "print(\"%.2f\" % soma)\n",
        "print(round(soma, 2))\n",
        "print(\"{0:.2f}\".format(soma))"
      ]
    },
    {
      "cell_type": "markdown",
      "metadata": {
        "id": "vO3K8Un6PKVZ"
      },
      "source": [
        "Definindo o tipo de dados\n",
        "No Python, o tipo de dados é definido quando você atribui um valor a uma variável:"
      ]
    },
    {
      "cell_type": "code",
      "execution_count": null,
      "metadata": {
        "id": "nvxNHV6DPLkJ"
      },
      "outputs": [],
      "source": [
        "x = \"Hello World\"\t# str\t\n",
        "x = 20\t# int\t\n",
        "x = 20.5\t# float\t\n",
        "x = 1j\t# complex\t\n",
        "x = [\"apple\", \"banana\", \"cherry\"]\t# list\t\n",
        "x = (\"apple\", \"banana\", \"cherry\")\t# tuple\t\n",
        "x = range(6)\t# range\t\n",
        "x = {\"name\" : \"John\", \"age\" : 36}\t# dict\t\n",
        "x = {\"apple\", \"banana\", \"cherry\"}\t# set\n",
        "x = frozenset({\"apple\", \"banana\", \"cherry\"})\t# frozenset\t\n",
        "x = True\t# bool\t\n",
        "x = b\"Hello\"\t# bytes\t\n",
        "x = bytearray(5)\t# bytearray\t\n",
        "x = memoryview(bytes(5)) # memoryview"
      ]
    },
    {
      "cell_type": "code",
      "execution_count": null,
      "metadata": {
        "colab": {
          "base_uri": "https://localhost:8080/"
        },
        "id": "WG3c8HrDDRPg",
        "outputId": "14d9c9e3-80f3-44a7-b833-e5039d1e4ba2"
      },
      "outputs": [
        {
          "name": "stdout",
          "output_type": "stream",
          "text": [
            "bytearray(b'\\x00\\x00\\x00\\x00\\x00')\n"
          ]
        }
      ],
      "source": [
        "x = bytearray(5)\n",
        "print(x)"
      ]
    },
    {
      "cell_type": "markdown",
      "metadata": {
        "id": "YxwD20YitxbJ"
      },
      "source": [
        "### Números em python\n",
        "\n",
        "Há três tipos de números em python de forma embutida (sem usar bibliotecas)"
      ]
    },
    {
      "cell_type": "code",
      "execution_count": null,
      "metadata": {
        "colab": {
          "base_uri": "https://localhost:8080/"
        },
        "id": "ELaGyHeEt2jK",
        "outputId": "db722064-7cf5-4b6a-9823-f3c3baf779d7"
      },
      "outputs": [
        {
          "name": "stdout",
          "output_type": "stream",
          "text": [
            "<class 'int'>\n",
            "<class 'float'>\n",
            "<class 'complex'>\n"
          ]
        }
      ],
      "source": [
        "x = 1    # int\n",
        "y = 2.8  # float\n",
        "z = 1j   # complex\n",
        "\n",
        "print(type(x))\n",
        "print(type(y))\n",
        "print(type(z))"
      ]
    },
    {
      "cell_type": "code",
      "execution_count": null,
      "metadata": {
        "colab": {
          "base_uri": "https://localhost:8080/"
        },
        "id": "ssXv4ZR3waIK",
        "outputId": "f820e039-1f3d-4b13-ec48-9793aa1ca9c8"
      },
      "outputs": [
        {
          "name": "stdout",
          "output_type": "stream",
          "text": [
            "<class 'int'>\n",
            "<class 'int'>\n",
            "<class 'int'>\n"
          ]
        }
      ],
      "source": [
        "# números int \n",
        "x = 1\n",
        "y = 35656222554887711\n",
        "z = -3255522\n",
        "\n",
        "print(type(x))\n",
        "print(type(y))\n",
        "print(type(z))"
      ]
    },
    {
      "cell_type": "code",
      "execution_count": null,
      "metadata": {
        "colab": {
          "base_uri": "https://localhost:8080/"
        },
        "id": "WXvPPJSvwiOB",
        "outputId": "34103ce7-ad94-4c55-e3da-2b5c313fd84b"
      },
      "outputs": [
        {
          "name": "stdout",
          "output_type": "stream",
          "text": [
            "<class 'float'>\n",
            "<class 'float'>\n",
            "<class 'float'>\n"
          ]
        }
      ],
      "source": [
        "x = 1.10\n",
        "y = 1.0\n",
        "z = -35.59\n",
        "\n",
        "print(type(x))\n",
        "print(type(y))\n",
        "print(type(z))"
      ]
    },
    {
      "cell_type": "code",
      "execution_count": null,
      "metadata": {
        "colab": {
          "base_uri": "https://localhost:8080/"
        },
        "id": "fDaRykg-woHw",
        "outputId": "d686e749-5eee-4314-9286-4de55d77006b"
      },
      "outputs": [
        {
          "name": "stdout",
          "output_type": "stream",
          "text": [
            "<class 'float'>\n",
            "<class 'float'>\n",
            "<class 'float'>\n"
          ]
        }
      ],
      "source": [
        "x = 35e3\n",
        "y = 12E4\n",
        "z = -87.7e100\n",
        "\n",
        "print(type(x))\n",
        "print(type(y))\n",
        "print(type(z))"
      ]
    },
    {
      "cell_type": "markdown",
      "metadata": {
        "id": "YWWoUKPkxGBQ"
      },
      "source": [
        "### Conversão de dados \n",
        "\n",
        "Pode haver momentos em que você deseja especificar um tipo para uma variável. Isso pode ser feito com o casting. Python é uma linguagem orientada a objetos e, como tal, usa classes para definir tipos de dados, incluindo seus tipos primitivos.\n",
        "\n",
        "A fundição em python é, portanto, feita usando funções de construtor:\n",
        "\n",
        "**int()** - constrói um número inteiro a partir de um literal inteiro, um literal flutuante (re removendo todos os decimais) ou um literal de string (desde que a string represente um número inteiro).  \n",
        "**float()** - constrói um número flutuante a partir de um literal inteiro, um literal flutuante ou um literal de string (desde que a string represente um float ou um inteiro).  \n",
        "**str()** - constrói uma string a partir de uma ampla variedade de tipos de dados, incluindo strings, literais inteiros e literais flutuantes"
      ]
    },
    {
      "cell_type": "code",
      "execution_count": null,
      "metadata": {
        "id": "yOJOwwXWyFxZ"
      },
      "outputs": [],
      "source": [
        "x = int(1)   # x irá se transformar em 1\n",
        "y = int(2.8) # y irá se transformar em 2\n",
        "z = int(\"3\") # z irá se transformar em 3"
      ]
    },
    {
      "cell_type": "code",
      "execution_count": null,
      "metadata": {
        "id": "EwkNacyKyM8T"
      },
      "outputs": [],
      "source": [
        "# Float\n",
        "x = float(1)     # x irá se transformar em 1.0\n",
        "y = float(2.8)   # y irá se transformar em 2.8\n",
        "z = float(\"3\")   # z irá se transformar em 3.0\n",
        "w = float(\"4.2\") # w irá se transformar em 4.2"
      ]
    },
    {
      "cell_type": "code",
      "execution_count": null,
      "metadata": {
        "id": "cmMtmV0SyTc_"
      },
      "outputs": [],
      "source": [
        "# String\n",
        "x = str(\"s1\") # x irá se transformar em 's1'\n",
        "y = str(2)    # y irá se transformar em '2'\n",
        "z = str(3.0)  # z irá se transformar em '3.0'"
      ]
    },
    {
      "cell_type": "markdown",
      "metadata": {
        "id": "IalkLG79ygiD"
      },
      "source": [
        "# String em python\n",
        "As string são cercadas por aspas simples ou aspas duplas"
      ]
    },
    {
      "cell_type": "markdown",
      "metadata": {
        "id": "kdlkkouS0KCY"
      },
      "source": [
        "### Exemplo de string"
      ]
    },
    {
      "cell_type": "code",
      "execution_count": null,
      "metadata": {
        "colab": {
          "base_uri": "https://localhost:8080/"
        },
        "id": "6pL2dLpCyp7M",
        "outputId": "8b4933f2-7fd6-49b8-da12-15acecd7c9ac"
      },
      "outputs": [
        {
          "name": "stdout",
          "output_type": "stream",
          "text": [
            "Hello\n",
            "Hello\n"
          ]
        }
      ],
      "source": [
        "print(\"Hello\")\n",
        "print('Hello')"
      ]
    },
    {
      "cell_type": "code",
      "execution_count": null,
      "metadata": {
        "colab": {
          "base_uri": "https://localhost:8080/"
        },
        "id": "shuJqkAMysiJ",
        "outputId": "12475ce5-33ad-4b31-cd2c-9fc6aa71d3c2"
      },
      "outputs": [
        {
          "name": "stdout",
          "output_type": "stream",
          "text": [
            "Hello\n"
          ]
        }
      ],
      "source": [
        "a = \"Hello\"\n",
        "print(a)"
      ]
    },
    {
      "cell_type": "code",
      "execution_count": null,
      "metadata": {
        "colab": {
          "base_uri": "https://localhost:8080/"
        },
        "id": "1Iwu1OpTyuzL",
        "outputId": "f2837776-70fb-48af-ba04-73c13301cc27"
      },
      "outputs": [
        {
          "name": "stdout",
          "output_type": "stream",
          "text": [
            "Lorem ipsum dolor sit amet,\n",
            "consectetur adipiscing elit,\n",
            "sed do eiusmod tempor incididunt\n",
            "ut labore et dolore magna aliqua.\n"
          ]
        }
      ],
      "source": [
        "# multilinhas\n",
        "a = \"\"\"Lorem ipsum dolor sit amet,\n",
        "consectetur adipiscing elit,\n",
        "sed do eiusmod tempor incididunt\n",
        "ut labore et dolore magna aliqua.\"\"\"\n",
        "print(a)"
      ]
    },
    {
      "cell_type": "code",
      "execution_count": null,
      "metadata": {
        "colab": {
          "base_uri": "https://localhost:8080/"
        },
        "id": "ZXZNKqjByzKP",
        "outputId": "e218cef3-9db2-45c5-b8fc-e3bb0c55e388"
      },
      "outputs": [
        {
          "name": "stdout",
          "output_type": "stream",
          "text": [
            "Lorem ipsum dolor sit amet,\n",
            "consectetur adipiscing elit,\n",
            "sed do eiusmod tempor incididunt\n",
            "ut labore et dolore magna aliqua.\n"
          ]
        }
      ],
      "source": [
        "a = '''Lorem ipsum dolor sit amet,\n",
        "consectetur adipiscing elit,\n",
        "sed do eiusmod tempor incididunt\n",
        "ut labore et dolore magna aliqua.'''\n",
        "print(a)"
      ]
    },
    {
      "cell_type": "markdown",
      "metadata": {
        "id": "vld0wLX-y4N-"
      },
      "source": [
        "### String são vetores\n",
        "\n",
        "Como muitas outras linguagens de programação populares, strings em Python são matrizes de bytes que representam caracteres unicode.   \n",
        "\n",
        "No entanto, o Python não tem um tipo de dados de caractere, um único caractere é simplesmente uma string com um comprimento de 1.   \n",
        "\n",
        "Os colchetes podem ser usados para acessar elementos da string."
      ]
    },
    {
      "cell_type": "code",
      "execution_count": null,
      "metadata": {
        "id": "R350IbZKzAtf"
      },
      "outputs": [],
      "source": [
        "a = \"Hello, World!\"\n",
        "print(a[1])\n",
        "\n",
        "for i in a:\n",
        "  print(i)"
      ]
    },
    {
      "cell_type": "code",
      "execution_count": null,
      "metadata": {
        "colab": {
          "base_uri": "https://localhost:8080/"
        },
        "id": "QH6OHiT0zRlY",
        "outputId": "32754b39-c70b-4699-8ac4-6278091c9787"
      },
      "outputs": [
        {
          "name": "stdout",
          "output_type": "stream",
          "text": [
            "12\n"
          ]
        }
      ],
      "source": [
        "# Comprimentos string\n",
        "a = \"Hello, world\"\n",
        "print(len(a))"
      ]
    },
    {
      "cell_type": "code",
      "execution_count": null,
      "metadata": {
        "colab": {
          "base_uri": "https://localhost:8080/"
        },
        "id": "MxnYtiAkza_V",
        "outputId": "855adbf5-ad50-42c3-c09d-14120a4bf5e2"
      },
      "outputs": [
        {
          "name": "stdout",
          "output_type": "stream",
          "text": [
            "True\n",
            "A palavra existe no texto\n"
          ]
        }
      ],
      "source": [
        "# Verificação da string\n",
        "txt = \"Estamos na aula de introdução ao python\"\n",
        "print(\"aula\" in txt)\n",
        "if \"aula\" in txt:\n",
        "  print(\"A palavra existe no texto\")\n",
        "\n",
        "if \"aula\" not in txt:\n",
        "  print(\"A palavra não existe no texto\")"
      ]
    },
    {
      "cell_type": "markdown",
      "metadata": {
        "id": "I9Ng1oLM0N9_"
      },
      "source": [
        "### Cortes de texto"
      ]
    },
    {
      "cell_type": "code",
      "execution_count": null,
      "metadata": {
        "colab": {
          "base_uri": "https://localhost:8080/"
        },
        "id": "GuL3qyURzt_Y",
        "outputId": "e449c60d-d305-423d-b44b-f97dd560a907"
      },
      "outputs": [
        {
          "name": "stdout",
          "output_type": "stream",
          "text": [
            "á, \n",
            "Olá, \n",
            "á, mundo!\n",
            "und\n"
          ]
        }
      ],
      "source": [
        "b = \"Olá, mundo!\"\n",
        "print(b[2:5]) # Corte de um pedaço do texto \n",
        "print(b[:5])  # Corte do inicio\n",
        "print(b[2:])  # Corte até o fim\n",
        "print(b[-5:-2])"
      ]
    },
    {
      "cell_type": "markdown",
      "metadata": {
        "id": "UZ1WdS1Y2XCZ"
      },
      "source": [
        "### Modificação de string"
      ]
    },
    {
      "cell_type": "code",
      "execution_count": null,
      "metadata": {
        "colab": {
          "base_uri": "https://localhost:8080/"
        },
        "id": "VLruN2jj2gdZ",
        "outputId": "d2d86468-a19f-4e97-d3c7-5822a37849ee"
      },
      "outputs": [
        {
          "name": "stdout",
          "output_type": "stream",
          "text": [
            "  OLÁ, MUNDO!  \n",
            "  olá, mundo!  \n",
            "Olá, mundo!\n",
            "  Plá, mundo!  \n",
            "['  Olá', ' mundo!  ']\n"
          ]
        }
      ],
      "source": [
        "a = \"  Olá, mundo!  \"\n",
        "print(a.upper())\n",
        "print(a.lower())\n",
        "print(a.strip())\n",
        "print(a.replace(\"O\", \"P\"))\n",
        "print(a.split(\",\"))"
      ]
    },
    {
      "cell_type": "markdown",
      "metadata": {
        "id": "pv9Zpo7a2-HQ"
      },
      "source": [
        "### Concatenar string"
      ]
    },
    {
      "cell_type": "code",
      "execution_count": null,
      "metadata": {
        "colab": {
          "base_uri": "https://localhost:8080/"
        },
        "id": "wLhYmeby3A5C",
        "outputId": "9e8dff9d-6791-4929-aada-f1bb48fd92d8"
      },
      "outputs": [
        {
          "name": "stdout",
          "output_type": "stream",
          "text": [
            "Olámundo\n",
            "Olá mundo\n"
          ]
        }
      ],
      "source": [
        "a = \"Olá\"\n",
        "b = \"mundo\"\n",
        "c = a + b\n",
        "print(c)\n",
        "c = a + \" \" + b\n",
        "print(c)"
      ]
    },
    {
      "cell_type": "markdown",
      "metadata": {
        "id": "a81-pGyD3KCx"
      },
      "source": [
        "### Formatar texto"
      ]
    },
    {
      "cell_type": "code",
      "execution_count": null,
      "metadata": {
        "colab": {
          "base_uri": "https://localhost:8080/"
        },
        "id": "tN8hNEod3M8o",
        "outputId": "ed63340b-a052-4eb3-9764-4e0b1c9e75e9"
      },
      "outputs": [
        {
          "name": "stdout",
          "output_type": "stream",
          "text": [
            "Meu nome é José, e tenho 36\n",
            "Meu nome é José, e tenho 36\n"
          ]
        }
      ],
      "source": [
        "idade = 36\n",
        "txt = \"Meu nome é José, e tenho \" + str(idade)\n",
        "print(txt)\n",
        "print(txt.format(idade))"
      ]
    },
    {
      "cell_type": "code",
      "execution_count": null,
      "metadata": {
        "colab": {
          "base_uri": "https://localhost:8080/"
        },
        "id": "bv-eBgsM3lc8",
        "outputId": "c67eedcd-9311-4da6-fb6a-d9c07517e07a"
      },
      "outputs": [
        {
          "name": "stdout",
          "output_type": "stream",
          "text": [
            "Eu quero 3 peças do item 567 pelo preço de 49.95 reais.\n",
            "Eu quero pagar 49.95 reais e quero 3 peças do item 567.\n"
          ]
        }
      ],
      "source": [
        "quantidade = 3\n",
        "numero_item = 567\n",
        "preco = 49.95\n",
        "ordem = \"Eu quero {} peças do item {} pelo preço de {} reais.\"\n",
        "print(ordem.format(quantidade, numero_item, preco))\n",
        "ordem = \"Eu quero pagar {2} reais em {0} peças do item {1}.\"\n",
        "print(ordem.format(quantidade, numero_item, preco))"
      ]
    },
    {
      "cell_type": "markdown",
      "metadata": {
        "id": "_bjhT2OA4PPt"
      },
      "source": [
        "### outras funções de string"
      ]
    },
    {
      "cell_type": "code",
      "execution_count": null,
      "metadata": {
        "colab": {
          "base_uri": "https://localhost:8080/"
        },
        "id": "u82__OdI4S7o",
        "outputId": "650074dd-2332-4da5-f8d8-46e12da51b36"
      },
      "outputs": [
        {
          "name": "stdout",
          "output_type": "stream",
          "text": [
            "Função capitalize\n",
            "função casefold\n",
            "                centraliza o texto                \n",
            "5\n",
            "b'Ocorrencias de letras'\n",
            "True\n",
            "Exemplo de expandtabs  \n"
          ]
        }
      ],
      "source": [
        "#capitalize()\tConverter o primeiro caracter para caixa alta\n",
        "print(\"função capitalize\".capitalize())\n",
        "#casefold()\tConverte uma string para minusculo\n",
        "print(\"FUNÇÃO CASEFOLD\".casefold())\n",
        "#center()\tRetorna a string centralizada\n",
        "print(\"centraliza o texto\".center(50))\n",
        "#count()\tReturna o numero de vezes que um valor ocorre\n",
        "print(\"Numero de ocorrencias de uma palavra\".count('a'))\n",
        "#encode('')\tReturna a codificação da string\n",
        "print(\"Ocorrencias de letras\".encode())\n",
        "#endswith()\tReturna verdadeiro se a string termina com um determinado valor\n",
        "print('Essa string termina com o'.endswith('o'))\n",
        "#expandtabs()\tSets the tab size of the string\n",
        "print(\"Exemplo de expandtabs  \".expandtabs(2))\n",
        "#find()\tSearches the string for a specified value and returns the position of where it was found\n",
        "#format()\tFormats specified values in a string\n",
        "#format_map()\tFormats specified values in a string\n",
        "#index()\tSearches the string for a specified value and returns the position of where it was found\n",
        "#isalnum()\tReturns True if all characters in the string are alphanumeric\n",
        "#isalpha()\tReturns True if all characters in the string are in the alphabet\n",
        "#isdecimal()\tReturns True if all characters in the string are decimals\n",
        "#isdigit()\tReturns True if all characters in the string are digits\n",
        "#isidentifier()\tReturns True if the string is an identifier\n",
        "#islower()\tReturns True if all characters in the string are lower case\n",
        "#isnumeric()\tReturns True if all characters in the string are numeric\n",
        "#isprintable()\tReturns True if all characters in the string are printable\n",
        "#isspace()\tReturns True if all characters in the string are whitespaces\n",
        "#istitle()\tReturns True if the string follows the rules of a title\n",
        "#isupper()\tReturns True if all characters in the string are upper case\n",
        "#join()\tJoins the elements of an iterable to the end of the string\n",
        "#ljust()\tReturns a left justified version of the string\n",
        "#lower()\tConverts a string into lower case\n",
        "#lstrip()\tReturns a left trim version of the string\n",
        "#maketrans()\tReturns a translation table to be used in translations\n",
        "#partition()\tReturns a tuple where the string is parted into three parts\n",
        "#replace()\tReturns a string where a specified value is replaced with a specified value\n",
        "#rfind()\tSearches the string for a specified value and returns the last position of where it was found\n",
        "#rindex()\tSearches the string for a specified value and returns the last position of where it was found\n",
        "#rjust()\tReturns a right justified version of the string\n",
        "#rpartition()\tReturns a tuple where the string is parted into three parts\n",
        "#rsplit()\tSplits the string at the specified separator, and returns a list\n",
        "#rstrip()\tReturns a right trim version of the string\n",
        "#split()\tSplits the string at the specified separator, and returns a list\n",
        "#splitlines()\tSplits the string at line breaks and returns a list\n",
        "#startswith()\tReturns true if the string starts with the specified value\n",
        "#strip()\tReturns a trimmed version of the string\n",
        "#swapcase()\tSwaps cases, lower case becomes upper case and vice versa\n",
        "#title()\tConverts the first character of each word to upper case\n",
        "#translate()\tReturns a translated string\n",
        "#upper()\tConverts a string into upper case\n",
        "#zfill()\tFills the string with a specified number of 0 values at the beginning"
      ]
    },
    {
      "cell_type": "markdown",
      "metadata": {
        "id": "DUkoJZNo5tfM"
      },
      "source": [
        "# Booleanos python"
      ]
    },
    {
      "cell_type": "code",
      "execution_count": null,
      "metadata": {
        "colab": {
          "base_uri": "https://localhost:8080/"
        },
        "id": "twcpJ-Ut5x52",
        "outputId": "0971972f-c51c-4110-9448-c83dde8200e7"
      },
      "outputs": [
        {
          "name": "stdout",
          "output_type": "stream",
          "text": [
            "True\n",
            "False\n",
            "False\n"
          ]
        }
      ],
      "source": [
        "print(10 > 9)\n",
        "print(10 == 9)\n",
        "print(10 < 9)"
      ]
    },
    {
      "cell_type": "code",
      "execution_count": null,
      "metadata": {
        "colab": {
          "base_uri": "https://localhost:8080/"
        },
        "id": "Pi51e_Zd51kL",
        "outputId": "96aa01e3-b690-48e3-9eba-4a3ce6dd00fc"
      },
      "outputs": [
        {
          "name": "stdout",
          "output_type": "stream",
          "text": [
            "b não é maior que a\n"
          ]
        }
      ],
      "source": [
        "a = 200\n",
        "b = 33\n",
        "\n",
        "if b > a:\n",
        "  print(\"b é maior que a\")\n",
        "else:\n",
        "  print(\"b não é maior que a\")"
      ]
    },
    {
      "cell_type": "code",
      "execution_count": null,
      "metadata": {
        "colab": {
          "base_uri": "https://localhost:8080/"
        },
        "id": "r6R1qkbZ6UHl",
        "outputId": "2c2aa7d8-a14e-4968-e43c-77dbdf906d6d"
      },
      "outputs": [
        {
          "name": "stdout",
          "output_type": "stream",
          "text": [
            "True\n",
            "True\n",
            "True\n",
            "True\n"
          ]
        }
      ],
      "source": [
        "# A maioria dos valores são verdadeiros, por exemplo\n",
        "# Com erxceção de string vazias, qualque string é verdadeiro\n",
        "# Qualque número, exceto o zero, são verdadeiros\n",
        "# qualquer lista, tupla, conjunto e dicionário são verdadeiro\n",
        "print(bool(\"abc\")) \n",
        "print(bool(123))\n",
        "print(bool([\"Texto\", \"Rosa\", \"Bala\"])) \n",
        "print(bool((\"nome\", \"idade\"))) "
      ]
    },
    {
      "cell_type": "code",
      "execution_count": null,
      "metadata": {
        "colab": {
          "base_uri": "https://localhost:8080/"
        },
        "id": "gwhWq9Pr7CT8",
        "outputId": "5e02217d-dc6f-42de-a2b9-7c13ac8556a1"
      },
      "outputs": [
        {
          "name": "stdout",
          "output_type": "stream",
          "text": [
            "False\n",
            "False\n",
            "False\n",
            "False\n",
            "False\n",
            "False\n",
            "False\n"
          ]
        }
      ],
      "source": [
        "# falso\n",
        "print(bool(False))\n",
        "print(bool(None))\n",
        "print(bool(0))\n",
        "print(bool(\"\"))\n",
        "print(bool(()))\n",
        "print(bool([]))\n",
        "print(bool({}))"
      ]
    },
    {
      "cell_type": "code",
      "execution_count": null,
      "metadata": {
        "colab": {
          "base_uri": "https://localhost:8080/"
        },
        "id": "G_Z6Cmjw7T4E",
        "outputId": "f78e1be6-e383-4285-8287-100d522f0f19"
      },
      "outputs": [
        {
          "name": "stdout",
          "output_type": "stream",
          "text": [
            "True\n"
          ]
        }
      ],
      "source": [
        "x = 200\n",
        "print(isinstance(x, int))"
      ]
    },
    {
      "cell_type": "markdown",
      "metadata": {
        "id": "uk9qe082rAVK"
      },
      "source": [
        "# Operadores\n",
        "   \n",
        "Os operadores são símbolos usados na construção de expressões, as quais contém um número variado de operandos. Por exemplo, na expressão a + b, temos o operador de aritmético + e operandos são as variáveis a e b. \n",
        "\n",
        "Há diversos tipos de operadores em programação. Alguns exemplos são:\n",
        "\n",
        "* Operadores aritméticos\n",
        "* Operadores de atribuição\n",
        "* Operadores de comparação\n",
        "* Operadores lógicos\n",
        "* Operadores de identidade\n",
        "* Operadores de associação\n",
        "\n",
        "Para mais exemplos: https://www.w3schools.com/python/python_operators.asp "
      ]
    },
    {
      "cell_type": "markdown",
      "metadata": {
        "id": "d6vXLCNCrHNG"
      },
      "source": [
        "## Operadores Aritméticos\n",
        "\n",
        "Esses tipos de operadores simbolizam operações matemáticas dentro da linguagem Python, por exemplo, adição, multiplicação e divisão. Segue alguns exemplos:  \n",
        "\n",
        "### Tabela de exemplos operadores aritméticos\n",
        "\n",
        "\n",
        "|Nome  | Simbolo| Exemplo|\n",
        "|----  |----    |----    |\n",
        "|Adição|    +   | a + b  |\n",
        "|Subtração|    -   | a - b  |\n",
        "|Multiplicação|    \\*   | a * b  |\n",
        "|Exponenciação|    **   | a ** b  |\n",
        "|Divisão|    /   | a / b  |\n",
        "|Resto da divisão|    %   | a % b  |\n",
        "|Resto da divisão (floor)|    //   | a // b  |"
      ]
    },
    {
      "cell_type": "code",
      "execution_count": null,
      "metadata": {
        "colab": {
          "base_uri": "https://localhost:8080/"
        },
        "id": "bmo9m1mUDmH-",
        "outputId": "47ec32b5-b78b-4d1e-c7e2-778b98049e40"
      },
      "outputs": [
        {
          "name": "stdout",
          "output_type": "stream",
          "text": [
            "3.3333333333333335\n",
            "1\n",
            "2\n"
          ]
        }
      ],
      "source": [
        "resultado = 10 / 3\n",
        "print(resultado)\n",
        "print(10%3)\n",
        "print(5//2)"
      ]
    },
    {
      "cell_type": "code",
      "execution_count": null,
      "metadata": {
        "colab": {
          "base_uri": "https://localhost:8080/"
        },
        "id": "hjs-Drl5rJX3",
        "outputId": "7eeb6e4e-3bbd-4d31-99d5-e94215bc7ac3"
      },
      "outputs": [
        {
          "name": "stdout",
          "output_type": "stream",
          "text": [
            "52\n",
            "108\n",
            "0.2\n",
            "25\n",
            "112\n",
            "5\n",
            "-1\n",
            "6\n",
            "8\n",
            "9\n"
          ]
        }
      ],
      "source": [
        "\"\"\"\n",
        "Exemplos de operações matemáticas.\n",
        "Python segue a regra de hierárquia entre as operações.\n",
        "() > /,* > +, -\n",
        "Segue o exemplo abaixo\n",
        "x = a + b * c\n",
        "Por prioridade a multiplicação vem antes da adição\n",
        "x = a / b * c\n",
        "Como divisão e multiplicação possuem a mesma prioridade \n",
        "a próxima regra é realizar a operação da esquerda para a direita\n",
        "logo a / b será realizado primeiro\n",
        "Para alterar a ordem, por exemplo do exemplo acima, é necessário utilizar\n",
        "parenteses. Por exemplo: \n",
        "x = a / (b * c)\n",
        "\"\"\"\n",
        "hora = 2\n",
        "minutos = 12\n",
        "\n",
        "#Adição \n",
        "print(20 + 32)\n",
        "#Multiplicação com Subtração\n",
        "print(hora * 60 - minutos)\n",
        "#Divisão\n",
        "print(minutos / 60)\n",
        "#Exponenciação\n",
        "print(5 ** 2)\n",
        "\n",
        "#Equações em geral\n",
        "print((5 + 9) * (15 - 7))\n",
        "\n",
        "# Mais exemplos\n",
        "print(2 + 3)\n",
        "print(2 - 3)\n",
        "print(2 * 3)\n",
        "print(2 ** 3)\n",
        "print(3 ** 2)"
      ]
    },
    {
      "cell_type": "markdown",
      "metadata": {
        "id": "272PEso9rdD6"
      },
      "source": [
        "\n",
        "\n",
        "---\n",
        "\n"
      ]
    },
    {
      "cell_type": "markdown",
      "metadata": {
        "id": "BNi0I8rlesId"
      },
      "source": [
        "## Operadores de atribuição\n",
        "\n",
        "Esses tipos de operadores simbolizam operações de atribuição de tipos de valores, referencias à variáveis. Segue alguns exemplos:  \n",
        "\n",
        "### Tabela de exemplos operadores atribuição\n",
        "\n",
        "|Operador  | Exemplo| Mesmo que|\n",
        "|----  |----        |----    |\n",
        "|=     |   x = 5    | x = 5  |\n",
        "|+=    |  x += 3    | x = x + 3  |\n",
        "|-=    |  x -= 3    | x = x - 3  |\n",
        "|\\*=   |  x \\*= 3   | x = x * 3|\n",
        "|/=    |  x /= 3    | x = x / 3|\n",
        "|%=    |  x %= 3    | x = x % 3|\n",
        "|//=   |  x //= 3   | x = x // 3|\n",
        "|**=   |  x **= 3   | x = x ** 3|\n",
        "|^=    |  x ^= 3    | x = x ^ 3|"
      ]
    },
    {
      "cell_type": "markdown",
      "metadata": {
        "id": "Ee0ZlyG3i2cq"
      },
      "source": [
        "## Operadores de comparação\n",
        "\n",
        "Esses tipos de operadores simbolizam operações de comparação entre tipos de valores, referencias e sempre fornece um valor booleano (True e False). Segue alguns exemplos: \n",
        "\n",
        "### Tabela de exemplos operadores comparação\n",
        "\n",
        "|Descrição| Operador | \n",
        "|----     |----        |\n",
        "|Igual    |   x == y    |\n",
        "|Não Igual    |  x != y    | \n",
        "|Maior do que     |  x > y    | \n",
        "|Menor do que     |  x < y   | \n",
        "|Maior do que ou igual a    |  x >= y    | \n",
        "|Menor do que ou igual a    |  x <= y    | \n"
      ]
    },
    {
      "cell_type": "markdown",
      "metadata": {
        "id": "Qe1OGcl_pvLk"
      },
      "source": [
        "## Operadores lógicos\n",
        "\n",
        "Esses tipos de operadores combinam declarações lógicas e sempre fornece um valor booleano (True e False). Segue alguns exemplos: \n",
        "\n",
        "### Tabela de exemplos operadores lógicos\n",
        "\n",
        "|Descrição |Operador  | Exemplo | \n",
        "|---- |----       |----     |\n",
        "|Retorna verdadeiro SE TODAS as declarações são verdadeira|and (e)    |x < 5 and x < 10  |\n",
        "|Retorna verdadeiro SE AO MENOS UMA das declarações for verdadeira|or (ou)    |x < 5 or x < 10   | \n",
        "|Retorna o resultado inverso SE resultado for verdade ele retorna falso|not (não)  |not(x < 5 and x < 10)  | "
      ]
    },
    {
      "cell_type": "markdown",
      "metadata": {
        "id": "bdvC_eJTrNSA"
      },
      "source": [
        "## Operadores de identidade\n",
        "\n",
        "Os operadores de identidade são usados para comparar os objetos, não se forem iguais, mas se forem realmente o mesmo objeto, com a mesma localização de memória. Segue alguns exemplos: \n",
        "\n",
        "### Tabela de exemplos operadores de identidade\n",
        "\n",
        "|Operador |Descrição  | Exemplo | \n",
        "|----     |----       |----     |\n",
        "|is       |Retorna verdadeiro (True) se ambas as varíaveis são o mesmo objeto    |x is y  |\n",
        "|is not   |Retorna verdadeiro (True) se ambas as varíaveis **NÃO** são o mesmo objeto    |x is not y   | "
      ]
    },
    {
      "cell_type": "markdown",
      "metadata": {
        "id": "_y2FSRT2sAVG"
      },
      "source": [
        "## Operadores de associação\n",
        "\n",
        "Os operadores de associação são usados para **testar se uma sequência é apresentada em um objeto**. Segue alguns exemplos: \n",
        "\n",
        "### Tabela de exemplos operadores de associação\n",
        "\n",
        "|Operador |Descrição  | Exemplo | \n",
        "|----     |----       |----     |\n",
        "|in       |Retorna verdadeiro (True) se a sequencia específica contém no objeto     |x in y  |\n",
        "|in not   |Retorna verdadeiro (True) se a sequencia específica NÃO contém no objeto     |x in not y   | "
      ]
    },
    {
      "cell_type": "markdown",
      "metadata": {
        "id": "Wvf3hUanre8r"
      },
      "source": [
        "# Controle de fluxo\n",
        "\n",
        "São maneiras de controlar o fluxo da tomada de decisão e é necessária quando queremos executar um código somente se uma determinada condição estiver satisfeita.\n",
        "\n",
        "Exemplo da sintaxe genérica do if em Python:\n",
        "```python\n",
        "if test expression:\n",
        "    statement(s)\n",
        "```\n",
        "\n",
        "Abaixo iremos realizar alguns exemplos e testes."
      ]
    },
    {
      "cell_type": "markdown",
      "metadata": {
        "id": "lQkj8Uw9PrDt"
      },
      "source": [
        "## Python If ... Else\n",
        "\n",
        "O Python suporta as condições lógicas usuais da matemática:\n",
        "\n",
        "É igual a: a == b\n",
        "\n",
        "Diferente: a! = B\n",
        "\n",
        "Menor que: a <b\n",
        "\n",
        "Menor ou igual a: a <= b\n",
        "\n",
        "Maior que: a> b\n",
        "\n",
        "Maior ou igual a: a> = b\n",
        "\n",
        "Essas condições podem ser usadas de várias maneiras, mais comumente em \"instruções if\" e loops.\n",
        "\n",
        "Uma \"declaração if\" é escrita usando a palavra-chave if."
      ]
    },
    {
      "cell_type": "code",
      "execution_count": null,
      "metadata": {
        "colab": {
          "base_uri": "https://localhost:8080/"
        },
        "id": "oCzY8MiNP6sx",
        "outputId": "6e604477-66e8-409f-acce-9771e821e061"
      },
      "outputs": [
        {
          "name": "stdout",
          "output_type": "stream",
          "text": [
            "b é maior do que a\n"
          ]
        }
      ],
      "source": [
        "a = 33\n",
        "b = 200\n",
        "if b > a:\n",
        "  print(\"b é maior do que a\")"
      ]
    },
    {
      "cell_type": "markdown",
      "metadata": {
        "id": "l5mtYw08P8V6"
      },
      "source": [
        "Neste exemplo, usamos duas variáveis, a e b, que são usadas como parte da instrução if para testar se b é maior que a. Como a é 33 e b é 200, sabemos que 200 é maior que 33 e, portanto, imprimimos na tela que \"b é maior que a\"."
      ]
    },
    {
      "cell_type": "code",
      "execution_count": null,
      "metadata": {
        "colab": {
          "base_uri": "https://localhost:8080/"
        },
        "id": "No5waAJbryW3",
        "outputId": "54349c59-0cd2-4fbd-b092-779b6dd1bc67"
      },
      "outputs": [
        {
          "name": "stdout",
          "output_type": "stream",
          "text": [
            "3 É positivo.\n",
            "Isso sempre irá ser impresso.\n",
            "Isso sempre irá ser impresso.\n"
          ]
        }
      ],
      "source": [
        "# Se um número é positivo, iremos exibi-lo.\n",
        "\n",
        "num = 3\n",
        "if num > 0:\n",
        "    print(num, \"É positivo.\")\n",
        "print(\"Isso sempre irá ser impresso.\")\n",
        "\n",
        "num = -1\n",
        "if num > 0:\n",
        "    print(num, \"É positivo.\")\n",
        "print(\"Isso sempre irá ser impresso.\")"
      ]
    },
    {
      "cell_type": "markdown",
      "metadata": {
        "id": "cCw-cjy4r6Nz"
      },
      "source": [
        "Veja, no exemplo acima, somente a primeira declaração foi exibdo, mas por quê?\n",
        "\n",
        "O que acontece é estamos validando uma pergunta feita através da declaração **if**, a condição testada foi num > 0, nesse caso, como a variável num estava definida como 3, então a condição é verdadeira.\n",
        "\n",
        "A declaração **if** necessita saber se a resposta de condição/pergunta é verdadeira ou falsa. Caso seja verdadeira é permitido a entrada, como podemos ver no primeiro exemplo. Copiado abaixo.\n",
        "\n",
        "```python\n",
        "num = 3\n",
        "if num > 0:\n",
        "    print(num, \"É positivo.\")\n",
        "```"
      ]
    },
    {
      "cell_type": "markdown",
      "metadata": {
        "id": "3rsIOltcr-3J"
      },
      "source": [
        "\n",
        "\n",
        "---\n"
      ]
    },
    {
      "cell_type": "markdown",
      "metadata": {
        "id": "PlWQmzkwQH6C"
      },
      "source": [
        "\n",
        "Indentação\n",
        "\n",
        "O Python conta com recuo (espaço em branco no início de uma linha) para definir o escopo no código. Outras linguagens de programação costumam usar colchetes para esse fim."
      ]
    },
    {
      "cell_type": "code",
      "execution_count": null,
      "metadata": {
        "colab": {
          "base_uri": "https://localhost:8080/"
        },
        "id": "NBRd8GGrQUlL",
        "outputId": "5195231a-5a3e-479b-8bc1-c58b906ed6a0"
      },
      "outputs": [
        {
          "name": "stdout",
          "output_type": "stream",
          "text": [
            "b é maior do que a\n"
          ]
        }
      ],
      "source": [
        "a = 33\n",
        "b = 200\n",
        "if b > a:\n",
        "  print(\"b é maior do que a\")"
      ]
    },
    {
      "cell_type": "markdown",
      "metadata": {
        "id": "W5HkYIUqsQ7B"
      },
      "source": [
        "## Declaração elif\n",
        "\n",
        "Basicamente é mais uma abreviação para mais if. \n",
        "Ele nos permite verificar se há múltiplas expressões.\n",
        "\n",
        "Se a condição for falsa, verifica a condição do próximo bloco e assim por diante. if False elif\n",
        "Se todas as condições forem falsas, o else será executado.\n",
        "Apenas um bloco entre os vários blocos é executado de acordo com a condição. if...elif...else\n",
        "O bloco pode ter apenas um bloco. Mas pode ter vários blocos.ifelseelif"
      ]
    },
    {
      "cell_type": "markdown",
      "metadata": {
        "id": "L-Yb0HiaQeuZ"
      },
      "source": [
        "Elif\n",
        "\n",
        "A palavra-chave elif é uma forma de pythons de dizer \"se as condições anteriores não fossem verdadeiras, tente esta condição\"."
      ]
    },
    {
      "cell_type": "code",
      "execution_count": null,
      "metadata": {
        "colab": {
          "base_uri": "https://localhost:8080/"
        },
        "id": "iRRJvBhxQgdy",
        "outputId": "68b3bf9a-e7fd-4a66-e1fd-0472697bc68b"
      },
      "outputs": [
        {
          "name": "stdout",
          "output_type": "stream",
          "text": [
            "a e b são iguais\n"
          ]
        }
      ],
      "source": [
        "a = 33\n",
        "b = 33\n",
        "if b > a:\n",
        "  print(\"b é maior do que a\")\n",
        "elif a == b:\n",
        "  print(\"a e b são iguais\")"
      ]
    },
    {
      "cell_type": "code",
      "execution_count": null,
      "metadata": {
        "colab": {
          "base_uri": "https://localhost:8080/"
        },
        "id": "2Ggt2nLKsVp1",
        "outputId": "a7057982-5765-4908-de3e-4f7e39157443"
      },
      "outputs": [
        {
          "name": "stdout",
          "output_type": "stream",
          "text": [
            "Informe um valor15\n",
            "Número positivo\n"
          ]
        }
      ],
      "source": [
        "# Negativo e zero exibir uma mensagem apropriada\n",
        "\n",
        "num = int(input('Informe um valor: '))\n",
        "\n",
        "# Tente essas variações:\n",
        "# num = 0\n",
        "# num = -4.5\n",
        "\n",
        "if num > 0:\n",
        "    print(\"Número positivo\")\n",
        "elif num == 0:\n",
        "    print(\"Zero\")\n",
        "else:\n",
        "    print(\"Número negativo\")"
      ]
    },
    {
      "cell_type": "markdown",
      "metadata": {
        "id": "VHYfmKP-scJa"
      },
      "source": [
        "## Declaração else\n",
        "\n",
        "A declaração else faz parte da declaração if, e é uma opção padrão quando a condição do if não é aceita. Veja o exemplo abaixo."
      ]
    },
    {
      "cell_type": "markdown",
      "metadata": {
        "id": "YrwCGZpsQn0E"
      },
      "source": [
        "Else\n",
        "\n",
        "A palavra-chave else captura qualquer coisa que não seja capturada pelas condições anteriores."
      ]
    },
    {
      "cell_type": "code",
      "execution_count": null,
      "metadata": {
        "colab": {
          "base_uri": "https://localhost:8080/"
        },
        "id": "WLBntXYFQq7D",
        "outputId": "d271ce02-0a3c-4415-f63c-a4170ab61722"
      },
      "outputs": [
        {
          "name": "stdout",
          "output_type": "stream",
          "text": [
            "a é maior do que b\n"
          ]
        }
      ],
      "source": [
        "a = 200\n",
        "b = 33\n",
        "if b > a:\n",
        "  print(\"b é maior do que a\")\n",
        "elif a == b:\n",
        "  print(\"a e b são iguais\")\n",
        "else:\n",
        "  print(\"a é maior do que b\")"
      ]
    },
    {
      "cell_type": "code",
      "execution_count": null,
      "metadata": {
        "colab": {
          "base_uri": "https://localhost:8080/"
        },
        "id": "8DByNcwVslWr",
        "outputId": "e798ce9c-78e9-4c84-c26b-3c98e5871981"
      },
      "outputs": [
        {
          "name": "stdout",
          "output_type": "stream",
          "text": [
            "Positivo ou zero\n"
          ]
        }
      ],
      "source": [
        "# Programa verifica se o número é positivo ou negativo \n",
        "# e exibe a mensagem apropriada\n",
        "\n",
        "num = 3\n",
        "\n",
        "# Tente com essas variações. \n",
        "# num = -5\n",
        "# num = 0\n",
        "\n",
        "if num >= 0:\n",
        "    print(\"Positivo ou zero\")\n",
        "else:\n",
        "    print(\"Número negativo\")"
      ]
    },
    {
      "cell_type": "markdown",
      "metadata": {
        "id": "-Goz0NrHQ3tT"
      },
      "source": [
        "## Python While Loops\n",
        "\n",
        "O Python possui dois comandos primitivos de loop:\n",
        "\n",
        "while loops\n",
        "\n",
        "for loops\n",
        "\n"
      ]
    },
    {
      "cell_type": "markdown",
      "metadata": {
        "id": "OTMC3PdsRErR"
      },
      "source": [
        "The while Loop\n",
        "\n",
        "Com o loop while, podemos executar um conjunto de instruções, desde que uma condição seja verdadeira."
      ]
    },
    {
      "cell_type": "code",
      "execution_count": null,
      "metadata": {
        "colab": {
          "base_uri": "https://localhost:8080/"
        },
        "id": "hnevRup4RKfr",
        "outputId": "e3cffe38-0e22-48a1-8f8c-cc528a197c3e"
      },
      "outputs": [
        {
          "name": "stdout",
          "output_type": "stream",
          "text": [
            "0\n",
            "1\n",
            "2\n",
            "3\n",
            "4\n",
            "5\n"
          ]
        }
      ],
      "source": [
        "i = 0\n",
        "while i < 6:\n",
        "  print(i)\n",
        "  i += 1\n",
        "  # i++\n",
        "  # ++i  "
      ]
    },
    {
      "cell_type": "markdown",
      "metadata": {
        "id": "IljpiEv6RNx4"
      },
      "source": [
        "## Python For Loops\n",
        "\n",
        "Um for loop é usado para iterar sobre uma sequência (ou seja, uma lista, uma tupla, um dicionário, um conjunto ou uma string).\n",
        "\n",
        "Isso é menos parecido com a palavra-chave for em outras linguagens de programação e funciona mais como um método iterador, como encontrado em outras linguagens de programação orientadas a objetos.\n",
        "\n",
        "Com o for loop, podemos executar um conjunto de instruções, uma vez para cada item de uma lista, tupla, conjunto etc."
      ]
    },
    {
      "cell_type": "code",
      "execution_count": null,
      "metadata": {
        "colab": {
          "base_uri": "https://localhost:8080/"
        },
        "id": "dv-o5ul2Rngy",
        "outputId": "6d90803f-e841-4f8a-b7af-6db64b287d3f"
      },
      "outputs": [
        {
          "name": "stdout",
          "output_type": "stream",
          "text": [
            "maça\n",
            "banana\n",
            "cereja\n",
            "L\n",
            "u\n",
            "i\n",
            "s\n"
          ]
        }
      ],
      "source": [
        "frutas = [\"maça\", \"banana\", \"cereja\"]\n",
        "for fruta in frutas:\n",
        "  print(fruta)\n",
        "\n",
        "nome = \"Luis\"\n",
        "for letra in nome:\n",
        "  print(letra)"
      ]
    },
    {
      "cell_type": "code",
      "execution_count": null,
      "metadata": {
        "colab": {
          "base_uri": "https://localhost:8080/"
        },
        "id": "tvkSJ_-pSsNi",
        "outputId": "a6a74f11-f5f3-49b0-c159-c1148d87e757"
      },
      "outputs": [
        {
          "name": "stdout",
          "output_type": "stream",
          "text": [
            "maça\n",
            "cereja\n"
          ]
        }
      ],
      "source": [
        "frutas = [\"maça\", \"cereja\", \"banana\", \"melão\"]\n",
        "for fruta in frutas:\n",
        "  if fruta == \"banana\":\n",
        "    break\n",
        "  print(fruta)"
      ]
    },
    {
      "cell_type": "code",
      "execution_count": null,
      "metadata": {
        "colab": {
          "base_uri": "https://localhost:8080/"
        },
        "id": "b5N0GhK6TfKZ",
        "outputId": "ee356cc6-5d89-4573-98a3-0cc83b0c6ff2"
      },
      "outputs": [
        {
          "name": "stdout",
          "output_type": "stream",
          "text": [
            "maça\n",
            "banana\n",
            "melão\n"
          ]
        }
      ],
      "source": [
        "frutas = [\"maça\", \"cereja\", \"banana\", \"melão\"]\n",
        "for fruta in frutas:\n",
        "  if fruta == \"cereja\":\n",
        "    continue\n",
        "  print(fruta)"
      ]
    },
    {
      "cell_type": "code",
      "execution_count": null,
      "metadata": {
        "colab": {
          "base_uri": "https://localhost:8080/"
        },
        "id": "TjhO5d8LTsdg",
        "outputId": "d8c2e66b-4b1a-4207-fac5-711bc26c22c9"
      },
      "outputs": [
        {
          "name": "stdout",
          "output_type": "stream",
          "text": [
            "3\n",
            "6\n",
            "9\n"
          ]
        }
      ],
      "source": [
        "for valor in range(3, 10, 3):\n",
        "  print(valor)"
      ]
    },
    {
      "cell_type": "markdown",
      "metadata": {
        "id": "1MVhLdKqTqQp"
      },
      "source": []
    },
    {
      "cell_type": "markdown",
      "metadata": {
        "id": "kGv0OVJHuSJn"
      },
      "source": [
        "# Python Coleções\n",
        "\n",
        "Coleções são entidades capazes de armazenar multiplos valores em uma única variável. Iremos ver os quatro principais tipos ou os mais utilizados em python sendo eles:\n",
        ">   \n",
        ">1 - List (Lista);   \n",
        ">2 - Tuples (Tuplas);   \n",
        ">3 - Sets (Conjuntos);   \n",
        ">4 - Dictionaries (Dicionários)"
      ]
    },
    {
      "cell_type": "markdown",
      "metadata": {
        "id": "gsvzXW3ovCde"
      },
      "source": [
        "## Lista em python\n",
        "\n",
        "Lista é a forma mais simples de armazenamento múltiplo de itens, porém resolve a maior parte dos problemas. Os valores literais da lista são escritos dentro de quadrados [ ]. As listas funcionam de forma semelhante às strings -- use a função len() e os suportes quadrados [ ] para acessar dados, o primeiro elemento no índice de um lista é 0 (zero)\n",
        "\n",
        "Sugestão de leitura: https://developers.google.com/edu/python/lists "
      ]
    },
    {
      "cell_type": "code",
      "execution_count": null,
      "metadata": {
        "colab": {
          "base_uri": "https://localhost:8080/"
        },
        "id": "vKHT-N31IVn5",
        "outputId": "f4e66374-f245-4f17-df30-be99dd0f5fc9"
      },
      "outputs": [
        {
          "name": "stdout",
          "output_type": "stream",
          "text": [
            "Maça\n",
            "3\n"
          ]
        }
      ],
      "source": [
        "frutas = ['Maça', 'Banana', 'Cereja']\n",
        "#print(type(frutas))\n",
        "print(frutas[0])\n",
        "print(len(frutas))"
      ]
    },
    {
      "cell_type": "code",
      "execution_count": null,
      "metadata": {
        "colab": {
          "base_uri": "https://localhost:8080/"
        },
        "id": "4_FSkM4nwEym",
        "outputId": "7455195c-50bd-4bfd-d1b2-600ce1b1b61a"
      },
      "outputs": [
        {
          "name": "stdout",
          "output_type": "stream",
          "text": [
            "maça\n",
            "abacate\n",
            "3\n"
          ]
        }
      ],
      "source": [
        "# Criando uma simples lista de frutas\n",
        "frutas = ['maça', 'banana', 'abacate']\n",
        "# Acessando os itens\n",
        "print(frutas[0])    ## maça\n",
        "print(frutas[2])    ## abacate\n",
        "print(len(frutas))  ## exibe o tamanha absoluto da lista - 3 "
      ]
    },
    {
      "cell_type": "code",
      "execution_count": null,
      "metadata": {
        "colab": {
          "base_uri": "https://localhost:8080/"
        },
        "id": "A5cb2OjsxA3W",
        "outputId": "97617f18-0773-4d50-dd51-35ab6a1f92ac"
      },
      "outputs": [
        {
          "name": "stdout",
          "output_type": "stream",
          "text": [
            "abacate\n",
            "banana\n",
            "maça\n"
          ]
        }
      ],
      "source": [
        "\"\"\"\n",
        "Em python, diferente de algumas linguagens, podemos acessar a partir \n",
        "do último para o primeiro item, para isso usamos indices negativos iniciando em -1\n",
        "por exemplo:\n",
        "\"\"\"\n",
        "frutas = ['maça', 'banana', 'abacate']\n",
        "print(frutas[-1])    ## abacate\n",
        "print(frutas[-2])    ## banana\n",
        "print(frutas[-3])   ## maça"
      ]
    },
    {
      "cell_type": "code",
      "execution_count": null,
      "metadata": {
        "colab": {
          "base_uri": "https://localhost:8080/"
        },
        "id": "NgZjv2oZxnSC",
        "outputId": "dfc0e794-baac-4772-d2d8-2163f29bc2f5"
      },
      "outputs": [
        {
          "name": "stdout",
          "output_type": "stream",
          "text": [
            "['cereja', 'laranja', 'Banana']\n"
          ]
        }
      ],
      "source": [
        "\"\"\"\n",
        "Em python também é possivel pegarmos um \"pedaço\" da lista, passando o intervalo\n",
        "entre os dados, por exemplo:\n",
        "\"\"\"\n",
        "minha_lista = [\"maça\", \"banana\", \"cereja\", \"laranja\", \"Banana\", \"melão\", \"manga\"]\n",
        "print(minha_lista[2:5])"
      ]
    },
    {
      "cell_type": "code",
      "execution_count": null,
      "metadata": {
        "colab": {
          "base_uri": "https://localhost:8080/"
        },
        "id": "xPtdV5JLyE_H",
        "outputId": "c458d9a4-b631-4a41-f9d5-0f88bc51abe6"
      },
      "outputs": [
        {
          "name": "stdout",
          "output_type": "stream",
          "text": [
            "['maça', 'banana', 'cereja', 'laranja']\n",
            "['maça', 'banana', 'cereja', 'laranja']\n"
          ]
        }
      ],
      "source": [
        "\"\"\"\n",
        "Algumas variações\n",
        "Essa variação retorna os itens a partir do inicio ':' até o quarto item e não o \n",
        "índice 4.\n",
        "\"\"\"\n",
        "minha_lista = [\"maça\", \"banana\", \"cereja\", \"laranja\", \"Banana\", \"melão\", \"manga\"]\n",
        "print(minha_lista[:4])\n",
        "# mesma coisa que\n",
        "print(minha_lista[0:4])"
      ]
    },
    {
      "cell_type": "code",
      "execution_count": null,
      "metadata": {
        "colab": {
          "base_uri": "https://localhost:8080/"
        },
        "id": "_NIl879JysLH",
        "outputId": "07a49625-856d-4dd5-fc4e-54f0ff34b9e8"
      },
      "outputs": [
        {
          "name": "stdout",
          "output_type": "stream",
          "text": [
            "['cereja', 'laranja', 'Banana', 'melão', 'manga']\n",
            "['cereja', 'laranja', 'Banana', 'melão', 'manga']\n"
          ]
        }
      ],
      "source": [
        "\"\"\"\n",
        "Essa variação retorna os itens APÓS o segundo item '2' até o \n",
        "final da lista. \n",
        "\"\"\"\n",
        "minha_lista = [\"maça\", \"banana\", \"cereja\", \"laranja\", \"Banana\", \"melão\", \"manga\"]\n",
        "print(minha_lista[2:])\n",
        "# mesma coisa que\n",
        "print(minha_lista[2:len(minha_lista)])"
      ]
    },
    {
      "cell_type": "code",
      "execution_count": null,
      "metadata": {
        "colab": {
          "base_uri": "https://localhost:8080/"
        },
        "id": "XEb9W3PPzx3i",
        "outputId": "98422c51-851c-402c-acd6-27a169fd3426"
      },
      "outputs": [
        {
          "name": "stdout",
          "output_type": "stream",
          "text": [
            "Sim, 'maça' está na lista\n"
          ]
        }
      ],
      "source": [
        "\"\"\"\n",
        "Podemos verificar se há algum item específico na lista, por exemplo\n",
        "\"\"\"\n",
        "minha_lista = [\"maça\", \"banana\", \"cereja\", \"laranja\", \"Banana\", \"melão\", \"manga\"]\n",
        "if \"maça\" in minha_lista:\n",
        "  print(\"Sim, 'maça' está na lista\")"
      ]
    },
    {
      "cell_type": "markdown",
      "metadata": {
        "id": "E4Dak0790DEF"
      },
      "source": [
        "### Manipulando itens em uma lista"
      ]
    },
    {
      "cell_type": "code",
      "execution_count": null,
      "metadata": {
        "colab": {
          "base_uri": "https://localhost:8080/"
        },
        "id": "6VzEdPNMwMxw",
        "outputId": "e13c9294-9800-4b9d-c748-ad6b0c5d8a4b"
      },
      "outputs": [
        {
          "name": "stdout",
          "output_type": "stream",
          "text": [
            "[]\n"
          ]
        }
      ],
      "source": [
        "# Criando uma lista vazia\n",
        "frutas_vermelhas = []\n",
        "print(frutas_vermelhas)"
      ]
    },
    {
      "cell_type": "code",
      "execution_count": null,
      "metadata": {
        "colab": {
          "base_uri": "https://localhost:8080/"
        },
        "id": "GzC-a1hO0JCJ",
        "outputId": "12dd3863-30a5-45b6-e959-bc3c8e99f14f"
      },
      "outputs": [
        {
          "name": "stdout",
          "output_type": "stream",
          "text": [
            "Lista vazia:  []\n",
            "['Morango', 'Melancia', 'Cereja', 'Framboesa']\n"
          ]
        }
      ],
      "source": [
        "\"\"\"\n",
        "Para adicionar itens a uma lista, é preciso utilizar uma função da própria estrutura\n",
        "chamada como 'append'\n",
        "\"\"\"\n",
        "frutas_vermelhas = []\n",
        "print(\"Lista vazia: \", frutas_vermelhas)\n",
        "frutas_vermelhas.append(\"Morango\")\n",
        "frutas_vermelhas.append(\"Melancia\")\n",
        "frutas_vermelhas.append(\"Cereja\")\n",
        "frutas_vermelhas.append(\"Framboesa\")\n",
        "print(frutas_vermelhas)"
      ]
    },
    {
      "cell_type": "code",
      "execution_count": null,
      "metadata": {
        "colab": {
          "base_uri": "https://localhost:8080/"
        },
        "id": "-vj47z401UMv",
        "outputId": "06344cbb-3ac6-485c-854f-5da16fb8ca80"
      },
      "outputs": [
        {
          "name": "stdout",
          "output_type": "stream",
          "text": [
            "['Morango']\n",
            "['Cereja']\n"
          ]
        }
      ],
      "source": [
        "\"\"\"\n",
        "CUIDADO\n",
        "\"\"\"\n",
        "itens_salada = []\n",
        "# frutas_vermelhas[0] = \"Morango\" ERRADO\n",
        "\"\"\"\n",
        "As seguintes linhas de código inserem sempre o item na mesmo posição\n",
        "\"\"\"\n",
        "frutas_vermelhas = [\"Morango\"]\n",
        "print(frutas_vermelhas)\n",
        "frutas_vermelhas = [\"Melancia\"]\n",
        "frutas_vermelhas = [\"Cereja\"]\n",
        "print(frutas_vermelhas)"
      ]
    },
    {
      "cell_type": "markdown",
      "metadata": {
        "id": "YcW4hPqA2vK6"
      },
      "source": [
        "### Alguns métodos de lista\n",
        "\n",
        "https://developers.google.com/edu/python/lists?hl=pt-br\n",
        "\n",
        "Aqui estão alguns outros métodos de lista comuns.\n",
        "\n",
        "- **list.append(elem)** -- adiciona um único elemento ao final da lista. Erro comum: não retorna a nova lista, apenas modifica o original.   \n",
        "- **list.insert (index, elem)** -- insere o elemento no índice dado, deslocando elementos para a direita.   \n",
        "- **list.extend(list2)** adiciona os elementos na lista2 ao final da lista. Usar + ou += em uma lista é semelhante ao uso de extensão().   \n",
        "- **list.index(elem)** -- pesquisa o elemento dado desde o início da lista e retorna seu índice. Lança um ValueError se o elemento não aparecer (use \"in\" para verificar sem um ValueError).   \n",
        "- **list.remove(elem)** -- pesquisa a primeira instância do elemento dado e remove-o (lança ValueError se não estiver presente)   \n",
        "- **list.sort()** -- classifica a lista no lugar (não a devolve). (A função classificada() mostrada posteriormente é a preferida.)   \n",
        "- **list.reverse()** -- inverte a lista no lugar (não a devolve)   \n",
        "- **list.pop(index)** -- remove e retorna o elemento no índice dado. Retorna o elemento mais certo se o índice for omitido (aproximadamente o oposto do apêndice())."
      ]
    },
    {
      "cell_type": "markdown",
      "metadata": {
        "id": "bKRJXAUw3_yj"
      },
      "source": [
        "## Tuplas em python\n",
        "Assim como as listas as tuplas são usadas para armazenar vários itens em uma única variável.\n",
        "\n",
        "O tipo **Tuple** é um dos 4 tipos de dados incorporados no Python usados para armazenar coleções de dados, os outros 3 são Lista, Conjunto e Dicionário, todos com qualidades e uso diferentes.\n",
        "\n",
        "Diferente de uma lista uma tupla é uma coleção é ordenada e imutável. Sendo assim, uma vez criada não é possível alterar, adicionar ou remover valores.\n",
        "A sintaxe de tuplas são escritas com parenteses.\n",
        "\n",
        "> Tupla é uma estrutura de dados dita ordenada, porém a ordenação aqui não é referente aos dados ordenados na saída, mas sim em como os dados são armazenados dentro da estrutura\n",
        "> Sugestão de leitura: https://docs.python.org/3/tutorial/datastructures.html#tuples-and-sequences "
      ]
    },
    {
      "cell_type": "code",
      "execution_count": null,
      "metadata": {
        "colab": {
          "base_uri": "https://localhost:8080/"
        },
        "id": "z6RI8L774vVG",
        "outputId": "d104d056-711c-498a-cb36-7c20cc4a453f"
      },
      "outputs": [
        {
          "name": "stdout",
          "output_type": "stream",
          "text": [
            "('maça', 'banana', 'cereja')\n"
          ]
        }
      ],
      "source": [
        "minha_tupla = (\"maça\", \"banana\", \"cereja\")\n",
        "print(minha_tupla)"
      ]
    },
    {
      "cell_type": "code",
      "execution_count": null,
      "metadata": {
        "colab": {
          "base_uri": "https://localhost:8080/"
        },
        "id": "3U_YVecQ5MTe",
        "outputId": "51e4595a-71b7-43ce-a58e-a401bb3356b0"
      },
      "outputs": [
        {
          "name": "stdout",
          "output_type": "stream",
          "text": [
            "<class 'tuple'>\n",
            "<class 'str'>\n"
          ]
        }
      ],
      "source": [
        "\"\"\"\n",
        "Para criar uma tupla com um item é preciso passar uma virgula, por exemplo: \n",
        "\"\"\"\n",
        "thistuple = (\"maça\",)\n",
        "print(type(thistuple))\n",
        "\n",
        "#Não é uma tupla\n",
        "thistuple = (\"maça\")\n",
        "print(type(thistuple))"
      ]
    },
    {
      "cell_type": "code",
      "execution_count": null,
      "metadata": {
        "colab": {
          "base_uri": "https://localhost:8080/"
        },
        "id": "mX2b8Dmq5rCF",
        "outputId": "55d3c37c-e3f5-49e0-878a-4f0663011d55"
      },
      "outputs": [
        {
          "name": "stdout",
          "output_type": "stream",
          "text": [
            "banana\n",
            "('maça', 'banana')\n",
            "cereja\n"
          ]
        }
      ],
      "source": [
        "\"\"\"\n",
        "A captura dos valores por indices é similar a lista vista anteriormente. Por exemplo:\n",
        "\"\"\"\n",
        "thistuple = (\"maça\", \"banana\", \"cereja\")\n",
        "print(thistuple[1])\n",
        "print(thistuple[:2])\n",
        "print(thistuple[-1])"
      ]
    },
    {
      "cell_type": "markdown",
      "metadata": {
        "id": "9B6U3Exj6cAZ"
      },
      "source": [
        "### Atualizar tuplas (Alternativas)\n",
        "As tuplas são imutáveis, o que significa que você não pode alterar, adicionar ou remover itens uma vez que a tupla é criada.   \n",
        "\n",
        "Mas há algumas soluções alternativas."
      ]
    },
    {
      "cell_type": "code",
      "execution_count": null,
      "metadata": {
        "colab": {
          "base_uri": "https://localhost:8080/"
        },
        "id": "2ermDajO6sjo",
        "outputId": "a2ef3063-feda-4d03-9cfd-2514d95bf760"
      },
      "outputs": [
        {
          "name": "stdout",
          "output_type": "stream",
          "text": [
            "('maça', 'Jabuticaba', 'cereja')\n"
          ]
        }
      ],
      "source": [
        "\"\"\"\n",
        "Converta a tupla em uma lista para poder alterá-la:\n",
        "\"\"\"\n",
        "x = (\"maça\", \"banana\", \"cereja\")\n",
        "y = list(x)\n",
        "y[1] = \"Jabuticaba\"\n",
        "x = tuple(y)\n",
        "\n",
        "print(x)"
      ]
    },
    {
      "cell_type": "code",
      "execution_count": null,
      "metadata": {
        "colab": {
          "base_uri": "https://localhost:8080/"
        },
        "id": "XxF5dilu68TE",
        "outputId": "9a0692f9-d10a-4c76-9838-655eefc0e0f4"
      },
      "outputs": [
        {
          "name": "stdout",
          "output_type": "stream",
          "text": [
            "('maça', 'banana', 'cereja', 'laranja')\n",
            "('maça', 'banana', 'cereja', 'abacate')\n"
          ]
        }
      ],
      "source": [
        "\"\"\"\n",
        "Adicionar itens\n",
        "\"\"\"\n",
        "# 1° maneira - Converter para lista\n",
        "x = (\"maça\", \"banana\", \"cereja\")\n",
        "y = list(x)\n",
        "y.append(\"laranja\")\n",
        "x = tuple(y)\n",
        "print(x)\n",
        "\n",
        "# 2° maneira - Adicione uma tupla a tupla\n",
        "x = (\"maça\", \"banana\", \"cereja\")\n",
        "y = (\"abacate\",)\n",
        "x += y\n",
        "print(x)"
      ]
    },
    {
      "cell_type": "code",
      "execution_count": null,
      "metadata": {
        "colab": {
          "base_uri": "https://localhost:8080/"
        },
        "id": "XaCBo59H7lXp",
        "outputId": "6a796c22-fb9e-474d-af97-4f706f2818a4"
      },
      "outputs": [
        {
          "name": "stdout",
          "output_type": "stream",
          "text": [
            "('maça', 'cereja')\n"
          ]
        }
      ],
      "source": [
        "# Remover itens\n",
        "minha_tupla = (\"maça\", \"banana\", \"cereja\")\n",
        "y = list(minha_tupla)\n",
        "y.remove(\"banana\")\n",
        "minha_tupla = tuple(y)\n",
        "\n",
        "print(minha_tupla)"
      ]
    },
    {
      "cell_type": "markdown",
      "metadata": {
        "id": "wPyDv2Rz6561"
      },
      "source": []
    },
    {
      "cell_type": "markdown",
      "metadata": {
        "id": "C51MAnuw9MFg"
      },
      "source": [
        "## Sets (conjunto) em python\n",
        "Assim como as coleções lista e tupla, sets são coleções usadas para armazenar vários itens em uma única variável.\n",
        "Set é um dos 4 tipos de dados incorporados no Python usados para armazenar coleções de dados, os outros 3 são List, Tuple e Dictionary, todos com diferentes qualidades e uso."
      ]
    },
    {
      "cell_type": "code",
      "execution_count": null,
      "metadata": {
        "colab": {
          "base_uri": "https://localhost:8080/"
        },
        "id": "L4Q3UJ4MDz-P",
        "outputId": "bffb7e19-0267-427b-f2de-3bcd658ebffc"
      },
      "outputs": [
        {
          "name": "stdout",
          "output_type": "stream",
          "text": [
            "{'abacate', 'banana', 'maça'}\n",
            "{'cereja', 'banana', 'maça'}\n"
          ]
        }
      ],
      "source": [
        "conjunto = {\"maça\", \"banana\", \"abacate\"}\n",
        "print(conjunto)\n",
        "\n",
        "# Não permite dados duplicados\n",
        "conjunto = {\"maça\", \"banana\", \"cereja\", \"maça\"}\n",
        "\n",
        "print(conjunto)"
      ]
    },
    {
      "cell_type": "code",
      "execution_count": null,
      "metadata": {
        "colab": {
          "base_uri": "https://localhost:8080/"
        },
        "id": "jbgT5t1BEXhp",
        "outputId": "8d1ec53d-cf0f-43a3-dfb5-eef1540466fa"
      },
      "outputs": [
        {
          "name": "stdout",
          "output_type": "stream",
          "text": [
            "{'abacate', 'banana', 'maça', 'orange'}\n"
          ]
        }
      ],
      "source": [
        "# Adicionando valores\n",
        "conjunto = {\"maça\", \"banana\", \"abacate\"}\n",
        "conjunto.add(\"laranja\")\n",
        "print(conjunto)"
      ]
    },
    {
      "cell_type": "code",
      "execution_count": null,
      "metadata": {
        "colab": {
          "base_uri": "https://localhost:8080/"
        },
        "id": "qDV4dn_5Ef2w",
        "outputId": "622a4d3b-d854-43d4-bfcb-955ce2c76392"
      },
      "outputs": [
        {
          "name": "stdout",
          "output_type": "stream",
          "text": [
            "{'abacate', 'melancia', 'morango', 'banana', 'maça'}\n"
          ]
        }
      ],
      "source": [
        "# Adiciona outros conjuntos\n",
        "conjunto = {\"maça\", \"banana\", \"abacate\"}\n",
        "conjunto_fruntas_vermelhas = {\"morango\", \"melancia\"}\n",
        "conjunto.update(conjunto_fruntas_vermelhas)\n",
        "print(conjunto)"
      ]
    },
    {
      "cell_type": "code",
      "execution_count": null,
      "metadata": {
        "colab": {
          "base_uri": "https://localhost:8080/"
        },
        "id": "_e4zWDPdEz0d",
        "outputId": "ddd4057b-dc91-4887-e650-64619e3833cd"
      },
      "outputs": [
        {
          "name": "stdout",
          "output_type": "stream",
          "text": [
            "{'abacate', 'maça'}\n",
            "{'abacate', 'banana', 'maça'}\n",
            "{'banana', 'maça'}\n",
            "set()\n"
          ]
        }
      ],
      "source": [
        "\"\"\"\n",
        "Remover item de um conjunto com a função remove. \n",
        "Caso não haja o valor, irá ser lançada uma exceção\n",
        "\"\"\"\n",
        "conjunto = {\"maça\", \"banana\", \"abacate\"}\n",
        "conjunto.remove(\"banana\")\n",
        "print(conjunto)\n",
        "\n",
        "\"\"\"\n",
        "Remover item de um conjunto com a função discard.\n",
        "Caso não haja o valor, NÃO irá ser lançada uma exceção\n",
        "\"\"\"\n",
        "conjunto = {\"maça\", \"banana\", \"abacate\"}\n",
        "conjunto.discard(\"laranja\")\n",
        "print(conjunto)\n",
        "\n",
        "\"\"\"\n",
        "Para remover o último item de um conjunto basta utilizar o método pop()\n",
        "\"\"\"\n",
        "conjunto = {\"maça\", \"banana\", \"abacate\"}\n",
        "conjunto.pop()\n",
        "print(conjunto)\n",
        "\"\"\"\n",
        "Para esvaziar um conjunto basta utilizar o método clear()\n",
        "\"\"\"\n",
        "conjunto = {\"maça\", \"banana\", \"abacate\"}\n",
        "conjunto.clear()\n",
        "print(conjunto)"
      ]
    },
    {
      "cell_type": "markdown",
      "metadata": {
        "id": "mFGb_WCtEzkf"
      },
      "source": []
    },
    {
      "cell_type": "markdown",
      "metadata": {
        "id": "qKVktyqOBCBg"
      },
      "source": [
        "## Dicionário\n",
        "\n",
        "Assim como as anteriores dicionários são usados para armazenar valores de dados em pares de valores chave.\n",
        "\n",
        "Um dicionário é uma coleção que é encomendada*, mutável e não permite duplicatas.\n",
        "\n",
        "> Link para referência: [Dicionários](https://realpython.com/python-dicts/#:~:text=Dictionaries%20are%20Python%E2%80%99s%20implementation%20of%20a%20data%20structure,key-value%20pairs%20in%20curly%20braces%20%28%20%7B%7D%20%29.)"
      ]
    },
    {
      "cell_type": "code",
      "execution_count": null,
      "metadata": {
        "colab": {
          "base_uri": "https://localhost:8080/"
        },
        "id": "DhH_8rerBMQS",
        "outputId": "f3ab69f0-012e-4d4c-b6c5-6c8619279ac3"
      },
      "outputs": [
        {
          "name": "stdout",
          "output_type": "stream",
          "text": [
            "{'marca': 'Ford', 'modelo': 'Mustang', 'ano': 1964}\n"
          ]
        }
      ],
      "source": [
        "\"\"\"\n",
        "\n",
        "\"\"\"\n",
        "dicionario = {\n",
        "  \"marca\": \"Ford\",\n",
        "  \"modelo\": \"Mustang\",\n",
        "  \"ano\": 1964\n",
        "}\n",
        "print(dicionario)"
      ]
    },
    {
      "cell_type": "code",
      "execution_count": null,
      "metadata": {
        "colab": {
          "base_uri": "https://localhost:8080/"
        },
        "id": "JeR6YiQHBWFi",
        "outputId": "f2d1a816-c4fd-4b0a-ef40-47ab7f50dd0d"
      },
      "outputs": [
        {
          "name": "stdout",
          "output_type": "stream",
          "text": [
            "Mustang\n"
          ]
        }
      ],
      "source": [
        "\"\"\"\n",
        "Os itens do dicionário são pedidos, mutáveis e não permitem duplicatas.\n",
        "Os itens do dicionário são apresentados em pares de valor chave e podem ser referidos usando o nome da chave.\n",
        "\"\"\"\n",
        "dicionario = {\n",
        "  \"marca\": \"Ford\",\n",
        "  \"modelo\": \"Mustang\",\n",
        "  \"ano\": 1964\n",
        "}\n",
        "print(dicionario[\"modelo\"])"
      ]
    },
    {
      "cell_type": "code",
      "execution_count": null,
      "metadata": {
        "colab": {
          "base_uri": "https://localhost:8080/"
        },
        "id": "am8JNUV-BbtO",
        "outputId": "36088ccc-5bd7-4824-ea44-9a97cb5615cf"
      },
      "outputs": [
        {
          "name": "stdout",
          "output_type": "stream",
          "text": [
            "{'marca': 'Ford', 'modelo': 'Mustang', 'ano': 2020}\n"
          ]
        }
      ],
      "source": [
        "\"\"\"\n",
        "Valores duplicados não são permitidos\n",
        "\"\"\"\n",
        "dicionario = {\n",
        "  \"marca\": \"Ford\",\n",
        "  \"modelo\": \"Mustang\",\n",
        "  \"ano\": 1964,\n",
        "  \"ano\": 2020\n",
        "}\n",
        "print(dicionario)"
      ]
    },
    {
      "cell_type": "code",
      "execution_count": null,
      "metadata": {
        "colab": {
          "base_uri": "https://localhost:8080/"
        },
        "id": "w8jCPb9EBqVd",
        "outputId": "94973a87-5f9e-48cd-b33a-8b29cc2fcc3b"
      },
      "outputs": [
        {
          "name": "stdout",
          "output_type": "stream",
          "text": [
            "Mustang\n",
            "Mustang\n"
          ]
        }
      ],
      "source": [
        "\"\"\"\n",
        "Para capturar algum valor é necessário passar a chave. \n",
        "Para isso há duas formas de fazer\n",
        "\"\"\"\n",
        "dicionario = {\n",
        "  \"marca\": \"Ford\",\n",
        "  \"modelo\": \"Mustang\",\n",
        "  \"ano\": 1964\n",
        "}\n",
        "x = dicionario[\"modelo\"]\n",
        "print(x)\n",
        "\n",
        "x = dicionario.get(\"modelo\")\n",
        "print(x)"
      ]
    },
    {
      "cell_type": "code",
      "execution_count": null,
      "metadata": {
        "colab": {
          "base_uri": "https://localhost:8080/"
        },
        "id": "TNeD91ueB8nZ",
        "outputId": "681f2bd6-422f-400d-8ef5-d3193c38be70"
      },
      "outputs": [
        {
          "name": "stdout",
          "output_type": "stream",
          "text": [
            "dict_keys(['marca', 'modelo', 'ano'])\n"
          ]
        }
      ],
      "source": [
        "\"\"\"\n",
        "Podemos saber quais são as chaves de um dicionário\n",
        "\"\"\"\n",
        "dicionario = {\n",
        "  \"marca\": \"Ford\",\n",
        "  \"modelo\": \"Mustang\",\n",
        "  \"ano\": 1964\n",
        "}\n",
        "x = dicionario.keys()\n",
        "print(x)"
      ]
    },
    {
      "cell_type": "code",
      "execution_count": null,
      "metadata": {
        "colab": {
          "base_uri": "https://localhost:8080/"
        },
        "id": "CZL2Gx93CE4Z",
        "outputId": "be17037d-0e7a-4175-ce01-4165d604ca20"
      },
      "outputs": [
        {
          "name": "stdout",
          "output_type": "stream",
          "text": [
            "dict_keys(['brand', 'model', 'year'])\n",
            "dict_keys(['brand', 'model', 'year', 'color'])\n"
          ]
        }
      ],
      "source": [
        "\"\"\"\n",
        "Exemplo de alteração de valores\n",
        "\"\"\"\n",
        "dicionario = {\n",
        "  \"marca\": \"Ford\",\n",
        "  \"modelo\": \"Mustang\",\n",
        "  \"ano\": 1964\n",
        "}\n",
        "x = dicionario.keys()\n",
        "print(x) # Antes da ateração\n",
        "dicionario[\"cor\"] = \"vermelho\" # Criando uma nova chave e atribuindo um valor \n",
        "print(x) # Depois da alteração"
      ]
    },
    {
      "cell_type": "code",
      "execution_count": null,
      "metadata": {
        "colab": {
          "base_uri": "https://localhost:8080/"
        },
        "id": "HnD6iz2iCcd5",
        "outputId": "e852de60-48c0-4748-ba32-bc995f8b4d32"
      },
      "outputs": [
        {
          "name": "stdout",
          "output_type": "stream",
          "text": [
            "dict_values(['Ford', 'Mustang', 1964])\n"
          ]
        }
      ],
      "source": [
        "\"\"\"\n",
        "Podemos também obter os valores contido em um dicionário\n",
        "\"\"\"\n",
        "dicionario = {\n",
        "  \"marca\": \"Ford\",\n",
        "  \"modelo\": \"Mustang\",\n",
        "  \"ano\": 1964\n",
        "}\n",
        "x = dicionario.values()\n",
        "print(x)"
      ]
    },
    {
      "cell_type": "code",
      "execution_count": null,
      "metadata": {
        "colab": {
          "base_uri": "https://localhost:8080/"
        },
        "id": "1cZT9YM6CpHr",
        "outputId": "b041d3b8-df7c-4199-aa8c-6be95ba50877"
      },
      "outputs": [
        {
          "name": "stdout",
          "output_type": "stream",
          "text": [
            "dict_items([('brand', 'Ford'), ('model', 'Mustang'), ('year', 1964)])\n"
          ]
        }
      ],
      "source": [
        "\"\"\"\n",
        "Podemos obter o conjunto de itens dentro de um dicionário\n",
        "\"\"\"\n",
        "dicionario = {\n",
        "  \"marca\": \"Ford\",\n",
        "  \"modelo\": \"Mustang\",\n",
        "  \"ano\": 1964\n",
        "}\n",
        "x = dicionario.items()\n",
        "print(x)"
      ]
    },
    {
      "cell_type": "code",
      "execution_count": null,
      "metadata": {
        "colab": {
          "base_uri": "https://localhost:8080/"
        },
        "id": "6UpyxeTmCy0q",
        "outputId": "78793897-cec5-4301-df50-91c1c999ae4d"
      },
      "outputs": [
        {
          "name": "stdout",
          "output_type": "stream",
          "text": [
            "Sim, 'modelo' é uma das chaves\n"
          ]
        }
      ],
      "source": [
        "\"\"\"\n",
        "Verificar se a chave existe\n",
        "\"\"\"\n",
        "dicionario = {\n",
        "  \"marca\": \"Ford\",\n",
        "  \"modelo\": \"Mustang\",\n",
        "  \"ano\": 1964\n",
        "}\n",
        "if \"modelo\" in dicionario:\n",
        "  print(\"Sim, 'modelo' é uma das chaves\")"
      ]
    },
    {
      "cell_type": "markdown",
      "metadata": {
        "id": "HMm6_2IoRz1h"
      },
      "source": [
        "#Funções Python \n",
        "\n",
        "Uma função é um bloco de código que só é executado quando é chamado.\n",
        "\n",
        "Você pode passar dados, conhecidos como parâmetros, para uma função.\n",
        "\n",
        "Uma função pode retornar dados como resultado."
      ]
    },
    {
      "cell_type": "markdown",
      "metadata": {
        "id": "xKwc4EYCSLuJ"
      },
      "source": [
        "##*Criando* uma Função\n",
        "\n",
        "No Python, uma função é definida usando a palavra-chave def:"
      ]
    },
    {
      "cell_type": "code",
      "execution_count": null,
      "metadata": {
        "id": "GlJ8Wyy7SNfp"
      },
      "outputs": [],
      "source": [
        "def minha_funcao():\n",
        "  print(\"Olá, sou uma função\")"
      ]
    },
    {
      "cell_type": "markdown",
      "metadata": {
        "id": "nUhMdqHgSTtg"
      },
      "source": [
        "Chamando uma função\n",
        "\n",
        "Para chamar uma função, use o nome da função seguido por parênteses:"
      ]
    },
    {
      "cell_type": "code",
      "execution_count": null,
      "metadata": {
        "colab": {
          "base_uri": "https://localhost:8080/"
        },
        "id": "QIqDru8DSU_I",
        "outputId": "a86516ec-0dc2-401e-fb3f-c9eb129ab33f"
      },
      "outputs": [
        {
          "name": "stdout",
          "output_type": "stream",
          "text": [
            "Olá, sou uma função\n"
          ]
        }
      ],
      "source": [
        "def minha_funcao():\n",
        "  print(\"Olá, sou uma função\")\n",
        "\n",
        "minha_funcao()"
      ]
    },
    {
      "cell_type": "markdown",
      "metadata": {
        "id": "3wD5TXL5SdZi"
      },
      "source": [
        "Argumentos\n",
        "\n",
        "As informações podem ser passadas para funções como argumentos.\n",
        "\n",
        "Os argumentos são especificados após o nome da função, entre parênteses. Você pode adicionar quantos argumentos quiser, basta separá-los com uma vírgula.\n",
        "\n",
        "O exemplo a seguir possui uma função com um argumento (fname). Quando a função é chamada, passamos um primeiro nome, que é usado dentro da função para imprimir o nome completo:"
      ]
    },
    {
      "cell_type": "code",
      "execution_count": null,
      "metadata": {
        "colab": {
          "base_uri": "https://localhost:8080/"
        },
        "id": "ZgB_Bx-VSiXR",
        "outputId": "5b89e8e5-da6f-4172-d0dd-527699e5c951"
      },
      "outputs": [
        {
          "name": "stdout",
          "output_type": "stream",
          "text": [
            "Juno Testand\n",
            "Tobias Testand\n",
            "Linus Testand\n"
          ]
        }
      ],
      "source": [
        "def minha_funcao(parametro):\n",
        "  print(parametro + \" Testand\")\n",
        "\n",
        "minha_funcao(\"Juno\")\n",
        "minha_funcao(\"Tobias\")\n",
        "minha_funcao(\"Linus\")"
      ]
    },
    {
      "cell_type": "code",
      "execution_count": null,
      "metadata": {
        "colab": {
          "base_uri": "https://localhost:8080/"
        },
        "id": "5OB8sgjH2IFn",
        "outputId": "4801bea2-cbb5-49e4-875d-d4d9dde8c48e"
      },
      "outputs": [
        {
          "name": "stdout",
          "output_type": "stream",
          "text": [
            "Juno\n",
            "Tobias\n",
            "Linus\n"
          ]
        }
      ],
      "source": [
        "def minha_funcao_retorna_valor(parametro):\n",
        "  return parametro\n",
        "\n",
        "print(minha_funcao_retorna_valor(\"Juno\"))\n",
        "print(minha_funcao_retorna_valor(\"Tobias\"))\n",
        "print(minha_funcao_retorna_valor(\"Linus\"))"
      ]
    },
    {
      "cell_type": "code",
      "execution_count": null,
      "metadata": {
        "colab": {
          "base_uri": "https://localhost:8080/"
        },
        "id": "1FluVD2l2YA6",
        "outputId": "934c47e2-df6f-4ff5-9e2a-adef879076e3"
      },
      "outputs": [
        {
          "name": "stdout",
          "output_type": "stream",
          "text": [
            "10\n",
            "3\n",
            "8\n"
          ]
        }
      ],
      "source": [
        "def soma(valor1, valor2):\n",
        "  return valor1 + valor2\n",
        "\n",
        "print(soma(5,5))\n",
        "print(soma(1,2))\n",
        "print(soma(3,5))"
      ]
    },
    {
      "cell_type": "markdown",
      "metadata": {
        "id": "3x4XnLDR74RM"
      },
      "source": [
        "# Funções lambdas\n",
        "\n",
        "Uma função lambda é uma pequena função anônima.\n",
        "\n",
        "Uma função lambda pode receber qualquer número de argumentos, mas só pode ter uma expressão."
      ]
    },
    {
      "cell_type": "code",
      "execution_count": null,
      "metadata": {
        "colab": {
          "base_uri": "https://localhost:8080/"
        },
        "id": "rRHniNwp2s65",
        "outputId": "9ec2f3fb-2717-4d3f-9f4c-2305aba46801"
      },
      "outputs": [
        {
          "name": "stdout",
          "output_type": "stream",
          "text": [
            "10\n"
          ]
        }
      ],
      "source": [
        "x = lambda a : a * 2\n",
        "print(x(5))"
      ]
    },
    {
      "cell_type": "code",
      "execution_count": null,
      "metadata": {
        "colab": {
          "base_uri": "https://localhost:8080/"
        },
        "id": "UXkilEgz8BIS",
        "outputId": "a410b63b-4d02-4697-eadf-1b30a9ce8258"
      },
      "outputs": [
        {
          "name": "stdout",
          "output_type": "stream",
          "text": [
            "15\n"
          ]
        }
      ],
      "source": [
        "x = lambda a, b : a + b\n",
        "print(x(5, 10))"
      ]
    },
    {
      "cell_type": "code",
      "execution_count": null,
      "metadata": {
        "colab": {
          "base_uri": "https://localhost:8080/"
        },
        "id": "KA3FDbur8FyW",
        "outputId": "fd0f544e-1f9a-4c05-bb1c-188e6b63f7cb"
      },
      "outputs": [
        {
          "name": "stdout",
          "output_type": "stream",
          "text": [
            "13\n"
          ]
        }
      ],
      "source": [
        "x = lambda a, b, c : a + b + c\n",
        "print(x(5, 6, 2))"
      ]
    },
    {
      "cell_type": "markdown",
      "metadata": {
        "id": "Jx0yIh_y8L2P"
      },
      "source": [
        "### Por Que Usar Funções Lambda?   \n",
        "O poder do lambda é melhor mostrado quando você os usa como uma função anônima dentro de outra função.\n",
        "   \n",
        "Digamos que você tenha uma definição de função que leva um argumento, e esse argumento será multiplicado por um número desconhecido:"
      ]
    },
    {
      "cell_type": "code",
      "execution_count": null,
      "metadata": {
        "colab": {
          "base_uri": "https://localhost:8080/"
        },
        "id": "9Cwka5rG8QJJ",
        "outputId": "346115e6-d095-4f06-890e-0f88e1adf70b"
      },
      "outputs": [
        {
          "name": "stdout",
          "output_type": "stream",
          "text": [
            "22\n",
            "33\n"
          ]
        }
      ],
      "source": [
        "def funcao(n):\n",
        "  return lambda a : a * n\n",
        "\n",
        "dobro = funcao(2)\n",
        "triplo = funcao(3)\n",
        "\n",
        "print(dobro(11))\n",
        "print(triplo(11))"
      ]
    },
    {
      "cell_type": "markdown",
      "metadata": {
        "id": "RAm0WQY6Su08"
      },
      "source": [
        "#Python Try Except\n",
        "\n",
        "O bloco try permite testar um bloco de código quanto a erros.\n",
        "\n",
        "O bloco except permite que você lide com o erro.\n",
        "\n",
        "O bloco finally permite executar o código, independentemente do resultado dos blocos try- e exceto."
      ]
    },
    {
      "cell_type": "markdown",
      "metadata": {
        "id": "xaEceLLHTBwx"
      },
      "source": [
        "Manipulação de exceção\n",
        "\n",
        "Quando ocorre um erro, ou exceção, como chamamos, o Python normalmente para e gera uma mensagem de erro.\n",
        "\n",
        "Essas exceções podem ser tratadas usando a instrução try:"
      ]
    },
    {
      "cell_type": "code",
      "execution_count": null,
      "metadata": {
        "colab": {
          "base_uri": "https://localhost:8080/"
        },
        "id": "035el12KTMlK",
        "outputId": "94825073-416e-40a5-8f45-4b350202ce7e"
      },
      "outputs": [
        {
          "name": "stdout",
          "output_type": "stream",
          "text": [
            "Ocorreu uma exceção\n"
          ]
        }
      ],
      "source": [
        "# Use uma variável inexistente\n",
        "try:\n",
        "  print(variavel_qualquer)\n",
        "except:\n",
        "  print(\"Ocorreu uma exceção\")"
      ]
    },
    {
      "cell_type": "markdown",
      "metadata": {
        "id": "PryQ1khITVqQ"
      },
      "source": [
        "\n",
        "Como o bloco try gera um erro, o bloco except será executado.\n",
        "\n",
        "Sem o bloco try, o programa falha e gera um erro:"
      ]
    },
    {
      "cell_type": "markdown",
      "metadata": {
        "id": "M0TjNA7Jic65"
      },
      "source": [
        "# Importar pacotes em python"
      ]
    },
    {
      "cell_type": "code",
      "execution_count": null,
      "metadata": {
        "colab": {
          "base_uri": "https://localhost:8080/",
          "height": 181
        },
        "id": "09ADjgiQjbw4",
        "outputId": "d4c47e46-aa2b-4271-b4ae-431f6e273b50"
      },
      "outputs": [
        {
          "ename": "NameError",
          "evalue": "ignored",
          "output_type": "error",
          "traceback": [
            "\u001b[0;31m---------------------------------------------------------------------------\u001b[0m",
            "\u001b[0;31mNameError\u001b[0m                                 Traceback (most recent call last)",
            "\u001b[0;32m<ipython-input-16-e47289c2c3ad>\u001b[0m in \u001b[0;36m<module>\u001b[0;34m\u001b[0m\n\u001b[1;32m      1\u001b[0m \u001b[0;31m#print(sqrt(25))\u001b[0m\u001b[0;34m\u001b[0m\u001b[0;34m\u001b[0m\u001b[0;34m\u001b[0m\u001b[0m\n\u001b[0;32m----> 2\u001b[0;31m \u001b[0mprint\u001b[0m\u001b[0;34m(\u001b[0m\u001b[0mmath\u001b[0m\u001b[0;34m.\u001b[0m\u001b[0msqrt\u001b[0m\u001b[0;34m(\u001b[0m\u001b[0;36m25\u001b[0m\u001b[0;34m)\u001b[0m\u001b[0;34m)\u001b[0m\u001b[0;34m\u001b[0m\u001b[0;34m\u001b[0m\u001b[0m\n\u001b[0m",
            "\u001b[0;31mNameError\u001b[0m: name 'math' is not defined"
          ]
        }
      ],
      "source": [
        "#print(sqrt(25))\n",
        "print(math.sqrt(25))"
      ]
    },
    {
      "cell_type": "code",
      "execution_count": null,
      "metadata": {
        "id": "2YZeIwjbjr3d"
      },
      "outputs": [],
      "source": [
        "import math"
      ]
    },
    {
      "cell_type": "code",
      "execution_count": null,
      "metadata": {
        "colab": {
          "base_uri": "https://localhost:8080/"
        },
        "id": "bnsNobu1j0j8",
        "outputId": "457bda9a-c14f-4171-8ae1-fbd6037708cb"
      },
      "outputs": [
        {
          "name": "stdout",
          "output_type": "stream",
          "text": [
            "3.1622776601683795\n"
          ]
        }
      ],
      "source": [
        "print(math.sqrt(10))"
      ]
    },
    {
      "cell_type": "code",
      "execution_count": null,
      "metadata": {
        "colab": {
          "base_uri": "https://localhost:8080/"
        },
        "id": "7rX5XPzpj2o6",
        "outputId": "1c7a31a6-ba77-40b8-b534-0d190e8c84db"
      },
      "outputs": [
        {
          "name": "stdout",
          "output_type": "stream",
          "text": [
            "16.0\n"
          ]
        }
      ],
      "source": [
        "# Adicionando apelido um pacote importado\n",
        "import math as m\n",
        "print(m.sqrt(256))"
      ]
    },
    {
      "cell_type": "code",
      "execution_count": null,
      "metadata": {
        "id": "20PnE1tzkg9C"
      },
      "outputs": [],
      "source": [
        "# Importando uma função/classe específica da biblioteca math\n",
        "from math import sqrt"
      ]
    },
    {
      "cell_type": "code",
      "execution_count": null,
      "metadata": {
        "colab": {
          "base_uri": "https://localhost:8080/"
        },
        "id": "Ofpe1LLIlX6H",
        "outputId": "83a2765a-f5ec-4b92-e543-ee61ffd6dedb"
      },
      "outputs": [
        {
          "name": "stdout",
          "output_type": "stream",
          "text": [
            "9.219544457292887\n"
          ]
        }
      ],
      "source": [
        "print(sqrt(85))"
      ]
    },
    {
      "cell_type": "code",
      "execution_count": null,
      "metadata": {
        "id": "YIQ6MCJglbgE"
      },
      "outputs": [],
      "source": [
        "# Importa todas as funções da biblioteca math\n",
        "# from math import *\n",
        "# import math"
      ]
    },
    {
      "cell_type": "code",
      "execution_count": null,
      "metadata": {
        "id": "nt7UJzJ9m9Mx"
      },
      "outputs": [],
      "source": [
        "from math import sqrt as raiz_quadrada "
      ]
    },
    {
      "cell_type": "code",
      "execution_count": null,
      "metadata": {
        "colab": {
          "base_uri": "https://localhost:8080/"
        },
        "id": "PxlZOIq3nJ3d",
        "outputId": "8c957c2a-58b0-49e2-acf4-2bfb98313c77"
      },
      "outputs": [
        {
          "data": {
            "text/plain": [
              "11.180339887498949"
            ]
          },
          "execution_count": 23,
          "metadata": {
            "tags": []
          },
          "output_type": "execute_result"
        }
      ],
      "source": [
        "# print(raiz_quadrada(125))\n",
        "raiz_quadrada(125)"
      ]
    },
    {
      "cell_type": "code",
      "execution_count": null,
      "metadata": {
        "id": "4ICsVKLkZ6rl"
      },
      "outputs": [],
      "source": [
        "import pandas as pd\n",
        "df = pd.read_csv('https://query.data.world/s/2a7rfyavygo5irjzubnbqm3fs7tzvi')"
      ]
    },
    {
      "cell_type": "code",
      "execution_count": null,
      "metadata": {
        "id": "3jfDxRtWZ7PO"
      },
      "outputs": [],
      "source": [
        "df.head()"
      ]
    },
    {
      "cell_type": "code",
      "execution_count": null,
      "metadata": {
        "id": "RhaKMiSLZ_zS"
      },
      "outputs": [],
      "source": [
        "exemplo = pd.read_csv('/content/sample_data/mnist_train_small.csv')"
      ]
    },
    {
      "cell_type": "code",
      "execution_count": null,
      "metadata": {
        "id": "Oty0cCJcp-Hi"
      },
      "outputs": [],
      "source": []
    },
    {
      "cell_type": "markdown",
      "metadata": {
        "id": "u3JjO63roYI5"
      },
      "source": [
        "# Básico de Orientação a objetos\n",
        "\n",
        "### Python é uma linguagem de propósito de uso geral e multiparadigma e um desse paradigmas é a bem conhecido programação orientada a objetos que basicamente trata tudo como um objeto utilizando abstraçao, herança, encapsulamento e polimorfismo. \n"
      ]
    },
    {
      "cell_type": "code",
      "execution_count": null,
      "metadata": {
        "id": "h7J3LpsDocdw"
      },
      "outputs": [],
      "source": [
        "# Declarando uma classe em python\n",
        "class Pessoa:\n",
        "  pass"
      ]
    },
    {
      "cell_type": "code",
      "execution_count": null,
      "metadata": {
        "colab": {
          "base_uri": "https://localhost:8080/"
        },
        "id": "Azckf84LSq3_",
        "outputId": "501eb136-d7e2-426d-aaed-074086d13f2d"
      },
      "outputs": [
        {
          "name": "stdout",
          "output_type": "stream",
          "text": [
            "20\n",
            "1.85\n",
            "Sem nome\n"
          ]
        }
      ],
      "source": [
        "# Declarando uma classe com atributos\n",
        "class Pessoa:\n",
        "  idade = 20\n",
        "  altura = 1.85\n",
        "  nome = \"Sem nome\"\n",
        "\n",
        "# Para instanciar a classe façamos o seguinte\n",
        "pessoa1 = Pessoa()\n",
        "print(pessoa1.idade)\n",
        "print(pessoa1.altura)\n",
        "print(pessoa1.nome)"
      ]
    },
    {
      "cell_type": "code",
      "execution_count": null,
      "metadata": {
        "id": "kC0zOw-gUSop"
      },
      "outputs": [],
      "source": [
        "\"\"\"\n",
        "O exemplo acima nos da um pequena introdução de sintaxe\n",
        "contudo os valores fixos nao parecem ser interessando \n",
        "quando criamos mais de uma pessoa.\n",
        "De maneira genérica, uma classe dever servir como um molde\n",
        "para um objeto, ou seja, a classe só serve para a definição\n",
        "do que o objeto deve ser.\n",
        "Para isso, em python, uma das maneiras de fazer é utilizar\n",
        "uma função especial conhecida como __init__ (construtor/inicializar) \n",
        "da classe.\n",
        "Vamos ao exemplos:\n",
        "\"\"\"\n",
        "class Pessoa:\n",
        "  def __init__(self, nome, idade, altura):\n",
        "    idade = 20\n",
        "    altura = 1.85\n",
        "    nome = \"Sem nome\"\n",
        "# Para instanciar a classe façamos o seguinte\n",
        "pessoa1 = Pessoa()\n",
        "print(pessoa1.idade)\n",
        "print(pessoa1.altura)\n",
        "print(pessoa1.nome)"
      ]
    },
    {
      "cell_type": "markdown",
      "metadata": {
        "id": "d09f1vIAWjLN"
      },
      "source": [
        "# Request\n",
        "\n",
        "https://pypi.org/project/requests/"
      ]
    },
    {
      "cell_type": "code",
      "execution_count": null,
      "metadata": {
        "colab": {
          "base_uri": "https://localhost:8080/"
        },
        "id": "7UAYG8kIWk-N",
        "outputId": "a36f4c62-74c7-49a5-d732-f6256ca09895"
      },
      "outputs": [
        {
          "name": "stdout",
          "output_type": "stream",
          "text": [
            "<!DOCTYPE html>\n",
            "<html>\n",
            "<body>\n",
            "\n",
            "<h1>This is a Test Page</h1>\n",
            "\n",
            "</body>\n",
            "</html>\n"
          ]
        }
      ],
      "source": [
        "import requests\n",
        "x = requests.get('https://w3schools.com/python/demopage.htm')\n",
        "print(x.text)"
      ]
    },
    {
      "cell_type": "markdown",
      "metadata": {
        "id": "IQybsFCGWlwq"
      },
      "source": [
        "# Expressões regulares\n",
        "\n",
        "Uma expressão regular (Regex) é uma notação que serve para caracterizar um conjunto de strings. Tem aplicações em diversas linguagens e programas (no Sheets e no Data Studio, por exemplo). Com ela podemos:\n",
        "\n",
        "*   Encontrar todos os links em um documento\n",
        "*   Buscar emails, telefones\n",
        "*   Remover/substituir caracteres indesejados\n",
        "*   Normalizar/padronizar um texto\n",
        "*   Tratar um corpus para realizar processamento de linguagem natural\n",
        "\n",
        "https://medium.com/pyladiesbh/regex-básico-em-python-31dcb7fac046"
      ]
    },
    {
      "cell_type": "code",
      "execution_count": null,
      "metadata": {
        "id": "s4g5bGTPWnIV"
      },
      "outputs": [],
      "source": [
        "import re\n",
        "\n",
        "txt = \"The rain in Spain\"\n",
        "x = re.search(\"^The.*Spain$\", txt)"
      ]
    },
    {
      "cell_type": "code",
      "execution_count": null,
      "metadata": {
        "colab": {
          "base_uri": "https://localhost:8080/"
        },
        "id": "y2965fjiW_bI",
        "outputId": "ec456017-a36c-4fb8-8093-29043918ca41"
      },
      "outputs": [
        {
          "name": "stdout",
          "output_type": "stream",
          "text": [
            "<re.Match object; span=(0, 17), match='The rain in Spain'>\n"
          ]
        }
      ],
      "source": [
        "print(x)"
      ]
    },
    {
      "cell_type": "markdown",
      "metadata": {
        "id": "nQpeuYudXl_e"
      },
      "source": [
        "## Funções\n",
        "\n",
        "Nesse pacote existem alguns métodos:\n",
        "*  re.match: determina se a expressão regular combina com o início da string. Retorna a posição da string buscada.\n",
        "* re.search: varre toda a string, procurando o primeiro local onde esta expressão regular tem correspondência. Retorna a posição da string buscada.\n",
        "* re.findall: encontra todas as substrings que têm correspondência com a expressão regular, e as retorna como uma lista. Retorna uma lista com as strings encontradas.\n",
        "* re.finditer: encontra todas as substrings que têm correspondência com a expressão regular, e as retorna como um iterador.\n",
        "* re.sub: procura onde esta expressão regular tem correspondência e faz as substituições desejadas. Retorna a string com a substituição realizada"
      ]
    },
    {
      "cell_type": "code",
      "execution_count": null,
      "metadata": {
        "colab": {
          "base_uri": "https://localhost:8080/"
        },
        "id": "YZeUoPxKXBJH",
        "outputId": "7e85702c-2ad3-4da5-ec9e-7b1632cd4f94"
      },
      "outputs": [
        {
          "data": {
            "text/plain": [
              "<re.Match object; span=(0, 5), match='frase'>"
            ]
          },
          "execution_count": 4,
          "metadata": {},
          "output_type": "execute_result"
        }
      ],
      "source": [
        "string = \"frase que será analisada pelo regex porque regex é legal e útil\"\n",
        "re.match('frase', string)"
      ]
    },
    {
      "cell_type": "code",
      "execution_count": null,
      "metadata": {
        "id": "IaJ9EvycYFgc"
      },
      "outputs": [],
      "source": [
        "re.match('regex', string)"
      ]
    },
    {
      "cell_type": "code",
      "execution_count": null,
      "metadata": {
        "colab": {
          "base_uri": "https://localhost:8080/"
        },
        "id": "w9DOjv1lYIIy",
        "outputId": "c719ee0b-6e91-40ed-cfc8-56e1268b29a9"
      },
      "outputs": [
        {
          "data": {
            "text/plain": [
              "<re.Match object; span=(30, 35), match='regex'>"
            ]
          },
          "execution_count": 6,
          "metadata": {},
          "output_type": "execute_result"
        }
      ],
      "source": [
        "re.search('regex', string)"
      ]
    },
    {
      "cell_type": "code",
      "execution_count": null,
      "metadata": {
        "colab": {
          "base_uri": "https://localhost:8080/"
        },
        "id": "t1J0sRg7YKgy",
        "outputId": "4f4631e1-8999-44bc-84f1-fbcad26840ab"
      },
      "outputs": [
        {
          "data": {
            "text/plain": [
              "['que', 'que']"
            ]
          },
          "execution_count": 7,
          "metadata": {},
          "output_type": "execute_result"
        }
      ],
      "source": [
        "# re.sub('analisada', 'avaliada', string)Isso me retorna uma lista [‘que’, ‘que’], sendo o segundo relativo a palavra ‘porque’.\n",
        "re.findall('que', string)"
      ]
    },
    {
      "cell_type": "code",
      "execution_count": null,
      "metadata": {
        "colab": {
          "base_uri": "https://localhost:8080/"
        },
        "id": "dfU9yOLrYO_C",
        "outputId": "d57c64e2-32c8-432f-d789-6bd9de502cd9"
      },
      "outputs": [
        {
          "data": {
            "text/plain": [
              "<callable_iterator at 0x7f4ded27af70>"
            ]
          },
          "execution_count": 8,
          "metadata": {},
          "output_type": "execute_result"
        }
      ],
      "source": [
        "re.finditer('regex', string)"
      ]
    },
    {
      "cell_type": "code",
      "execution_count": null,
      "metadata": {
        "colab": {
          "base_uri": "https://localhost:8080/"
        },
        "id": "QZTCfnEPYRNq",
        "outputId": "324883ed-21f2-4282-e59f-4080ad6c56c5"
      },
      "outputs": [
        {
          "name": "stdout",
          "output_type": "stream",
          "text": [
            "<re.Match object; span=(30, 35), match='regex'>\n",
            "<re.Match object; span=(43, 48), match='regex'>\n"
          ]
        }
      ],
      "source": [
        "for i in re.finditer('regex', string):\n",
        "     print(i)"
      ]
    },
    {
      "cell_type": "code",
      "execution_count": null,
      "metadata": {
        "colab": {
          "base_uri": "https://localhost:8080/",
          "height": 37
        },
        "id": "q3-YdYGPYTcC",
        "outputId": "cce6ae35-9db1-49b3-b1ec-df1f98668c93"
      },
      "outputs": [
        {
          "data": {
            "application/vnd.google.colaboratory.intrinsic+json": {
              "type": "string"
            },
            "text/plain": [
              "'frase que será avaliada pelo regex porque regex é legal e útil'"
            ]
          },
          "execution_count": 11,
          "metadata": {},
          "output_type": "execute_result"
        }
      ],
      "source": [
        "# Por fim, isso substitui a palavra ‘analisada’ por ‘avaliada’, \n",
        "# tendo como resultado: ‘frase que será avaliada pelo \n",
        "# regex porque regex é legal e útil’\n",
        "re.sub('analisada', 'avaliada', string)"
      ]
    },
    {
      "cell_type": "code",
      "execution_count": null,
      "metadata": {
        "colab": {
          "base_uri": "https://localhost:8080/"
        },
        "id": "xoxONtwuWf6N",
        "outputId": "ac2c6c91-eed7-43c3-b602-628633c15a57"
      },
      "outputs": [
        {
          "data": {
            "text/plain": [
              "8"
            ]
          },
          "execution_count": 5,
          "metadata": {},
          "output_type": "execute_result"
        }
      ],
      "source": [
        "A = [1,2,3,5,7,11,13,17]\n",
        "type(A)\n",
        "len(A)"
      ]
    },
    {
      "cell_type": "markdown",
      "metadata": {
        "id": "jujfifhGWfka"
      },
      "source": []
    },
    {
      "cell_type": "code",
      "execution_count": null,
      "metadata": {
        "colab": {
          "base_uri": "https://localhost:8080/"
        },
        "id": "r8MpGlGtYc18",
        "outputId": "c85f7c79-e383-4282-b025-d7ec614bc9a1"
      },
      "outputs": [
        {
          "name": "stdout",
          "output_type": "stream",
          "text": [
            "87.60265013954121\n"
          ]
        }
      ],
      "source": [
        "import math as m\n",
        "A = [1,2,3,5,7,11,13,17]\n",
        "n = len(A) -1\n",
        "somatorio = 0;\n",
        "count = 0\n",
        "for i in range(n):\n",
        "  somatorio = somatorio + (A[i] * m.sqrt(A[n - i]))\n",
        "  #print(A[n - count])\n",
        "  #count += 1\n",
        "#  somatorio = somatorio + (i * m.sqrt(i - n))\n",
        "print(somatorio)\n",
        "\n"
      ]
    }
  ],
  "metadata": {
    "colab": {
      "provenance": []
    },
    "kernelspec": {
      "display_name": "Python 3.8.5 64-bit",
      "language": "python",
      "name": "python3"
    },
    "language_info": {
      "codemirror_mode": {
        "name": "ipython",
        "version": 3
      },
      "file_extension": ".py",
      "mimetype": "text/x-python",
      "name": "python",
      "nbconvert_exporter": "python",
      "pygments_lexer": "ipython3",
      "version": "3.8.5"
    },
    "vscode": {
      "interpreter": {
        "hash": "570feb405e2e27c949193ac68f46852414290d515b0ba6e5d90d076ed2284471"
      }
    }
  },
  "nbformat": 4,
  "nbformat_minor": 0
}
