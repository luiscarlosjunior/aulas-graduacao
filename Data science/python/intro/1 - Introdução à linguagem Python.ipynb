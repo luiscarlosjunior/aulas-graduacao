{
 "cells": [
  {
   "cell_type": "markdown",
   "metadata": {},
   "source": [
    "# 1 -  Introdução a Linguagem Python "
   ]
  },
  {
   "attachments": {
    "image.png": {
     "image/png": "[encoded data removed]"
    }
   },
   "cell_type": "markdown",
   "metadata": {},
   "source": [
    "Olá Pessoal, me chamo Rodrigo e irei, atráves desse tópico, falar um pouco sobre a Linguagem de programação mais famosa do mundo, o Python! \n",
    "\n",
    "Python é um exemplo de linguagem de programação de alto nível, que muito provavelmente você já tenha ouvido falar desse termo e assim como C++, php e Java, python entra no hal das [linguagens de alto nivel](https://www.infoescola.com/engenharia-de-software/linguagem-de-programacao-de-alto-nivel/)\n",
    "\n",
    "Caso queira aprender mais da história do Python [clique aqui](https://pt.wikipedia.org/wiki/Python#Hist%C3%B3ria). \n",
    "\n",
    "Como diz o excelente livro iterativo \"[Como Pensar Como um Cientista da Computação](https://panda.ime.usp.br/pensepy/static/pensepy/index.html)\", onde recomento firmemente a leitura: \"Programas escritos em linguagens de alto nível precisam ser processados antes que possam rodar\" ou seja, precisamos de uma compilador, um programinha que interpreta a linguagem para que o computador possa entender, em outras palavras, o compilador transforma uma linguagem de alto nível para uma [linguagem de baixo nível](https://www.sos.com.br/noticias/tecnologia/o-que-e-linguagem-de-programacao-de-alto-nivel-e-de-baixo-nivel). Em resumo, o processo funciona assim: \n",
    "\n",
    "![image.png](attachment:image.png)\n",
    "Exemplo tirado do livro \"[Como Pensar Como um Cientista da Computação](https://panda.ime.usp.br/pensepy/static/pensepy/index.html)\"\n",
    "\n",
    "\n",
    "Onde o código fonte é onde estão as linhas escritas de programação, o interpretador é o responsável por executar linha a linha do código e a saída é o reultado do seu código. \n",
    "\n"
   ]
  },
  {
   "cell_type": "markdown",
   "metadata": {},
   "source": [
    "Existem duas formas para de escrita de um código python, atráves de linha de comando o chamado shell mode, ou modeo script.\n",
    "O modeo linha de comando o programa necessita de um compiador onde voce pode executar na mesma hora o seu código atrávés de um terminal. \n",
    "\n",
    "Nesse curso introdutório iremos usar o [Jupyter Notebook](https://medium.com/horadecodar/como-instalar-o-jupyter-notebook-windows-e-linux-20701fc583c) para executarmos os nossos códigos. Peço que cliquem no link destacado para obterem um passo a passo para instalação do jupyter. "
   ]
  },
  {
   "cell_type": "markdown",
   "metadata": {},
   "source": [
    "O Jupyter é dividido em celulas, onde usaremos cada uma delas para compilar os nossos códigos. Vamos criar um exemplo simples de código na celula a seguir: "
   ]
  },
  {
   "cell_type": "code",
   "execution_count": 2,
   "metadata": {},
   "outputs": [
    {
     "name": "stdout",
     "output_type": "stream",
     "text": [
      "Meu primeiro programa soma os numeros 2 e 3:\n",
      "5\n"
     ]
    }
   ],
   "source": [
    "print(\"Meu primeiro programa soma os numeros 2 e 3:\")\n",
    "print(2 + 3)"
   ]
  },
  {
   "cell_type": "code",
   "execution_count": 3,
   "metadata": {},
   "outputs": [
    {
     "name": "stdout",
     "output_type": "stream",
     "text": [
      "Olá, Mundo\n"
     ]
    }
   ],
   "source": [
    "print(\"Olá, Mundo\")"
   ]
  },
  {
   "cell_type": "markdown",
   "metadata": {},
   "source": [
    "Note que usamos a função \"print()\" para escrever na saída o resultado que queremos, no caso a soma de 2 + 3."
   ]
  },
  {
   "cell_type": "markdown",
   "metadata": {},
   "source": [
    "# 2 - Tipos de dados, literais e variáveis"
   ]
  },
  {
   "cell_type": "markdown",
   "metadata": {},
   "source": [
    "Agora vamo falar um pouco sobre tipos de dados e variáveis no Python, Let's code!\n",
    "\n"
   ]
  },
  {
   "cell_type": "markdown",
   "metadata": {},
   "source": [
    "Para começarmos vamos definir alguns termos: \n",
    "\n",
    "Valor é aquilo que definimos como objeto ou o que um program manipula, como no nosso exemplo da continha de \"2 + 3\" ou no printo do \"Olá Mundo\", onde são definidos como valore ou objetos. \n",
    "\n",
    "Esses objetos são classificados de acordo com o seu tipo de dado, ou a sua classe, por exemplo: 4 é um inteiro e \"Olá, mundo\" é uma string. Veja mais sobre tipos de dados nesse [link](https://pt.wikiversity.org/wiki/Introdu%C3%A7%C3%A3o_ao_Python/Tipos_e_operadores).\n",
    "\n",
    "Vamos usar a nossa primeira função no python, a chamada \"type\". Ela é usada para discriminarmos o tipo de dados de uma variável, let's code! "
   ]
  },
  {
   "cell_type": "code",
   "execution_count": 10,
   "metadata": {},
   "outputs": [
    {
     "name": "stdout",
     "output_type": "stream",
     "text": [
      "<class 'str'>\n",
      "<class 'int'>\n"
     ]
    }
   ],
   "source": [
    "print(type(\"Ola, mundo!\"))\n",
    "print(type(17))"
   ]
  },
  {
   "cell_type": "markdown",
   "metadata": {},
   "source": [
    "Onde 'str' é a classe string e 'int' pe a classe dos números inteiros. \n",
    "\n",
    "Outro tipo de classe é a chamada \"Float\" que significa Ponto flutuante ou floating-point. Ela discrimina os númeoros com ponto decimal, como vemos no exemploo abaixo: "
   ]
  },
  {
   "cell_type": "code",
   "execution_count": 11,
   "metadata": {},
   "outputs": [
    {
     "name": "stdout",
     "output_type": "stream",
     "text": [
      "<class 'float'>\n"
     ]
    }
   ],
   "source": [
    "print(type(5.6))"
   ]
  },
  {
   "cell_type": "markdown",
   "metadata": {},
   "source": [
    "As clases chamadas de strings são reconhecidas pelo python quando acrescentamos aspas no valor da variável. Elas podem ser aspas simples ' ou duplas \", como mostra o exemplo abaixo: "
   ]
  },
  {
   "cell_type": "code",
   "execution_count": 14,
   "metadata": {},
   "outputs": [
    {
     "name": "stdout",
     "output_type": "stream",
     "text": [
      "<class 'str'>\n",
      "<class 'str'>\n",
      "<class 'str'>\n",
      "<class 'str'>\n"
     ]
    }
   ],
   "source": [
    "print(type('Esse e um string.') )\n",
    "print(type(\"E esse tambem eh um string.\") )\n",
    "print(type(\"\"\"e esse.\"\"\") )\n",
    "print(type('''e mesmo esse...''') )\n"
   ]
  },
  {
   "cell_type": "markdown",
   "metadata": {},
   "source": [
    "Existem algumas funções que transformam valores para diferentes classes, elas são chamadas de funções para conversão de valores. \n",
    "\n",
    "Essas funções são: int(),float() e str(). Elas convertem para números inteiros, decimeis e para strings, respectivamente. Abaixo seguem alguns exemplos:"
   ]
  },
  {
   "cell_type": "code",
   "execution_count": 21,
   "metadata": {},
   "outputs": [
    {
     "name": "stdout",
     "output_type": "stream",
     "text": [
      "3.14 3\n",
      "3.9999 3\n",
      "3.0 3\n",
      "-3.999 -3\n"
     ]
    }
   ],
   "source": [
    "print(3.14, int(3.14))\n",
    "print(3.9999, int(3.9999))       # Isto não arredonda para o inteiro mais próximo\n",
    "print(3.0,int(3.0))\n",
    "print(-3.999,int(-3.999))        # Observe que o resultado está mais próximo de zero\n"
   ]
  },
  {
   "cell_type": "markdown",
   "metadata": {},
   "source": [
    "Na célula acima estamos transformando as classes desses objetos de float para inteiro. \n"
   ]
  },
  {
   "cell_type": "markdown",
   "metadata": {},
   "source": [
    "## Variáveis "
   ]
  },
  {
   "cell_type": "markdown",
   "metadata": {},
   "source": [
    "Uma variável é o nome que você dáa um dado no qual quer o computador guarde em outras palavras á um ome que se refere a um valor. Exemplo: "
   ]
  },
  {
   "cell_type": "code",
   "execution_count": 24,
   "metadata": {},
   "outputs": [],
   "source": [
    "Expessao = \"E ai, cara?\"\n",
    "S = 0.01\n",
    "G = 10 "
   ]
  },
  {
   "attachments": {
    "image.png": {
     "image/png": "[encoded data removed]"
    }
   },
   "cell_type": "markdown",
   "metadata": {},
   "source": [
    "Nesses exemplos temos três variáveis, onde a primeira é uma sring a segunda um float e a terceira um int. Nota-se que usamos o símbolo '=' (igual) que não possui o mesmo significado naquele usado na matemática. Nesse caso, o '=' representa uma atribuição de valores, ou seja, estamos atribuindo um valor a uma certa variável. O simbolo '=' da matemática no python é representado por  '=='. \n",
    "\n",
    "A figura abaixo, representa a forma como python atribui uma variável. Esse diagrama de referencia mostra o estado da variável em um determinado instânte. \n",
    "\n",
    "![image.png](attachment:image.png)\n",
    "\n",
    "Exemplo tirado do livro \"[Como Pensar Como um Cientista da Computação](https://panda.ime.usp.br/pensepy/static/pensepy/index.html)\"\n"
   ]
  },
  {
   "cell_type": "markdown",
   "metadata": {},
   "source": [
    "Podemos, printar uma variável já criada para vermos o valor que foi atribuida à ela em um determoinado momento do código, como vou mostrar no exemplo abaixo: \n"
   ]
  },
  {
   "cell_type": "code",
   "execution_count": 26,
   "metadata": {},
   "outputs": [
    {
     "name": "stdout",
     "output_type": "stream",
     "text": [
      "E ai, cara?\n",
      "0.01\n",
      "10\n"
     ]
    }
   ],
   "source": [
    "print(Expessao)\n",
    "print(S)\n",
    "print(G)"
   ]
  },
  {
   "cell_type": "markdown",
   "metadata": {},
   "source": [
    "Note que foi printado apenas o valor atribuido a variável e não o nome da variável em si. Podemos também ver a classe do valo atribuido à aquela variável, como veremos logo abaixo: "
   ]
  },
  {
   "cell_type": "code",
   "execution_count": 27,
   "metadata": {},
   "outputs": [
    {
     "name": "stdout",
     "output_type": "stream",
     "text": [
      "<class 'str'>\n",
      "<class 'float'>\n",
      "<class 'int'>\n"
     ]
    }
   ],
   "source": [
    "print(type(Expessao))\n",
    "print(type(S))\n",
    "print(type(G))"
   ]
  },
  {
   "cell_type": "markdown",
   "metadata": {},
   "source": [
    "Nota-se que o tipo da variavel e a própia variavel pode ser mudada ao longo do código, o que difere da variável da matemática, onde o valor de x vai ser sempre o mesmo ao longo do código."
   ]
  },
  {
   "cell_type": "markdown",
   "metadata": {},
   "source": [
    "# Nome de Variavéis\n"
   ]
  },
  {
   "cell_type": "markdown",
   "metadata": {},
   "source": [
    "Para nomear variáveis é preciso tomar alguns cuidados, como por exemplo: \n",
    "\n",
    "Não pode começão com um número, 56casas e não é possível usar alguns caracteres especiaias, exemplo: exato$. \n",
    "\n",
    "Existem também algumas palavras que são reservadas pelo python e que não podem ser usadas como nome de variáveis. Atualmente existem 33 nomes de funções reservadas e esse número pode mudar de acordo com atualizações realizadas. [Clique aqui para saber mais sobre nome de variáveis](https://www.devmedia.com.br/python-trabalhando-com-variaveis/38644) "
   ]
  },
  {
   "cell_type": "markdown",
   "metadata": {},
   "source": [
    "# Operadores "
   ]
  },
  {
   "cell_type": "markdown",
   "metadata": {},
   "source": [
    "Os operadores são simbolos matemáticos usados para criarmos operações dentro do Python, como por exemplo, adição, multiplicação e divisão. Segue alguns exemplos:  "
   ]
  },
  {
   "cell_type": "code",
   "execution_count": 4,
   "metadata": {},
   "outputs": [
    {
     "data": {
      "text/plain": [
       "112"
      ]
     },
     "execution_count": 4,
     "metadata": {},
     "output_type": "execute_result"
    }
   ],
   "source": [
    "hora = 2\n",
    "minutos = 12\n",
    "\n",
    "#Adição \n",
    "20 + 32\n",
    "#Multiplicação com Subtração\n",
    "hora * 60 - minutos\n",
    "#Divisão\n",
    "minutos / 60\n",
    "#Exponenciação\n",
    "5 ** 2\n",
    "#Equações em geral\n",
    "(5 + 9) * (15 - 7)"
   ]
  },
  {
   "cell_type": "markdown",
   "metadata": {},
   "source": [
    "Adição +\n",
    "\n",
    "Subtração -\n",
    "\n",
    "Multiplicação *\n",
    "\n",
    "Expenenciação **\n",
    "\n",
    "Divisão /"
   ]
  },
  {
   "cell_type": "markdown",
   "metadata": {},
   "source": [
    "Mais exemplos usando operadores: "
   ]
  },
  {
   "cell_type": "code",
   "execution_count": 6,
   "metadata": {},
   "outputs": [
    {
     "name": "stdout",
     "output_type": "stream",
     "text": [
      "5\n",
      "-1\n",
      "6\n",
      "8\n",
      "9\n"
     ]
    }
   ],
   "source": [
    "print(2 + 3)\n",
    "print(2 - 3)\n",
    "print(2 * 3)\n",
    "print(2 ** 3)\n",
    "print(3 ** 2)"
   ]
  },
  {
   "cell_type": "markdown",
   "metadata": {},
   "source": [
    "Em python o símbolo "
   ]
  }
 ],
 "metadata": {
  "kernelspec": {
   "display_name": "Python 3",
   "language": "python",
   "name": "python3"
  },
  "language_info": {
   "codemirror_mode": {
    "name": "ipython",
    "version": 3
   },
   "file_extension": ".py",
   "mimetype": "text/x-python",
   "name": "python",
   "nbconvert_exporter": "python",
   "pygments_lexer": "ipython3",
   "version": "3.7.9"
  }
 },
 "nbformat": 4,
 "nbformat_minor": 4
}
